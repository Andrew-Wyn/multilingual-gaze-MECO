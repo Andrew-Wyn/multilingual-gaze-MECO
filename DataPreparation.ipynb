{
 "cells": [
  {
   "cell_type": "markdown",
   "id": "b1e45739",
   "metadata": {},
   "source": [
    "# MECO\n",
    "\n",
    "Feature extraction and data preparation for the MECO dataset\n",
    "\n",
    "We chose the \"joint_data_trimmed.dat\" file in the MECO website (https://meco-read.com/).\n",
    "\n",
    "Interesting paper that describe the dataset, https://link.springer.com/epdf/10.3758/s13428-021-01772-6?sharing_token=As4e3osuA15IaUCKtCvDT5AH0g46feNdnc402WrhzyoEtpF3alySPm1lAWocS1ewk9OZlpPc3CqibACC23iBC_nacc6BD4_GPYLuUZJAvfWHoa8e0hjmhhFn9fLIgIRd3VzSfjlcpQ3gS4EiUY2YpRXjDSh3hB5Zx5kZpkk4yIQ=."
   ]
  },
  {
   "cell_type": "markdown",
   "id": "57148942",
   "metadata": {},
   "source": [
    "## Import Libs and Data"
   ]
  },
  {
   "cell_type": "code",
   "execution_count": 1,
   "id": "f35dd4c8",
   "metadata": {},
   "outputs": [],
   "source": [
    "import pandas as pd\n",
    "import numpy as np"
   ]
  },
  {
   "cell_type": "code",
   "execution_count": 2,
   "id": "c2622fc9",
   "metadata": {},
   "outputs": [],
   "source": [
    "df = pd.read_csv(\"joint_data_trimmed.csv\", index_col=0)"
   ]
  },
  {
   "cell_type": "markdown",
   "id": "3a8457b4",
   "metadata": {},
   "source": [
    "We have chose to use the following features for each sample:\n",
    "\n",
    "- **Skipping**: a binary index of whether the word was fixated at least once during the entire reading of the text [and not only during the first pass].\n",
    "- **First Fixation**: the duration of the first fixation landing on the word.\n",
    "- **Gaze Duration**: the summed duration of fixations on the word in the first pass, i.e., before the gaze leaves it for the first time.\n",
    "- **Total Fixation Duration**: the summed duration of all fixations on the word.\n",
    "- **First-run Number of Fixation**: the number of fixations on a word during the first pass.\n",
    "- **Total Number of Fixations**: number of fixations on a word overall.\n",
    "- **Regression**: a binary index of whether the gaze returned to the word after inspecting further textual material.\n",
    "- **Rereading**: a binary index of whether the word elicited fixations after the first pass.\n"
   ]
  },
  {
   "cell_type": "code",
   "execution_count": 3,
   "id": "e3b66d37",
   "metadata": {},
   "outputs": [],
   "source": [
    "# following a paper cited on the MECO website, i will use a subset of the gaze features\n",
    "gaze_features = [\"skip\", \"firstfix.dur\", \"firstrun.dur\", \"dur\", \"firstrun.nfix\", \"nfix\", \"refix\", \"reread\"]\n",
    "basic_features = [\"trialid\", \"sentnum\", \"ianum\", \"ia\", \"lang\", \"uniform_id\"]\n",
    "df = df[basic_features + gaze_features]"
   ]
  },
  {
   "cell_type": "code",
   "execution_count": 4,
   "id": "ac4e11f4",
   "metadata": {},
   "outputs": [
    {
     "data": {
      "text/html": [
       "<div>\n",
       "<style scoped>\n",
       "    .dataframe tbody tr th:only-of-type {\n",
       "        vertical-align: middle;\n",
       "    }\n",
       "\n",
       "    .dataframe tbody tr th {\n",
       "        vertical-align: top;\n",
       "    }\n",
       "\n",
       "    .dataframe thead th {\n",
       "        text-align: right;\n",
       "    }\n",
       "</style>\n",
       "<table border=\"1\" class=\"dataframe\">\n",
       "  <thead>\n",
       "    <tr style=\"text-align: right;\">\n",
       "      <th></th>\n",
       "      <th>trialid</th>\n",
       "      <th>sentnum</th>\n",
       "      <th>ianum</th>\n",
       "      <th>ia</th>\n",
       "      <th>lang</th>\n",
       "      <th>uniform_id</th>\n",
       "      <th>skip</th>\n",
       "      <th>firstfix.dur</th>\n",
       "      <th>firstrun.dur</th>\n",
       "      <th>dur</th>\n",
       "      <th>firstrun.nfix</th>\n",
       "      <th>nfix</th>\n",
       "      <th>refix</th>\n",
       "      <th>reread</th>\n",
       "    </tr>\n",
       "  </thead>\n",
       "  <tbody>\n",
       "    <tr>\n",
       "      <th>1</th>\n",
       "      <td>1.0</td>\n",
       "      <td>1.0</td>\n",
       "      <td>1.0</td>\n",
       "      <td>Janus</td>\n",
       "      <td>du</td>\n",
       "      <td>du_1</td>\n",
       "      <td>0.0</td>\n",
       "      <td>154.0</td>\n",
       "      <td>154.0</td>\n",
       "      <td>400.0</td>\n",
       "      <td>1.0</td>\n",
       "      <td>2.0</td>\n",
       "      <td>0.0</td>\n",
       "      <td>1.0</td>\n",
       "    </tr>\n",
       "    <tr>\n",
       "      <th>2</th>\n",
       "      <td>1.0</td>\n",
       "      <td>1.0</td>\n",
       "      <td>2.0</td>\n",
       "      <td>is</td>\n",
       "      <td>du</td>\n",
       "      <td>du_1</td>\n",
       "      <td>1.0</td>\n",
       "      <td>NaN</td>\n",
       "      <td>NaN</td>\n",
       "      <td>NaN</td>\n",
       "      <td>NaN</td>\n",
       "      <td>NaN</td>\n",
       "      <td>NaN</td>\n",
       "      <td>NaN</td>\n",
       "    </tr>\n",
       "    <tr>\n",
       "      <th>3</th>\n",
       "      <td>1.0</td>\n",
       "      <td>1.0</td>\n",
       "      <td>3.0</td>\n",
       "      <td>in</td>\n",
       "      <td>du</td>\n",
       "      <td>du_1</td>\n",
       "      <td>0.0</td>\n",
       "      <td>551.0</td>\n",
       "      <td>551.0</td>\n",
       "      <td>551.0</td>\n",
       "      <td>1.0</td>\n",
       "      <td>1.0</td>\n",
       "      <td>0.0</td>\n",
       "      <td>0.0</td>\n",
       "    </tr>\n",
       "    <tr>\n",
       "      <th>4</th>\n",
       "      <td>1.0</td>\n",
       "      <td>1.0</td>\n",
       "      <td>4.0</td>\n",
       "      <td>de</td>\n",
       "      <td>du</td>\n",
       "      <td>du_1</td>\n",
       "      <td>1.0</td>\n",
       "      <td>NaN</td>\n",
       "      <td>NaN</td>\n",
       "      <td>NaN</td>\n",
       "      <td>NaN</td>\n",
       "      <td>NaN</td>\n",
       "      <td>NaN</td>\n",
       "      <td>NaN</td>\n",
       "    </tr>\n",
       "    <tr>\n",
       "      <th>5</th>\n",
       "      <td>1.0</td>\n",
       "      <td>1.0</td>\n",
       "      <td>5.0</td>\n",
       "      <td>oude</td>\n",
       "      <td>du</td>\n",
       "      <td>du_1</td>\n",
       "      <td>0.0</td>\n",
       "      <td>189.0</td>\n",
       "      <td>189.0</td>\n",
       "      <td>439.0</td>\n",
       "      <td>1.0</td>\n",
       "      <td>2.0</td>\n",
       "      <td>0.0</td>\n",
       "      <td>1.0</td>\n",
       "    </tr>\n",
       "  </tbody>\n",
       "</table>\n",
       "</div>"
      ],
      "text/plain": [
       "   trialid  sentnum  ianum     ia lang uniform_id  skip  firstfix.dur  \\\n",
       "1      1.0      1.0    1.0  Janus   du       du_1   0.0         154.0   \n",
       "2      1.0      1.0    2.0     is   du       du_1   1.0           NaN   \n",
       "3      1.0      1.0    3.0     in   du       du_1   0.0         551.0   \n",
       "4      1.0      1.0    4.0     de   du       du_1   1.0           NaN   \n",
       "5      1.0      1.0    5.0   oude   du       du_1   0.0         189.0   \n",
       "\n",
       "   firstrun.dur    dur  firstrun.nfix  nfix  refix  reread  \n",
       "1         154.0  400.0            1.0   2.0    0.0     1.0  \n",
       "2           NaN    NaN            NaN   NaN    NaN     NaN  \n",
       "3         551.0  551.0            1.0   1.0    0.0     0.0  \n",
       "4           NaN    NaN            NaN   NaN    NaN     NaN  \n",
       "5         189.0  439.0            1.0   2.0    0.0     1.0  "
      ]
     },
     "execution_count": 4,
     "metadata": {},
     "output_type": "execute_result"
    }
   ],
   "source": [
    "df.head()"
   ]
  },
  {
   "cell_type": "markdown",
   "id": "ea3527c4",
   "metadata": {},
   "source": [
    "## Data Understanding\n",
    "\n",
    "We can notice that there are some Null elements, for the gaze_features except skip, those Null elements are in the rows with skip == 1, representing the fact that cannot be captured."
   ]
  },
  {
   "cell_type": "code",
   "execution_count": 5,
   "id": "61b9b7ff",
   "metadata": {},
   "outputs": [
    {
     "name": "stdout",
     "output_type": "stream",
     "text": [
      "<class 'pandas.core.frame.DataFrame'>\n",
      "Int64Index: 855123 entries, 1 to 855123\n",
      "Data columns (total 14 columns):\n",
      " #   Column         Non-Null Count   Dtype  \n",
      "---  ------         --------------   -----  \n",
      " 0   trialid        855122 non-null  float64\n",
      " 1   sentnum        855122 non-null  float64\n",
      " 2   ianum          855122 non-null  float64\n",
      " 3   ia             854741 non-null  object \n",
      " 4   lang           855122 non-null  object \n",
      " 5   uniform_id     855123 non-null  object \n",
      " 6   skip           855122 non-null  float64\n",
      " 7   firstfix.dur   639530 non-null  float64\n",
      " 8   firstrun.dur   639530 non-null  float64\n",
      " 9   dur            639530 non-null  float64\n",
      " 10  firstrun.nfix  639530 non-null  float64\n",
      " 11  nfix           639530 non-null  float64\n",
      " 12  refix          639454 non-null  float64\n",
      " 13  reread         639530 non-null  float64\n",
      "dtypes: float64(11), object(3)\n",
      "memory usage: 97.9+ MB\n"
     ]
    }
   ],
   "source": [
    "df.info()"
   ]
  },
  {
   "cell_type": "code",
   "execution_count": 6,
   "id": "ced96606",
   "metadata": {},
   "outputs": [
    {
     "data": {
      "text/html": [
       "<div>\n",
       "<style scoped>\n",
       "    .dataframe tbody tr th:only-of-type {\n",
       "        vertical-align: middle;\n",
       "    }\n",
       "\n",
       "    .dataframe tbody tr th {\n",
       "        vertical-align: top;\n",
       "    }\n",
       "\n",
       "    .dataframe thead th {\n",
       "        text-align: right;\n",
       "    }\n",
       "</style>\n",
       "<table border=\"1\" class=\"dataframe\">\n",
       "  <thead>\n",
       "    <tr style=\"text-align: right;\">\n",
       "      <th></th>\n",
       "      <th>trialid</th>\n",
       "      <th>sentnum</th>\n",
       "      <th>ianum</th>\n",
       "      <th>skip</th>\n",
       "      <th>firstfix.dur</th>\n",
       "      <th>firstrun.dur</th>\n",
       "      <th>dur</th>\n",
       "      <th>firstrun.nfix</th>\n",
       "      <th>nfix</th>\n",
       "      <th>refix</th>\n",
       "      <th>reread</th>\n",
       "    </tr>\n",
       "  </thead>\n",
       "  <tbody>\n",
       "    <tr>\n",
       "      <th>count</th>\n",
       "      <td>855122.000000</td>\n",
       "      <td>855122.000000</td>\n",
       "      <td>855122.000000</td>\n",
       "      <td>855122.000000</td>\n",
       "      <td>639530.000000</td>\n",
       "      <td>639530.000000</td>\n",
       "      <td>639530.000000</td>\n",
       "      <td>639530.000000</td>\n",
       "      <td>639530.000000</td>\n",
       "      <td>639454.000000</td>\n",
       "      <td>639530.000000</td>\n",
       "    </tr>\n",
       "    <tr>\n",
       "      <th>mean</th>\n",
       "      <td>6.319812</td>\n",
       "      <td>5.100584</td>\n",
       "      <td>84.710652</td>\n",
       "      <td>0.252118</td>\n",
       "      <td>214.771812</td>\n",
       "      <td>274.000635</td>\n",
       "      <td>396.190598</td>\n",
       "      <td>1.291295</td>\n",
       "      <td>1.870305</td>\n",
       "      <td>0.270565</td>\n",
       "      <td>0.315846</td>\n",
       "    </tr>\n",
       "    <tr>\n",
       "      <th>std</th>\n",
       "      <td>3.440210</td>\n",
       "      <td>2.697842</td>\n",
       "      <td>51.443266</td>\n",
       "      <td>0.434229</td>\n",
       "      <td>94.834265</td>\n",
       "      <td>181.464901</td>\n",
       "      <td>332.095123</td>\n",
       "      <td>0.666067</td>\n",
       "      <td>1.378493</td>\n",
       "      <td>0.444252</td>\n",
       "      <td>0.464852</td>\n",
       "    </tr>\n",
       "    <tr>\n",
       "      <th>min</th>\n",
       "      <td>1.000000</td>\n",
       "      <td>1.000000</td>\n",
       "      <td>1.000000</td>\n",
       "      <td>0.000000</td>\n",
       "      <td>2.000000</td>\n",
       "      <td>2.000000</td>\n",
       "      <td>2.000000</td>\n",
       "      <td>1.000000</td>\n",
       "      <td>1.000000</td>\n",
       "      <td>0.000000</td>\n",
       "      <td>0.000000</td>\n",
       "    </tr>\n",
       "    <tr>\n",
       "      <th>25%</th>\n",
       "      <td>3.000000</td>\n",
       "      <td>3.000000</td>\n",
       "      <td>41.000000</td>\n",
       "      <td>0.000000</td>\n",
       "      <td>156.000000</td>\n",
       "      <td>171.000000</td>\n",
       "      <td>199.000000</td>\n",
       "      <td>1.000000</td>\n",
       "      <td>1.000000</td>\n",
       "      <td>0.000000</td>\n",
       "      <td>0.000000</td>\n",
       "    </tr>\n",
       "    <tr>\n",
       "      <th>50%</th>\n",
       "      <td>6.000000</td>\n",
       "      <td>5.000000</td>\n",
       "      <td>82.000000</td>\n",
       "      <td>0.000000</td>\n",
       "      <td>200.000000</td>\n",
       "      <td>229.000000</td>\n",
       "      <td>297.000000</td>\n",
       "      <td>1.000000</td>\n",
       "      <td>1.000000</td>\n",
       "      <td>0.000000</td>\n",
       "      <td>0.000000</td>\n",
       "    </tr>\n",
       "    <tr>\n",
       "      <th>75%</th>\n",
       "      <td>9.000000</td>\n",
       "      <td>7.000000</td>\n",
       "      <td>124.000000</td>\n",
       "      <td>1.000000</td>\n",
       "      <td>255.000000</td>\n",
       "      <td>324.000000</td>\n",
       "      <td>478.000000</td>\n",
       "      <td>1.000000</td>\n",
       "      <td>2.000000</td>\n",
       "      <td>1.000000</td>\n",
       "      <td>1.000000</td>\n",
       "    </tr>\n",
       "    <tr>\n",
       "      <th>max</th>\n",
       "      <td>12.000000</td>\n",
       "      <td>16.000000</td>\n",
       "      <td>243.000000</td>\n",
       "      <td>1.000000</td>\n",
       "      <td>12688.000000</td>\n",
       "      <td>12688.000000</td>\n",
       "      <td>15579.000000</td>\n",
       "      <td>44.000000</td>\n",
       "      <td>50.000000</td>\n",
       "      <td>1.000000</td>\n",
       "      <td>1.000000</td>\n",
       "    </tr>\n",
       "  </tbody>\n",
       "</table>\n",
       "</div>"
      ],
      "text/plain": [
       "             trialid        sentnum          ianum           skip  \\\n",
       "count  855122.000000  855122.000000  855122.000000  855122.000000   \n",
       "mean        6.319812       5.100584      84.710652       0.252118   \n",
       "std         3.440210       2.697842      51.443266       0.434229   \n",
       "min         1.000000       1.000000       1.000000       0.000000   \n",
       "25%         3.000000       3.000000      41.000000       0.000000   \n",
       "50%         6.000000       5.000000      82.000000       0.000000   \n",
       "75%         9.000000       7.000000     124.000000       1.000000   \n",
       "max        12.000000      16.000000     243.000000       1.000000   \n",
       "\n",
       "        firstfix.dur   firstrun.dur            dur  firstrun.nfix  \\\n",
       "count  639530.000000  639530.000000  639530.000000  639530.000000   \n",
       "mean      214.771812     274.000635     396.190598       1.291295   \n",
       "std        94.834265     181.464901     332.095123       0.666067   \n",
       "min         2.000000       2.000000       2.000000       1.000000   \n",
       "25%       156.000000     171.000000     199.000000       1.000000   \n",
       "50%       200.000000     229.000000     297.000000       1.000000   \n",
       "75%       255.000000     324.000000     478.000000       1.000000   \n",
       "max     12688.000000   12688.000000   15579.000000      44.000000   \n",
       "\n",
       "                nfix          refix         reread  \n",
       "count  639530.000000  639454.000000  639530.000000  \n",
       "mean        1.870305       0.270565       0.315846  \n",
       "std         1.378493       0.444252       0.464852  \n",
       "min         1.000000       0.000000       0.000000  \n",
       "25%         1.000000       0.000000       0.000000  \n",
       "50%         1.000000       0.000000       0.000000  \n",
       "75%         2.000000       1.000000       1.000000  \n",
       "max        50.000000       1.000000       1.000000  "
      ]
     },
     "execution_count": 6,
     "metadata": {},
     "output_type": "execute_result"
    }
   ],
   "source": [
    "df.describe()"
   ]
  },
  {
   "cell_type": "code",
   "execution_count": 7,
   "id": "d8c10415",
   "metadata": {},
   "outputs": [
    {
     "data": {
      "text/plain": [
       "array(['du', 'ee', 'fi', 'ge', 'gr', 'he', 'it', 'ko', 'en', 'no', nan,\n",
       "       'ru', 'sp', 'tr'], dtype=object)"
      ]
     },
     "execution_count": 7,
     "metadata": {},
     "output_type": "execute_result"
    }
   ],
   "source": [
    "df.lang.unique()"
   ]
  },
  {
   "cell_type": "markdown",
   "id": "ec70d7a3",
   "metadata": {},
   "source": [
    "Get a subset of languages, choosen look a the ones handled by mBERT (https://huggingface.co/bert-base-multilingual-cased).\n",
    "\n",
    "- **German**\n",
    "- **Italian**\n",
    "- **Russian**\n",
    "- **English**\n",
    "- **Spanish**"
   ]
  },
  {
   "cell_type": "code",
   "execution_count": 8,
   "id": "2fa714ec",
   "metadata": {},
   "outputs": [],
   "source": [
    "# get only the languages that are necessary to the project\n",
    "supported_languages = [\"ge\", \"it\", \"ru\", \"en\", \"sp\"]"
   ]
  },
  {
   "cell_type": "code",
   "execution_count": 9,
   "id": "b74a6778",
   "metadata": {},
   "outputs": [],
   "source": [
    "df = df[df.lang.isin(supported_languages)]"
   ]
  },
  {
   "cell_type": "code",
   "execution_count": 10,
   "id": "7c780880",
   "metadata": {},
   "outputs": [
    {
     "name": "stdout",
     "output_type": "stream",
     "text": [
      "<class 'pandas.core.frame.DataFrame'>\n",
      "Int64Index: 402904 entries, 193910 to 823179\n",
      "Data columns (total 14 columns):\n",
      " #   Column         Non-Null Count   Dtype  \n",
      "---  ------         --------------   -----  \n",
      " 0   trialid        402904 non-null  float64\n",
      " 1   sentnum        402904 non-null  float64\n",
      " 2   ianum          402904 non-null  float64\n",
      " 3   ia             402834 non-null  object \n",
      " 4   lang           402904 non-null  object \n",
      " 5   uniform_id     402904 non-null  object \n",
      " 6   skip           402904 non-null  float64\n",
      " 7   firstfix.dur   292582 non-null  float64\n",
      " 8   firstrun.dur   292582 non-null  float64\n",
      " 9   dur            292582 non-null  float64\n",
      " 10  firstrun.nfix  292582 non-null  float64\n",
      " 11  nfix           292582 non-null  float64\n",
      " 12  refix          292539 non-null  float64\n",
      " 13  reread         292582 non-null  float64\n",
      "dtypes: float64(11), object(3)\n",
      "memory usage: 46.1+ MB\n"
     ]
    }
   ],
   "source": [
    "df.info()"
   ]
  },
  {
   "cell_type": "code",
   "execution_count": 11,
   "id": "09d51c2d",
   "metadata": {},
   "outputs": [
    {
     "data": {
      "text/html": [
       "<div>\n",
       "<style scoped>\n",
       "    .dataframe tbody tr th:only-of-type {\n",
       "        vertical-align: middle;\n",
       "    }\n",
       "\n",
       "    .dataframe tbody tr th {\n",
       "        vertical-align: top;\n",
       "    }\n",
       "\n",
       "    .dataframe thead th {\n",
       "        text-align: right;\n",
       "    }\n",
       "</style>\n",
       "<table border=\"1\" class=\"dataframe\">\n",
       "  <thead>\n",
       "    <tr style=\"text-align: right;\">\n",
       "      <th></th>\n",
       "      <th>trialid</th>\n",
       "      <th>sentnum</th>\n",
       "      <th>ianum</th>\n",
       "      <th>ia</th>\n",
       "      <th>lang</th>\n",
       "      <th>uniform_id</th>\n",
       "      <th>skip</th>\n",
       "      <th>firstfix.dur</th>\n",
       "      <th>firstrun.dur</th>\n",
       "      <th>dur</th>\n",
       "      <th>firstrun.nfix</th>\n",
       "      <th>nfix</th>\n",
       "      <th>refix</th>\n",
       "      <th>reread</th>\n",
       "    </tr>\n",
       "  </thead>\n",
       "  <tbody>\n",
       "    <tr>\n",
       "      <th>193910</th>\n",
       "      <td>1.0</td>\n",
       "      <td>1.0</td>\n",
       "      <td>1.0</td>\n",
       "      <td>In</td>\n",
       "      <td>ge</td>\n",
       "      <td>ge_1</td>\n",
       "      <td>0.0</td>\n",
       "      <td>164.0</td>\n",
       "      <td>164.0</td>\n",
       "      <td>164.0</td>\n",
       "      <td>1.0</td>\n",
       "      <td>1.0</td>\n",
       "      <td>0.0</td>\n",
       "      <td>0.0</td>\n",
       "    </tr>\n",
       "    <tr>\n",
       "      <th>193911</th>\n",
       "      <td>1.0</td>\n",
       "      <td>1.0</td>\n",
       "      <td>2.0</td>\n",
       "      <td>der</td>\n",
       "      <td>ge</td>\n",
       "      <td>ge_1</td>\n",
       "      <td>0.0</td>\n",
       "      <td>166.0</td>\n",
       "      <td>166.0</td>\n",
       "      <td>657.0</td>\n",
       "      <td>1.0</td>\n",
       "      <td>3.0</td>\n",
       "      <td>0.0</td>\n",
       "      <td>1.0</td>\n",
       "    </tr>\n",
       "    <tr>\n",
       "      <th>193912</th>\n",
       "      <td>1.0</td>\n",
       "      <td>1.0</td>\n",
       "      <td>3.0</td>\n",
       "      <td>alten</td>\n",
       "      <td>ge</td>\n",
       "      <td>ge_1</td>\n",
       "      <td>0.0</td>\n",
       "      <td>144.0</td>\n",
       "      <td>144.0</td>\n",
       "      <td>717.0</td>\n",
       "      <td>1.0</td>\n",
       "      <td>3.0</td>\n",
       "      <td>0.0</td>\n",
       "      <td>1.0</td>\n",
       "    </tr>\n",
       "    <tr>\n",
       "      <th>193913</th>\n",
       "      <td>1.0</td>\n",
       "      <td>1.0</td>\n",
       "      <td>4.0</td>\n",
       "      <td>römischen</td>\n",
       "      <td>ge</td>\n",
       "      <td>ge_1</td>\n",
       "      <td>0.0</td>\n",
       "      <td>219.0</td>\n",
       "      <td>219.0</td>\n",
       "      <td>1231.0</td>\n",
       "      <td>1.0</td>\n",
       "      <td>6.0</td>\n",
       "      <td>0.0</td>\n",
       "      <td>1.0</td>\n",
       "    </tr>\n",
       "    <tr>\n",
       "      <th>193914</th>\n",
       "      <td>1.0</td>\n",
       "      <td>1.0</td>\n",
       "      <td>5.0</td>\n",
       "      <td>Religion</td>\n",
       "      <td>ge</td>\n",
       "      <td>ge_1</td>\n",
       "      <td>0.0</td>\n",
       "      <td>151.0</td>\n",
       "      <td>151.0</td>\n",
       "      <td>1338.0</td>\n",
       "      <td>1.0</td>\n",
       "      <td>8.0</td>\n",
       "      <td>1.0</td>\n",
       "      <td>1.0</td>\n",
       "    </tr>\n",
       "  </tbody>\n",
       "</table>\n",
       "</div>"
      ],
      "text/plain": [
       "        trialid  sentnum  ianum         ia lang uniform_id  skip  \\\n",
       "193910      1.0      1.0    1.0         In   ge       ge_1   0.0   \n",
       "193911      1.0      1.0    2.0        der   ge       ge_1   0.0   \n",
       "193912      1.0      1.0    3.0      alten   ge       ge_1   0.0   \n",
       "193913      1.0      1.0    4.0  römischen   ge       ge_1   0.0   \n",
       "193914      1.0      1.0    5.0   Religion   ge       ge_1   0.0   \n",
       "\n",
       "        firstfix.dur  firstrun.dur     dur  firstrun.nfix  nfix  refix  reread  \n",
       "193910         164.0         164.0   164.0            1.0   1.0    0.0     0.0  \n",
       "193911         166.0         166.0   657.0            1.0   3.0    0.0     1.0  \n",
       "193912         144.0         144.0   717.0            1.0   3.0    0.0     1.0  \n",
       "193913         219.0         219.0  1231.0            1.0   6.0    0.0     1.0  \n",
       "193914         151.0         151.0  1338.0            1.0   8.0    1.0     1.0  "
      ]
     },
     "execution_count": 11,
     "metadata": {},
     "output_type": "execute_result"
    }
   ],
   "source": [
    "df.head()"
   ]
  },
  {
   "cell_type": "markdown",
   "id": "2b1bc1b0",
   "metadata": {},
   "source": [
    "Notice that in the samples' gaze_features with skip == 0 there aren't Null elements."
   ]
  },
  {
   "cell_type": "code",
   "execution_count": 12,
   "id": "c524913c",
   "metadata": {},
   "outputs": [
    {
     "name": "stdout",
     "output_type": "stream",
     "text": [
      "<class 'pandas.core.frame.DataFrame'>\n",
      "Int64Index: 292582 entries, 193910 to 823178\n",
      "Data columns (total 14 columns):\n",
      " #   Column         Non-Null Count   Dtype  \n",
      "---  ------         --------------   -----  \n",
      " 0   trialid        292582 non-null  float64\n",
      " 1   sentnum        292582 non-null  float64\n",
      " 2   ianum          292582 non-null  float64\n",
      " 3   ia             292575 non-null  object \n",
      " 4   lang           292582 non-null  object \n",
      " 5   uniform_id     292582 non-null  object \n",
      " 6   skip           292582 non-null  float64\n",
      " 7   firstfix.dur   292582 non-null  float64\n",
      " 8   firstrun.dur   292582 non-null  float64\n",
      " 9   dur            292582 non-null  float64\n",
      " 10  firstrun.nfix  292582 non-null  float64\n",
      " 11  nfix           292582 non-null  float64\n",
      " 12  refix          292539 non-null  float64\n",
      " 13  reread         292582 non-null  float64\n",
      "dtypes: float64(11), object(3)\n",
      "memory usage: 33.5+ MB\n"
     ]
    }
   ],
   "source": [
    "df[df.skip==0].info()"
   ]
  },
  {
   "cell_type": "code",
   "execution_count": 13,
   "id": "69d18f33",
   "metadata": {},
   "outputs": [
    {
     "name": "stdout",
     "output_type": "stream",
     "text": [
      "<class 'pandas.core.frame.DataFrame'>\n",
      "Int64Index: 110322 entries, 193926 to 823179\n",
      "Data columns (total 14 columns):\n",
      " #   Column         Non-Null Count   Dtype  \n",
      "---  ------         --------------   -----  \n",
      " 0   trialid        110322 non-null  float64\n",
      " 1   sentnum        110322 non-null  float64\n",
      " 2   ianum          110322 non-null  float64\n",
      " 3   ia             110259 non-null  object \n",
      " 4   lang           110322 non-null  object \n",
      " 5   uniform_id     110322 non-null  object \n",
      " 6   skip           110322 non-null  float64\n",
      " 7   firstfix.dur   0 non-null       float64\n",
      " 8   firstrun.dur   0 non-null       float64\n",
      " 9   dur            0 non-null       float64\n",
      " 10  firstrun.nfix  0 non-null       float64\n",
      " 11  nfix           0 non-null       float64\n",
      " 12  refix          0 non-null       float64\n",
      " 13  reread         0 non-null       float64\n",
      "dtypes: float64(11), object(3)\n",
      "memory usage: 12.6+ MB\n"
     ]
    }
   ],
   "source": [
    "df[df.skip==1].info()"
   ]
  },
  {
   "cell_type": "markdown",
   "id": "42ef3995",
   "metadata": {},
   "source": [
    "Even more, there are some ia elements that are Null, we can see that most of them have lot of Null elements, so we can drop them."
   ]
  },
  {
   "cell_type": "code",
   "execution_count": 14,
   "id": "179c37b8",
   "metadata": {},
   "outputs": [
    {
     "name": "stdout",
     "output_type": "stream",
     "text": [
      "Probabilities of Null elements by columns, for the Null ia\n"
     ]
    },
    {
     "data": {
      "text/plain": [
       "trialid          0.0\n",
       "sentnum          0.0\n",
       "ianum            0.0\n",
       "ia               1.0\n",
       "lang             0.0\n",
       "uniform_id       0.0\n",
       "skip             0.0\n",
       "firstfix.dur     0.9\n",
       "firstrun.dur     0.9\n",
       "dur              0.9\n",
       "firstrun.nfix    0.9\n",
       "nfix             0.9\n",
       "refix            0.9\n",
       "reread           0.9\n",
       "dtype: float64"
      ]
     },
     "execution_count": 14,
     "metadata": {},
     "output_type": "execute_result"
    }
   ],
   "source": [
    "print(\"Probabilities of Null elements by columns, for the Null ia\")\n",
    "df[df.ia.isna()].isna().sum()/df[df.ia.isna()].shape[0]"
   ]
  },
  {
   "cell_type": "code",
   "execution_count": 15,
   "id": "59ccaa11",
   "metadata": {},
   "outputs": [],
   "source": [
    "df = df[~df.ia.isna()]"
   ]
  },
  {
   "cell_type": "markdown",
   "id": "5d314e67",
   "metadata": {},
   "source": [
    "Fill gaze features of the skipped words with 0."
   ]
  },
  {
   "cell_type": "code",
   "execution_count": 16,
   "id": "d343b9c2",
   "metadata": {},
   "outputs": [],
   "source": [
    "df = df.fillna(0)"
   ]
  },
  {
   "cell_type": "code",
   "execution_count": 17,
   "id": "1a98595d",
   "metadata": {},
   "outputs": [
    {
     "name": "stdout",
     "output_type": "stream",
     "text": [
      "<class 'pandas.core.frame.DataFrame'>\n",
      "Int64Index: 402834 entries, 193910 to 823179\n",
      "Data columns (total 14 columns):\n",
      " #   Column         Non-Null Count   Dtype  \n",
      "---  ------         --------------   -----  \n",
      " 0   trialid        402834 non-null  float64\n",
      " 1   sentnum        402834 non-null  float64\n",
      " 2   ianum          402834 non-null  float64\n",
      " 3   ia             402834 non-null  object \n",
      " 4   lang           402834 non-null  object \n",
      " 5   uniform_id     402834 non-null  object \n",
      " 6   skip           402834 non-null  float64\n",
      " 7   firstfix.dur   402834 non-null  float64\n",
      " 8   firstrun.dur   402834 non-null  float64\n",
      " 9   dur            402834 non-null  float64\n",
      " 10  firstrun.nfix  402834 non-null  float64\n",
      " 11  nfix           402834 non-null  float64\n",
      " 12  refix          402834 non-null  float64\n",
      " 13  reread         402834 non-null  float64\n",
      "dtypes: float64(11), object(3)\n",
      "memory usage: 46.1+ MB\n"
     ]
    }
   ],
   "source": [
    "df.info()"
   ]
  },
  {
   "cell_type": "code",
   "execution_count": 18,
   "id": "0b2e8d8e",
   "metadata": {},
   "outputs": [
    {
     "data": {
      "text/html": [
       "<div>\n",
       "<style scoped>\n",
       "    .dataframe tbody tr th:only-of-type {\n",
       "        vertical-align: middle;\n",
       "    }\n",
       "\n",
       "    .dataframe tbody tr th {\n",
       "        vertical-align: top;\n",
       "    }\n",
       "\n",
       "    .dataframe thead th {\n",
       "        text-align: right;\n",
       "    }\n",
       "</style>\n",
       "<table border=\"1\" class=\"dataframe\">\n",
       "  <thead>\n",
       "    <tr style=\"text-align: right;\">\n",
       "      <th></th>\n",
       "      <th>skip</th>\n",
       "      <th>firstrun.dur</th>\n",
       "      <th>dur</th>\n",
       "      <th>firstrun.nfix</th>\n",
       "      <th>nfix</th>\n",
       "      <th>refix</th>\n",
       "      <th>reread</th>\n",
       "    </tr>\n",
       "  </thead>\n",
       "  <tbody>\n",
       "    <tr>\n",
       "      <th>skip</th>\n",
       "      <td>1.000000</td>\n",
       "      <td>-0.652214</td>\n",
       "      <td>-0.543305</td>\n",
       "      <td>-0.741110</td>\n",
       "      <td>-0.587836</td>\n",
       "      <td>-0.287592</td>\n",
       "      <td>-0.333861</td>\n",
       "    </tr>\n",
       "    <tr>\n",
       "      <th>firstrun.dur</th>\n",
       "      <td>-0.652214</td>\n",
       "      <td>1.000000</td>\n",
       "      <td>0.720569</td>\n",
       "      <td>0.860484</td>\n",
       "      <td>0.616886</td>\n",
       "      <td>0.554956</td>\n",
       "      <td>0.224649</td>\n",
       "    </tr>\n",
       "    <tr>\n",
       "      <th>dur</th>\n",
       "      <td>-0.543305</td>\n",
       "      <td>0.720569</td>\n",
       "      <td>1.000000</td>\n",
       "      <td>0.648870</td>\n",
       "      <td>0.923882</td>\n",
       "      <td>0.555678</td>\n",
       "      <td>0.629876</td>\n",
       "    </tr>\n",
       "    <tr>\n",
       "      <th>firstrun.nfix</th>\n",
       "      <td>-0.741110</td>\n",
       "      <td>0.860484</td>\n",
       "      <td>0.648870</td>\n",
       "      <td>1.000000</td>\n",
       "      <td>0.712458</td>\n",
       "      <td>0.682079</td>\n",
       "      <td>0.256612</td>\n",
       "    </tr>\n",
       "    <tr>\n",
       "      <th>nfix</th>\n",
       "      <td>-0.587836</td>\n",
       "      <td>0.616886</td>\n",
       "      <td>0.923882</td>\n",
       "      <td>0.712458</td>\n",
       "      <td>1.000000</td>\n",
       "      <td>0.631961</td>\n",
       "      <td>0.685371</td>\n",
       "    </tr>\n",
       "    <tr>\n",
       "      <th>refix</th>\n",
       "      <td>-0.287592</td>\n",
       "      <td>0.554956</td>\n",
       "      <td>0.555678</td>\n",
       "      <td>0.682079</td>\n",
       "      <td>0.631961</td>\n",
       "      <td>1.000000</td>\n",
       "      <td>0.249470</td>\n",
       "    </tr>\n",
       "    <tr>\n",
       "      <th>reread</th>\n",
       "      <td>-0.333861</td>\n",
       "      <td>0.224649</td>\n",
       "      <td>0.629876</td>\n",
       "      <td>0.256612</td>\n",
       "      <td>0.685371</td>\n",
       "      <td>0.249470</td>\n",
       "      <td>1.000000</td>\n",
       "    </tr>\n",
       "  </tbody>\n",
       "</table>\n",
       "</div>"
      ],
      "text/plain": [
       "                   skip  firstrun.dur       dur  firstrun.nfix      nfix  \\\n",
       "skip           1.000000     -0.652214 -0.543305      -0.741110 -0.587836   \n",
       "firstrun.dur  -0.652214      1.000000  0.720569       0.860484  0.616886   \n",
       "dur           -0.543305      0.720569  1.000000       0.648870  0.923882   \n",
       "firstrun.nfix -0.741110      0.860484  0.648870       1.000000  0.712458   \n",
       "nfix          -0.587836      0.616886  0.923882       0.712458  1.000000   \n",
       "refix         -0.287592      0.554956  0.555678       0.682079  0.631961   \n",
       "reread        -0.333861      0.224649  0.629876       0.256612  0.685371   \n",
       "\n",
       "                  refix    reread  \n",
       "skip          -0.287592 -0.333861  \n",
       "firstrun.dur   0.554956  0.224649  \n",
       "dur            0.555678  0.629876  \n",
       "firstrun.nfix  0.682079  0.256612  \n",
       "nfix           0.631961  0.685371  \n",
       "refix          1.000000  0.249470  \n",
       "reread         0.249470  1.000000  "
      ]
     },
     "execution_count": 18,
     "metadata": {},
     "output_type": "execute_result"
    }
   ],
   "source": [
    "df[[\"skip\", \"firstrun.dur\", \"dur\", \"firstrun.nfix\", \"nfix\", \"refix\", \"reread\"]].corr()"
   ]
  },
  {
   "cell_type": "markdown",
   "id": "e429c561",
   "metadata": {},
   "source": [
    "## Group by all users\n",
    "\n",
    "We will create 4 dataset grouping all the user without distinction, one from all the dataset, the other three are selected from a single language, choosing the italian, german and spanish users, since (as We will see) only users of theese langs are in all trials reading all the sentences."
   ]
  },
  {
   "cell_type": "code",
   "execution_count": 19,
   "id": "1c549d3c",
   "metadata": {},
   "outputs": [],
   "source": [
    "def group_by_users(dataset):\n",
    "    group_by_cols = [\"trialid\", \"sentnum\", \"ianum\", \"ia\", \"lang\"]\n",
    "    grouped_cols = [\"skip\", \"firstfix.dur\", \"firstrun.dur\", \"dur\", \"firstrun.nfix\", \"nfix\", \"refix\", \"reread\"]\n",
    "\n",
    "    grouped_clusterd_df = dataset.groupby(group_by_cols)[grouped_cols].mean()\n",
    "\n",
    "    grouped_clusterd_df = grouped_clusterd_df.reset_index(level=0).reset_index(level=0).reset_index(level=0).reset_index(level=0).reset_index(level=0)\n",
    "\n",
    "    grouped_clusterd_df[\"trial_sentnum\"] = grouped_clusterd_df[\"sentnum\"]\n",
    "    grouped_clusterd_df[\"sentnum\"] = grouped_clusterd_df[\"sentnum\"].astype(\"string\") + grouped_clusterd_df[\"trialid\"].astype(\"string\") + grouped_clusterd_df[\"lang\"].astype(\"string\")\n",
    "    grouped_clusterd_df.sentnum = grouped_clusterd_df.sentnum.astype('category').cat.codes\n",
    "\n",
    "    word_func = lambda s: [w for w in s[\"ia\"].values.tolist()]\n",
    "    sentences = grouped_clusterd_df.groupby(\"sentnum\").apply(word_func).tolist()\n",
    "    print(f\"Number of sentence after group : {len(sentences)}\")\n",
    "\n",
    "    return grouped_clusterd_df"
   ]
  },
  {
   "cell_type": "markdown",
   "id": "3ad83e2d",
   "metadata": {},
   "source": [
    "### All Langs"
   ]
  },
  {
   "cell_type": "code",
   "execution_count": 20,
   "id": "4ed70f7f",
   "metadata": {},
   "outputs": [
    {
     "name": "stdout",
     "output_type": "stream",
     "text": [
      "Number of sentence after group : 511\n"
     ]
    }
   ],
   "source": [
    "grouped_clusterd_df_0 = group_by_users(df)"
   ]
  },
  {
   "cell_type": "code",
   "execution_count": 21,
   "id": "f8c249e6",
   "metadata": {},
   "outputs": [
    {
     "data": {
      "text/plain": [
       "(11908, 14)"
      ]
     },
     "execution_count": 21,
     "metadata": {},
     "output_type": "execute_result"
    }
   ],
   "source": [
    "grouped_clusterd_df_0.shape"
   ]
  },
  {
   "cell_type": "code",
   "execution_count": 22,
   "id": "c5fb284c",
   "metadata": {},
   "outputs": [],
   "source": [
    "grouped_clusterd_df_0.rename(columns={\"skip\" : \"prob_skip\", \"refix\" : \"prob_refix\", \"reread\" : \"prob_reread\"}, inplace=True)\n",
    "\n",
    "grouped_clusterd_df_0.ianum = grouped_clusterd_df_0.ianum.astype(int)\n",
    "grouped_clusterd_df_0.trialid = grouped_clusterd_df_0.trialid.astype(int)\n",
    "grouped_clusterd_df_0.trial_sentnum = grouped_clusterd_df_0.trial_sentnum.astype(int)"
   ]
  },
  {
   "cell_type": "code",
   "execution_count": 23,
   "id": "28409256",
   "metadata": {},
   "outputs": [
    {
     "data": {
      "text/html": [
       "<div>\n",
       "<style scoped>\n",
       "    .dataframe tbody tr th:only-of-type {\n",
       "        vertical-align: middle;\n",
       "    }\n",
       "\n",
       "    .dataframe tbody tr th {\n",
       "        vertical-align: top;\n",
       "    }\n",
       "\n",
       "    .dataframe thead th {\n",
       "        text-align: right;\n",
       "    }\n",
       "</style>\n",
       "<table border=\"1\" class=\"dataframe\">\n",
       "  <thead>\n",
       "    <tr style=\"text-align: right;\">\n",
       "      <th></th>\n",
       "      <th>lang</th>\n",
       "      <th>ia</th>\n",
       "      <th>ianum</th>\n",
       "      <th>sentnum</th>\n",
       "      <th>trialid</th>\n",
       "      <th>prob_skip</th>\n",
       "      <th>firstfix.dur</th>\n",
       "      <th>firstrun.dur</th>\n",
       "      <th>dur</th>\n",
       "      <th>firstrun.nfix</th>\n",
       "      <th>nfix</th>\n",
       "      <th>prob_refix</th>\n",
       "      <th>prob_reread</th>\n",
       "      <th>trial_sentnum</th>\n",
       "    </tr>\n",
       "  </thead>\n",
       "  <tbody>\n",
       "    <tr>\n",
       "      <th>0</th>\n",
       "      <td>sp</td>\n",
       "      <td>En</td>\n",
       "      <td>1</td>\n",
       "      <td>4</td>\n",
       "      <td>1</td>\n",
       "      <td>0.342105</td>\n",
       "      <td>95.842105</td>\n",
       "      <td>98.842105</td>\n",
       "      <td>128.973684</td>\n",
       "      <td>0.684211</td>\n",
       "      <td>0.815789</td>\n",
       "      <td>0.026316</td>\n",
       "      <td>0.078947</td>\n",
       "      <td>1</td>\n",
       "    </tr>\n",
       "    <tr>\n",
       "      <th>1</th>\n",
       "      <td>en</td>\n",
       "      <td>In</td>\n",
       "      <td>1</td>\n",
       "      <td>0</td>\n",
       "      <td>1</td>\n",
       "      <td>0.605263</td>\n",
       "      <td>45.236842</td>\n",
       "      <td>52.631579</td>\n",
       "      <td>76.789474</td>\n",
       "      <td>0.421053</td>\n",
       "      <td>0.526316</td>\n",
       "      <td>0.026316</td>\n",
       "      <td>0.078947</td>\n",
       "      <td>1</td>\n",
       "    </tr>\n",
       "    <tr>\n",
       "      <th>2</th>\n",
       "      <td>ge</td>\n",
       "      <td>In</td>\n",
       "      <td>1</td>\n",
       "      <td>1</td>\n",
       "      <td>1</td>\n",
       "      <td>0.342857</td>\n",
       "      <td>97.971429</td>\n",
       "      <td>97.971429</td>\n",
       "      <td>115.000000</td>\n",
       "      <td>0.657143</td>\n",
       "      <td>0.742857</td>\n",
       "      <td>0.000000</td>\n",
       "      <td>0.057143</td>\n",
       "      <td>1</td>\n",
       "    </tr>\n",
       "    <tr>\n",
       "      <th>3</th>\n",
       "      <td>it</td>\n",
       "      <td>Negli</td>\n",
       "      <td>1</td>\n",
       "      <td>2</td>\n",
       "      <td>1</td>\n",
       "      <td>0.116279</td>\n",
       "      <td>127.511628</td>\n",
       "      <td>138.465116</td>\n",
       "      <td>301.860465</td>\n",
       "      <td>0.976744</td>\n",
       "      <td>1.790698</td>\n",
       "      <td>0.139535</td>\n",
       "      <td>0.511628</td>\n",
       "      <td>1</td>\n",
       "    </tr>\n",
       "    <tr>\n",
       "      <th>4</th>\n",
       "      <td>ru</td>\n",
       "      <td>Янус</td>\n",
       "      <td>1</td>\n",
       "      <td>3</td>\n",
       "      <td>1</td>\n",
       "      <td>0.029412</td>\n",
       "      <td>167.411765</td>\n",
       "      <td>281.823529</td>\n",
       "      <td>479.411765</td>\n",
       "      <td>1.352941</td>\n",
       "      <td>1.970588</td>\n",
       "      <td>0.294118</td>\n",
       "      <td>0.323529</td>\n",
       "      <td>1</td>\n",
       "    </tr>\n",
       "  </tbody>\n",
       "</table>\n",
       "</div>"
      ],
      "text/plain": [
       "  lang     ia  ianum  sentnum  trialid  prob_skip  firstfix.dur  firstrun.dur  \\\n",
       "0   sp     En      1        4        1   0.342105     95.842105     98.842105   \n",
       "1   en     In      1        0        1   0.605263     45.236842     52.631579   \n",
       "2   ge     In      1        1        1   0.342857     97.971429     97.971429   \n",
       "3   it  Negli      1        2        1   0.116279    127.511628    138.465116   \n",
       "4   ru   Янус      1        3        1   0.029412    167.411765    281.823529   \n",
       "\n",
       "          dur  firstrun.nfix      nfix  prob_refix  prob_reread  trial_sentnum  \n",
       "0  128.973684       0.684211  0.815789    0.026316     0.078947              1  \n",
       "1   76.789474       0.421053  0.526316    0.026316     0.078947              1  \n",
       "2  115.000000       0.657143  0.742857    0.000000     0.057143              1  \n",
       "3  301.860465       0.976744  1.790698    0.139535     0.511628              1  \n",
       "4  479.411765       1.352941  1.970588    0.294118     0.323529              1  "
      ]
     },
     "execution_count": 23,
     "metadata": {},
     "output_type": "execute_result"
    }
   ],
   "source": [
    "grouped_clusterd_df_0.head()"
   ]
  },
  {
   "cell_type": "code",
   "execution_count": 24,
   "id": "a188f13e",
   "metadata": {},
   "outputs": [
    {
     "data": {
      "text/html": [
       "<div>\n",
       "<style scoped>\n",
       "    .dataframe tbody tr th:only-of-type {\n",
       "        vertical-align: middle;\n",
       "    }\n",
       "\n",
       "    .dataframe tbody tr th {\n",
       "        vertical-align: top;\n",
       "    }\n",
       "\n",
       "    .dataframe thead th {\n",
       "        text-align: right;\n",
       "    }\n",
       "</style>\n",
       "<table border=\"1\" class=\"dataframe\">\n",
       "  <thead>\n",
       "    <tr style=\"text-align: right;\">\n",
       "      <th></th>\n",
       "      <th>prob_skip</th>\n",
       "      <th>firstrun.dur</th>\n",
       "      <th>dur</th>\n",
       "      <th>firstrun.nfix</th>\n",
       "      <th>nfix</th>\n",
       "      <th>prob_refix</th>\n",
       "      <th>prob_reread</th>\n",
       "    </tr>\n",
       "  </thead>\n",
       "  <tbody>\n",
       "    <tr>\n",
       "      <th>prob_skip</th>\n",
       "      <td>1.000000</td>\n",
       "      <td>-0.778231</td>\n",
       "      <td>-0.731378</td>\n",
       "      <td>-0.828764</td>\n",
       "      <td>-0.772671</td>\n",
       "      <td>-0.574849</td>\n",
       "      <td>-0.600154</td>\n",
       "    </tr>\n",
       "    <tr>\n",
       "      <th>firstrun.dur</th>\n",
       "      <td>-0.778231</td>\n",
       "      <td>1.000000</td>\n",
       "      <td>0.876370</td>\n",
       "      <td>0.937817</td>\n",
       "      <td>0.835661</td>\n",
       "      <td>0.787060</td>\n",
       "      <td>0.515920</td>\n",
       "    </tr>\n",
       "    <tr>\n",
       "      <th>dur</th>\n",
       "      <td>-0.731378</td>\n",
       "      <td>0.876370</td>\n",
       "      <td>1.000000</td>\n",
       "      <td>0.849587</td>\n",
       "      <td>0.961604</td>\n",
       "      <td>0.790050</td>\n",
       "      <td>0.771978</td>\n",
       "    </tr>\n",
       "    <tr>\n",
       "      <th>firstrun.nfix</th>\n",
       "      <td>-0.828764</td>\n",
       "      <td>0.937817</td>\n",
       "      <td>0.849587</td>\n",
       "      <td>1.000000</td>\n",
       "      <td>0.891440</td>\n",
       "      <td>0.840413</td>\n",
       "      <td>0.549345</td>\n",
       "    </tr>\n",
       "    <tr>\n",
       "      <th>nfix</th>\n",
       "      <td>-0.772671</td>\n",
       "      <td>0.835661</td>\n",
       "      <td>0.961604</td>\n",
       "      <td>0.891440</td>\n",
       "      <td>1.000000</td>\n",
       "      <td>0.827222</td>\n",
       "      <td>0.801388</td>\n",
       "    </tr>\n",
       "    <tr>\n",
       "      <th>prob_refix</th>\n",
       "      <td>-0.574849</td>\n",
       "      <td>0.787060</td>\n",
       "      <td>0.790050</td>\n",
       "      <td>0.840413</td>\n",
       "      <td>0.827222</td>\n",
       "      <td>1.000000</td>\n",
       "      <td>0.524673</td>\n",
       "    </tr>\n",
       "    <tr>\n",
       "      <th>prob_reread</th>\n",
       "      <td>-0.600154</td>\n",
       "      <td>0.515920</td>\n",
       "      <td>0.771978</td>\n",
       "      <td>0.549345</td>\n",
       "      <td>0.801388</td>\n",
       "      <td>0.524673</td>\n",
       "      <td>1.000000</td>\n",
       "    </tr>\n",
       "  </tbody>\n",
       "</table>\n",
       "</div>"
      ],
      "text/plain": [
       "               prob_skip  firstrun.dur       dur  firstrun.nfix      nfix  \\\n",
       "prob_skip       1.000000     -0.778231 -0.731378      -0.828764 -0.772671   \n",
       "firstrun.dur   -0.778231      1.000000  0.876370       0.937817  0.835661   \n",
       "dur            -0.731378      0.876370  1.000000       0.849587  0.961604   \n",
       "firstrun.nfix  -0.828764      0.937817  0.849587       1.000000  0.891440   \n",
       "nfix           -0.772671      0.835661  0.961604       0.891440  1.000000   \n",
       "prob_refix     -0.574849      0.787060  0.790050       0.840413  0.827222   \n",
       "prob_reread    -0.600154      0.515920  0.771978       0.549345  0.801388   \n",
       "\n",
       "               prob_refix  prob_reread  \n",
       "prob_skip       -0.574849    -0.600154  \n",
       "firstrun.dur     0.787060     0.515920  \n",
       "dur              0.790050     0.771978  \n",
       "firstrun.nfix    0.840413     0.549345  \n",
       "nfix             0.827222     0.801388  \n",
       "prob_refix       1.000000     0.524673  \n",
       "prob_reread      0.524673     1.000000  "
      ]
     },
     "execution_count": 24,
     "metadata": {},
     "output_type": "execute_result"
    }
   ],
   "source": [
    "grouped_clusterd_df_0[[\"prob_skip\", \"firstrun.dur\", \"dur\", \"firstrun.nfix\", \"nfix\", \"prob_refix\", \"prob_reread\"]].corr()"
   ]
  },
  {
   "cell_type": "code",
   "execution_count": 25,
   "id": "1faf0c14",
   "metadata": {},
   "outputs": [],
   "source": [
    "grouped_clusterd_df_0.to_csv(f\"datasets/all_mean_dataset.csv\")"
   ]
  },
  {
   "cell_type": "markdown",
   "id": "981aa8be",
   "metadata": {},
   "source": [
    "### It"
   ]
  },
  {
   "cell_type": "code",
   "execution_count": 26,
   "id": "6913517a",
   "metadata": {},
   "outputs": [
    {
     "name": "stdout",
     "output_type": "stream",
     "text": [
      "Number of sentence after group : 90\n"
     ]
    }
   ],
   "source": [
    "grouped_clusterd_df_0_it = group_by_users(df[df.lang==\"it\"])"
   ]
  },
  {
   "cell_type": "code",
   "execution_count": 27,
   "id": "41ef596d",
   "metadata": {},
   "outputs": [
    {
     "data": {
      "text/plain": [
       "(2113, 14)"
      ]
     },
     "execution_count": 27,
     "metadata": {},
     "output_type": "execute_result"
    }
   ],
   "source": [
    "grouped_clusterd_df_0_it.shape"
   ]
  },
  {
   "cell_type": "code",
   "execution_count": 28,
   "id": "2213eff7",
   "metadata": {},
   "outputs": [],
   "source": [
    "grouped_clusterd_df_0_it.rename(columns={\"skip\" : \"prob_skip\", \"refix\" : \"prob_refix\", \"reread\" : \"prob_reread\"}, inplace=True)\n",
    "\n",
    "grouped_clusterd_df_0_it.ianum = grouped_clusterd_df_0_it.ianum.astype(int)\n",
    "grouped_clusterd_df_0_it.trialid = grouped_clusterd_df_0_it.trialid.astype(int)\n",
    "grouped_clusterd_df_0_it.trial_sentnum = grouped_clusterd_df_0_it.trial_sentnum.astype(int)"
   ]
  },
  {
   "cell_type": "code",
   "execution_count": 29,
   "id": "8007cd1b",
   "metadata": {},
   "outputs": [
    {
     "data": {
      "text/html": [
       "<div>\n",
       "<style scoped>\n",
       "    .dataframe tbody tr th:only-of-type {\n",
       "        vertical-align: middle;\n",
       "    }\n",
       "\n",
       "    .dataframe tbody tr th {\n",
       "        vertical-align: top;\n",
       "    }\n",
       "\n",
       "    .dataframe thead th {\n",
       "        text-align: right;\n",
       "    }\n",
       "</style>\n",
       "<table border=\"1\" class=\"dataframe\">\n",
       "  <thead>\n",
       "    <tr style=\"text-align: right;\">\n",
       "      <th></th>\n",
       "      <th>lang</th>\n",
       "      <th>ia</th>\n",
       "      <th>ianum</th>\n",
       "      <th>sentnum</th>\n",
       "      <th>trialid</th>\n",
       "      <th>prob_skip</th>\n",
       "      <th>firstfix.dur</th>\n",
       "      <th>firstrun.dur</th>\n",
       "      <th>dur</th>\n",
       "      <th>firstrun.nfix</th>\n",
       "      <th>nfix</th>\n",
       "      <th>prob_refix</th>\n",
       "      <th>prob_reread</th>\n",
       "      <th>trial_sentnum</th>\n",
       "    </tr>\n",
       "  </thead>\n",
       "  <tbody>\n",
       "    <tr>\n",
       "      <th>0</th>\n",
       "      <td>it</td>\n",
       "      <td>Negli</td>\n",
       "      <td>1</td>\n",
       "      <td>0</td>\n",
       "      <td>1</td>\n",
       "      <td>0.116279</td>\n",
       "      <td>127.511628</td>\n",
       "      <td>138.465116</td>\n",
       "      <td>301.860465</td>\n",
       "      <td>0.976744</td>\n",
       "      <td>1.790698</td>\n",
       "      <td>0.139535</td>\n",
       "      <td>0.511628</td>\n",
       "      <td>1</td>\n",
       "    </tr>\n",
       "    <tr>\n",
       "      <th>1</th>\n",
       "      <td>it</td>\n",
       "      <td>antichi</td>\n",
       "      <td>2</td>\n",
       "      <td>0</td>\n",
       "      <td>1</td>\n",
       "      <td>0.000000</td>\n",
       "      <td>180.023256</td>\n",
       "      <td>279.930233</td>\n",
       "      <td>572.023256</td>\n",
       "      <td>1.627907</td>\n",
       "      <td>3.232558</td>\n",
       "      <td>0.511628</td>\n",
       "      <td>0.674419</td>\n",
       "      <td>1</td>\n",
       "    </tr>\n",
       "    <tr>\n",
       "      <th>2</th>\n",
       "      <td>it</td>\n",
       "      <td>miti</td>\n",
       "      <td>3</td>\n",
       "      <td>0</td>\n",
       "      <td>1</td>\n",
       "      <td>0.046512</td>\n",
       "      <td>196.046512</td>\n",
       "      <td>230.116279</td>\n",
       "      <td>499.534884</td>\n",
       "      <td>1.139535</td>\n",
       "      <td>2.465116</td>\n",
       "      <td>0.186047</td>\n",
       "      <td>0.581395</td>\n",
       "      <td>1</td>\n",
       "    </tr>\n",
       "    <tr>\n",
       "      <th>3</th>\n",
       "      <td>it</td>\n",
       "      <td>e</td>\n",
       "      <td>4</td>\n",
       "      <td>0</td>\n",
       "      <td>1</td>\n",
       "      <td>0.581395</td>\n",
       "      <td>73.953488</td>\n",
       "      <td>76.930233</td>\n",
       "      <td>116.372093</td>\n",
       "      <td>0.441860</td>\n",
       "      <td>0.674419</td>\n",
       "      <td>0.023256</td>\n",
       "      <td>0.139535</td>\n",
       "      <td>1</td>\n",
       "    </tr>\n",
       "    <tr>\n",
       "      <th>4</th>\n",
       "      <td>it</td>\n",
       "      <td>religioni</td>\n",
       "      <td>5</td>\n",
       "      <td>0</td>\n",
       "      <td>1</td>\n",
       "      <td>0.000000</td>\n",
       "      <td>221.790698</td>\n",
       "      <td>326.116279</td>\n",
       "      <td>887.348837</td>\n",
       "      <td>1.465116</td>\n",
       "      <td>4.069767</td>\n",
       "      <td>0.627907</td>\n",
       "      <td>0.860465</td>\n",
       "      <td>1</td>\n",
       "    </tr>\n",
       "  </tbody>\n",
       "</table>\n",
       "</div>"
      ],
      "text/plain": [
       "  lang         ia  ianum  sentnum  trialid  prob_skip  firstfix.dur  \\\n",
       "0   it      Negli      1        0        1   0.116279    127.511628   \n",
       "1   it    antichi      2        0        1   0.000000    180.023256   \n",
       "2   it       miti      3        0        1   0.046512    196.046512   \n",
       "3   it          e      4        0        1   0.581395     73.953488   \n",
       "4   it  religioni      5        0        1   0.000000    221.790698   \n",
       "\n",
       "   firstrun.dur         dur  firstrun.nfix      nfix  prob_refix  prob_reread  \\\n",
       "0    138.465116  301.860465       0.976744  1.790698    0.139535     0.511628   \n",
       "1    279.930233  572.023256       1.627907  3.232558    0.511628     0.674419   \n",
       "2    230.116279  499.534884       1.139535  2.465116    0.186047     0.581395   \n",
       "3     76.930233  116.372093       0.441860  0.674419    0.023256     0.139535   \n",
       "4    326.116279  887.348837       1.465116  4.069767    0.627907     0.860465   \n",
       "\n",
       "   trial_sentnum  \n",
       "0              1  \n",
       "1              1  \n",
       "2              1  \n",
       "3              1  \n",
       "4              1  "
      ]
     },
     "execution_count": 29,
     "metadata": {},
     "output_type": "execute_result"
    }
   ],
   "source": [
    "grouped_clusterd_df_0_it.head()"
   ]
  },
  {
   "cell_type": "code",
   "execution_count": 30,
   "id": "51ffc078",
   "metadata": {},
   "outputs": [
    {
     "data": {
      "text/html": [
       "<div>\n",
       "<style scoped>\n",
       "    .dataframe tbody tr th:only-of-type {\n",
       "        vertical-align: middle;\n",
       "    }\n",
       "\n",
       "    .dataframe tbody tr th {\n",
       "        vertical-align: top;\n",
       "    }\n",
       "\n",
       "    .dataframe thead th {\n",
       "        text-align: right;\n",
       "    }\n",
       "</style>\n",
       "<table border=\"1\" class=\"dataframe\">\n",
       "  <thead>\n",
       "    <tr style=\"text-align: right;\">\n",
       "      <th></th>\n",
       "      <th>prob_skip</th>\n",
       "      <th>firstrun.dur</th>\n",
       "      <th>dur</th>\n",
       "      <th>firstrun.nfix</th>\n",
       "      <th>nfix</th>\n",
       "      <th>prob_refix</th>\n",
       "      <th>prob_reread</th>\n",
       "    </tr>\n",
       "  </thead>\n",
       "  <tbody>\n",
       "    <tr>\n",
       "      <th>prob_skip</th>\n",
       "      <td>1.000000</td>\n",
       "      <td>-0.854946</td>\n",
       "      <td>-0.796125</td>\n",
       "      <td>-0.887883</td>\n",
       "      <td>-0.826719</td>\n",
       "      <td>-0.674404</td>\n",
       "      <td>-0.785266</td>\n",
       "    </tr>\n",
       "    <tr>\n",
       "      <th>firstrun.dur</th>\n",
       "      <td>-0.854946</td>\n",
       "      <td>1.000000</td>\n",
       "      <td>0.932300</td>\n",
       "      <td>0.974716</td>\n",
       "      <td>0.916346</td>\n",
       "      <td>0.883337</td>\n",
       "      <td>0.753085</td>\n",
       "    </tr>\n",
       "    <tr>\n",
       "      <th>dur</th>\n",
       "      <td>-0.796125</td>\n",
       "      <td>0.932300</td>\n",
       "      <td>1.000000</td>\n",
       "      <td>0.911752</td>\n",
       "      <td>0.986071</td>\n",
       "      <td>0.871488</td>\n",
       "      <td>0.881954</td>\n",
       "    </tr>\n",
       "    <tr>\n",
       "      <th>firstrun.nfix</th>\n",
       "      <td>-0.887883</td>\n",
       "      <td>0.974716</td>\n",
       "      <td>0.911752</td>\n",
       "      <td>1.000000</td>\n",
       "      <td>0.929447</td>\n",
       "      <td>0.903104</td>\n",
       "      <td>0.759937</td>\n",
       "    </tr>\n",
       "    <tr>\n",
       "      <th>nfix</th>\n",
       "      <td>-0.826719</td>\n",
       "      <td>0.916346</td>\n",
       "      <td>0.986071</td>\n",
       "      <td>0.929447</td>\n",
       "      <td>1.000000</td>\n",
       "      <td>0.886245</td>\n",
       "      <td>0.900782</td>\n",
       "    </tr>\n",
       "    <tr>\n",
       "      <th>prob_refix</th>\n",
       "      <td>-0.674404</td>\n",
       "      <td>0.883337</td>\n",
       "      <td>0.871488</td>\n",
       "      <td>0.903104</td>\n",
       "      <td>0.886245</td>\n",
       "      <td>1.000000</td>\n",
       "      <td>0.693536</td>\n",
       "    </tr>\n",
       "    <tr>\n",
       "      <th>prob_reread</th>\n",
       "      <td>-0.785266</td>\n",
       "      <td>0.753085</td>\n",
       "      <td>0.881954</td>\n",
       "      <td>0.759937</td>\n",
       "      <td>0.900782</td>\n",
       "      <td>0.693536</td>\n",
       "      <td>1.000000</td>\n",
       "    </tr>\n",
       "  </tbody>\n",
       "</table>\n",
       "</div>"
      ],
      "text/plain": [
       "               prob_skip  firstrun.dur       dur  firstrun.nfix      nfix  \\\n",
       "prob_skip       1.000000     -0.854946 -0.796125      -0.887883 -0.826719   \n",
       "firstrun.dur   -0.854946      1.000000  0.932300       0.974716  0.916346   \n",
       "dur            -0.796125      0.932300  1.000000       0.911752  0.986071   \n",
       "firstrun.nfix  -0.887883      0.974716  0.911752       1.000000  0.929447   \n",
       "nfix           -0.826719      0.916346  0.986071       0.929447  1.000000   \n",
       "prob_refix     -0.674404      0.883337  0.871488       0.903104  0.886245   \n",
       "prob_reread    -0.785266      0.753085  0.881954       0.759937  0.900782   \n",
       "\n",
       "               prob_refix  prob_reread  \n",
       "prob_skip       -0.674404    -0.785266  \n",
       "firstrun.dur     0.883337     0.753085  \n",
       "dur              0.871488     0.881954  \n",
       "firstrun.nfix    0.903104     0.759937  \n",
       "nfix             0.886245     0.900782  \n",
       "prob_refix       1.000000     0.693536  \n",
       "prob_reread      0.693536     1.000000  "
      ]
     },
     "execution_count": 30,
     "metadata": {},
     "output_type": "execute_result"
    }
   ],
   "source": [
    "grouped_clusterd_df_0_it[[\"prob_skip\", \"firstrun.dur\", \"dur\", \"firstrun.nfix\", \"nfix\", \"prob_refix\", \"prob_reread\"]].corr()"
   ]
  },
  {
   "cell_type": "code",
   "execution_count": 31,
   "id": "da47845d",
   "metadata": {},
   "outputs": [],
   "source": [
    "grouped_clusterd_df_0_it.to_csv(f\"datasets/it/all_mean_dataset.csv\")"
   ]
  },
  {
   "cell_type": "markdown",
   "id": "14f4a72c",
   "metadata": {},
   "source": [
    "### Sp"
   ]
  },
  {
   "cell_type": "code",
   "execution_count": 32,
   "id": "de048a5d",
   "metadata": {},
   "outputs": [
    {
     "name": "stdout",
     "output_type": "stream",
     "text": [
      "Number of sentence after group : 98\n"
     ]
    }
   ],
   "source": [
    "grouped_clusterd_df_0_sp = group_by_users(df[df.lang==\"sp\"])"
   ]
  },
  {
   "cell_type": "code",
   "execution_count": 33,
   "id": "f19459bb",
   "metadata": {},
   "outputs": [
    {
     "data": {
      "text/plain": [
       "(2411, 14)"
      ]
     },
     "execution_count": 33,
     "metadata": {},
     "output_type": "execute_result"
    }
   ],
   "source": [
    "grouped_clusterd_df_0_sp.shape"
   ]
  },
  {
   "cell_type": "code",
   "execution_count": 34,
   "id": "6584af77",
   "metadata": {},
   "outputs": [],
   "source": [
    "grouped_clusterd_df_0_sp.rename(columns={\"skip\" : \"prob_skip\", \"refix\" : \"prob_refix\", \"reread\" : \"prob_reread\"}, inplace=True)\n",
    "\n",
    "grouped_clusterd_df_0_sp.ianum = grouped_clusterd_df_0_sp.ianum.astype(int)\n",
    "grouped_clusterd_df_0_sp.trialid = grouped_clusterd_df_0_sp.trialid.astype(int)\n",
    "grouped_clusterd_df_0_sp.trial_sentnum = grouped_clusterd_df_0_sp.trial_sentnum.astype(int)"
   ]
  },
  {
   "cell_type": "code",
   "execution_count": 35,
   "id": "7833967e",
   "metadata": {},
   "outputs": [
    {
     "data": {
      "text/html": [
       "<div>\n",
       "<style scoped>\n",
       "    .dataframe tbody tr th:only-of-type {\n",
       "        vertical-align: middle;\n",
       "    }\n",
       "\n",
       "    .dataframe tbody tr th {\n",
       "        vertical-align: top;\n",
       "    }\n",
       "\n",
       "    .dataframe thead th {\n",
       "        text-align: right;\n",
       "    }\n",
       "</style>\n",
       "<table border=\"1\" class=\"dataframe\">\n",
       "  <thead>\n",
       "    <tr style=\"text-align: right;\">\n",
       "      <th></th>\n",
       "      <th>lang</th>\n",
       "      <th>ia</th>\n",
       "      <th>ianum</th>\n",
       "      <th>sentnum</th>\n",
       "      <th>trialid</th>\n",
       "      <th>prob_skip</th>\n",
       "      <th>firstfix.dur</th>\n",
       "      <th>firstrun.dur</th>\n",
       "      <th>dur</th>\n",
       "      <th>firstrun.nfix</th>\n",
       "      <th>nfix</th>\n",
       "      <th>prob_refix</th>\n",
       "      <th>prob_reread</th>\n",
       "      <th>trial_sentnum</th>\n",
       "    </tr>\n",
       "  </thead>\n",
       "  <tbody>\n",
       "    <tr>\n",
       "      <th>0</th>\n",
       "      <td>sp</td>\n",
       "      <td>En</td>\n",
       "      <td>1</td>\n",
       "      <td>0</td>\n",
       "      <td>1</td>\n",
       "      <td>0.342105</td>\n",
       "      <td>95.842105</td>\n",
       "      <td>98.842105</td>\n",
       "      <td>128.973684</td>\n",
       "      <td>0.684211</td>\n",
       "      <td>0.815789</td>\n",
       "      <td>0.026316</td>\n",
       "      <td>0.078947</td>\n",
       "      <td>1</td>\n",
       "    </tr>\n",
       "    <tr>\n",
       "      <th>1</th>\n",
       "      <td>sp</td>\n",
       "      <td>las</td>\n",
       "      <td>2</td>\n",
       "      <td>0</td>\n",
       "      <td>1</td>\n",
       "      <td>0.105263</td>\n",
       "      <td>183.631579</td>\n",
       "      <td>204.894737</td>\n",
       "      <td>359.026316</td>\n",
       "      <td>1.000000</td>\n",
       "      <td>1.947368</td>\n",
       "      <td>0.236842</td>\n",
       "      <td>0.342105</td>\n",
       "      <td>1</td>\n",
       "    </tr>\n",
       "    <tr>\n",
       "      <th>2</th>\n",
       "      <td>sp</td>\n",
       "      <td>antiguas</td>\n",
       "      <td>3</td>\n",
       "      <td>0</td>\n",
       "      <td>1</td>\n",
       "      <td>0.026316</td>\n",
       "      <td>173.894737</td>\n",
       "      <td>217.368421</td>\n",
       "      <td>1115.315789</td>\n",
       "      <td>1.236842</td>\n",
       "      <td>5.500000</td>\n",
       "      <td>0.526316</td>\n",
       "      <td>0.868421</td>\n",
       "      <td>1</td>\n",
       "    </tr>\n",
       "    <tr>\n",
       "      <th>3</th>\n",
       "      <td>sp</td>\n",
       "      <td>mitología</td>\n",
       "      <td>4</td>\n",
       "      <td>0</td>\n",
       "      <td>1</td>\n",
       "      <td>0.026316</td>\n",
       "      <td>200.236842</td>\n",
       "      <td>312.315789</td>\n",
       "      <td>1074.921053</td>\n",
       "      <td>1.526316</td>\n",
       "      <td>5.052632</td>\n",
       "      <td>0.684211</td>\n",
       "      <td>0.868421</td>\n",
       "      <td>1</td>\n",
       "    </tr>\n",
       "    <tr>\n",
       "      <th>4</th>\n",
       "      <td>sp</td>\n",
       "      <td>y</td>\n",
       "      <td>5</td>\n",
       "      <td>0</td>\n",
       "      <td>1</td>\n",
       "      <td>0.578947</td>\n",
       "      <td>84.263158</td>\n",
       "      <td>84.263158</td>\n",
       "      <td>98.473684</td>\n",
       "      <td>0.421053</td>\n",
       "      <td>0.526316</td>\n",
       "      <td>0.000000</td>\n",
       "      <td>0.052632</td>\n",
       "      <td>1</td>\n",
       "    </tr>\n",
       "  </tbody>\n",
       "</table>\n",
       "</div>"
      ],
      "text/plain": [
       "  lang         ia  ianum  sentnum  trialid  prob_skip  firstfix.dur  \\\n",
       "0   sp         En      1        0        1   0.342105     95.842105   \n",
       "1   sp        las      2        0        1   0.105263    183.631579   \n",
       "2   sp   antiguas      3        0        1   0.026316    173.894737   \n",
       "3   sp  mitología      4        0        1   0.026316    200.236842   \n",
       "4   sp          y      5        0        1   0.578947     84.263158   \n",
       "\n",
       "   firstrun.dur          dur  firstrun.nfix      nfix  prob_refix  \\\n",
       "0     98.842105   128.973684       0.684211  0.815789    0.026316   \n",
       "1    204.894737   359.026316       1.000000  1.947368    0.236842   \n",
       "2    217.368421  1115.315789       1.236842  5.500000    0.526316   \n",
       "3    312.315789  1074.921053       1.526316  5.052632    0.684211   \n",
       "4     84.263158    98.473684       0.421053  0.526316    0.000000   \n",
       "\n",
       "   prob_reread  trial_sentnum  \n",
       "0     0.078947              1  \n",
       "1     0.342105              1  \n",
       "2     0.868421              1  \n",
       "3     0.868421              1  \n",
       "4     0.052632              1  "
      ]
     },
     "execution_count": 35,
     "metadata": {},
     "output_type": "execute_result"
    }
   ],
   "source": [
    "grouped_clusterd_df_0_sp.head()"
   ]
  },
  {
   "cell_type": "code",
   "execution_count": 36,
   "id": "3e328ce9",
   "metadata": {},
   "outputs": [
    {
     "data": {
      "text/html": [
       "<div>\n",
       "<style scoped>\n",
       "    .dataframe tbody tr th:only-of-type {\n",
       "        vertical-align: middle;\n",
       "    }\n",
       "\n",
       "    .dataframe tbody tr th {\n",
       "        vertical-align: top;\n",
       "    }\n",
       "\n",
       "    .dataframe thead th {\n",
       "        text-align: right;\n",
       "    }\n",
       "</style>\n",
       "<table border=\"1\" class=\"dataframe\">\n",
       "  <thead>\n",
       "    <tr style=\"text-align: right;\">\n",
       "      <th></th>\n",
       "      <th>prob_skip</th>\n",
       "      <th>firstrun.dur</th>\n",
       "      <th>dur</th>\n",
       "      <th>firstrun.nfix</th>\n",
       "      <th>nfix</th>\n",
       "      <th>prob_refix</th>\n",
       "      <th>prob_reread</th>\n",
       "    </tr>\n",
       "  </thead>\n",
       "  <tbody>\n",
       "    <tr>\n",
       "      <th>prob_skip</th>\n",
       "      <td>1.000000</td>\n",
       "      <td>-0.895977</td>\n",
       "      <td>-0.849197</td>\n",
       "      <td>-0.924490</td>\n",
       "      <td>-0.865237</td>\n",
       "      <td>-0.747600</td>\n",
       "      <td>-0.830602</td>\n",
       "    </tr>\n",
       "    <tr>\n",
       "      <th>firstrun.dur</th>\n",
       "      <td>-0.895977</td>\n",
       "      <td>1.000000</td>\n",
       "      <td>0.933807</td>\n",
       "      <td>0.975858</td>\n",
       "      <td>0.915636</td>\n",
       "      <td>0.901402</td>\n",
       "      <td>0.810148</td>\n",
       "    </tr>\n",
       "    <tr>\n",
       "      <th>dur</th>\n",
       "      <td>-0.849197</td>\n",
       "      <td>0.933807</td>\n",
       "      <td>1.000000</td>\n",
       "      <td>0.923593</td>\n",
       "      <td>0.988405</td>\n",
       "      <td>0.900890</td>\n",
       "      <td>0.920476</td>\n",
       "    </tr>\n",
       "    <tr>\n",
       "      <th>firstrun.nfix</th>\n",
       "      <td>-0.924490</td>\n",
       "      <td>0.975858</td>\n",
       "      <td>0.923593</td>\n",
       "      <td>1.000000</td>\n",
       "      <td>0.934686</td>\n",
       "      <td>0.919019</td>\n",
       "      <td>0.823263</td>\n",
       "    </tr>\n",
       "    <tr>\n",
       "      <th>nfix</th>\n",
       "      <td>-0.865237</td>\n",
       "      <td>0.915636</td>\n",
       "      <td>0.988405</td>\n",
       "      <td>0.934686</td>\n",
       "      <td>1.000000</td>\n",
       "      <td>0.909850</td>\n",
       "      <td>0.930517</td>\n",
       "    </tr>\n",
       "    <tr>\n",
       "      <th>prob_refix</th>\n",
       "      <td>-0.747600</td>\n",
       "      <td>0.901402</td>\n",
       "      <td>0.900890</td>\n",
       "      <td>0.919019</td>\n",
       "      <td>0.909850</td>\n",
       "      <td>1.000000</td>\n",
       "      <td>0.771556</td>\n",
       "    </tr>\n",
       "    <tr>\n",
       "      <th>prob_reread</th>\n",
       "      <td>-0.830602</td>\n",
       "      <td>0.810148</td>\n",
       "      <td>0.920476</td>\n",
       "      <td>0.823263</td>\n",
       "      <td>0.930517</td>\n",
       "      <td>0.771556</td>\n",
       "      <td>1.000000</td>\n",
       "    </tr>\n",
       "  </tbody>\n",
       "</table>\n",
       "</div>"
      ],
      "text/plain": [
       "               prob_skip  firstrun.dur       dur  firstrun.nfix      nfix  \\\n",
       "prob_skip       1.000000     -0.895977 -0.849197      -0.924490 -0.865237   \n",
       "firstrun.dur   -0.895977      1.000000  0.933807       0.975858  0.915636   \n",
       "dur            -0.849197      0.933807  1.000000       0.923593  0.988405   \n",
       "firstrun.nfix  -0.924490      0.975858  0.923593       1.000000  0.934686   \n",
       "nfix           -0.865237      0.915636  0.988405       0.934686  1.000000   \n",
       "prob_refix     -0.747600      0.901402  0.900890       0.919019  0.909850   \n",
       "prob_reread    -0.830602      0.810148  0.920476       0.823263  0.930517   \n",
       "\n",
       "               prob_refix  prob_reread  \n",
       "prob_skip       -0.747600    -0.830602  \n",
       "firstrun.dur     0.901402     0.810148  \n",
       "dur              0.900890     0.920476  \n",
       "firstrun.nfix    0.919019     0.823263  \n",
       "nfix             0.909850     0.930517  \n",
       "prob_refix       1.000000     0.771556  \n",
       "prob_reread      0.771556     1.000000  "
      ]
     },
     "execution_count": 36,
     "metadata": {},
     "output_type": "execute_result"
    }
   ],
   "source": [
    "grouped_clusterd_df_0_sp[[\"prob_skip\", \"firstrun.dur\", \"dur\", \"firstrun.nfix\", \"nfix\", \"prob_refix\", \"prob_reread\"]].corr()"
   ]
  },
  {
   "cell_type": "code",
   "execution_count": 37,
   "id": "2a48a580",
   "metadata": {},
   "outputs": [],
   "source": [
    "grouped_clusterd_df_0_sp.to_csv(f\"datasets/sp/all_mean_dataset.csv\")"
   ]
  },
  {
   "cell_type": "markdown",
   "id": "6e981df8",
   "metadata": {},
   "source": [
    "### En"
   ]
  },
  {
   "cell_type": "code",
   "execution_count": 38,
   "id": "1d8ff28f",
   "metadata": {},
   "outputs": [
    {
     "name": "stdout",
     "output_type": "stream",
     "text": [
      "Number of sentence after group : 101\n"
     ]
    }
   ],
   "source": [
    "grouped_clusterd_df_0_en = group_by_users(df[df.lang==\"en\"])"
   ]
  },
  {
   "cell_type": "code",
   "execution_count": 39,
   "id": "f6d2b833",
   "metadata": {},
   "outputs": [
    {
     "data": {
      "text/plain": [
       "(2341, 14)"
      ]
     },
     "execution_count": 39,
     "metadata": {},
     "output_type": "execute_result"
    }
   ],
   "source": [
    "grouped_clusterd_df_0_en.shape"
   ]
  },
  {
   "cell_type": "code",
   "execution_count": 40,
   "id": "d7f93ff4",
   "metadata": {},
   "outputs": [],
   "source": [
    "grouped_clusterd_df_0_en.rename(columns={\"skip\" : \"prob_skip\", \"refix\" : \"prob_refix\", \"reread\" : \"prob_reread\"}, inplace=True)\n",
    "\n",
    "grouped_clusterd_df_0_en.ianum = grouped_clusterd_df_0_en.ianum.astype(int)\n",
    "grouped_clusterd_df_0_en.trialid = grouped_clusterd_df_0_en.trialid.astype(int)\n",
    "grouped_clusterd_df_0_en.trial_sentnum = grouped_clusterd_df_0_en.trial_sentnum.astype(int)"
   ]
  },
  {
   "cell_type": "code",
   "execution_count": 41,
   "id": "e4833adc",
   "metadata": {},
   "outputs": [
    {
     "data": {
      "text/html": [
       "<div>\n",
       "<style scoped>\n",
       "    .dataframe tbody tr th:only-of-type {\n",
       "        vertical-align: middle;\n",
       "    }\n",
       "\n",
       "    .dataframe tbody tr th {\n",
       "        vertical-align: top;\n",
       "    }\n",
       "\n",
       "    .dataframe thead th {\n",
       "        text-align: right;\n",
       "    }\n",
       "</style>\n",
       "<table border=\"1\" class=\"dataframe\">\n",
       "  <thead>\n",
       "    <tr style=\"text-align: right;\">\n",
       "      <th></th>\n",
       "      <th>lang</th>\n",
       "      <th>ia</th>\n",
       "      <th>ianum</th>\n",
       "      <th>sentnum</th>\n",
       "      <th>trialid</th>\n",
       "      <th>prob_skip</th>\n",
       "      <th>firstfix.dur</th>\n",
       "      <th>firstrun.dur</th>\n",
       "      <th>dur</th>\n",
       "      <th>firstrun.nfix</th>\n",
       "      <th>nfix</th>\n",
       "      <th>prob_refix</th>\n",
       "      <th>prob_reread</th>\n",
       "      <th>trial_sentnum</th>\n",
       "    </tr>\n",
       "  </thead>\n",
       "  <tbody>\n",
       "    <tr>\n",
       "      <th>0</th>\n",
       "      <td>en</td>\n",
       "      <td>In</td>\n",
       "      <td>1</td>\n",
       "      <td>0</td>\n",
       "      <td>1</td>\n",
       "      <td>0.605263</td>\n",
       "      <td>45.236842</td>\n",
       "      <td>52.631579</td>\n",
       "      <td>76.789474</td>\n",
       "      <td>0.421053</td>\n",
       "      <td>0.526316</td>\n",
       "      <td>0.026316</td>\n",
       "      <td>0.078947</td>\n",
       "      <td>1</td>\n",
       "    </tr>\n",
       "    <tr>\n",
       "      <th>1</th>\n",
       "      <td>en</td>\n",
       "      <td>ancient</td>\n",
       "      <td>2</td>\n",
       "      <td>0</td>\n",
       "      <td>1</td>\n",
       "      <td>0.026316</td>\n",
       "      <td>204.263158</td>\n",
       "      <td>322.394737</td>\n",
       "      <td>615.368421</td>\n",
       "      <td>1.578947</td>\n",
       "      <td>2.894737</td>\n",
       "      <td>0.578947</td>\n",
       "      <td>0.631579</td>\n",
       "      <td>1</td>\n",
       "    </tr>\n",
       "    <tr>\n",
       "      <th>2</th>\n",
       "      <td>en</td>\n",
       "      <td>Roman</td>\n",
       "      <td>3</td>\n",
       "      <td>0</td>\n",
       "      <td>1</td>\n",
       "      <td>0.052632</td>\n",
       "      <td>196.131579</td>\n",
       "      <td>258.131579</td>\n",
       "      <td>516.605263</td>\n",
       "      <td>1.236842</td>\n",
       "      <td>2.526316</td>\n",
       "      <td>0.236842</td>\n",
       "      <td>0.657895</td>\n",
       "      <td>1</td>\n",
       "    </tr>\n",
       "    <tr>\n",
       "      <th>3</th>\n",
       "      <td>en</td>\n",
       "      <td>religion</td>\n",
       "      <td>4</td>\n",
       "      <td>0</td>\n",
       "      <td>1</td>\n",
       "      <td>0.000000</td>\n",
       "      <td>225.973684</td>\n",
       "      <td>298.078947</td>\n",
       "      <td>683.684211</td>\n",
       "      <td>1.342105</td>\n",
       "      <td>3.052632</td>\n",
       "      <td>0.473684</td>\n",
       "      <td>0.631579</td>\n",
       "      <td>1</td>\n",
       "    </tr>\n",
       "    <tr>\n",
       "      <th>4</th>\n",
       "      <td>en</td>\n",
       "      <td>and</td>\n",
       "      <td>5</td>\n",
       "      <td>0</td>\n",
       "      <td>1</td>\n",
       "      <td>0.473684</td>\n",
       "      <td>122.105263</td>\n",
       "      <td>129.868421</td>\n",
       "      <td>172.552632</td>\n",
       "      <td>0.578947</td>\n",
       "      <td>0.789474</td>\n",
       "      <td>0.052632</td>\n",
       "      <td>0.157895</td>\n",
       "      <td>1</td>\n",
       "    </tr>\n",
       "  </tbody>\n",
       "</table>\n",
       "</div>"
      ],
      "text/plain": [
       "  lang        ia  ianum  sentnum  trialid  prob_skip  firstfix.dur  \\\n",
       "0   en        In      1        0        1   0.605263     45.236842   \n",
       "1   en   ancient      2        0        1   0.026316    204.263158   \n",
       "2   en     Roman      3        0        1   0.052632    196.131579   \n",
       "3   en  religion      4        0        1   0.000000    225.973684   \n",
       "4   en       and      5        0        1   0.473684    122.105263   \n",
       "\n",
       "   firstrun.dur         dur  firstrun.nfix      nfix  prob_refix  prob_reread  \\\n",
       "0     52.631579   76.789474       0.421053  0.526316    0.026316     0.078947   \n",
       "1    322.394737  615.368421       1.578947  2.894737    0.578947     0.631579   \n",
       "2    258.131579  516.605263       1.236842  2.526316    0.236842     0.657895   \n",
       "3    298.078947  683.684211       1.342105  3.052632    0.473684     0.631579   \n",
       "4    129.868421  172.552632       0.578947  0.789474    0.052632     0.157895   \n",
       "\n",
       "   trial_sentnum  \n",
       "0              1  \n",
       "1              1  \n",
       "2              1  \n",
       "3              1  \n",
       "4              1  "
      ]
     },
     "execution_count": 41,
     "metadata": {},
     "output_type": "execute_result"
    }
   ],
   "source": [
    "grouped_clusterd_df_0_en.head()"
   ]
  },
  {
   "cell_type": "code",
   "execution_count": 42,
   "id": "6b07e9cb",
   "metadata": {},
   "outputs": [
    {
     "data": {
      "text/html": [
       "<div>\n",
       "<style scoped>\n",
       "    .dataframe tbody tr th:only-of-type {\n",
       "        vertical-align: middle;\n",
       "    }\n",
       "\n",
       "    .dataframe tbody tr th {\n",
       "        vertical-align: top;\n",
       "    }\n",
       "\n",
       "    .dataframe thead th {\n",
       "        text-align: right;\n",
       "    }\n",
       "</style>\n",
       "<table border=\"1\" class=\"dataframe\">\n",
       "  <thead>\n",
       "    <tr style=\"text-align: right;\">\n",
       "      <th></th>\n",
       "      <th>prob_skip</th>\n",
       "      <th>firstrun.dur</th>\n",
       "      <th>dur</th>\n",
       "      <th>firstrun.nfix</th>\n",
       "      <th>nfix</th>\n",
       "      <th>prob_refix</th>\n",
       "      <th>prob_reread</th>\n",
       "    </tr>\n",
       "  </thead>\n",
       "  <tbody>\n",
       "    <tr>\n",
       "      <th>prob_skip</th>\n",
       "      <td>1.000000</td>\n",
       "      <td>-0.886101</td>\n",
       "      <td>-0.834667</td>\n",
       "      <td>-0.917881</td>\n",
       "      <td>-0.854665</td>\n",
       "      <td>-0.697272</td>\n",
       "      <td>-0.731179</td>\n",
       "    </tr>\n",
       "    <tr>\n",
       "      <th>firstrun.dur</th>\n",
       "      <td>-0.886101</td>\n",
       "      <td>1.000000</td>\n",
       "      <td>0.943597</td>\n",
       "      <td>0.972223</td>\n",
       "      <td>0.919394</td>\n",
       "      <td>0.876522</td>\n",
       "      <td>0.714521</td>\n",
       "    </tr>\n",
       "    <tr>\n",
       "      <th>dur</th>\n",
       "      <td>-0.834667</td>\n",
       "      <td>0.943597</td>\n",
       "      <td>1.000000</td>\n",
       "      <td>0.929932</td>\n",
       "      <td>0.984975</td>\n",
       "      <td>0.872994</td>\n",
       "      <td>0.862943</td>\n",
       "    </tr>\n",
       "    <tr>\n",
       "      <th>firstrun.nfix</th>\n",
       "      <td>-0.917881</td>\n",
       "      <td>0.972223</td>\n",
       "      <td>0.929932</td>\n",
       "      <td>1.000000</td>\n",
       "      <td>0.942584</td>\n",
       "      <td>0.893298</td>\n",
       "      <td>0.738435</td>\n",
       "    </tr>\n",
       "    <tr>\n",
       "      <th>nfix</th>\n",
       "      <td>-0.854665</td>\n",
       "      <td>0.919394</td>\n",
       "      <td>0.984975</td>\n",
       "      <td>0.942584</td>\n",
       "      <td>1.000000</td>\n",
       "      <td>0.879945</td>\n",
       "      <td>0.886804</td>\n",
       "    </tr>\n",
       "    <tr>\n",
       "      <th>prob_refix</th>\n",
       "      <td>-0.697272</td>\n",
       "      <td>0.876522</td>\n",
       "      <td>0.872994</td>\n",
       "      <td>0.893298</td>\n",
       "      <td>0.879945</td>\n",
       "      <td>1.000000</td>\n",
       "      <td>0.672622</td>\n",
       "    </tr>\n",
       "    <tr>\n",
       "      <th>prob_reread</th>\n",
       "      <td>-0.731179</td>\n",
       "      <td>0.714521</td>\n",
       "      <td>0.862943</td>\n",
       "      <td>0.738435</td>\n",
       "      <td>0.886804</td>\n",
       "      <td>0.672622</td>\n",
       "      <td>1.000000</td>\n",
       "    </tr>\n",
       "  </tbody>\n",
       "</table>\n",
       "</div>"
      ],
      "text/plain": [
       "               prob_skip  firstrun.dur       dur  firstrun.nfix      nfix  \\\n",
       "prob_skip       1.000000     -0.886101 -0.834667      -0.917881 -0.854665   \n",
       "firstrun.dur   -0.886101      1.000000  0.943597       0.972223  0.919394   \n",
       "dur            -0.834667      0.943597  1.000000       0.929932  0.984975   \n",
       "firstrun.nfix  -0.917881      0.972223  0.929932       1.000000  0.942584   \n",
       "nfix           -0.854665      0.919394  0.984975       0.942584  1.000000   \n",
       "prob_refix     -0.697272      0.876522  0.872994       0.893298  0.879945   \n",
       "prob_reread    -0.731179      0.714521  0.862943       0.738435  0.886804   \n",
       "\n",
       "               prob_refix  prob_reread  \n",
       "prob_skip       -0.697272    -0.731179  \n",
       "firstrun.dur     0.876522     0.714521  \n",
       "dur              0.872994     0.862943  \n",
       "firstrun.nfix    0.893298     0.738435  \n",
       "nfix             0.879945     0.886804  \n",
       "prob_refix       1.000000     0.672622  \n",
       "prob_reread      0.672622     1.000000  "
      ]
     },
     "execution_count": 42,
     "metadata": {},
     "output_type": "execute_result"
    }
   ],
   "source": [
    "grouped_clusterd_df_0_en[[\"prob_skip\", \"firstrun.dur\", \"dur\", \"firstrun.nfix\", \"nfix\", \"prob_refix\", \"prob_reread\"]].corr()"
   ]
  },
  {
   "cell_type": "code",
   "execution_count": 43,
   "id": "e0128e11",
   "metadata": {},
   "outputs": [],
   "source": [
    "grouped_clusterd_df_0_en.to_csv(f\"datasets/en/all_mean_dataset.csv\")"
   ]
  },
  {
   "cell_type": "markdown",
   "id": "2abcbd6f",
   "metadata": {},
   "source": [
    "### Ge"
   ]
  },
  {
   "cell_type": "code",
   "execution_count": 44,
   "id": "bd0a0544",
   "metadata": {},
   "outputs": [
    {
     "name": "stdout",
     "output_type": "stream",
     "text": [
      "Number of sentence after group : 115\n"
     ]
    }
   ],
   "source": [
    "grouped_clusterd_df_0_ge = group_by_users(df[df.lang==\"ge\"])"
   ]
  },
  {
   "cell_type": "code",
   "execution_count": 45,
   "id": "c9f55f26",
   "metadata": {},
   "outputs": [
    {
     "data": {
      "text/plain": [
       "(2027, 14)"
      ]
     },
     "execution_count": 45,
     "metadata": {},
     "output_type": "execute_result"
    }
   ],
   "source": [
    "grouped_clusterd_df_0_ge.shape"
   ]
  },
  {
   "cell_type": "code",
   "execution_count": 46,
   "id": "b57a603f",
   "metadata": {},
   "outputs": [],
   "source": [
    "grouped_clusterd_df_0_ge.rename(columns={\"skip\" : \"prob_skip\", \"refix\" : \"prob_refix\", \"reread\" : \"prob_reread\"}, inplace=True)\n",
    "\n",
    "grouped_clusterd_df_0_ge.ianum = grouped_clusterd_df_0_ge.ianum.astype(int)\n",
    "grouped_clusterd_df_0_ge.trialid = grouped_clusterd_df_0_ge.trialid.astype(int)\n",
    "grouped_clusterd_df_0_ge.trial_sentnum = grouped_clusterd_df_0_ge.trial_sentnum.astype(int)"
   ]
  },
  {
   "cell_type": "code",
   "execution_count": 47,
   "id": "ac379a9a",
   "metadata": {},
   "outputs": [
    {
     "data": {
      "text/html": [
       "<div>\n",
       "<style scoped>\n",
       "    .dataframe tbody tr th:only-of-type {\n",
       "        vertical-align: middle;\n",
       "    }\n",
       "\n",
       "    .dataframe tbody tr th {\n",
       "        vertical-align: top;\n",
       "    }\n",
       "\n",
       "    .dataframe thead th {\n",
       "        text-align: right;\n",
       "    }\n",
       "</style>\n",
       "<table border=\"1\" class=\"dataframe\">\n",
       "  <thead>\n",
       "    <tr style=\"text-align: right;\">\n",
       "      <th></th>\n",
       "      <th>lang</th>\n",
       "      <th>ia</th>\n",
       "      <th>ianum</th>\n",
       "      <th>sentnum</th>\n",
       "      <th>trialid</th>\n",
       "      <th>prob_skip</th>\n",
       "      <th>firstfix.dur</th>\n",
       "      <th>firstrun.dur</th>\n",
       "      <th>dur</th>\n",
       "      <th>firstrun.nfix</th>\n",
       "      <th>nfix</th>\n",
       "      <th>prob_refix</th>\n",
       "      <th>prob_reread</th>\n",
       "      <th>trial_sentnum</th>\n",
       "    </tr>\n",
       "  </thead>\n",
       "  <tbody>\n",
       "    <tr>\n",
       "      <th>0</th>\n",
       "      <td>ge</td>\n",
       "      <td>In</td>\n",
       "      <td>1</td>\n",
       "      <td>0</td>\n",
       "      <td>1</td>\n",
       "      <td>0.342857</td>\n",
       "      <td>97.971429</td>\n",
       "      <td>97.971429</td>\n",
       "      <td>115.000000</td>\n",
       "      <td>0.657143</td>\n",
       "      <td>0.742857</td>\n",
       "      <td>0.000000</td>\n",
       "      <td>0.057143</td>\n",
       "      <td>1</td>\n",
       "    </tr>\n",
       "    <tr>\n",
       "      <th>1</th>\n",
       "      <td>ge</td>\n",
       "      <td>der</td>\n",
       "      <td>2</td>\n",
       "      <td>0</td>\n",
       "      <td>1</td>\n",
       "      <td>0.028571</td>\n",
       "      <td>180.771429</td>\n",
       "      <td>237.885714</td>\n",
       "      <td>379.428571</td>\n",
       "      <td>1.200000</td>\n",
       "      <td>1.771429</td>\n",
       "      <td>0.142857</td>\n",
       "      <td>0.371429</td>\n",
       "      <td>1</td>\n",
       "    </tr>\n",
       "    <tr>\n",
       "      <th>2</th>\n",
       "      <td>ge</td>\n",
       "      <td>alten</td>\n",
       "      <td>3</td>\n",
       "      <td>0</td>\n",
       "      <td>1</td>\n",
       "      <td>0.114286</td>\n",
       "      <td>157.685714</td>\n",
       "      <td>243.828571</td>\n",
       "      <td>507.685714</td>\n",
       "      <td>1.285714</td>\n",
       "      <td>2.685714</td>\n",
       "      <td>0.257143</td>\n",
       "      <td>0.657143</td>\n",
       "      <td>1</td>\n",
       "    </tr>\n",
       "    <tr>\n",
       "      <th>3</th>\n",
       "      <td>ge</td>\n",
       "      <td>römischen</td>\n",
       "      <td>4</td>\n",
       "      <td>0</td>\n",
       "      <td>1</td>\n",
       "      <td>0.000000</td>\n",
       "      <td>179.057143</td>\n",
       "      <td>247.685714</td>\n",
       "      <td>644.514286</td>\n",
       "      <td>1.371429</td>\n",
       "      <td>3.371429</td>\n",
       "      <td>0.342857</td>\n",
       "      <td>0.657143</td>\n",
       "      <td>1</td>\n",
       "    </tr>\n",
       "    <tr>\n",
       "      <th>4</th>\n",
       "      <td>ge</td>\n",
       "      <td>Religion</td>\n",
       "      <td>5</td>\n",
       "      <td>0</td>\n",
       "      <td>1</td>\n",
       "      <td>0.028571</td>\n",
       "      <td>245.571429</td>\n",
       "      <td>352.828571</td>\n",
       "      <td>711.114286</td>\n",
       "      <td>1.485714</td>\n",
       "      <td>3.285714</td>\n",
       "      <td>0.542857</td>\n",
       "      <td>0.600000</td>\n",
       "      <td>1</td>\n",
       "    </tr>\n",
       "  </tbody>\n",
       "</table>\n",
       "</div>"
      ],
      "text/plain": [
       "  lang         ia  ianum  sentnum  trialid  prob_skip  firstfix.dur  \\\n",
       "0   ge         In      1        0        1   0.342857     97.971429   \n",
       "1   ge        der      2        0        1   0.028571    180.771429   \n",
       "2   ge      alten      3        0        1   0.114286    157.685714   \n",
       "3   ge  römischen      4        0        1   0.000000    179.057143   \n",
       "4   ge   Religion      5        0        1   0.028571    245.571429   \n",
       "\n",
       "   firstrun.dur         dur  firstrun.nfix      nfix  prob_refix  prob_reread  \\\n",
       "0     97.971429  115.000000       0.657143  0.742857    0.000000     0.057143   \n",
       "1    237.885714  379.428571       1.200000  1.771429    0.142857     0.371429   \n",
       "2    243.828571  507.685714       1.285714  2.685714    0.257143     0.657143   \n",
       "3    247.685714  644.514286       1.371429  3.371429    0.342857     0.657143   \n",
       "4    352.828571  711.114286       1.485714  3.285714    0.542857     0.600000   \n",
       "\n",
       "   trial_sentnum  \n",
       "0              1  \n",
       "1              1  \n",
       "2              1  \n",
       "3              1  \n",
       "4              1  "
      ]
     },
     "execution_count": 47,
     "metadata": {},
     "output_type": "execute_result"
    }
   ],
   "source": [
    "grouped_clusterd_df_0_ge.head()"
   ]
  },
  {
   "cell_type": "code",
   "execution_count": 48,
   "id": "98f0137b",
   "metadata": {},
   "outputs": [
    {
     "data": {
      "text/html": [
       "<div>\n",
       "<style scoped>\n",
       "    .dataframe tbody tr th:only-of-type {\n",
       "        vertical-align: middle;\n",
       "    }\n",
       "\n",
       "    .dataframe tbody tr th {\n",
       "        vertical-align: top;\n",
       "    }\n",
       "\n",
       "    .dataframe thead th {\n",
       "        text-align: right;\n",
       "    }\n",
       "</style>\n",
       "<table border=\"1\" class=\"dataframe\">\n",
       "  <thead>\n",
       "    <tr style=\"text-align: right;\">\n",
       "      <th></th>\n",
       "      <th>prob_skip</th>\n",
       "      <th>firstrun.dur</th>\n",
       "      <th>dur</th>\n",
       "      <th>firstrun.nfix</th>\n",
       "      <th>nfix</th>\n",
       "      <th>prob_refix</th>\n",
       "      <th>prob_reread</th>\n",
       "    </tr>\n",
       "  </thead>\n",
       "  <tbody>\n",
       "    <tr>\n",
       "      <th>prob_skip</th>\n",
       "      <td>1.000000</td>\n",
       "      <td>-0.741265</td>\n",
       "      <td>-0.724582</td>\n",
       "      <td>-0.765719</td>\n",
       "      <td>-0.742484</td>\n",
       "      <td>-0.651901</td>\n",
       "      <td>-0.684197</td>\n",
       "    </tr>\n",
       "    <tr>\n",
       "      <th>firstrun.dur</th>\n",
       "      <td>-0.741265</td>\n",
       "      <td>1.000000</td>\n",
       "      <td>0.933611</td>\n",
       "      <td>0.974838</td>\n",
       "      <td>0.909367</td>\n",
       "      <td>0.892089</td>\n",
       "      <td>0.589987</td>\n",
       "    </tr>\n",
       "    <tr>\n",
       "      <th>dur</th>\n",
       "      <td>-0.724582</td>\n",
       "      <td>0.933611</td>\n",
       "      <td>1.000000</td>\n",
       "      <td>0.921008</td>\n",
       "      <td>0.986380</td>\n",
       "      <td>0.886215</td>\n",
       "      <td>0.781924</td>\n",
       "    </tr>\n",
       "    <tr>\n",
       "      <th>firstrun.nfix</th>\n",
       "      <td>-0.765719</td>\n",
       "      <td>0.974838</td>\n",
       "      <td>0.921008</td>\n",
       "      <td>1.000000</td>\n",
       "      <td>0.930905</td>\n",
       "      <td>0.917905</td>\n",
       "      <td>0.601842</td>\n",
       "    </tr>\n",
       "    <tr>\n",
       "      <th>nfix</th>\n",
       "      <td>-0.742484</td>\n",
       "      <td>0.909367</td>\n",
       "      <td>0.986380</td>\n",
       "      <td>0.930905</td>\n",
       "      <td>1.000000</td>\n",
       "      <td>0.899426</td>\n",
       "      <td>0.800097</td>\n",
       "    </tr>\n",
       "    <tr>\n",
       "      <th>prob_refix</th>\n",
       "      <td>-0.651901</td>\n",
       "      <td>0.892089</td>\n",
       "      <td>0.886215</td>\n",
       "      <td>0.917905</td>\n",
       "      <td>0.899426</td>\n",
       "      <td>1.000000</td>\n",
       "      <td>0.615658</td>\n",
       "    </tr>\n",
       "    <tr>\n",
       "      <th>prob_reread</th>\n",
       "      <td>-0.684197</td>\n",
       "      <td>0.589987</td>\n",
       "      <td>0.781924</td>\n",
       "      <td>0.601842</td>\n",
       "      <td>0.800097</td>\n",
       "      <td>0.615658</td>\n",
       "      <td>1.000000</td>\n",
       "    </tr>\n",
       "  </tbody>\n",
       "</table>\n",
       "</div>"
      ],
      "text/plain": [
       "               prob_skip  firstrun.dur       dur  firstrun.nfix      nfix  \\\n",
       "prob_skip       1.000000     -0.741265 -0.724582      -0.765719 -0.742484   \n",
       "firstrun.dur   -0.741265      1.000000  0.933611       0.974838  0.909367   \n",
       "dur            -0.724582      0.933611  1.000000       0.921008  0.986380   \n",
       "firstrun.nfix  -0.765719      0.974838  0.921008       1.000000  0.930905   \n",
       "nfix           -0.742484      0.909367  0.986380       0.930905  1.000000   \n",
       "prob_refix     -0.651901      0.892089  0.886215       0.917905  0.899426   \n",
       "prob_reread    -0.684197      0.589987  0.781924       0.601842  0.800097   \n",
       "\n",
       "               prob_refix  prob_reread  \n",
       "prob_skip       -0.651901    -0.684197  \n",
       "firstrun.dur     0.892089     0.589987  \n",
       "dur              0.886215     0.781924  \n",
       "firstrun.nfix    0.917905     0.601842  \n",
       "nfix             0.899426     0.800097  \n",
       "prob_refix       1.000000     0.615658  \n",
       "prob_reread      0.615658     1.000000  "
      ]
     },
     "execution_count": 48,
     "metadata": {},
     "output_type": "execute_result"
    }
   ],
   "source": [
    "grouped_clusterd_df_0_ge[[\"prob_skip\", \"firstrun.dur\", \"dur\", \"firstrun.nfix\", \"nfix\", \"prob_refix\", \"prob_reread\"]].corr()"
   ]
  },
  {
   "cell_type": "code",
   "execution_count": 49,
   "id": "f922705f",
   "metadata": {},
   "outputs": [],
   "source": [
    "grouped_clusterd_df_0_ge.to_csv(f\"datasets/ge/all_mean_dataset.csv\")"
   ]
  },
  {
   "cell_type": "markdown",
   "id": "dece431b",
   "metadata": {},
   "source": [
    "### Ru"
   ]
  },
  {
   "cell_type": "code",
   "execution_count": 50,
   "id": "ec2518a7",
   "metadata": {},
   "outputs": [
    {
     "name": "stdout",
     "output_type": "stream",
     "text": [
      "Number of sentence after group : 107\n"
     ]
    }
   ],
   "source": [
    "grouped_clusterd_df_0_ru = group_by_users(df[df.lang==\"ru\"])"
   ]
  },
  {
   "cell_type": "code",
   "execution_count": 51,
   "id": "559b90af",
   "metadata": {},
   "outputs": [
    {
     "data": {
      "text/plain": [
       "(3016, 14)"
      ]
     },
     "execution_count": 51,
     "metadata": {},
     "output_type": "execute_result"
    }
   ],
   "source": [
    "grouped_clusterd_df_0_ru.shape"
   ]
  },
  {
   "cell_type": "code",
   "execution_count": 52,
   "id": "b526361f",
   "metadata": {},
   "outputs": [],
   "source": [
    "grouped_clusterd_df_0_ru.rename(columns={\"skip\" : \"prob_skip\", \"refix\" : \"prob_refix\", \"reread\" : \"prob_reread\"}, inplace=True)\n",
    "\n",
    "grouped_clusterd_df_0_ru.ianum = grouped_clusterd_df_0_ru.ianum.astype(int)\n",
    "grouped_clusterd_df_0_ru.trialid = grouped_clusterd_df_0_ru.trialid.astype(int)\n",
    "grouped_clusterd_df_0_ru.trial_sentnum = grouped_clusterd_df_0_ru.trial_sentnum.astype(int)"
   ]
  },
  {
   "cell_type": "code",
   "execution_count": 53,
   "id": "aae9e833",
   "metadata": {},
   "outputs": [
    {
     "data": {
      "text/html": [
       "<div>\n",
       "<style scoped>\n",
       "    .dataframe tbody tr th:only-of-type {\n",
       "        vertical-align: middle;\n",
       "    }\n",
       "\n",
       "    .dataframe tbody tr th {\n",
       "        vertical-align: top;\n",
       "    }\n",
       "\n",
       "    .dataframe thead th {\n",
       "        text-align: right;\n",
       "    }\n",
       "</style>\n",
       "<table border=\"1\" class=\"dataframe\">\n",
       "  <thead>\n",
       "    <tr style=\"text-align: right;\">\n",
       "      <th></th>\n",
       "      <th>lang</th>\n",
       "      <th>ia</th>\n",
       "      <th>ianum</th>\n",
       "      <th>sentnum</th>\n",
       "      <th>trialid</th>\n",
       "      <th>prob_skip</th>\n",
       "      <th>firstfix.dur</th>\n",
       "      <th>firstrun.dur</th>\n",
       "      <th>dur</th>\n",
       "      <th>firstrun.nfix</th>\n",
       "      <th>nfix</th>\n",
       "      <th>prob_refix</th>\n",
       "      <th>prob_reread</th>\n",
       "      <th>trial_sentnum</th>\n",
       "    </tr>\n",
       "  </thead>\n",
       "  <tbody>\n",
       "    <tr>\n",
       "      <th>0</th>\n",
       "      <td>ru</td>\n",
       "      <td>Янус</td>\n",
       "      <td>1</td>\n",
       "      <td>0</td>\n",
       "      <td>1</td>\n",
       "      <td>0.029412</td>\n",
       "      <td>167.411765</td>\n",
       "      <td>281.823529</td>\n",
       "      <td>479.411765</td>\n",
       "      <td>1.352941</td>\n",
       "      <td>1.970588</td>\n",
       "      <td>0.294118</td>\n",
       "      <td>0.323529</td>\n",
       "      <td>1</td>\n",
       "    </tr>\n",
       "    <tr>\n",
       "      <th>1</th>\n",
       "      <td>ru</td>\n",
       "      <td>—</td>\n",
       "      <td>2</td>\n",
       "      <td>0</td>\n",
       "      <td>1</td>\n",
       "      <td>0.382353</td>\n",
       "      <td>133.911765</td>\n",
       "      <td>138.147059</td>\n",
       "      <td>189.235294</td>\n",
       "      <td>0.647059</td>\n",
       "      <td>0.882353</td>\n",
       "      <td>0.029412</td>\n",
       "      <td>0.176471</td>\n",
       "      <td>1</td>\n",
       "    </tr>\n",
       "    <tr>\n",
       "      <th>2</th>\n",
       "      <td>ru</td>\n",
       "      <td>бог</td>\n",
       "      <td>3</td>\n",
       "      <td>0</td>\n",
       "      <td>1</td>\n",
       "      <td>0.176471</td>\n",
       "      <td>153.117647</td>\n",
       "      <td>163.794118</td>\n",
       "      <td>313.970588</td>\n",
       "      <td>0.911765</td>\n",
       "      <td>1.500000</td>\n",
       "      <td>0.088235</td>\n",
       "      <td>0.323529</td>\n",
       "      <td>1</td>\n",
       "    </tr>\n",
       "    <tr>\n",
       "      <th>3</th>\n",
       "      <td>ru</td>\n",
       "      <td>всех</td>\n",
       "      <td>4</td>\n",
       "      <td>0</td>\n",
       "      <td>1</td>\n",
       "      <td>0.088235</td>\n",
       "      <td>177.294118</td>\n",
       "      <td>220.205882</td>\n",
       "      <td>445.794118</td>\n",
       "      <td>1.117647</td>\n",
       "      <td>2.117647</td>\n",
       "      <td>0.235294</td>\n",
       "      <td>0.470588</td>\n",
       "      <td>1</td>\n",
       "    </tr>\n",
       "    <tr>\n",
       "      <th>4</th>\n",
       "      <td>ru</td>\n",
       "      <td>начинаний</td>\n",
       "      <td>5</td>\n",
       "      <td>0</td>\n",
       "      <td>1</td>\n",
       "      <td>0.000000</td>\n",
       "      <td>237.235294</td>\n",
       "      <td>284.823529</td>\n",
       "      <td>733.058824</td>\n",
       "      <td>1.205882</td>\n",
       "      <td>3.294118</td>\n",
       "      <td>0.441176</td>\n",
       "      <td>0.764706</td>\n",
       "      <td>1</td>\n",
       "    </tr>\n",
       "  </tbody>\n",
       "</table>\n",
       "</div>"
      ],
      "text/plain": [
       "  lang         ia  ianum  sentnum  trialid  prob_skip  firstfix.dur  \\\n",
       "0   ru       Янус      1        0        1   0.029412    167.411765   \n",
       "1   ru          —      2        0        1   0.382353    133.911765   \n",
       "2   ru        бог      3        0        1   0.176471    153.117647   \n",
       "3   ru       всех      4        0        1   0.088235    177.294118   \n",
       "4   ru  начинаний      5        0        1   0.000000    237.235294   \n",
       "\n",
       "   firstrun.dur         dur  firstrun.nfix      nfix  prob_refix  prob_reread  \\\n",
       "0    281.823529  479.411765       1.352941  1.970588    0.294118     0.323529   \n",
       "1    138.147059  189.235294       0.647059  0.882353    0.029412     0.176471   \n",
       "2    163.794118  313.970588       0.911765  1.500000    0.088235     0.323529   \n",
       "3    220.205882  445.794118       1.117647  2.117647    0.235294     0.470588   \n",
       "4    284.823529  733.058824       1.205882  3.294118    0.441176     0.764706   \n",
       "\n",
       "   trial_sentnum  \n",
       "0              1  \n",
       "1              1  \n",
       "2              1  \n",
       "3              1  \n",
       "4              1  "
      ]
     },
     "execution_count": 53,
     "metadata": {},
     "output_type": "execute_result"
    }
   ],
   "source": [
    "grouped_clusterd_df_0_ru.head()"
   ]
  },
  {
   "cell_type": "code",
   "execution_count": 54,
   "id": "063a5369",
   "metadata": {},
   "outputs": [
    {
     "data": {
      "text/html": [
       "<div>\n",
       "<style scoped>\n",
       "    .dataframe tbody tr th:only-of-type {\n",
       "        vertical-align: middle;\n",
       "    }\n",
       "\n",
       "    .dataframe tbody tr th {\n",
       "        vertical-align: top;\n",
       "    }\n",
       "\n",
       "    .dataframe thead th {\n",
       "        text-align: right;\n",
       "    }\n",
       "</style>\n",
       "<table border=\"1\" class=\"dataframe\">\n",
       "  <thead>\n",
       "    <tr style=\"text-align: right;\">\n",
       "      <th></th>\n",
       "      <th>prob_skip</th>\n",
       "      <th>firstrun.dur</th>\n",
       "      <th>dur</th>\n",
       "      <th>firstrun.nfix</th>\n",
       "      <th>nfix</th>\n",
       "      <th>prob_refix</th>\n",
       "      <th>prob_reread</th>\n",
       "    </tr>\n",
       "  </thead>\n",
       "  <tbody>\n",
       "    <tr>\n",
       "      <th>prob_skip</th>\n",
       "      <td>1.000000</td>\n",
       "      <td>-0.701329</td>\n",
       "      <td>-0.634792</td>\n",
       "      <td>-0.769029</td>\n",
       "      <td>-0.713668</td>\n",
       "      <td>-0.417929</td>\n",
       "      <td>-0.394611</td>\n",
       "    </tr>\n",
       "    <tr>\n",
       "      <th>firstrun.dur</th>\n",
       "      <td>-0.701329</td>\n",
       "      <td>1.000000</td>\n",
       "      <td>0.811634</td>\n",
       "      <td>0.895632</td>\n",
       "      <td>0.759987</td>\n",
       "      <td>0.657402</td>\n",
       "      <td>0.290166</td>\n",
       "    </tr>\n",
       "    <tr>\n",
       "      <th>dur</th>\n",
       "      <td>-0.634792</td>\n",
       "      <td>0.811634</td>\n",
       "      <td>1.000000</td>\n",
       "      <td>0.744638</td>\n",
       "      <td>0.927479</td>\n",
       "      <td>0.640989</td>\n",
       "      <td>0.642148</td>\n",
       "    </tr>\n",
       "    <tr>\n",
       "      <th>firstrun.nfix</th>\n",
       "      <td>-0.769029</td>\n",
       "      <td>0.895632</td>\n",
       "      <td>0.744638</td>\n",
       "      <td>1.000000</td>\n",
       "      <td>0.840497</td>\n",
       "      <td>0.735924</td>\n",
       "      <td>0.304979</td>\n",
       "    </tr>\n",
       "    <tr>\n",
       "      <th>nfix</th>\n",
       "      <td>-0.713668</td>\n",
       "      <td>0.759987</td>\n",
       "      <td>0.927479</td>\n",
       "      <td>0.840497</td>\n",
       "      <td>1.000000</td>\n",
       "      <td>0.713874</td>\n",
       "      <td>0.670012</td>\n",
       "    </tr>\n",
       "    <tr>\n",
       "      <th>prob_refix</th>\n",
       "      <td>-0.417929</td>\n",
       "      <td>0.657402</td>\n",
       "      <td>0.640989</td>\n",
       "      <td>0.735924</td>\n",
       "      <td>0.713874</td>\n",
       "      <td>1.000000</td>\n",
       "      <td>0.292429</td>\n",
       "    </tr>\n",
       "    <tr>\n",
       "      <th>prob_reread</th>\n",
       "      <td>-0.394611</td>\n",
       "      <td>0.290166</td>\n",
       "      <td>0.642148</td>\n",
       "      <td>0.304979</td>\n",
       "      <td>0.670012</td>\n",
       "      <td>0.292429</td>\n",
       "      <td>1.000000</td>\n",
       "    </tr>\n",
       "  </tbody>\n",
       "</table>\n",
       "</div>"
      ],
      "text/plain": [
       "               prob_skip  firstrun.dur       dur  firstrun.nfix      nfix  \\\n",
       "prob_skip       1.000000     -0.701329 -0.634792      -0.769029 -0.713668   \n",
       "firstrun.dur   -0.701329      1.000000  0.811634       0.895632  0.759987   \n",
       "dur            -0.634792      0.811634  1.000000       0.744638  0.927479   \n",
       "firstrun.nfix  -0.769029      0.895632  0.744638       1.000000  0.840497   \n",
       "nfix           -0.713668      0.759987  0.927479       0.840497  1.000000   \n",
       "prob_refix     -0.417929      0.657402  0.640989       0.735924  0.713874   \n",
       "prob_reread    -0.394611      0.290166  0.642148       0.304979  0.670012   \n",
       "\n",
       "               prob_refix  prob_reread  \n",
       "prob_skip       -0.417929    -0.394611  \n",
       "firstrun.dur     0.657402     0.290166  \n",
       "dur              0.640989     0.642148  \n",
       "firstrun.nfix    0.735924     0.304979  \n",
       "nfix             0.713874     0.670012  \n",
       "prob_refix       1.000000     0.292429  \n",
       "prob_reread      0.292429     1.000000  "
      ]
     },
     "execution_count": 54,
     "metadata": {},
     "output_type": "execute_result"
    }
   ],
   "source": [
    "grouped_clusterd_df_0_ru[[\"prob_skip\", \"firstrun.dur\", \"dur\", \"firstrun.nfix\", \"nfix\", \"prob_refix\", \"prob_reread\"]].corr()"
   ]
  },
  {
   "cell_type": "code",
   "execution_count": 55,
   "id": "4810f3c3",
   "metadata": {},
   "outputs": [],
   "source": [
    "grouped_clusterd_df_0_ru.to_csv(f\"datasets/ru/all_mean_dataset.csv\")"
   ]
  },
  {
   "cell_type": "markdown",
   "id": "ec905a06",
   "metadata": {},
   "source": [
    "## Clean Users\n",
    "\n",
    "Getting the users who are in all the trial"
   ]
  },
  {
   "cell_type": "code",
   "execution_count": 56,
   "id": "3ccde826",
   "metadata": {},
   "outputs": [
    {
     "name": "stdout",
     "output_type": "stream",
     "text": [
      "Number of total readers in the dataset 239\n"
     ]
    }
   ],
   "source": [
    "print(f\"Number of total readers in the dataset {len(set(df.uniform_id.unique()))}\")"
   ]
  },
  {
   "cell_type": "code",
   "execution_count": 57,
   "id": "6e61af9e",
   "metadata": {},
   "outputs": [
    {
     "name": "stdout",
     "output_type": "stream",
     "text": [
      "Number of different users in trial 1 : 188\n",
      "Number of different users in trial 2 : 190\n",
      "Number of different users in trial 3 : 200\n",
      "Number of different users in trial 4 : 198\n",
      "Number of different users in trial 5 : 191\n",
      "Number of different users in trial 6 : 187\n",
      "Number of different users in trial 7 : 197\n",
      "Number of different users in trial 8 : 183\n",
      "Number of different users in trial 9 : 194\n",
      "Number of different users in trial 10 : 186\n",
      "Number of different users in trial 11 : 203\n",
      "Number of different users in trial 12 : 182\n"
     ]
    }
   ],
   "source": [
    "# not all the readers appear in all the trial\n",
    "\n",
    "trial_readers = df.groupby(\"trialid\").uniform_id.unique()\n",
    "\n",
    "for i, trial in enumerate(trial_readers):\n",
    "    print(f\"Number of different users in trial {i+1} : {len(trial)}\")"
   ]
  },
  {
   "cell_type": "code",
   "execution_count": 58,
   "id": "3cb84e1e",
   "metadata": {},
   "outputs": [],
   "source": [
    "sets_trial_readers = []\n",
    "for trial in trial_readers:\n",
    "    sets_trial_readers.append(set(trial))\n",
    "\n",
    "common_users = set.intersection(*sets_trial_readers)"
   ]
  },
  {
   "cell_type": "code",
   "execution_count": 59,
   "id": "55ad5b37",
   "metadata": {},
   "outputs": [
    {
     "name": "stdout",
     "output_type": "stream",
     "text": [
      "Number of users that are in all trials 69\n"
     ]
    }
   ],
   "source": [
    "print(f\"Number of users that are in all trials {len(set(common_users))}\")"
   ]
  },
  {
   "cell_type": "code",
   "execution_count": 60,
   "id": "8db1c3d8",
   "metadata": {},
   "outputs": [
    {
     "name": "stdout",
     "output_type": "stream",
     "text": [
      "Number of sentence after group : 503\n"
     ]
    }
   ],
   "source": [
    "# count the sentences of the users present in all the trials\n",
    "grouped_clusterd_df_2 = group_by_users(df[df.uniform_id.isin(common_users)])"
   ]
  },
  {
   "cell_type": "code",
   "execution_count": 61,
   "id": "c8ef4a36",
   "metadata": {},
   "outputs": [
    {
     "data": {
      "text/plain": [
       "(10489, 14)"
      ]
     },
     "execution_count": 61,
     "metadata": {},
     "output_type": "execute_result"
    }
   ],
   "source": [
    "grouped_clusterd_df_2.shape"
   ]
  },
  {
   "cell_type": "markdown",
   "id": "1665e0c2",
   "metadata": {},
   "source": [
    "---\n",
    "Getting the Participants who have read all the token in all sentences in each trial"
   ]
  },
  {
   "cell_type": "code",
   "execution_count": 62,
   "id": "a58bee12",
   "metadata": {},
   "outputs": [],
   "source": [
    "# Getting the Participants who have read all sentences in each trial,\n",
    "# all the users that have read all the text in the trial where they are\n",
    "\n",
    "uncomplete_users = set()\n",
    "\n",
    "for i in df.trialid.unique():\n",
    "    \n",
    "    df_trial = df[df.trialid==i]\n",
    "        \n",
    "    for lang in df.lang.unique():\n",
    "        \n",
    "        df_lang_trial = df_trial[df_trial.lang == lang]\n",
    "        \n",
    "        total_sentences_trial = set(df_lang_trial.sentnum.unique())\n",
    "        \n",
    "        for user, sentences in df_lang_trial.groupby(\"uniform_id\").sentnum.unique().items():\n",
    "            if set(sentences) != total_sentences_trial:\n",
    "                uncomplete_users.add(user)\n",
    "                \n",
    "complete_users = set(df.uniform_id.unique()) - uncomplete_users"
   ]
  },
  {
   "cell_type": "code",
   "execution_count": 63,
   "id": "e6f729c6",
   "metadata": {},
   "outputs": [
    {
     "name": "stdout",
     "output_type": "stream",
     "text": [
      "Number of the users that have read all the sentences in the trial where they are 171\n"
     ]
    }
   ],
   "source": [
    "print(f\"Number of the users that have read all the sentences in the trial where they are {len(complete_users)}\")"
   ]
  },
  {
   "cell_type": "code",
   "execution_count": 64,
   "id": "a2a6a02a",
   "metadata": {},
   "outputs": [
    {
     "name": "stdout",
     "output_type": "stream",
     "text": [
      "Number of sentence after group : 491\n"
     ]
    }
   ],
   "source": [
    "# count the sentences of the users that read all the sentences in all the trials where they are\n",
    "\n",
    "grouped_clusterd_df_3 = group_by_users(df[df.uniform_id.isin(complete_users)])"
   ]
  },
  {
   "cell_type": "code",
   "execution_count": 65,
   "id": "d9ad012a",
   "metadata": {},
   "outputs": [
    {
     "data": {
      "text/plain": [
       "(10210, 14)"
      ]
     },
     "execution_count": 65,
     "metadata": {},
     "output_type": "execute_result"
    }
   ],
   "source": [
    "grouped_clusterd_df_3.shape"
   ]
  },
  {
   "cell_type": "markdown",
   "id": "54f1bd2b",
   "metadata": {},
   "source": [
    "---\n",
    "\n",
    "Intersect the common and complete users"
   ]
  },
  {
   "cell_type": "code",
   "execution_count": 66,
   "id": "6b5200fe",
   "metadata": {},
   "outputs": [],
   "source": [
    "complete_common_users = complete_users.intersection(common_users)"
   ]
  },
  {
   "cell_type": "code",
   "execution_count": 67,
   "id": "c22382b7",
   "metadata": {},
   "outputs": [
    {
     "name": "stdout",
     "output_type": "stream",
     "text": [
      "Number of the users that have read all the sentences in the trials 36\n"
     ]
    }
   ],
   "source": [
    "print(f\"Number of the users that have read all the sentences in the trials {len(complete_common_users)}\")"
   ]
  },
  {
   "cell_type": "code",
   "execution_count": 68,
   "id": "8e2c0cc6",
   "metadata": {},
   "outputs": [
    {
     "data": {
      "text/plain": [
       "{'ge_1',\n",
       " 'ge_10',\n",
       " 'ge_12',\n",
       " 'ge_13',\n",
       " 'ge_17',\n",
       " 'ge_3',\n",
       " 'ge_30',\n",
       " 'ge_32',\n",
       " 'ge_37',\n",
       " 'ge_39',\n",
       " 'ge_41',\n",
       " 'ge_47',\n",
       " 'ge_53',\n",
       " 'ge_6',\n",
       " 'ge_8',\n",
       " 'ge_9',\n",
       " 'it_11',\n",
       " 'it_13',\n",
       " 'it_17',\n",
       " 'it_21',\n",
       " 'it_26',\n",
       " 'it_3',\n",
       " 'it_36',\n",
       " 'it_37',\n",
       " 'it_48',\n",
       " 'sp_18',\n",
       " 'sp_34',\n",
       " 'sp_37',\n",
       " 'sp_38',\n",
       " 'sp_4',\n",
       " 'sp_42',\n",
       " 'sp_48',\n",
       " 'sp_51',\n",
       " 'sp_54',\n",
       " 'sp_56',\n",
       " 'sp_61'}"
      ]
     },
     "execution_count": 68,
     "metadata": {},
     "output_type": "execute_result"
    }
   ],
   "source": [
    "complete_common_users"
   ]
  },
  {
   "cell_type": "code",
   "execution_count": 69,
   "id": "29365a42",
   "metadata": {},
   "outputs": [
    {
     "name": "stdout",
     "output_type": "stream",
     "text": [
      "Number of sentence after group : 303\n"
     ]
    }
   ],
   "source": [
    "# count the sentences of the users that read all the sentences in all the trials\n",
    "\n",
    "grouped_clusterd_df_4 = group_by_users(df[df.uniform_id.isin(complete_common_users)])"
   ]
  },
  {
   "cell_type": "code",
   "execution_count": 70,
   "id": "872caf05",
   "metadata": {},
   "outputs": [
    {
     "data": {
      "text/plain": [
       "(6551, 14)"
      ]
     },
     "execution_count": 70,
     "metadata": {},
     "output_type": "execute_result"
    }
   ],
   "source": [
    "grouped_clusterd_df_4.shape"
   ]
  },
  {
   "cell_type": "code",
   "execution_count": 71,
   "id": "01ba89d2",
   "metadata": {},
   "outputs": [],
   "source": [
    "df_complete_common_user = df[df.uniform_id.isin(complete_common_users)]"
   ]
  },
  {
   "cell_type": "markdown",
   "id": "3a1dc04c",
   "metadata": {},
   "source": [
    "# Clustering Users\n",
    "\n",
    "We need to cluster users to handle separate readers behaviours, since the fact that the grouped features have different correlation matrix wrt to non grouped data.\n",
    "\n",
    "We will cluster only the users which read all the sentence in all the trials. Since the users that have those properties are italian, spanish or germans, We will clusterize the users of the same language."
   ]
  },
  {
   "cell_type": "code",
   "execution_count": 112,
   "id": "65b4c598",
   "metadata": {},
   "outputs": [],
   "source": [
    "cluster_lang = \"ge\""
   ]
  },
  {
   "cell_type": "code",
   "execution_count": 113,
   "id": "6c9f6a19",
   "metadata": {},
   "outputs": [],
   "source": [
    "df_complete_common_user_lang = df_complete_common_user[df_complete_common_user.lang==cluster_lang]"
   ]
  },
  {
   "cell_type": "code",
   "execution_count": 114,
   "id": "63026256",
   "metadata": {},
   "outputs": [
    {
     "data": {
      "text/html": [
       "<div>\n",
       "<style scoped>\n",
       "    .dataframe tbody tr th:only-of-type {\n",
       "        vertical-align: middle;\n",
       "    }\n",
       "\n",
       "    .dataframe tbody tr th {\n",
       "        vertical-align: top;\n",
       "    }\n",
       "\n",
       "    .dataframe thead th {\n",
       "        text-align: right;\n",
       "    }\n",
       "</style>\n",
       "<table border=\"1\" class=\"dataframe\">\n",
       "  <thead>\n",
       "    <tr style=\"text-align: right;\">\n",
       "      <th></th>\n",
       "      <th>trialid</th>\n",
       "      <th>sentnum</th>\n",
       "      <th>ianum</th>\n",
       "      <th>ia</th>\n",
       "      <th>lang</th>\n",
       "      <th>uniform_id</th>\n",
       "      <th>skip</th>\n",
       "      <th>firstfix.dur</th>\n",
       "      <th>firstrun.dur</th>\n",
       "      <th>dur</th>\n",
       "      <th>firstrun.nfix</th>\n",
       "      <th>nfix</th>\n",
       "      <th>refix</th>\n",
       "      <th>reread</th>\n",
       "    </tr>\n",
       "  </thead>\n",
       "  <tbody>\n",
       "    <tr>\n",
       "      <th>193910</th>\n",
       "      <td>1.0</td>\n",
       "      <td>1.0</td>\n",
       "      <td>1.0</td>\n",
       "      <td>In</td>\n",
       "      <td>ge</td>\n",
       "      <td>ge_1</td>\n",
       "      <td>0.0</td>\n",
       "      <td>164.0</td>\n",
       "      <td>164.0</td>\n",
       "      <td>164.0</td>\n",
       "      <td>1.0</td>\n",
       "      <td>1.0</td>\n",
       "      <td>0.0</td>\n",
       "      <td>0.0</td>\n",
       "    </tr>\n",
       "    <tr>\n",
       "      <th>193911</th>\n",
       "      <td>1.0</td>\n",
       "      <td>1.0</td>\n",
       "      <td>2.0</td>\n",
       "      <td>der</td>\n",
       "      <td>ge</td>\n",
       "      <td>ge_1</td>\n",
       "      <td>0.0</td>\n",
       "      <td>166.0</td>\n",
       "      <td>166.0</td>\n",
       "      <td>657.0</td>\n",
       "      <td>1.0</td>\n",
       "      <td>3.0</td>\n",
       "      <td>0.0</td>\n",
       "      <td>1.0</td>\n",
       "    </tr>\n",
       "    <tr>\n",
       "      <th>193912</th>\n",
       "      <td>1.0</td>\n",
       "      <td>1.0</td>\n",
       "      <td>3.0</td>\n",
       "      <td>alten</td>\n",
       "      <td>ge</td>\n",
       "      <td>ge_1</td>\n",
       "      <td>0.0</td>\n",
       "      <td>144.0</td>\n",
       "      <td>144.0</td>\n",
       "      <td>717.0</td>\n",
       "      <td>1.0</td>\n",
       "      <td>3.0</td>\n",
       "      <td>0.0</td>\n",
       "      <td>1.0</td>\n",
       "    </tr>\n",
       "    <tr>\n",
       "      <th>193913</th>\n",
       "      <td>1.0</td>\n",
       "      <td>1.0</td>\n",
       "      <td>4.0</td>\n",
       "      <td>römischen</td>\n",
       "      <td>ge</td>\n",
       "      <td>ge_1</td>\n",
       "      <td>0.0</td>\n",
       "      <td>219.0</td>\n",
       "      <td>219.0</td>\n",
       "      <td>1231.0</td>\n",
       "      <td>1.0</td>\n",
       "      <td>6.0</td>\n",
       "      <td>0.0</td>\n",
       "      <td>1.0</td>\n",
       "    </tr>\n",
       "    <tr>\n",
       "      <th>193914</th>\n",
       "      <td>1.0</td>\n",
       "      <td>1.0</td>\n",
       "      <td>5.0</td>\n",
       "      <td>Religion</td>\n",
       "      <td>ge</td>\n",
       "      <td>ge_1</td>\n",
       "      <td>0.0</td>\n",
       "      <td>151.0</td>\n",
       "      <td>151.0</td>\n",
       "      <td>1338.0</td>\n",
       "      <td>1.0</td>\n",
       "      <td>8.0</td>\n",
       "      <td>1.0</td>\n",
       "      <td>1.0</td>\n",
       "    </tr>\n",
       "  </tbody>\n",
       "</table>\n",
       "</div>"
      ],
      "text/plain": [
       "        trialid  sentnum  ianum         ia lang uniform_id  skip  \\\n",
       "193910      1.0      1.0    1.0         In   ge       ge_1   0.0   \n",
       "193911      1.0      1.0    2.0        der   ge       ge_1   0.0   \n",
       "193912      1.0      1.0    3.0      alten   ge       ge_1   0.0   \n",
       "193913      1.0      1.0    4.0  römischen   ge       ge_1   0.0   \n",
       "193914      1.0      1.0    5.0   Religion   ge       ge_1   0.0   \n",
       "\n",
       "        firstfix.dur  firstrun.dur     dur  firstrun.nfix  nfix  refix  reread  \n",
       "193910         164.0         164.0   164.0            1.0   1.0    0.0     0.0  \n",
       "193911         166.0         166.0   657.0            1.0   3.0    0.0     1.0  \n",
       "193912         144.0         144.0   717.0            1.0   3.0    0.0     1.0  \n",
       "193913         219.0         219.0  1231.0            1.0   6.0    0.0     1.0  \n",
       "193914         151.0         151.0  1338.0            1.0   8.0    1.0     1.0  "
      ]
     },
     "execution_count": 114,
     "metadata": {},
     "output_type": "execute_result"
    }
   ],
   "source": [
    "df_complete_common_user_lang.head()"
   ]
  },
  {
   "cell_type": "markdown",
   "id": "5838af44",
   "metadata": {},
   "source": [
    "## Profiling the Users\n",
    "\n",
    "First of all we have to see if each trial havethe same users"
   ]
  },
  {
   "cell_type": "code",
   "execution_count": 115,
   "id": "045986a4",
   "metadata": {},
   "outputs": [
    {
     "data": {
      "text/html": [
       "<div>\n",
       "<style scoped>\n",
       "    .dataframe tbody tr th:only-of-type {\n",
       "        vertical-align: middle;\n",
       "    }\n",
       "\n",
       "    .dataframe tbody tr th {\n",
       "        vertical-align: top;\n",
       "    }\n",
       "\n",
       "    .dataframe thead th {\n",
       "        text-align: right;\n",
       "    }\n",
       "</style>\n",
       "<table border=\"1\" class=\"dataframe\">\n",
       "  <thead>\n",
       "    <tr style=\"text-align: right;\">\n",
       "      <th></th>\n",
       "      <th>trialid</th>\n",
       "      <th>sentnum</th>\n",
       "      <th>ianum</th>\n",
       "      <th>ia</th>\n",
       "      <th>lang</th>\n",
       "      <th>uniform_id</th>\n",
       "      <th>skip</th>\n",
       "      <th>firstfix.dur</th>\n",
       "      <th>firstrun.dur</th>\n",
       "      <th>dur</th>\n",
       "      <th>firstrun.nfix</th>\n",
       "      <th>nfix</th>\n",
       "      <th>refix</th>\n",
       "      <th>reread</th>\n",
       "    </tr>\n",
       "  </thead>\n",
       "  <tbody>\n",
       "    <tr>\n",
       "      <th>193910</th>\n",
       "      <td>1.0</td>\n",
       "      <td>1.0</td>\n",
       "      <td>1.0</td>\n",
       "      <td>In</td>\n",
       "      <td>ge</td>\n",
       "      <td>ge_1</td>\n",
       "      <td>0.0</td>\n",
       "      <td>164.0</td>\n",
       "      <td>164.0</td>\n",
       "      <td>164.0</td>\n",
       "      <td>1.0</td>\n",
       "      <td>1.0</td>\n",
       "      <td>0.0</td>\n",
       "      <td>0.0</td>\n",
       "    </tr>\n",
       "    <tr>\n",
       "      <th>193911</th>\n",
       "      <td>1.0</td>\n",
       "      <td>1.0</td>\n",
       "      <td>2.0</td>\n",
       "      <td>der</td>\n",
       "      <td>ge</td>\n",
       "      <td>ge_1</td>\n",
       "      <td>0.0</td>\n",
       "      <td>166.0</td>\n",
       "      <td>166.0</td>\n",
       "      <td>657.0</td>\n",
       "      <td>1.0</td>\n",
       "      <td>3.0</td>\n",
       "      <td>0.0</td>\n",
       "      <td>1.0</td>\n",
       "    </tr>\n",
       "    <tr>\n",
       "      <th>193912</th>\n",
       "      <td>1.0</td>\n",
       "      <td>1.0</td>\n",
       "      <td>3.0</td>\n",
       "      <td>alten</td>\n",
       "      <td>ge</td>\n",
       "      <td>ge_1</td>\n",
       "      <td>0.0</td>\n",
       "      <td>144.0</td>\n",
       "      <td>144.0</td>\n",
       "      <td>717.0</td>\n",
       "      <td>1.0</td>\n",
       "      <td>3.0</td>\n",
       "      <td>0.0</td>\n",
       "      <td>1.0</td>\n",
       "    </tr>\n",
       "    <tr>\n",
       "      <th>193913</th>\n",
       "      <td>1.0</td>\n",
       "      <td>1.0</td>\n",
       "      <td>4.0</td>\n",
       "      <td>römischen</td>\n",
       "      <td>ge</td>\n",
       "      <td>ge_1</td>\n",
       "      <td>0.0</td>\n",
       "      <td>219.0</td>\n",
       "      <td>219.0</td>\n",
       "      <td>1231.0</td>\n",
       "      <td>1.0</td>\n",
       "      <td>6.0</td>\n",
       "      <td>0.0</td>\n",
       "      <td>1.0</td>\n",
       "    </tr>\n",
       "    <tr>\n",
       "      <th>193914</th>\n",
       "      <td>1.0</td>\n",
       "      <td>1.0</td>\n",
       "      <td>5.0</td>\n",
       "      <td>Religion</td>\n",
       "      <td>ge</td>\n",
       "      <td>ge_1</td>\n",
       "      <td>0.0</td>\n",
       "      <td>151.0</td>\n",
       "      <td>151.0</td>\n",
       "      <td>1338.0</td>\n",
       "      <td>1.0</td>\n",
       "      <td>8.0</td>\n",
       "      <td>1.0</td>\n",
       "      <td>1.0</td>\n",
       "    </tr>\n",
       "  </tbody>\n",
       "</table>\n",
       "</div>"
      ],
      "text/plain": [
       "        trialid  sentnum  ianum         ia lang uniform_id  skip  \\\n",
       "193910      1.0      1.0    1.0         In   ge       ge_1   0.0   \n",
       "193911      1.0      1.0    2.0        der   ge       ge_1   0.0   \n",
       "193912      1.0      1.0    3.0      alten   ge       ge_1   0.0   \n",
       "193913      1.0      1.0    4.0  römischen   ge       ge_1   0.0   \n",
       "193914      1.0      1.0    5.0   Religion   ge       ge_1   0.0   \n",
       "\n",
       "        firstfix.dur  firstrun.dur     dur  firstrun.nfix  nfix  refix  reread  \n",
       "193910         164.0         164.0   164.0            1.0   1.0    0.0     0.0  \n",
       "193911         166.0         166.0   657.0            1.0   3.0    0.0     1.0  \n",
       "193912         144.0         144.0   717.0            1.0   3.0    0.0     1.0  \n",
       "193913         219.0         219.0  1231.0            1.0   6.0    0.0     1.0  \n",
       "193914         151.0         151.0  1338.0            1.0   8.0    1.0     1.0  "
      ]
     },
     "execution_count": 115,
     "metadata": {},
     "output_type": "execute_result"
    }
   ],
   "source": [
    "df_complete_common_user_lang.head()"
   ]
  },
  {
   "cell_type": "markdown",
   "id": "ee8d2b71",
   "metadata": {},
   "source": [
    "The trials doesn't contain the same readers"
   ]
  },
  {
   "cell_type": "code",
   "execution_count": 116,
   "id": "5167bf35",
   "metadata": {},
   "outputs": [],
   "source": [
    "reader_grouped_df = df_complete_common_user_lang.groupby([\"uniform_id\", \"lang\"])[gaze_features].mean().reset_index(level=0).reset_index(level=0)"
   ]
  },
  {
   "cell_type": "code",
   "execution_count": 117,
   "id": "96dcf0c0",
   "metadata": {
    "scrolled": false
   },
   "outputs": [
    {
     "name": "stdout",
     "output_type": "stream",
     "text": [
      "<class 'pandas.core.frame.DataFrame'>\n",
      "RangeIndex: 16 entries, 0 to 15\n",
      "Data columns (total 10 columns):\n",
      " #   Column         Non-Null Count  Dtype  \n",
      "---  ------         --------------  -----  \n",
      " 0   lang           16 non-null     object \n",
      " 1   uniform_id     16 non-null     object \n",
      " 2   skip           16 non-null     float64\n",
      " 3   firstfix.dur   16 non-null     float64\n",
      " 4   firstrun.dur   16 non-null     float64\n",
      " 5   dur            16 non-null     float64\n",
      " 6   firstrun.nfix  16 non-null     float64\n",
      " 7   nfix           16 non-null     float64\n",
      " 8   refix          16 non-null     float64\n",
      " 9   reread         16 non-null     float64\n",
      "dtypes: float64(8), object(2)\n",
      "memory usage: 1.4+ KB\n"
     ]
    }
   ],
   "source": [
    "reader_grouped_df.info()"
   ]
  },
  {
   "cell_type": "code",
   "execution_count": 118,
   "id": "c3f2db48",
   "metadata": {},
   "outputs": [
    {
     "data": {
      "text/plain": [
       "array(['ge_1', 'ge_10', 'ge_12', 'ge_13', 'ge_17', 'ge_3', 'ge_30',\n",
       "       'ge_32', 'ge_37', 'ge_39', 'ge_41', 'ge_47', 'ge_53', 'ge_6',\n",
       "       'ge_8', 'ge_9'], dtype=object)"
      ]
     },
     "execution_count": 118,
     "metadata": {},
     "output_type": "execute_result"
    }
   ],
   "source": [
    "reader_grouped_df.uniform_id.unique()"
   ]
  },
  {
   "cell_type": "code",
   "execution_count": 119,
   "id": "8fb9b1dd",
   "metadata": {},
   "outputs": [
    {
     "data": {
      "text/html": [
       "<div>\n",
       "<style scoped>\n",
       "    .dataframe tbody tr th:only-of-type {\n",
       "        vertical-align: middle;\n",
       "    }\n",
       "\n",
       "    .dataframe tbody tr th {\n",
       "        vertical-align: top;\n",
       "    }\n",
       "\n",
       "    .dataframe thead th {\n",
       "        text-align: right;\n",
       "    }\n",
       "</style>\n",
       "<table border=\"1\" class=\"dataframe\">\n",
       "  <thead>\n",
       "    <tr style=\"text-align: right;\">\n",
       "      <th></th>\n",
       "      <th>skip</th>\n",
       "      <th>firstfix.dur</th>\n",
       "      <th>firstrun.dur</th>\n",
       "      <th>dur</th>\n",
       "      <th>firstrun.nfix</th>\n",
       "      <th>nfix</th>\n",
       "      <th>refix</th>\n",
       "      <th>reread</th>\n",
       "    </tr>\n",
       "  </thead>\n",
       "  <tbody>\n",
       "    <tr>\n",
       "      <th>skip</th>\n",
       "      <td>1.000000</td>\n",
       "      <td>-0.626377</td>\n",
       "      <td>-0.771879</td>\n",
       "      <td>-0.732474</td>\n",
       "      <td>-0.829607</td>\n",
       "      <td>-0.674656</td>\n",
       "      <td>-0.664313</td>\n",
       "      <td>-0.346892</td>\n",
       "    </tr>\n",
       "    <tr>\n",
       "      <th>firstfix.dur</th>\n",
       "      <td>-0.626377</td>\n",
       "      <td>1.000000</td>\n",
       "      <td>0.826767</td>\n",
       "      <td>0.461115</td>\n",
       "      <td>0.419658</td>\n",
       "      <td>0.147465</td>\n",
       "      <td>0.192744</td>\n",
       "      <td>-0.100412</td>\n",
       "    </tr>\n",
       "    <tr>\n",
       "      <th>firstrun.dur</th>\n",
       "      <td>-0.771879</td>\n",
       "      <td>0.826767</td>\n",
       "      <td>1.000000</td>\n",
       "      <td>0.632493</td>\n",
       "      <td>0.830196</td>\n",
       "      <td>0.420285</td>\n",
       "      <td>0.699396</td>\n",
       "      <td>-0.020545</td>\n",
       "    </tr>\n",
       "    <tr>\n",
       "      <th>dur</th>\n",
       "      <td>-0.732474</td>\n",
       "      <td>0.461115</td>\n",
       "      <td>0.632493</td>\n",
       "      <td>1.000000</td>\n",
       "      <td>0.657437</td>\n",
       "      <td>0.933306</td>\n",
       "      <td>0.613363</td>\n",
       "      <td>0.743903</td>\n",
       "    </tr>\n",
       "    <tr>\n",
       "      <th>firstrun.nfix</th>\n",
       "      <td>-0.829607</td>\n",
       "      <td>0.419658</td>\n",
       "      <td>0.830196</td>\n",
       "      <td>0.657437</td>\n",
       "      <td>1.000000</td>\n",
       "      <td>0.645389</td>\n",
       "      <td>0.955939</td>\n",
       "      <td>0.173647</td>\n",
       "    </tr>\n",
       "    <tr>\n",
       "      <th>nfix</th>\n",
       "      <td>-0.674656</td>\n",
       "      <td>0.147465</td>\n",
       "      <td>0.420285</td>\n",
       "      <td>0.933306</td>\n",
       "      <td>0.645389</td>\n",
       "      <td>1.000000</td>\n",
       "      <td>0.662467</td>\n",
       "      <td>0.849223</td>\n",
       "    </tr>\n",
       "    <tr>\n",
       "      <th>refix</th>\n",
       "      <td>-0.664313</td>\n",
       "      <td>0.192744</td>\n",
       "      <td>0.699396</td>\n",
       "      <td>0.613363</td>\n",
       "      <td>0.955939</td>\n",
       "      <td>0.662467</td>\n",
       "      <td>1.000000</td>\n",
       "      <td>0.224436</td>\n",
       "    </tr>\n",
       "    <tr>\n",
       "      <th>reread</th>\n",
       "      <td>-0.346892</td>\n",
       "      <td>-0.100412</td>\n",
       "      <td>-0.020545</td>\n",
       "      <td>0.743903</td>\n",
       "      <td>0.173647</td>\n",
       "      <td>0.849223</td>\n",
       "      <td>0.224436</td>\n",
       "      <td>1.000000</td>\n",
       "    </tr>\n",
       "  </tbody>\n",
       "</table>\n",
       "</div>"
      ],
      "text/plain": [
       "                   skip  firstfix.dur  firstrun.dur       dur  firstrun.nfix  \\\n",
       "skip           1.000000     -0.626377     -0.771879 -0.732474      -0.829607   \n",
       "firstfix.dur  -0.626377      1.000000      0.826767  0.461115       0.419658   \n",
       "firstrun.dur  -0.771879      0.826767      1.000000  0.632493       0.830196   \n",
       "dur           -0.732474      0.461115      0.632493  1.000000       0.657437   \n",
       "firstrun.nfix -0.829607      0.419658      0.830196  0.657437       1.000000   \n",
       "nfix          -0.674656      0.147465      0.420285  0.933306       0.645389   \n",
       "refix         -0.664313      0.192744      0.699396  0.613363       0.955939   \n",
       "reread        -0.346892     -0.100412     -0.020545  0.743903       0.173647   \n",
       "\n",
       "                   nfix     refix    reread  \n",
       "skip          -0.674656 -0.664313 -0.346892  \n",
       "firstfix.dur   0.147465  0.192744 -0.100412  \n",
       "firstrun.dur   0.420285  0.699396 -0.020545  \n",
       "dur            0.933306  0.613363  0.743903  \n",
       "firstrun.nfix  0.645389  0.955939  0.173647  \n",
       "nfix           1.000000  0.662467  0.849223  \n",
       "refix          0.662467  1.000000  0.224436  \n",
       "reread         0.849223  0.224436  1.000000  "
      ]
     },
     "execution_count": 119,
     "metadata": {},
     "output_type": "execute_result"
    }
   ],
   "source": [
    "reader_grouped_df[gaze_features].corr()"
   ]
  },
  {
   "cell_type": "markdown",
   "id": "0e79a785",
   "metadata": {},
   "source": [
    "### Apply K-means to clusterize our datas"
   ]
  },
  {
   "cell_type": "code",
   "execution_count": 120,
   "id": "8ce1162c",
   "metadata": {},
   "outputs": [],
   "source": [
    "from sklearn.cluster import KMeans\n",
    "from sklearn.metrics import silhouette_score\n",
    "from sklearn.decomposition import PCA\n",
    "from sklearn import metrics\n",
    "from sklearn.preprocessing import StandardScaler, MinMaxScaler\n",
    "from tqdm import tqdm\n",
    "import matplotlib.pyplot as plt"
   ]
  },
  {
   "cell_type": "code",
   "execution_count": 121,
   "id": "e4c689f5",
   "metadata": {},
   "outputs": [],
   "source": [
    "scaler = MinMaxScaler()\n",
    "\n",
    "X = scaler.fit_transform(reader_grouped_df[gaze_features].values)"
   ]
  },
  {
   "cell_type": "code",
   "execution_count": 122,
   "id": "4538bd88",
   "metadata": {},
   "outputs": [
    {
     "name": "stderr",
     "output_type": "stream",
     "text": [
      "100%|█████████████████████████████████████████████████████████████████████████████████████████████████████████████████████████████████████████████████████████████████████████| 6/6 [00:00<00:00, 52.05it/s]\n"
     ]
    }
   ],
   "source": [
    "sse_list = list()\n",
    "separations = list()\n",
    "silouettes_ = list()\n",
    "\n",
    "max_k = 7\n",
    "for k in tqdm(range(2, max_k + 1)):\n",
    "    kmeans = KMeans(n_clusters=k, n_init=10, max_iter=100)\n",
    "    kmeans.fit(X)\n",
    "    \n",
    "    sse = kmeans.inertia_\n",
    "    sse_list.append(sse)\n",
    "    separations.append(metrics.davies_bouldin_score(X, kmeans.labels_))\n",
    "    silouettes_.append(silhouette_score(X, kmeans.labels_))"
   ]
  },
  {
   "cell_type": "code",
   "execution_count": 123,
   "id": "f08c1bb8",
   "metadata": {},
   "outputs": [
    {
     "data": {
      "image/png": "[encoded data removed]",
      "text/plain": [
       "<Figure size 640x480 with 1 Axes>"
      ]
     },
     "metadata": {},
     "output_type": "display_data"
    }
   ],
   "source": [
    "plt.plot(range(2, len(sse_list) + 2), sse_list)\n",
    "plt.ylabel('SSE', fontsize=22)\n",
    "plt.xlabel('K', fontsize=22)\n",
    "plt.xticks(range(2, len(sse_list) + 2))\n",
    "plt.show()"
   ]
  },
  {
   "cell_type": "code",
   "execution_count": 124,
   "id": "8a48f25b",
   "metadata": {},
   "outputs": [
    {
     "data": {
      "image/png": "[encoded data removed]",
      "text/plain": [
       "<Figure size 640x480 with 1 Axes>"
      ]
     },
     "metadata": {},
     "output_type": "display_data"
    }
   ],
   "source": [
    "plt.plot(range(2, len(separations) + 2), separations)\n",
    "plt.ylabel('Separation', fontsize=22)\n",
    "plt.xlabel('K', fontsize=22)\n",
    "plt.xticks(range(2, len(separations) + 2))\n",
    "plt.show()"
   ]
  },
  {
   "cell_type": "code",
   "execution_count": 125,
   "id": "48bd6808",
   "metadata": {},
   "outputs": [
    {
     "data": {
      "image/png": "[encoded data removed]",
      "text/plain": [
       "<Figure size 640x480 with 1 Axes>"
      ]
     },
     "metadata": {},
     "output_type": "display_data"
    }
   ],
   "source": [
    "plt.plot(range(2, len(silouettes_) + 2), silouettes_)\n",
    "plt.ylabel('Silouettes', fontsize=22)\n",
    "plt.xlabel('K', fontsize=22)\n",
    "plt.xticks(range(2, len(silouettes_) + 2))\n",
    "plt.show()"
   ]
  },
  {
   "cell_type": "code",
   "execution_count": 126,
   "id": "e53fb3f4",
   "metadata": {},
   "outputs": [
    {
     "data": {
      "text/html": [
       "<style>#sk-container-id-2 {color: black;background-color: white;}#sk-container-id-2 pre{padding: 0;}#sk-container-id-2 div.sk-toggleable {background-color: white;}#sk-container-id-2 label.sk-toggleable__label {cursor: pointer;display: block;width: 100%;margin-bottom: 0;padding: 0.3em;box-sizing: border-box;text-align: center;}#sk-container-id-2 label.sk-toggleable__label-arrow:before {content: \"▸\";float: left;margin-right: 0.25em;color: #696969;}#sk-container-id-2 label.sk-toggleable__label-arrow:hover:before {color: black;}#sk-container-id-2 div.sk-estimator:hover label.sk-toggleable__label-arrow:before {color: black;}#sk-container-id-2 div.sk-toggleable__content {max-height: 0;max-width: 0;overflow: hidden;text-align: left;background-color: #f0f8ff;}#sk-container-id-2 div.sk-toggleable__content pre {margin: 0.2em;color: black;border-radius: 0.25em;background-color: #f0f8ff;}#sk-container-id-2 input.sk-toggleable__control:checked~div.sk-toggleable__content {max-height: 200px;max-width: 100%;overflow: auto;}#sk-container-id-2 input.sk-toggleable__control:checked~label.sk-toggleable__label-arrow:before {content: \"▾\";}#sk-container-id-2 div.sk-estimator input.sk-toggleable__control:checked~label.sk-toggleable__label {background-color: #d4ebff;}#sk-container-id-2 div.sk-label input.sk-toggleable__control:checked~label.sk-toggleable__label {background-color: #d4ebff;}#sk-container-id-2 input.sk-hidden--visually {border: 0;clip: rect(1px 1px 1px 1px);clip: rect(1px, 1px, 1px, 1px);height: 1px;margin: -1px;overflow: hidden;padding: 0;position: absolute;width: 1px;}#sk-container-id-2 div.sk-estimator {font-family: monospace;background-color: #f0f8ff;border: 1px dotted black;border-radius: 0.25em;box-sizing: border-box;margin-bottom: 0.5em;}#sk-container-id-2 div.sk-estimator:hover {background-color: #d4ebff;}#sk-container-id-2 div.sk-parallel-item::after {content: \"\";width: 100%;border-bottom: 1px solid gray;flex-grow: 1;}#sk-container-id-2 div.sk-label:hover label.sk-toggleable__label {background-color: #d4ebff;}#sk-container-id-2 div.sk-serial::before {content: \"\";position: absolute;border-left: 1px solid gray;box-sizing: border-box;top: 0;bottom: 0;left: 50%;z-index: 0;}#sk-container-id-2 div.sk-serial {display: flex;flex-direction: column;align-items: center;background-color: white;padding-right: 0.2em;padding-left: 0.2em;position: relative;}#sk-container-id-2 div.sk-item {position: relative;z-index: 1;}#sk-container-id-2 div.sk-parallel {display: flex;align-items: stretch;justify-content: center;background-color: white;position: relative;}#sk-container-id-2 div.sk-item::before, #sk-container-id-2 div.sk-parallel-item::before {content: \"\";position: absolute;border-left: 1px solid gray;box-sizing: border-box;top: 0;bottom: 0;left: 50%;z-index: -1;}#sk-container-id-2 div.sk-parallel-item {display: flex;flex-direction: column;z-index: 1;position: relative;background-color: white;}#sk-container-id-2 div.sk-parallel-item:first-child::after {align-self: flex-end;width: 50%;}#sk-container-id-2 div.sk-parallel-item:last-child::after {align-self: flex-start;width: 50%;}#sk-container-id-2 div.sk-parallel-item:only-child::after {width: 0;}#sk-container-id-2 div.sk-dashed-wrapped {border: 1px dashed gray;margin: 0 0.4em 0.5em 0.4em;box-sizing: border-box;padding-bottom: 0.4em;background-color: white;}#sk-container-id-2 div.sk-label label {font-family: monospace;font-weight: bold;display: inline-block;line-height: 1.2em;}#sk-container-id-2 div.sk-label-container {text-align: center;}#sk-container-id-2 div.sk-container {/* jupyter's `normalize.less` sets `[hidden] { display: none; }` but bootstrap.min.css set `[hidden] { display: none !important; }` so we also need the `!important` here to be able to override the default hidden behavior on the sphinx rendered scikit-learn.org. See: https://github.com/scikit-learn/scikit-learn/issues/21755 */display: inline-block !important;position: relative;}#sk-container-id-2 div.sk-text-repr-fallback {display: none;}</style><div id=\"sk-container-id-2\" class=\"sk-top-container\"><div class=\"sk-text-repr-fallback\"><pre>KMeans(max_iter=500, n_clusters=3, n_init=100)</pre><b>In a Jupyter environment, please rerun this cell to show the HTML representation or trust the notebook. <br />On GitHub, the HTML representation is unable to render, please try loading this page with nbviewer.org.</b></div><div class=\"sk-container\" hidden><div class=\"sk-item\"><div class=\"sk-estimator sk-toggleable\"><input class=\"sk-toggleable__control sk-hidden--visually\" id=\"sk-estimator-id-2\" type=\"checkbox\" checked><label for=\"sk-estimator-id-2\" class=\"sk-toggleable__label sk-toggleable__label-arrow\">KMeans</label><div class=\"sk-toggleable__content\"><pre>KMeans(max_iter=500, n_clusters=3, n_init=100)</pre></div></div></div></div></div>"
      ],
      "text/plain": [
       "KMeans(max_iter=500, n_clusters=3, n_init=100)"
      ]
     },
     "execution_count": 126,
     "metadata": {},
     "output_type": "execute_result"
    }
   ],
   "source": [
    "selected_k=3\n",
    "\n",
    "kmeans = KMeans(n_clusters=selected_k, n_init=100, max_iter=500)\n",
    "kmeans.fit(X)"
   ]
  },
  {
   "cell_type": "code",
   "execution_count": 127,
   "id": "c272903c",
   "metadata": {},
   "outputs": [
    {
     "name": "stdout",
     "output_type": "stream",
     "text": [
      "SSE : 3.8167868958406936\n",
      "Separation : 1.0249072517351456\n",
      "Silhouette : 0.3227437702236318\n"
     ]
    }
   ],
   "source": [
    "# sum up the metrics\n",
    "\n",
    "print(f\"SSE : {kmeans.inertia_}\")\n",
    "print(f\"Separation : {metrics.davies_bouldin_score(X, kmeans.labels_)}\")\n",
    "print(f\"Silhouette : {silhouette_score(X, kmeans.labels_)}\")"
   ]
  },
  {
   "cell_type": "code",
   "execution_count": 128,
   "id": "63985fdc",
   "metadata": {},
   "outputs": [
    {
     "data": {
      "image/png": "[encoded data removed]",
      "text/plain": [
       "<Figure size 640x480 with 1 Axes>"
      ]
     },
     "metadata": {},
     "output_type": "display_data"
    }
   ],
   "source": [
    "bot_xt_pct = pd.crosstab(kmeans.labels_, reader_grouped_df[\"lang\"])\n",
    "bot_xt_pct.plot(kind='bar', stacked=False, \n",
    "                   title=f'lang per cluster')\n",
    "plt.xlabel('Cluster')\n",
    "plt.ylabel(\"lang\")\n",
    "plt.show()"
   ]
  },
  {
   "cell_type": "code",
   "execution_count": 129,
   "id": "114b34d0",
   "metadata": {},
   "outputs": [],
   "source": [
    "center = scaler.inverse_transform(kmeans.cluster_centers_)"
   ]
  },
  {
   "cell_type": "code",
   "execution_count": 130,
   "id": "cd9f775f",
   "metadata": {},
   "outputs": [
    {
     "data": {
      "image/png": "[encoded data removed]",
      "text/plain": [
       "<Figure size 800x400 with 1 Axes>"
      ]
     },
     "metadata": {},
     "output_type": "display_data"
    }
   ],
   "source": [
    "plt.figure(figsize=(8, 4))\n",
    "for i in range(0, len(center)):\n",
    "    plt.plot(kmeans.cluster_centers_[i], marker='o', label='Cluster %s' % i)\n",
    "plt.tick_params(axis='both', which='major', labelsize=10)\n",
    "plt.xticks(range(0, len(gaze_features)), gaze_features, fontsize=18, rotation=90)\n",
    "plt.legend(fontsize=10)\n",
    "plt.show()"
   ]
  },
  {
   "cell_type": "code",
   "execution_count": 131,
   "id": "e8c9d856",
   "metadata": {},
   "outputs": [],
   "source": [
    "pca = PCA(n_components=2)\n",
    "X_reduced = pca.fit_transform(X)"
   ]
  },
  {
   "cell_type": "code",
   "execution_count": 132,
   "id": "8d34799c",
   "metadata": {},
   "outputs": [
    {
     "data": {
      "image/png": "[encoded data removed]",
      "text/plain": [
       "<Figure size 640x480 with 1 Axes>"
      ]
     },
     "metadata": {},
     "output_type": "display_data"
    }
   ],
   "source": [
    "plt.scatter(X_reduced[:, 0], X_reduced[:, 1], c=kmeans.labels_, s=20)\n",
    "plt.tick_params(axis='both', which='major', labelsize=22)\n",
    "plt.show()"
   ]
  },
  {
   "cell_type": "markdown",
   "id": "8a65609e",
   "metadata": {},
   "source": [
    "### Creating one dataset per cluster"
   ]
  },
  {
   "cell_type": "code",
   "execution_count": 133,
   "id": "1849fac6",
   "metadata": {},
   "outputs": [
    {
     "name": "stdout",
     "output_type": "stream",
     "text": [
      "[{'ge_17', 'ge_6'}, {'ge_30', 'ge_12', 'ge_39', 'ge_53', 'ge_13', 'ge_10', 'ge_3', 'ge_47'}, {'ge_32', 'ge_8', 'ge_9', 'ge_41', 'ge_37', 'ge_1'}]\n"
     ]
    }
   ],
   "source": [
    "readers_clusters = list()\n",
    "\n",
    "for i in range(selected_k):\n",
    "    readers_clusters.append(set(reader_grouped_df.loc[kmeans.labels_ == i, \"uniform_id\"]))\n",
    "    \n",
    "print(readers_clusters)"
   ]
  },
  {
   "cell_type": "code",
   "execution_count": 134,
   "id": "8d4d4874",
   "metadata": {},
   "outputs": [],
   "source": [
    "clustered_dfs = list()\n",
    "\n",
    "for readers_cluster in readers_clusters:\n",
    "    clustered_df = df_complete_common_user_lang[df_complete_common_user_lang.uniform_id.isin(readers_cluster)]\n",
    "    clustered_dfs.append(clustered_df)"
   ]
  },
  {
   "cell_type": "code",
   "execution_count": 135,
   "id": "402a4e0a",
   "metadata": {},
   "outputs": [
    {
     "data": {
      "text/plain": [
       "[        trialid  sentnum  ianum               ia lang uniform_id  skip  \\\n",
       " 202535      1.0      1.0    1.0               In   ge       ge_6   0.0   \n",
       " 202536      1.0      1.0    2.0              der   ge       ge_6   0.0   \n",
       " 202537      1.0      1.0    3.0            alten   ge       ge_6   0.0   \n",
       " 202538      1.0      1.0    4.0        römischen   ge       ge_6   0.0   \n",
       " 202539      1.0      1.0    5.0         Religion   ge       ge_6   0.0   \n",
       " ...         ...      ...    ...              ...  ...        ...   ...   \n",
       " 222592     12.0      8.0  156.0      Regierungen   ge      ge_17   0.0   \n",
       " 222593     12.0      8.0  157.0              und   ge      ge_17   1.0   \n",
       " 222594     12.0      8.0  158.0  internationalen   ge      ge_17   0.0   \n",
       " 222595     12.0      8.0  159.0   Organisationen   ge      ge_17   0.0   \n",
       " 222596     12.0      8.0  160.0        einigten.   ge      ge_17   0.0   \n",
       " \n",
       "         firstfix.dur  firstrun.dur     dur  firstrun.nfix  nfix  refix  reread  \n",
       " 202535         144.0         144.0   144.0            1.0   1.0    0.0     0.0  \n",
       " 202536         115.0         115.0  1171.0            1.0   5.0    0.0     1.0  \n",
       " 202537         223.0         223.0  1727.0            1.0   8.0    1.0     1.0  \n",
       " 202538         104.0         104.0  2030.0            1.0  11.0    0.0     1.0  \n",
       " 202539         184.0         184.0  1820.0            1.0   9.0    0.0     1.0  \n",
       " ...              ...           ...     ...            ...   ...    ...     ...  \n",
       " 222592         172.0         172.0  3314.0            1.0  13.0    1.0     1.0  \n",
       " 222593           0.0           0.0     0.0            0.0   0.0    0.0     0.0  \n",
       " 222594         250.0         612.0  1988.0            3.0  10.0    1.0     1.0  \n",
       " 222595         222.0         389.0  1465.0            2.0   8.0    1.0     1.0  \n",
       " 222596         243.0        1515.0  4848.0            7.0  18.0    1.0     1.0  \n",
       " \n",
       " [4054 rows x 14 columns],\n",
       "         trialid  sentnum  ianum               ia lang uniform_id  skip  \\\n",
       " 197633      1.0      1.0    1.0               In   ge       ge_3   0.0   \n",
       " 197634      1.0      1.0    2.0              der   ge       ge_3   0.0   \n",
       " 197635      1.0      1.0    3.0            alten   ge       ge_3   0.0   \n",
       " 197636      1.0      1.0    4.0        römischen   ge       ge_3   0.0   \n",
       " 197637      1.0      1.0    5.0         Religion   ge       ge_3   0.0   \n",
       " ...         ...      ...    ...              ...  ...        ...   ...   \n",
       " 269608     12.0      8.0  156.0      Regierungen   ge      ge_53   0.0   \n",
       " 269609     12.0      8.0  157.0              und   ge      ge_53   1.0   \n",
       " 269610     12.0      8.0  158.0  internationalen   ge      ge_53   0.0   \n",
       " 269611     12.0      8.0  159.0   Organisationen   ge      ge_53   0.0   \n",
       " 269612     12.0      8.0  160.0        einigten.   ge      ge_53   0.0   \n",
       " \n",
       "         firstfix.dur  firstrun.dur    dur  firstrun.nfix  nfix  refix  reread  \n",
       " 197633         180.0         180.0  180.0            1.0   1.0    0.0     0.0  \n",
       " 197634         288.0         288.0  288.0            1.0   1.0    0.0     0.0  \n",
       " 197635         163.0         163.0  444.0            1.0   3.0    0.0     1.0  \n",
       " 197636         294.0         294.0  294.0            1.0   1.0    0.0     0.0  \n",
       " 197637         226.0         488.0  488.0            2.0   2.0    1.0     0.0  \n",
       " ...              ...           ...    ...            ...   ...    ...     ...  \n",
       " 269608         182.0         182.0  182.0            1.0   1.0    0.0     0.0  \n",
       " 269609           0.0           0.0    0.0            0.0   0.0    0.0     0.0  \n",
       " 269610         338.0         338.0  338.0            1.0   1.0    0.0     0.0  \n",
       " 269611         286.0         286.0  286.0            1.0   1.0    0.0     0.0  \n",
       " 269612         273.0         919.0  919.0            2.0   2.0    1.0     0.0  \n",
       " \n",
       " [16216 rows x 14 columns],\n",
       "         trialid  sentnum  ianum               ia lang uniform_id  skip  \\\n",
       " 193910      1.0      1.0    1.0               In   ge       ge_1   0.0   \n",
       " 193911      1.0      1.0    2.0              der   ge       ge_1   0.0   \n",
       " 193912      1.0      1.0    3.0            alten   ge       ge_1   0.0   \n",
       " 193913      1.0      1.0    4.0        römischen   ge       ge_1   0.0   \n",
       " 193914      1.0      1.0    5.0         Religion   ge       ge_1   0.0   \n",
       " ...         ...      ...    ...              ...  ...        ...   ...   \n",
       " 253239     12.0      8.0  156.0      Regierungen   ge      ge_41   0.0   \n",
       " 253240     12.0      8.0  157.0              und   ge      ge_41   1.0   \n",
       " 253241     12.0      8.0  158.0  internationalen   ge      ge_41   0.0   \n",
       " 253242     12.0      8.0  159.0   Organisationen   ge      ge_41   0.0   \n",
       " 253243     12.0      8.0  160.0        einigten.   ge      ge_41   0.0   \n",
       " \n",
       "         firstfix.dur  firstrun.dur     dur  firstrun.nfix  nfix  refix  reread  \n",
       " 193910         164.0         164.0   164.0            1.0   1.0    0.0     0.0  \n",
       " 193911         166.0         166.0   657.0            1.0   3.0    0.0     1.0  \n",
       " 193912         144.0         144.0   717.0            1.0   3.0    0.0     1.0  \n",
       " 193913         219.0         219.0  1231.0            1.0   6.0    0.0     1.0  \n",
       " 193914         151.0         151.0  1338.0            1.0   8.0    1.0     1.0  \n",
       " ...              ...           ...     ...            ...   ...    ...     ...  \n",
       " 253239         239.0         239.0   239.0            1.0   1.0    0.0     0.0  \n",
       " 253240           0.0           0.0     0.0            0.0   0.0    0.0     0.0  \n",
       " 253241         278.0         278.0   278.0            1.0   1.0    0.0     0.0  \n",
       " 253242         136.0         136.0   136.0            1.0   1.0    0.0     0.0  \n",
       " 253243         282.0         282.0   282.0            1.0   1.0    0.0     0.0  \n",
       " \n",
       " [12162 rows x 14 columns]]"
      ]
     },
     "execution_count": 135,
     "metadata": {},
     "output_type": "execute_result"
    }
   ],
   "source": [
    "clustered_dfs"
   ]
  },
  {
   "cell_type": "markdown",
   "id": "2ecd354d",
   "metadata": {},
   "source": [
    "### Mean gaze features inside each clustered dataset"
   ]
  },
  {
   "cell_type": "code",
   "execution_count": 136,
   "id": "1da69d0e",
   "metadata": {},
   "outputs": [
    {
     "name": "stdout",
     "output_type": "stream",
     "text": [
      "Number of sentence after group : 115\n",
      "Number of sentence after group : 115\n",
      "Number of sentence after group : 115\n"
     ]
    }
   ],
   "source": [
    "group_by_cols = [\"trialid\", \"sentnum\", \"ianum\", \"ia\", \"lang\"]\n",
    "grouped_cols = [\"skip\", \"firstfix.dur\", \"firstrun.dur\", \"dur\", \"firstrun.nfix\", \"nfix\", \"refix\", \"reread\"]\n",
    "\n",
    "for i in range(len(clustered_dfs)):    \n",
    "    grouped_clusterd_df = group_by_users(clustered_dfs[i])\n",
    "    \n",
    "    grouped_clusterd_df.rename(columns={\"skip\" : \"prob_skip\", \"refix\" : \"prob_refix\", \"reread\" : \"prob_reread\"}, inplace=True)\n",
    "    \n",
    "    grouped_clusterd_df.ianum = grouped_clusterd_df.ianum.astype(int)\n",
    "    grouped_clusterd_df.trialid = grouped_clusterd_df.trialid.astype(int)\n",
    "    grouped_clusterd_df.trial_sentnum = grouped_clusterd_df.trial_sentnum.astype(int)\n",
    "    \n",
    "    clustered_dfs[i] = grouped_clusterd_df"
   ]
  },
  {
   "cell_type": "code",
   "execution_count": 137,
   "id": "1574b5e0",
   "metadata": {},
   "outputs": [
    {
     "name": "stdout",
     "output_type": "stream",
     "text": [
      "               prob_skip  firstrun.dur       dur  firstrun.nfix      nfix  \\\n",
      "prob_skip       1.000000     -0.530335 -0.413302      -0.590838 -0.457387   \n",
      "firstrun.dur   -0.530335      1.000000  0.678769       0.931769  0.646014   \n",
      "dur            -0.413302      0.678769  1.000000       0.672372  0.972538   \n",
      "firstrun.nfix  -0.590838      0.931769  0.672372       1.000000  0.699098   \n",
      "nfix           -0.457387      0.646014  0.972538       0.699098  1.000000   \n",
      "prob_refix     -0.346209      0.669830  0.617570       0.738393  0.662029   \n",
      "prob_reread    -0.382208      0.265148  0.566664       0.293625  0.624942   \n",
      "\n",
      "               prob_refix  prob_reread  \n",
      "prob_skip       -0.346209    -0.382208  \n",
      "firstrun.dur     0.669830     0.265148  \n",
      "dur              0.617570     0.566664  \n",
      "firstrun.nfix    0.738393     0.293625  \n",
      "nfix             0.662029     0.624942  \n",
      "prob_refix       1.000000     0.332661  \n",
      "prob_reread      0.332661     1.000000  \n",
      "               prob_skip  firstrun.dur       dur  firstrun.nfix      nfix  \\\n",
      "prob_skip       1.000000     -0.672609 -0.654180      -0.713334 -0.679497   \n",
      "firstrun.dur   -0.672609      1.000000  0.925865       0.946697  0.872060   \n",
      "dur            -0.654180      0.925865  1.000000       0.896766  0.964750   \n",
      "firstrun.nfix  -0.713334      0.946697  0.896766       1.000000  0.923385   \n",
      "nfix           -0.679497      0.872060  0.964750       0.923385  1.000000   \n",
      "prob_refix     -0.539321      0.822556  0.819489       0.881479  0.856184   \n",
      "prob_reread    -0.396596      0.315660  0.589673       0.347624  0.629981   \n",
      "\n",
      "               prob_refix  prob_reread  \n",
      "prob_skip       -0.539321    -0.396596  \n",
      "firstrun.dur     0.822556     0.315660  \n",
      "dur              0.819489     0.589673  \n",
      "firstrun.nfix    0.881479     0.347624  \n",
      "nfix             0.856184     0.629981  \n",
      "prob_refix       1.000000     0.372364  \n",
      "prob_reread      0.372364     1.000000  \n",
      "               prob_skip  firstrun.dur       dur  firstrun.nfix      nfix  \\\n",
      "prob_skip       1.000000     -0.766385 -0.691209      -0.800835 -0.714934   \n",
      "firstrun.dur   -0.766385      1.000000  0.873430       0.947263  0.834726   \n",
      "dur            -0.691209      0.873430  1.000000       0.840593  0.971547   \n",
      "firstrun.nfix  -0.800835      0.947263  0.840593       1.000000  0.869283   \n",
      "nfix           -0.714934      0.834726  0.971547       0.869283  1.000000   \n",
      "prob_refix     -0.493833      0.778510  0.772349       0.830960  0.807994   \n",
      "prob_reread    -0.485394      0.446509  0.727817       0.449548  0.749903   \n",
      "\n",
      "               prob_refix  prob_reread  \n",
      "prob_skip       -0.493833    -0.485394  \n",
      "firstrun.dur     0.778510     0.446509  \n",
      "dur              0.772349     0.727817  \n",
      "firstrun.nfix    0.830960     0.449548  \n",
      "nfix             0.807994     0.749903  \n",
      "prob_refix       1.000000     0.429970  \n",
      "prob_reread      0.429970     1.000000  \n"
     ]
    }
   ],
   "source": [
    "for clustered_df in clustered_dfs:\n",
    "    print(clustered_df[[\"prob_skip\", \"firstrun.dur\", \"dur\", \"firstrun.nfix\", \"nfix\", \"prob_refix\", \"prob_reread\"]].corr())"
   ]
  },
  {
   "cell_type": "code",
   "execution_count": 138,
   "id": "ffeab460",
   "metadata": {},
   "outputs": [
    {
     "name": "stdout",
     "output_type": "stream",
     "text": [
      "Len dataset_0 : (2027, 14)\n",
      "Len dataset_1 : (2027, 14)\n",
      "Len dataset_2 : (2027, 14)\n"
     ]
    }
   ],
   "source": [
    "for i, clustered_df in enumerate(clustered_dfs):\n",
    "    print(f\"Len dataset_{i} : {clustered_df.shape}\")"
   ]
  },
  {
   "cell_type": "markdown",
   "id": "bef81e0f",
   "metadata": {},
   "source": [
    "### Saving datasets"
   ]
  },
  {
   "cell_type": "code",
   "execution_count": 139,
   "id": "500ca603",
   "metadata": {},
   "outputs": [],
   "source": [
    "for i, clustered_df in enumerate(clustered_dfs):\n",
    "    clustered_df.to_csv(f\"datasets/{cluster_lang}/cluster_{i}_dataset.csv\")"
   ]
  },
  {
   "cell_type": "markdown",
   "id": "59a7c479",
   "metadata": {},
   "source": [
    "### see distribution of data based on trial id\n",
    "\n",
    "we can use last twe trial to compute validation and test set"
   ]
  },
  {
   "cell_type": "code",
   "execution_count": 140,
   "id": "812250bd",
   "metadata": {},
   "outputs": [
    {
     "name": "stdout",
     "output_type": "stream",
     "text": [
      "\t--- Cluster 0 ---\n",
      "Percentage of samples in 1.0-th trial : 0.09%\n",
      "Percentage of samples in 2.0-th trial : 0.08%\n",
      "Percentage of samples in 3.0-th trial : 0.09%\n",
      "Percentage of samples in 4.0-th trial : 0.09%\n",
      "Percentage of samples in 5.0-th trial : 0.08%\n",
      "Percentage of samples in 6.0-th trial : 0.08%\n",
      "Percentage of samples in 7.0-th trial : 0.10%\n",
      "Percentage of samples in 8.0-th trial : 0.07%\n",
      "Percentage of samples in 9.0-th trial : 0.08%\n",
      "Percentage of samples in 10.0-th trial : 0.09%\n",
      "Percentage of samples in 11.0-th trial : 0.08%\n",
      "Percentage of samples in 12.0-th trial : 0.08%\n",
      "\n",
      "\t--- Cluster 1 ---\n",
      "Percentage of samples in 1.0-th trial : 0.09%\n",
      "Percentage of samples in 2.0-th trial : 0.08%\n",
      "Percentage of samples in 3.0-th trial : 0.09%\n",
      "Percentage of samples in 4.0-th trial : 0.09%\n",
      "Percentage of samples in 5.0-th trial : 0.08%\n",
      "Percentage of samples in 6.0-th trial : 0.08%\n",
      "Percentage of samples in 7.0-th trial : 0.10%\n",
      "Percentage of samples in 8.0-th trial : 0.07%\n",
      "Percentage of samples in 9.0-th trial : 0.08%\n",
      "Percentage of samples in 10.0-th trial : 0.09%\n",
      "Percentage of samples in 11.0-th trial : 0.08%\n",
      "Percentage of samples in 12.0-th trial : 0.08%\n",
      "\n",
      "\t--- Cluster 2 ---\n",
      "Percentage of samples in 1.0-th trial : 0.09%\n",
      "Percentage of samples in 2.0-th trial : 0.08%\n",
      "Percentage of samples in 3.0-th trial : 0.09%\n",
      "Percentage of samples in 4.0-th trial : 0.09%\n",
      "Percentage of samples in 5.0-th trial : 0.08%\n",
      "Percentage of samples in 6.0-th trial : 0.08%\n",
      "Percentage of samples in 7.0-th trial : 0.10%\n",
      "Percentage of samples in 8.0-th trial : 0.07%\n",
      "Percentage of samples in 9.0-th trial : 0.08%\n",
      "Percentage of samples in 10.0-th trial : 0.09%\n",
      "Percentage of samples in 11.0-th trial : 0.08%\n",
      "Percentage of samples in 12.0-th trial : 0.08%\n",
      "\n"
     ]
    }
   ],
   "source": [
    "for i, clustered_df in enumerate(clustered_dfs):\n",
    "    \n",
    "    print(f\"\\t--- Cluster {i} ---\")\n",
    "    \n",
    "    for trial in df.trialid.unique():\n",
    "        print(f\"Percentage of samples in {trial}-th trial : {np.sum(clustered_df.trialid == trial)/clustered_df.shape[0]:.2f}%\")\n",
    "\n",
    "    print()"
   ]
  }
 ],
 "metadata": {
  "kernelspec": {
   "display_name": "ml-meco",
   "language": "python",
   "name": "ml-meco"
  },
  "language_info": {
   "codemirror_mode": {
    "name": "ipython",
    "version": 3
   },
   "file_extension": ".py",
   "mimetype": "text/x-python",
   "name": "python",
   "nbconvert_exporter": "python",
   "pygments_lexer": "ipython3",
   "version": "3.9.15"
  }
 },
 "nbformat": 4,
 "nbformat_minor": 5
}

{
 "cells": [
  {
   "cell_type": "markdown",
   "id": "b1e45739",
   "metadata": {},
   "source": [
    "# MECO\n",
    "\n",
    "Feature extraction and data preparation for the MECO dataset\n",
    "\n",
    "We chose the \"joint_data_trimmed.dat\" file in the MECO website (https://meco-read.com/).\n",
    "\n",
    "Interesting paper that describe the dataset, https://link.springer.com/epdf/10.3758/s13428-021-01772-6?sharing_token=As4e3osuA15IaUCKtCvDT5AH0g46feNdnc402WrhzyoEtpF3alySPm1lAWocS1ewk9OZlpPc3CqibACC23iBC_nacc6BD4_GPYLuUZJAvfWHoa8e0hjmhhFn9fLIgIRd3VzSfjlcpQ3gS4EiUY2YpRXjDSh3hB5Zx5kZpkk4yIQ=."
   ]
  },
  {
   "cell_type": "markdown",
   "id": "57148942",
   "metadata": {},
   "source": [
    "## Import Libs and Data"
   ]
  },
  {
   "cell_type": "code",
   "execution_count": 1,
   "id": "f35dd4c8",
   "metadata": {},
   "outputs": [],
   "source": [
    "import pandas as pd\n",
    "import numpy as np"
   ]
  },
  {
   "cell_type": "code",
   "execution_count": 2,
   "id": "c2622fc9",
   "metadata": {},
   "outputs": [],
   "source": [
    "df = pd.read_csv(\"joint_data_trimmed.csv\", index_col=0)"
   ]
  },
  {
   "cell_type": "markdown",
   "id": "3a8457b4",
   "metadata": {},
   "source": [
    "We have chose to use the following features for each sample:\n",
    "\n",
    "- **Skipping**: a binary index of whether the word was fixated at least once during the entire reading of the text [and not only during the first pass].\n",
    "- **First Fixation**: the duration of the first fixation landing on the word.\n",
    "- **Gaze Duration**: the summed duration of fixations on the word in the first pass, i.e., before the gaze leaves it for the first time.\n",
    "- **Total Fixation Duration**: the summed duration of all fixations on the word.\n",
    "- **First-run Number of Fixation**: the number of fixations on a word during the first pass.\n",
    "- **Total Number of Fixations**: number of fixations on a word overall.\n",
    "- **Regression**: a binary index of whether the gaze returned to the word after inspecting further textual material.\n",
    "- **Rereading**: a binary index of whether the word elicited fixations after the first pass.\n"
   ]
  },
  {
   "cell_type": "code",
   "execution_count": 3,
   "id": "e3b66d37",
   "metadata": {},
   "outputs": [],
   "source": [
    "# following a paper cited on the MECO website, i will use a subset of the gaze features\n",
    "gaze_features = [\"skip\", \"firstfix.dur\", \"firstrun.dur\", \"dur\", \"firstrun.nfix\", \"nfix\", \"refix\", \"reread\"]\n",
    "basic_features = [\"trialid\", \"sentnum\", \"ianum\", \"ia\", \"lang\", \"uniform_id\"]\n",
    "df = df[basic_features + gaze_features]"
   ]
  },
  {
   "cell_type": "code",
   "execution_count": 4,
   "id": "ac4e11f4",
   "metadata": {},
   "outputs": [
    {
     "data": {
      "text/html": [
       "<div>\n",
       "<style scoped>\n",
       "    .dataframe tbody tr th:only-of-type {\n",
       "        vertical-align: middle;\n",
       "    }\n",
       "\n",
       "    .dataframe tbody tr th {\n",
       "        vertical-align: top;\n",
       "    }\n",
       "\n",
       "    .dataframe thead th {\n",
       "        text-align: right;\n",
       "    }\n",
       "</style>\n",
       "<table border=\"1\" class=\"dataframe\">\n",
       "  <thead>\n",
       "    <tr style=\"text-align: right;\">\n",
       "      <th></th>\n",
       "      <th>trialid</th>\n",
       "      <th>sentnum</th>\n",
       "      <th>ianum</th>\n",
       "      <th>ia</th>\n",
       "      <th>lang</th>\n",
       "      <th>uniform_id</th>\n",
       "      <th>skip</th>\n",
       "      <th>firstfix.dur</th>\n",
       "      <th>firstrun.dur</th>\n",
       "      <th>dur</th>\n",
       "      <th>firstrun.nfix</th>\n",
       "      <th>nfix</th>\n",
       "      <th>refix</th>\n",
       "      <th>reread</th>\n",
       "    </tr>\n",
       "  </thead>\n",
       "  <tbody>\n",
       "    <tr>\n",
       "      <th>1</th>\n",
       "      <td>1.0</td>\n",
       "      <td>1.0</td>\n",
       "      <td>1.0</td>\n",
       "      <td>Janus</td>\n",
       "      <td>du</td>\n",
       "      <td>du_1</td>\n",
       "      <td>0.0</td>\n",
       "      <td>154.0</td>\n",
       "      <td>154.0</td>\n",
       "      <td>400.0</td>\n",
       "      <td>1.0</td>\n",
       "      <td>2.0</td>\n",
       "      <td>0.0</td>\n",
       "      <td>1.0</td>\n",
       "    </tr>\n",
       "    <tr>\n",
       "      <th>2</th>\n",
       "      <td>1.0</td>\n",
       "      <td>1.0</td>\n",
       "      <td>2.0</td>\n",
       "      <td>is</td>\n",
       "      <td>du</td>\n",
       "      <td>du_1</td>\n",
       "      <td>1.0</td>\n",
       "      <td>NaN</td>\n",
       "      <td>NaN</td>\n",
       "      <td>NaN</td>\n",
       "      <td>NaN</td>\n",
       "      <td>NaN</td>\n",
       "      <td>NaN</td>\n",
       "      <td>NaN</td>\n",
       "    </tr>\n",
       "    <tr>\n",
       "      <th>3</th>\n",
       "      <td>1.0</td>\n",
       "      <td>1.0</td>\n",
       "      <td>3.0</td>\n",
       "      <td>in</td>\n",
       "      <td>du</td>\n",
       "      <td>du_1</td>\n",
       "      <td>0.0</td>\n",
       "      <td>551.0</td>\n",
       "      <td>551.0</td>\n",
       "      <td>551.0</td>\n",
       "      <td>1.0</td>\n",
       "      <td>1.0</td>\n",
       "      <td>0.0</td>\n",
       "      <td>0.0</td>\n",
       "    </tr>\n",
       "    <tr>\n",
       "      <th>4</th>\n",
       "      <td>1.0</td>\n",
       "      <td>1.0</td>\n",
       "      <td>4.0</td>\n",
       "      <td>de</td>\n",
       "      <td>du</td>\n",
       "      <td>du_1</td>\n",
       "      <td>1.0</td>\n",
       "      <td>NaN</td>\n",
       "      <td>NaN</td>\n",
       "      <td>NaN</td>\n",
       "      <td>NaN</td>\n",
       "      <td>NaN</td>\n",
       "      <td>NaN</td>\n",
       "      <td>NaN</td>\n",
       "    </tr>\n",
       "    <tr>\n",
       "      <th>5</th>\n",
       "      <td>1.0</td>\n",
       "      <td>1.0</td>\n",
       "      <td>5.0</td>\n",
       "      <td>oude</td>\n",
       "      <td>du</td>\n",
       "      <td>du_1</td>\n",
       "      <td>0.0</td>\n",
       "      <td>189.0</td>\n",
       "      <td>189.0</td>\n",
       "      <td>439.0</td>\n",
       "      <td>1.0</td>\n",
       "      <td>2.0</td>\n",
       "      <td>0.0</td>\n",
       "      <td>1.0</td>\n",
       "    </tr>\n",
       "  </tbody>\n",
       "</table>\n",
       "</div>"
      ],
      "text/plain": [
       "   trialid  sentnum  ianum     ia lang uniform_id  skip  firstfix.dur  \\\n",
       "1      1.0      1.0    1.0  Janus   du       du_1   0.0         154.0   \n",
       "2      1.0      1.0    2.0     is   du       du_1   1.0           NaN   \n",
       "3      1.0      1.0    3.0     in   du       du_1   0.0         551.0   \n",
       "4      1.0      1.0    4.0     de   du       du_1   1.0           NaN   \n",
       "5      1.0      1.0    5.0   oude   du       du_1   0.0         189.0   \n",
       "\n",
       "   firstrun.dur    dur  firstrun.nfix  nfix  refix  reread  \n",
       "1         154.0  400.0            1.0   2.0    0.0     1.0  \n",
       "2           NaN    NaN            NaN   NaN    NaN     NaN  \n",
       "3         551.0  551.0            1.0   1.0    0.0     0.0  \n",
       "4           NaN    NaN            NaN   NaN    NaN     NaN  \n",
       "5         189.0  439.0            1.0   2.0    0.0     1.0  "
      ]
     },
     "execution_count": 4,
     "metadata": {},
     "output_type": "execute_result"
    }
   ],
   "source": [
    "df.head()"
   ]
  },
  {
   "cell_type": "markdown",
   "id": "ea3527c4",
   "metadata": {},
   "source": [
    "## Data Understanding\n",
    "\n",
    "We can notice that there are some Null elements, for the gaze_features except skip, those Null elements are in the rows with skip == 1, representing the fact that cannot be captured."
   ]
  },
  {
   "cell_type": "code",
   "execution_count": 5,
   "id": "61b9b7ff",
   "metadata": {},
   "outputs": [
    {
     "name": "stdout",
     "output_type": "stream",
     "text": [
      "<class 'pandas.core.frame.DataFrame'>\n",
      "Int64Index: 855123 entries, 1 to 855123\n",
      "Data columns (total 14 columns):\n",
      " #   Column         Non-Null Count   Dtype  \n",
      "---  ------         --------------   -----  \n",
      " 0   trialid        855122 non-null  float64\n",
      " 1   sentnum        855122 non-null  float64\n",
      " 2   ianum          855122 non-null  float64\n",
      " 3   ia             854741 non-null  object \n",
      " 4   lang           855122 non-null  object \n",
      " 5   uniform_id     855123 non-null  object \n",
      " 6   skip           855122 non-null  float64\n",
      " 7   firstfix.dur   639530 non-null  float64\n",
      " 8   firstrun.dur   639530 non-null  float64\n",
      " 9   dur            639530 non-null  float64\n",
      " 10  firstrun.nfix  639530 non-null  float64\n",
      " 11  nfix           639530 non-null  float64\n",
      " 12  refix          639454 non-null  float64\n",
      " 13  reread         639530 non-null  float64\n",
      "dtypes: float64(11), object(3)\n",
      "memory usage: 97.9+ MB\n"
     ]
    }
   ],
   "source": [
    "df.info()"
   ]
  },
  {
   "cell_type": "code",
   "execution_count": 6,
   "id": "ced96606",
   "metadata": {},
   "outputs": [
    {
     "data": {
      "text/html": [
       "<div>\n",
       "<style scoped>\n",
       "    .dataframe tbody tr th:only-of-type {\n",
       "        vertical-align: middle;\n",
       "    }\n",
       "\n",
       "    .dataframe tbody tr th {\n",
       "        vertical-align: top;\n",
       "    }\n",
       "\n",
       "    .dataframe thead th {\n",
       "        text-align: right;\n",
       "    }\n",
       "</style>\n",
       "<table border=\"1\" class=\"dataframe\">\n",
       "  <thead>\n",
       "    <tr style=\"text-align: right;\">\n",
       "      <th></th>\n",
       "      <th>trialid</th>\n",
       "      <th>sentnum</th>\n",
       "      <th>ianum</th>\n",
       "      <th>skip</th>\n",
       "      <th>firstfix.dur</th>\n",
       "      <th>firstrun.dur</th>\n",
       "      <th>dur</th>\n",
       "      <th>firstrun.nfix</th>\n",
       "      <th>nfix</th>\n",
       "      <th>refix</th>\n",
       "      <th>reread</th>\n",
       "    </tr>\n",
       "  </thead>\n",
       "  <tbody>\n",
       "    <tr>\n",
       "      <th>count</th>\n",
       "      <td>855122.000000</td>\n",
       "      <td>855122.000000</td>\n",
       "      <td>855122.000000</td>\n",
       "      <td>855122.000000</td>\n",
       "      <td>639530.000000</td>\n",
       "      <td>639530.000000</td>\n",
       "      <td>639530.000000</td>\n",
       "      <td>639530.000000</td>\n",
       "      <td>639530.000000</td>\n",
       "      <td>639454.000000</td>\n",
       "      <td>639530.000000</td>\n",
       "    </tr>\n",
       "    <tr>\n",
       "      <th>mean</th>\n",
       "      <td>6.319812</td>\n",
       "      <td>5.100584</td>\n",
       "      <td>84.710652</td>\n",
       "      <td>0.252118</td>\n",
       "      <td>214.771812</td>\n",
       "      <td>274.000635</td>\n",
       "      <td>396.190598</td>\n",
       "      <td>1.291295</td>\n",
       "      <td>1.870305</td>\n",
       "      <td>0.270565</td>\n",
       "      <td>0.315846</td>\n",
       "    </tr>\n",
       "    <tr>\n",
       "      <th>std</th>\n",
       "      <td>3.440210</td>\n",
       "      <td>2.697842</td>\n",
       "      <td>51.443266</td>\n",
       "      <td>0.434229</td>\n",
       "      <td>94.834265</td>\n",
       "      <td>181.464901</td>\n",
       "      <td>332.095123</td>\n",
       "      <td>0.666067</td>\n",
       "      <td>1.378493</td>\n",
       "      <td>0.444252</td>\n",
       "      <td>0.464852</td>\n",
       "    </tr>\n",
       "    <tr>\n",
       "      <th>min</th>\n",
       "      <td>1.000000</td>\n",
       "      <td>1.000000</td>\n",
       "      <td>1.000000</td>\n",
       "      <td>0.000000</td>\n",
       "      <td>2.000000</td>\n",
       "      <td>2.000000</td>\n",
       "      <td>2.000000</td>\n",
       "      <td>1.000000</td>\n",
       "      <td>1.000000</td>\n",
       "      <td>0.000000</td>\n",
       "      <td>0.000000</td>\n",
       "    </tr>\n",
       "    <tr>\n",
       "      <th>25%</th>\n",
       "      <td>3.000000</td>\n",
       "      <td>3.000000</td>\n",
       "      <td>41.000000</td>\n",
       "      <td>0.000000</td>\n",
       "      <td>156.000000</td>\n",
       "      <td>171.000000</td>\n",
       "      <td>199.000000</td>\n",
       "      <td>1.000000</td>\n",
       "      <td>1.000000</td>\n",
       "      <td>0.000000</td>\n",
       "      <td>0.000000</td>\n",
       "    </tr>\n",
       "    <tr>\n",
       "      <th>50%</th>\n",
       "      <td>6.000000</td>\n",
       "      <td>5.000000</td>\n",
       "      <td>82.000000</td>\n",
       "      <td>0.000000</td>\n",
       "      <td>200.000000</td>\n",
       "      <td>229.000000</td>\n",
       "      <td>297.000000</td>\n",
       "      <td>1.000000</td>\n",
       "      <td>1.000000</td>\n",
       "      <td>0.000000</td>\n",
       "      <td>0.000000</td>\n",
       "    </tr>\n",
       "    <tr>\n",
       "      <th>75%</th>\n",
       "      <td>9.000000</td>\n",
       "      <td>7.000000</td>\n",
       "      <td>124.000000</td>\n",
       "      <td>1.000000</td>\n",
       "      <td>255.000000</td>\n",
       "      <td>324.000000</td>\n",
       "      <td>478.000000</td>\n",
       "      <td>1.000000</td>\n",
       "      <td>2.000000</td>\n",
       "      <td>1.000000</td>\n",
       "      <td>1.000000</td>\n",
       "    </tr>\n",
       "    <tr>\n",
       "      <th>max</th>\n",
       "      <td>12.000000</td>\n",
       "      <td>16.000000</td>\n",
       "      <td>243.000000</td>\n",
       "      <td>1.000000</td>\n",
       "      <td>12688.000000</td>\n",
       "      <td>12688.000000</td>\n",
       "      <td>15579.000000</td>\n",
       "      <td>44.000000</td>\n",
       "      <td>50.000000</td>\n",
       "      <td>1.000000</td>\n",
       "      <td>1.000000</td>\n",
       "    </tr>\n",
       "  </tbody>\n",
       "</table>\n",
       "</div>"
      ],
      "text/plain": [
       "             trialid        sentnum          ianum           skip  \\\n",
       "count  855122.000000  855122.000000  855122.000000  855122.000000   \n",
       "mean        6.319812       5.100584      84.710652       0.252118   \n",
       "std         3.440210       2.697842      51.443266       0.434229   \n",
       "min         1.000000       1.000000       1.000000       0.000000   \n",
       "25%         3.000000       3.000000      41.000000       0.000000   \n",
       "50%         6.000000       5.000000      82.000000       0.000000   \n",
       "75%         9.000000       7.000000     124.000000       1.000000   \n",
       "max        12.000000      16.000000     243.000000       1.000000   \n",
       "\n",
       "        firstfix.dur   firstrun.dur            dur  firstrun.nfix  \\\n",
       "count  639530.000000  639530.000000  639530.000000  639530.000000   \n",
       "mean      214.771812     274.000635     396.190598       1.291295   \n",
       "std        94.834265     181.464901     332.095123       0.666067   \n",
       "min         2.000000       2.000000       2.000000       1.000000   \n",
       "25%       156.000000     171.000000     199.000000       1.000000   \n",
       "50%       200.000000     229.000000     297.000000       1.000000   \n",
       "75%       255.000000     324.000000     478.000000       1.000000   \n",
       "max     12688.000000   12688.000000   15579.000000      44.000000   \n",
       "\n",
       "                nfix          refix         reread  \n",
       "count  639530.000000  639454.000000  639530.000000  \n",
       "mean        1.870305       0.270565       0.315846  \n",
       "std         1.378493       0.444252       0.464852  \n",
       "min         1.000000       0.000000       0.000000  \n",
       "25%         1.000000       0.000000       0.000000  \n",
       "50%         1.000000       0.000000       0.000000  \n",
       "75%         2.000000       1.000000       1.000000  \n",
       "max        50.000000       1.000000       1.000000  "
      ]
     },
     "execution_count": 6,
     "metadata": {},
     "output_type": "execute_result"
    }
   ],
   "source": [
    "df.describe()"
   ]
  },
  {
   "cell_type": "code",
   "execution_count": 7,
   "id": "d8c10415",
   "metadata": {},
   "outputs": [
    {
     "data": {
      "text/plain": [
       "array(['du', 'ee', 'fi', 'ge', 'gr', 'he', 'it', 'ko', 'en', 'no', nan,\n",
       "       'ru', 'sp', 'tr'], dtype=object)"
      ]
     },
     "execution_count": 7,
     "metadata": {},
     "output_type": "execute_result"
    }
   ],
   "source": [
    "df.lang.unique()"
   ]
  },
  {
   "cell_type": "markdown",
   "id": "ec70d7a3",
   "metadata": {},
   "source": [
    "Get a subset of languages, choosen look a the ones handled by mBERT (https://huggingface.co/bert-base-multilingual-cased).\n",
    "\n",
    "- **German**\n",
    "- **Italian**\n",
    "- **Russian**\n",
    "- **English**\n",
    "- **Spanish**"
   ]
  },
  {
   "cell_type": "code",
   "execution_count": 8,
   "id": "2fa714ec",
   "metadata": {},
   "outputs": [],
   "source": [
    "# get only the languages that are necessary to the project\n",
    "supported_languages = [\"ge\", \"it\", \"ru\", \"en\", \"sp\"]"
   ]
  },
  {
   "cell_type": "code",
   "execution_count": 9,
   "id": "b74a6778",
   "metadata": {},
   "outputs": [],
   "source": [
    "df = df[df.lang.isin(supported_languages)]"
   ]
  },
  {
   "cell_type": "code",
   "execution_count": 10,
   "id": "7c780880",
   "metadata": {},
   "outputs": [
    {
     "name": "stdout",
     "output_type": "stream",
     "text": [
      "<class 'pandas.core.frame.DataFrame'>\n",
      "Int64Index: 402904 entries, 193910 to 823179\n",
      "Data columns (total 14 columns):\n",
      " #   Column         Non-Null Count   Dtype  \n",
      "---  ------         --------------   -----  \n",
      " 0   trialid        402904 non-null  float64\n",
      " 1   sentnum        402904 non-null  float64\n",
      " 2   ianum          402904 non-null  float64\n",
      " 3   ia             402834 non-null  object \n",
      " 4   lang           402904 non-null  object \n",
      " 5   uniform_id     402904 non-null  object \n",
      " 6   skip           402904 non-null  float64\n",
      " 7   firstfix.dur   292582 non-null  float64\n",
      " 8   firstrun.dur   292582 non-null  float64\n",
      " 9   dur            292582 non-null  float64\n",
      " 10  firstrun.nfix  292582 non-null  float64\n",
      " 11  nfix           292582 non-null  float64\n",
      " 12  refix          292539 non-null  float64\n",
      " 13  reread         292582 non-null  float64\n",
      "dtypes: float64(11), object(3)\n",
      "memory usage: 46.1+ MB\n"
     ]
    }
   ],
   "source": [
    "df.info()"
   ]
  },
  {
   "cell_type": "code",
   "execution_count": 11,
   "id": "09d51c2d",
   "metadata": {},
   "outputs": [
    {
     "data": {
      "text/html": [
       "<div>\n",
       "<style scoped>\n",
       "    .dataframe tbody tr th:only-of-type {\n",
       "        vertical-align: middle;\n",
       "    }\n",
       "\n",
       "    .dataframe tbody tr th {\n",
       "        vertical-align: top;\n",
       "    }\n",
       "\n",
       "    .dataframe thead th {\n",
       "        text-align: right;\n",
       "    }\n",
       "</style>\n",
       "<table border=\"1\" class=\"dataframe\">\n",
       "  <thead>\n",
       "    <tr style=\"text-align: right;\">\n",
       "      <th></th>\n",
       "      <th>trialid</th>\n",
       "      <th>sentnum</th>\n",
       "      <th>ianum</th>\n",
       "      <th>ia</th>\n",
       "      <th>lang</th>\n",
       "      <th>uniform_id</th>\n",
       "      <th>skip</th>\n",
       "      <th>firstfix.dur</th>\n",
       "      <th>firstrun.dur</th>\n",
       "      <th>dur</th>\n",
       "      <th>firstrun.nfix</th>\n",
       "      <th>nfix</th>\n",
       "      <th>refix</th>\n",
       "      <th>reread</th>\n",
       "    </tr>\n",
       "  </thead>\n",
       "  <tbody>\n",
       "    <tr>\n",
       "      <th>193910</th>\n",
       "      <td>1.0</td>\n",
       "      <td>1.0</td>\n",
       "      <td>1.0</td>\n",
       "      <td>In</td>\n",
       "      <td>ge</td>\n",
       "      <td>ge_1</td>\n",
       "      <td>0.0</td>\n",
       "      <td>164.0</td>\n",
       "      <td>164.0</td>\n",
       "      <td>164.0</td>\n",
       "      <td>1.0</td>\n",
       "      <td>1.0</td>\n",
       "      <td>0.0</td>\n",
       "      <td>0.0</td>\n",
       "    </tr>\n",
       "    <tr>\n",
       "      <th>193911</th>\n",
       "      <td>1.0</td>\n",
       "      <td>1.0</td>\n",
       "      <td>2.0</td>\n",
       "      <td>der</td>\n",
       "      <td>ge</td>\n",
       "      <td>ge_1</td>\n",
       "      <td>0.0</td>\n",
       "      <td>166.0</td>\n",
       "      <td>166.0</td>\n",
       "      <td>657.0</td>\n",
       "      <td>1.0</td>\n",
       "      <td>3.0</td>\n",
       "      <td>0.0</td>\n",
       "      <td>1.0</td>\n",
       "    </tr>\n",
       "    <tr>\n",
       "      <th>193912</th>\n",
       "      <td>1.0</td>\n",
       "      <td>1.0</td>\n",
       "      <td>3.0</td>\n",
       "      <td>alten</td>\n",
       "      <td>ge</td>\n",
       "      <td>ge_1</td>\n",
       "      <td>0.0</td>\n",
       "      <td>144.0</td>\n",
       "      <td>144.0</td>\n",
       "      <td>717.0</td>\n",
       "      <td>1.0</td>\n",
       "      <td>3.0</td>\n",
       "      <td>0.0</td>\n",
       "      <td>1.0</td>\n",
       "    </tr>\n",
       "    <tr>\n",
       "      <th>193913</th>\n",
       "      <td>1.0</td>\n",
       "      <td>1.0</td>\n",
       "      <td>4.0</td>\n",
       "      <td>römischen</td>\n",
       "      <td>ge</td>\n",
       "      <td>ge_1</td>\n",
       "      <td>0.0</td>\n",
       "      <td>219.0</td>\n",
       "      <td>219.0</td>\n",
       "      <td>1231.0</td>\n",
       "      <td>1.0</td>\n",
       "      <td>6.0</td>\n",
       "      <td>0.0</td>\n",
       "      <td>1.0</td>\n",
       "    </tr>\n",
       "    <tr>\n",
       "      <th>193914</th>\n",
       "      <td>1.0</td>\n",
       "      <td>1.0</td>\n",
       "      <td>5.0</td>\n",
       "      <td>Religion</td>\n",
       "      <td>ge</td>\n",
       "      <td>ge_1</td>\n",
       "      <td>0.0</td>\n",
       "      <td>151.0</td>\n",
       "      <td>151.0</td>\n",
       "      <td>1338.0</td>\n",
       "      <td>1.0</td>\n",
       "      <td>8.0</td>\n",
       "      <td>1.0</td>\n",
       "      <td>1.0</td>\n",
       "    </tr>\n",
       "  </tbody>\n",
       "</table>\n",
       "</div>"
      ],
      "text/plain": [
       "        trialid  sentnum  ianum         ia lang uniform_id  skip  \\\n",
       "193910      1.0      1.0    1.0         In   ge       ge_1   0.0   \n",
       "193911      1.0      1.0    2.0        der   ge       ge_1   0.0   \n",
       "193912      1.0      1.0    3.0      alten   ge       ge_1   0.0   \n",
       "193913      1.0      1.0    4.0  römischen   ge       ge_1   0.0   \n",
       "193914      1.0      1.0    5.0   Religion   ge       ge_1   0.0   \n",
       "\n",
       "        firstfix.dur  firstrun.dur     dur  firstrun.nfix  nfix  refix  reread  \n",
       "193910         164.0         164.0   164.0            1.0   1.0    0.0     0.0  \n",
       "193911         166.0         166.0   657.0            1.0   3.0    0.0     1.0  \n",
       "193912         144.0         144.0   717.0            1.0   3.0    0.0     1.0  \n",
       "193913         219.0         219.0  1231.0            1.0   6.0    0.0     1.0  \n",
       "193914         151.0         151.0  1338.0            1.0   8.0    1.0     1.0  "
      ]
     },
     "execution_count": 11,
     "metadata": {},
     "output_type": "execute_result"
    }
   ],
   "source": [
    "df.head()"
   ]
  },
  {
   "cell_type": "markdown",
   "id": "2b1bc1b0",
   "metadata": {},
   "source": [
    "Notice that in the samples' gaze_features with skip == 0 there aren't Null elements."
   ]
  },
  {
   "cell_type": "code",
   "execution_count": 12,
   "id": "c524913c",
   "metadata": {},
   "outputs": [
    {
     "name": "stdout",
     "output_type": "stream",
     "text": [
      "<class 'pandas.core.frame.DataFrame'>\n",
      "Int64Index: 292582 entries, 193910 to 823178\n",
      "Data columns (total 14 columns):\n",
      " #   Column         Non-Null Count   Dtype  \n",
      "---  ------         --------------   -----  \n",
      " 0   trialid        292582 non-null  float64\n",
      " 1   sentnum        292582 non-null  float64\n",
      " 2   ianum          292582 non-null  float64\n",
      " 3   ia             292575 non-null  object \n",
      " 4   lang           292582 non-null  object \n",
      " 5   uniform_id     292582 non-null  object \n",
      " 6   skip           292582 non-null  float64\n",
      " 7   firstfix.dur   292582 non-null  float64\n",
      " 8   firstrun.dur   292582 non-null  float64\n",
      " 9   dur            292582 non-null  float64\n",
      " 10  firstrun.nfix  292582 non-null  float64\n",
      " 11  nfix           292582 non-null  float64\n",
      " 12  refix          292539 non-null  float64\n",
      " 13  reread         292582 non-null  float64\n",
      "dtypes: float64(11), object(3)\n",
      "memory usage: 33.5+ MB\n"
     ]
    }
   ],
   "source": [
    "df[df.skip==0].info()"
   ]
  },
  {
   "cell_type": "code",
   "execution_count": 13,
   "id": "69d18f33",
   "metadata": {},
   "outputs": [
    {
     "name": "stdout",
     "output_type": "stream",
     "text": [
      "<class 'pandas.core.frame.DataFrame'>\n",
      "Int64Index: 110322 entries, 193926 to 823179\n",
      "Data columns (total 14 columns):\n",
      " #   Column         Non-Null Count   Dtype  \n",
      "---  ------         --------------   -----  \n",
      " 0   trialid        110322 non-null  float64\n",
      " 1   sentnum        110322 non-null  float64\n",
      " 2   ianum          110322 non-null  float64\n",
      " 3   ia             110259 non-null  object \n",
      " 4   lang           110322 non-null  object \n",
      " 5   uniform_id     110322 non-null  object \n",
      " 6   skip           110322 non-null  float64\n",
      " 7   firstfix.dur   0 non-null       float64\n",
      " 8   firstrun.dur   0 non-null       float64\n",
      " 9   dur            0 non-null       float64\n",
      " 10  firstrun.nfix  0 non-null       float64\n",
      " 11  nfix           0 non-null       float64\n",
      " 12  refix          0 non-null       float64\n",
      " 13  reread         0 non-null       float64\n",
      "dtypes: float64(11), object(3)\n",
      "memory usage: 12.6+ MB\n"
     ]
    }
   ],
   "source": [
    "df[df.skip==1].info()"
   ]
  },
  {
   "cell_type": "markdown",
   "id": "42ef3995",
   "metadata": {},
   "source": [
    "Even more, there are some ia elements that are Null, we can see that most of them are not skipped words with a lot of Null elements, so we can drop them."
   ]
  },
  {
   "cell_type": "code",
   "execution_count": 14,
   "id": "179c37b8",
   "metadata": {},
   "outputs": [
    {
     "name": "stdout",
     "output_type": "stream",
     "text": [
      "Probabilities of Null elements by columns, for the Null ia\n"
     ]
    },
    {
     "data": {
      "text/plain": [
       "trialid          0.0\n",
       "sentnum          0.0\n",
       "ianum            0.0\n",
       "ia               1.0\n",
       "lang             0.0\n",
       "uniform_id       0.0\n",
       "skip             0.0\n",
       "firstfix.dur     0.9\n",
       "firstrun.dur     0.9\n",
       "dur              0.9\n",
       "firstrun.nfix    0.9\n",
       "nfix             0.9\n",
       "refix            0.9\n",
       "reread           0.9\n",
       "dtype: float64"
      ]
     },
     "execution_count": 14,
     "metadata": {},
     "output_type": "execute_result"
    }
   ],
   "source": [
    "print(\"Probabilities of Null elements by columns, for the Null ia\")\n",
    "df[df.ia.isna()].isna().sum()/df[df.ia.isna()].shape[0]"
   ]
  },
  {
   "cell_type": "code",
   "execution_count": 15,
   "id": "59ccaa11",
   "metadata": {},
   "outputs": [],
   "source": [
    "df = df[~df.ia.isna()]"
   ]
  },
  {
   "cell_type": "markdown",
   "id": "5d314e67",
   "metadata": {},
   "source": [
    "Fill gaze features of the skipped words with 0."
   ]
  },
  {
   "cell_type": "code",
   "execution_count": 16,
   "id": "d343b9c2",
   "metadata": {},
   "outputs": [],
   "source": [
    "df = df.fillna(0)"
   ]
  },
  {
   "cell_type": "code",
   "execution_count": 17,
   "id": "1a98595d",
   "metadata": {},
   "outputs": [
    {
     "name": "stdout",
     "output_type": "stream",
     "text": [
      "<class 'pandas.core.frame.DataFrame'>\n",
      "Int64Index: 402834 entries, 193910 to 823179\n",
      "Data columns (total 14 columns):\n",
      " #   Column         Non-Null Count   Dtype  \n",
      "---  ------         --------------   -----  \n",
      " 0   trialid        402834 non-null  float64\n",
      " 1   sentnum        402834 non-null  float64\n",
      " 2   ianum          402834 non-null  float64\n",
      " 3   ia             402834 non-null  object \n",
      " 4   lang           402834 non-null  object \n",
      " 5   uniform_id     402834 non-null  object \n",
      " 6   skip           402834 non-null  float64\n",
      " 7   firstfix.dur   402834 non-null  float64\n",
      " 8   firstrun.dur   402834 non-null  float64\n",
      " 9   dur            402834 non-null  float64\n",
      " 10  firstrun.nfix  402834 non-null  float64\n",
      " 11  nfix           402834 non-null  float64\n",
      " 12  refix          402834 non-null  float64\n",
      " 13  reread         402834 non-null  float64\n",
      "dtypes: float64(11), object(3)\n",
      "memory usage: 46.1+ MB\n"
     ]
    }
   ],
   "source": [
    "df.info()"
   ]
  },
  {
   "cell_type": "code",
   "execution_count": 18,
   "id": "90cf8fcd",
   "metadata": {},
   "outputs": [
    {
     "data": {
      "text/html": [
       "<div>\n",
       "<style scoped>\n",
       "    .dataframe tbody tr th:only-of-type {\n",
       "        vertical-align: middle;\n",
       "    }\n",
       "\n",
       "    .dataframe tbody tr th {\n",
       "        vertical-align: top;\n",
       "    }\n",
       "\n",
       "    .dataframe thead th {\n",
       "        text-align: right;\n",
       "    }\n",
       "</style>\n",
       "<table border=\"1\" class=\"dataframe\">\n",
       "  <thead>\n",
       "    <tr style=\"text-align: right;\">\n",
       "      <th></th>\n",
       "      <th>skip</th>\n",
       "      <th>firstrun.dur</th>\n",
       "      <th>dur</th>\n",
       "      <th>firstrun.nfix</th>\n",
       "      <th>nfix</th>\n",
       "      <th>refix</th>\n",
       "      <th>reread</th>\n",
       "    </tr>\n",
       "  </thead>\n",
       "  <tbody>\n",
       "    <tr>\n",
       "      <th>skip</th>\n",
       "      <td>1.000000</td>\n",
       "      <td>-0.652214</td>\n",
       "      <td>-0.543305</td>\n",
       "      <td>-0.741110</td>\n",
       "      <td>-0.587836</td>\n",
       "      <td>-0.287592</td>\n",
       "      <td>-0.333861</td>\n",
       "    </tr>\n",
       "    <tr>\n",
       "      <th>firstrun.dur</th>\n",
       "      <td>-0.652214</td>\n",
       "      <td>1.000000</td>\n",
       "      <td>0.720569</td>\n",
       "      <td>0.860484</td>\n",
       "      <td>0.616886</td>\n",
       "      <td>0.554956</td>\n",
       "      <td>0.224649</td>\n",
       "    </tr>\n",
       "    <tr>\n",
       "      <th>dur</th>\n",
       "      <td>-0.543305</td>\n",
       "      <td>0.720569</td>\n",
       "      <td>1.000000</td>\n",
       "      <td>0.648870</td>\n",
       "      <td>0.923882</td>\n",
       "      <td>0.555678</td>\n",
       "      <td>0.629876</td>\n",
       "    </tr>\n",
       "    <tr>\n",
       "      <th>firstrun.nfix</th>\n",
       "      <td>-0.741110</td>\n",
       "      <td>0.860484</td>\n",
       "      <td>0.648870</td>\n",
       "      <td>1.000000</td>\n",
       "      <td>0.712458</td>\n",
       "      <td>0.682079</td>\n",
       "      <td>0.256612</td>\n",
       "    </tr>\n",
       "    <tr>\n",
       "      <th>nfix</th>\n",
       "      <td>-0.587836</td>\n",
       "      <td>0.616886</td>\n",
       "      <td>0.923882</td>\n",
       "      <td>0.712458</td>\n",
       "      <td>1.000000</td>\n",
       "      <td>0.631961</td>\n",
       "      <td>0.685371</td>\n",
       "    </tr>\n",
       "    <tr>\n",
       "      <th>refix</th>\n",
       "      <td>-0.287592</td>\n",
       "      <td>0.554956</td>\n",
       "      <td>0.555678</td>\n",
       "      <td>0.682079</td>\n",
       "      <td>0.631961</td>\n",
       "      <td>1.000000</td>\n",
       "      <td>0.249470</td>\n",
       "    </tr>\n",
       "    <tr>\n",
       "      <th>reread</th>\n",
       "      <td>-0.333861</td>\n",
       "      <td>0.224649</td>\n",
       "      <td>0.629876</td>\n",
       "      <td>0.256612</td>\n",
       "      <td>0.685371</td>\n",
       "      <td>0.249470</td>\n",
       "      <td>1.000000</td>\n",
       "    </tr>\n",
       "  </tbody>\n",
       "</table>\n",
       "</div>"
      ],
      "text/plain": [
       "                   skip  firstrun.dur       dur  firstrun.nfix      nfix  \\\n",
       "skip           1.000000     -0.652214 -0.543305      -0.741110 -0.587836   \n",
       "firstrun.dur  -0.652214      1.000000  0.720569       0.860484  0.616886   \n",
       "dur           -0.543305      0.720569  1.000000       0.648870  0.923882   \n",
       "firstrun.nfix -0.741110      0.860484  0.648870       1.000000  0.712458   \n",
       "nfix          -0.587836      0.616886  0.923882       0.712458  1.000000   \n",
       "refix         -0.287592      0.554956  0.555678       0.682079  0.631961   \n",
       "reread        -0.333861      0.224649  0.629876       0.256612  0.685371   \n",
       "\n",
       "                  refix    reread  \n",
       "skip          -0.287592 -0.333861  \n",
       "firstrun.dur   0.554956  0.224649  \n",
       "dur            0.555678  0.629876  \n",
       "firstrun.nfix  0.682079  0.256612  \n",
       "nfix           0.631961  0.685371  \n",
       "refix          1.000000  0.249470  \n",
       "reread         0.249470  1.000000  "
      ]
     },
     "execution_count": 18,
     "metadata": {},
     "output_type": "execute_result"
    }
   ],
   "source": [
    "df[[\"skip\", \"firstrun.dur\", \"dur\", \"firstrun.nfix\", \"nfix\", \"refix\", \"reread\"]].corr()"
   ]
  },
  {
   "cell_type": "markdown",
   "id": "3a1dc04c",
   "metadata": {},
   "source": [
    "# Clustering Users\n",
    "\n",
    "We need to cluster users to handle separate readers behaviours, since the fact that the grouped features have different correlation matrix wrt to non grouped data."
   ]
  },
  {
   "cell_type": "markdown",
   "id": "5838af44",
   "metadata": {},
   "source": [
    "## Profiling the Users\n",
    "\n",
    "First of all we have to see if each trial havethe same users"
   ]
  },
  {
   "cell_type": "code",
   "execution_count": 19,
   "id": "045986a4",
   "metadata": {},
   "outputs": [
    {
     "data": {
      "text/html": [
       "<div>\n",
       "<style scoped>\n",
       "    .dataframe tbody tr th:only-of-type {\n",
       "        vertical-align: middle;\n",
       "    }\n",
       "\n",
       "    .dataframe tbody tr th {\n",
       "        vertical-align: top;\n",
       "    }\n",
       "\n",
       "    .dataframe thead th {\n",
       "        text-align: right;\n",
       "    }\n",
       "</style>\n",
       "<table border=\"1\" class=\"dataframe\">\n",
       "  <thead>\n",
       "    <tr style=\"text-align: right;\">\n",
       "      <th></th>\n",
       "      <th>trialid</th>\n",
       "      <th>sentnum</th>\n",
       "      <th>ianum</th>\n",
       "      <th>ia</th>\n",
       "      <th>lang</th>\n",
       "      <th>uniform_id</th>\n",
       "      <th>skip</th>\n",
       "      <th>firstfix.dur</th>\n",
       "      <th>firstrun.dur</th>\n",
       "      <th>dur</th>\n",
       "      <th>firstrun.nfix</th>\n",
       "      <th>nfix</th>\n",
       "      <th>refix</th>\n",
       "      <th>reread</th>\n",
       "    </tr>\n",
       "  </thead>\n",
       "  <tbody>\n",
       "    <tr>\n",
       "      <th>193910</th>\n",
       "      <td>1.0</td>\n",
       "      <td>1.0</td>\n",
       "      <td>1.0</td>\n",
       "      <td>In</td>\n",
       "      <td>ge</td>\n",
       "      <td>ge_1</td>\n",
       "      <td>0.0</td>\n",
       "      <td>164.0</td>\n",
       "      <td>164.0</td>\n",
       "      <td>164.0</td>\n",
       "      <td>1.0</td>\n",
       "      <td>1.0</td>\n",
       "      <td>0.0</td>\n",
       "      <td>0.0</td>\n",
       "    </tr>\n",
       "    <tr>\n",
       "      <th>193911</th>\n",
       "      <td>1.0</td>\n",
       "      <td>1.0</td>\n",
       "      <td>2.0</td>\n",
       "      <td>der</td>\n",
       "      <td>ge</td>\n",
       "      <td>ge_1</td>\n",
       "      <td>0.0</td>\n",
       "      <td>166.0</td>\n",
       "      <td>166.0</td>\n",
       "      <td>657.0</td>\n",
       "      <td>1.0</td>\n",
       "      <td>3.0</td>\n",
       "      <td>0.0</td>\n",
       "      <td>1.0</td>\n",
       "    </tr>\n",
       "    <tr>\n",
       "      <th>193912</th>\n",
       "      <td>1.0</td>\n",
       "      <td>1.0</td>\n",
       "      <td>3.0</td>\n",
       "      <td>alten</td>\n",
       "      <td>ge</td>\n",
       "      <td>ge_1</td>\n",
       "      <td>0.0</td>\n",
       "      <td>144.0</td>\n",
       "      <td>144.0</td>\n",
       "      <td>717.0</td>\n",
       "      <td>1.0</td>\n",
       "      <td>3.0</td>\n",
       "      <td>0.0</td>\n",
       "      <td>1.0</td>\n",
       "    </tr>\n",
       "    <tr>\n",
       "      <th>193913</th>\n",
       "      <td>1.0</td>\n",
       "      <td>1.0</td>\n",
       "      <td>4.0</td>\n",
       "      <td>römischen</td>\n",
       "      <td>ge</td>\n",
       "      <td>ge_1</td>\n",
       "      <td>0.0</td>\n",
       "      <td>219.0</td>\n",
       "      <td>219.0</td>\n",
       "      <td>1231.0</td>\n",
       "      <td>1.0</td>\n",
       "      <td>6.0</td>\n",
       "      <td>0.0</td>\n",
       "      <td>1.0</td>\n",
       "    </tr>\n",
       "    <tr>\n",
       "      <th>193914</th>\n",
       "      <td>1.0</td>\n",
       "      <td>1.0</td>\n",
       "      <td>5.0</td>\n",
       "      <td>Religion</td>\n",
       "      <td>ge</td>\n",
       "      <td>ge_1</td>\n",
       "      <td>0.0</td>\n",
       "      <td>151.0</td>\n",
       "      <td>151.0</td>\n",
       "      <td>1338.0</td>\n",
       "      <td>1.0</td>\n",
       "      <td>8.0</td>\n",
       "      <td>1.0</td>\n",
       "      <td>1.0</td>\n",
       "    </tr>\n",
       "  </tbody>\n",
       "</table>\n",
       "</div>"
      ],
      "text/plain": [
       "        trialid  sentnum  ianum         ia lang uniform_id  skip  \\\n",
       "193910      1.0      1.0    1.0         In   ge       ge_1   0.0   \n",
       "193911      1.0      1.0    2.0        der   ge       ge_1   0.0   \n",
       "193912      1.0      1.0    3.0      alten   ge       ge_1   0.0   \n",
       "193913      1.0      1.0    4.0  römischen   ge       ge_1   0.0   \n",
       "193914      1.0      1.0    5.0   Religion   ge       ge_1   0.0   \n",
       "\n",
       "        firstfix.dur  firstrun.dur     dur  firstrun.nfix  nfix  refix  reread  \n",
       "193910         164.0         164.0   164.0            1.0   1.0    0.0     0.0  \n",
       "193911         166.0         166.0   657.0            1.0   3.0    0.0     1.0  \n",
       "193912         144.0         144.0   717.0            1.0   3.0    0.0     1.0  \n",
       "193913         219.0         219.0  1231.0            1.0   6.0    0.0     1.0  \n",
       "193914         151.0         151.0  1338.0            1.0   8.0    1.0     1.0  "
      ]
     },
     "execution_count": 19,
     "metadata": {},
     "output_type": "execute_result"
    }
   ],
   "source": [
    "df.head()"
   ]
  },
  {
   "cell_type": "code",
   "execution_count": 21,
   "id": "7752dee2",
   "metadata": {},
   "outputs": [
    {
     "name": "stdout",
     "output_type": "stream",
     "text": [
      "188\n",
      "190\n",
      "200\n",
      "198\n",
      "191\n",
      "187\n",
      "197\n",
      "183\n",
      "194\n",
      "186\n",
      "203\n",
      "182\n"
     ]
    }
   ],
   "source": [
    "# not all the readers appear in all the trial\n",
    "\n",
    "trial_readers = df.groupby(\"trialid\").uniform_id.unique()\n",
    "\n",
    "for trial in trial_readers:\n",
    "    print(len(trial))"
   ]
  },
  {
   "cell_type": "code",
   "execution_count": 28,
   "id": "053932a6",
   "metadata": {},
   "outputs": [
    {
     "data": {
      "text/plain": [
       "array(['ge_1', 'ge_2', 'ge_3', 'ge_4', 'ge_6', 'ge_8', 'ge_9', 'ge_10',\n",
       "       'ge_11', 'ge_12', 'ge_13', 'ge_15', 'ge_16', 'ge_17', 'ge_18',\n",
       "       'ge_19', 'ge_22', 'ge_23', 'ge_24', 'ge_26', 'ge_28', 'ge_29',\n",
       "       'ge_30', 'ge_31', 'ge_32', 'ge_35', 'ge_36', 'ge_37', 'ge_39',\n",
       "       'ge_40', 'ge_41', 'ge_45', 'ge_46', 'ge_47', 'ge_48', 'ge_50',\n",
       "       'ge_51', 'ge_52', 'ge_53', 'it_3', 'it_4', 'it_5', 'it_6', 'it_7',\n",
       "       'it_8', 'it_10', 'it_11', 'it_13', 'it_14', 'it_15', 'it_17',\n",
       "       'it_19', 'it_2', 'it_20', 'it_21', 'it_24', 'it_26', 'it_29',\n",
       "       'it_31', 'it_32', 'it_34', 'it_35', 'it_36', 'it_37', 'it_38',\n",
       "       'it_39', 'it_40', 'it_41', 'it_44', 'it_46', 'it_48', 'it_49',\n",
       "       'it_50', 'it_51', 'it_52', 'it_54', 'it_55', 'it_57', 'it_58',\n",
       "       'it_59', 'en_3', 'en_6', 'en_101', 'en_102', 'en_11', 'en_14',\n",
       "       'en_17', 'en_18', 'en_27', 'en_36', 'en_39', 'en_49', 'en_52',\n",
       "       'en_55', 'en_72', 'en_74', 'en_76', 'en_78', 'en_79', 'en_82',\n",
       "       'en_83', 'en_84', 'en_85', 'en_86', 'en_87', 'en_88', 'en_89',\n",
       "       'en_90', 'en_91', 'en_93', 'en_94', 'en_95', 'en_97', 'en_98',\n",
       "       'en_99', 'ru_1', 'ru_10', 'ru_11', 'ru_12', 'ru_13', 'ru_15',\n",
       "       'ru_16', 'ru_17', 'ru_18', 'ru_2', 'ru_20', 'ru_21', 'ru_22',\n",
       "       'ru_23', 'ru_25', 'ru_26', 'ru_31', 'ru_32', 'ru_33', 'ru_35',\n",
       "       'ru_36', 'ru_38', 'ru_39', 'ru_42', 'ru_43', 'ru_44', 'ru_46',\n",
       "       'ru_49', 'ru_5', 'ru_50', 'ru_51', 'ru_52', 'ru_54', 'ru_56',\n",
       "       'ru_6', 'ru_9', 'sp_2', 'sp_4', 'sp_6', 'sp_10', 'sp_11', 'sp_12',\n",
       "       'sp_14', 'sp_15', 'sp_18', 'sp_19', 'sp_20', 'sp_23', 'sp_28',\n",
       "       'sp_31', 'sp_32', 'sp_33', 'sp_34', 'sp_37', 'sp_38', 'sp_42',\n",
       "       'sp_46', 'sp_47', 'sp_48', 'sp_50', 'sp_51', 'sp_54', 'sp_56',\n",
       "       'sp_59', 'sp_60', 'sp_61', 'sp_62'], dtype=object)"
      ]
     },
     "execution_count": 28,
     "metadata": {},
     "output_type": "execute_result"
    }
   ],
   "source": [
    "trial_readers.loc[12]"
   ]
  },
  {
   "cell_type": "code",
   "execution_count": 29,
   "id": "bf9e3813",
   "metadata": {},
   "outputs": [],
   "source": [
    "sets_trial_readers = []\n",
    "for trial in trial_readers.values:\n",
    "    sets_trial_readers.append(set(trial))"
   ]
  },
  {
   "cell_type": "code",
   "execution_count": 31,
   "id": "2cdf1d92",
   "metadata": {},
   "outputs": [],
   "source": [
    "common_users = set.intersection(*sets_trial_readers)"
   ]
  },
  {
   "cell_type": "code",
   "execution_count": 33,
   "id": "701682d7",
   "metadata": {},
   "outputs": [
    {
     "data": {
      "text/plain": [
       "{'en_101',\n",
       " 'en_102',\n",
       " 'en_3',\n",
       " 'en_6',\n",
       " 'en_72',\n",
       " 'en_74',\n",
       " 'en_76',\n",
       " 'en_78',\n",
       " 'en_79',\n",
       " 'en_82',\n",
       " 'en_83',\n",
       " 'en_84',\n",
       " 'en_85',\n",
       " 'en_86',\n",
       " 'en_87',\n",
       " 'en_88',\n",
       " 'en_89',\n",
       " 'en_90',\n",
       " 'en_91',\n",
       " 'en_93',\n",
       " 'en_94',\n",
       " 'en_95',\n",
       " 'en_97',\n",
       " 'en_98',\n",
       " 'en_99',\n",
       " 'ge_1',\n",
       " 'ge_10',\n",
       " 'ge_12',\n",
       " 'ge_13',\n",
       " 'ge_17',\n",
       " 'ge_3',\n",
       " 'ge_30',\n",
       " 'ge_32',\n",
       " 'ge_37',\n",
       " 'ge_39',\n",
       " 'ge_41',\n",
       " 'ge_47',\n",
       " 'ge_53',\n",
       " 'ge_6',\n",
       " 'ge_8',\n",
       " 'ge_9',\n",
       " 'it_11',\n",
       " 'it_13',\n",
       " 'it_17',\n",
       " 'it_21',\n",
       " 'it_26',\n",
       " 'it_3',\n",
       " 'it_36',\n",
       " 'it_37',\n",
       " 'it_48',\n",
       " 'ru_1',\n",
       " 'ru_13',\n",
       " 'ru_21',\n",
       " 'ru_22',\n",
       " 'ru_35',\n",
       " 'ru_42',\n",
       " 'ru_51',\n",
       " 'ru_52',\n",
       " 'sp_18',\n",
       " 'sp_34',\n",
       " 'sp_37',\n",
       " 'sp_38',\n",
       " 'sp_4',\n",
       " 'sp_42',\n",
       " 'sp_48',\n",
       " 'sp_51',\n",
       " 'sp_54',\n",
       " 'sp_56',\n",
       " 'sp_61'}"
      ]
     },
     "execution_count": 33,
     "metadata": {},
     "output_type": "execute_result"
    }
   ],
   "source": [
    "common_users"
   ]
  },
  {
   "cell_type": "code",
   "execution_count": 40,
   "id": "a033b331",
   "metadata": {},
   "outputs": [
    {
     "data": {
      "text/plain": [
       "69"
      ]
     },
     "execution_count": 40,
     "metadata": {},
     "output_type": "execute_result"
    }
   ],
   "source": [
    "len(set(common_users))"
   ]
  },
  {
   "cell_type": "code",
   "execution_count": 42,
   "id": "e0a02b7c",
   "metadata": {},
   "outputs": [],
   "source": [
    "df = df[df.uniform_id.isin(common_users)]"
   ]
  },
  {
   "cell_type": "code",
   "execution_count": 43,
   "id": "9f3c53d5",
   "metadata": {},
   "outputs": [
    {
     "data": {
      "text/plain": [
       "69"
      ]
     },
     "execution_count": 43,
     "metadata": {},
     "output_type": "execute_result"
    }
   ],
   "source": [
    "len(df.uniform_id.unique())"
   ]
  },
  {
   "cell_type": "markdown",
   "id": "ee8d2b71",
   "metadata": {},
   "source": [
    "The trials doesn't contain the same readers"
   ]
  },
  {
   "cell_type": "code",
   "execution_count": 44,
   "id": "5167bf35",
   "metadata": {},
   "outputs": [],
   "source": [
    "reader_grouped_df = df.groupby([\"uniform_id\", \"lang\"])[gaze_features].mean().reset_index(level=0).reset_index(level=0)"
   ]
  },
  {
   "cell_type": "code",
   "execution_count": 45,
   "id": "96dcf0c0",
   "metadata": {
    "scrolled": false
   },
   "outputs": [
    {
     "name": "stdout",
     "output_type": "stream",
     "text": [
      "<class 'pandas.core.frame.DataFrame'>\n",
      "RangeIndex: 69 entries, 0 to 68\n",
      "Data columns (total 10 columns):\n",
      " #   Column         Non-Null Count  Dtype  \n",
      "---  ------         --------------  -----  \n",
      " 0   lang           69 non-null     object \n",
      " 1   uniform_id     69 non-null     object \n",
      " 2   skip           69 non-null     float64\n",
      " 3   firstfix.dur   69 non-null     float64\n",
      " 4   firstrun.dur   69 non-null     float64\n",
      " 5   dur            69 non-null     float64\n",
      " 6   firstrun.nfix  69 non-null     float64\n",
      " 7   nfix           69 non-null     float64\n",
      " 8   refix          69 non-null     float64\n",
      " 9   reread         69 non-null     float64\n",
      "dtypes: float64(8), object(2)\n",
      "memory usage: 5.5+ KB\n"
     ]
    }
   ],
   "source": [
    "reader_grouped_df.info()"
   ]
  },
  {
   "cell_type": "code",
   "execution_count": 46,
   "id": "c3f2db48",
   "metadata": {},
   "outputs": [
    {
     "data": {
      "text/plain": [
       "array(['en_101', 'en_102', 'en_3', 'en_6', 'en_72', 'en_74', 'en_76',\n",
       "       'en_78', 'en_79', 'en_82', 'en_83', 'en_84', 'en_85', 'en_86',\n",
       "       'en_87', 'en_88', 'en_89', 'en_90', 'en_91', 'en_93', 'en_94',\n",
       "       'en_95', 'en_97', 'en_98', 'en_99', 'ge_1', 'ge_10', 'ge_12',\n",
       "       'ge_13', 'ge_17', 'ge_3', 'ge_30', 'ge_32', 'ge_37', 'ge_39',\n",
       "       'ge_41', 'ge_47', 'ge_53', 'ge_6', 'ge_8', 'ge_9', 'it_11',\n",
       "       'it_13', 'it_17', 'it_21', 'it_26', 'it_3', 'it_36', 'it_37',\n",
       "       'it_48', 'ru_1', 'ru_13', 'ru_21', 'ru_22', 'ru_35', 'ru_42',\n",
       "       'ru_51', 'ru_52', 'sp_18', 'sp_34', 'sp_37', 'sp_38', 'sp_4',\n",
       "       'sp_42', 'sp_48', 'sp_51', 'sp_54', 'sp_56', 'sp_61'], dtype=object)"
      ]
     },
     "execution_count": 46,
     "metadata": {},
     "output_type": "execute_result"
    }
   ],
   "source": [
    "reader_grouped_df.uniform_id.unique()"
   ]
  },
  {
   "cell_type": "code",
   "execution_count": 47,
   "id": "8fb9b1dd",
   "metadata": {},
   "outputs": [
    {
     "data": {
      "text/html": [
       "<div>\n",
       "<style scoped>\n",
       "    .dataframe tbody tr th:only-of-type {\n",
       "        vertical-align: middle;\n",
       "    }\n",
       "\n",
       "    .dataframe tbody tr th {\n",
       "        vertical-align: top;\n",
       "    }\n",
       "\n",
       "    .dataframe thead th {\n",
       "        text-align: right;\n",
       "    }\n",
       "</style>\n",
       "<table border=\"1\" class=\"dataframe\">\n",
       "  <thead>\n",
       "    <tr style=\"text-align: right;\">\n",
       "      <th></th>\n",
       "      <th>skip</th>\n",
       "      <th>firstfix.dur</th>\n",
       "      <th>firstrun.dur</th>\n",
       "      <th>dur</th>\n",
       "      <th>firstrun.nfix</th>\n",
       "      <th>nfix</th>\n",
       "      <th>refix</th>\n",
       "      <th>reread</th>\n",
       "    </tr>\n",
       "  </thead>\n",
       "  <tbody>\n",
       "    <tr>\n",
       "      <th>skip</th>\n",
       "      <td>1.000000</td>\n",
       "      <td>-0.635364</td>\n",
       "      <td>-0.728137</td>\n",
       "      <td>-0.528128</td>\n",
       "      <td>-0.902767</td>\n",
       "      <td>-0.632678</td>\n",
       "      <td>-0.725183</td>\n",
       "      <td>-0.335440</td>\n",
       "    </tr>\n",
       "    <tr>\n",
       "      <th>firstfix.dur</th>\n",
       "      <td>-0.635364</td>\n",
       "      <td>1.000000</td>\n",
       "      <td>0.907218</td>\n",
       "      <td>0.664989</td>\n",
       "      <td>0.554833</td>\n",
       "      <td>0.433252</td>\n",
       "      <td>0.421090</td>\n",
       "      <td>0.250150</td>\n",
       "    </tr>\n",
       "    <tr>\n",
       "      <th>firstrun.dur</th>\n",
       "      <td>-0.728137</td>\n",
       "      <td>0.907218</td>\n",
       "      <td>1.000000</td>\n",
       "      <td>0.672760</td>\n",
       "      <td>0.799756</td>\n",
       "      <td>0.525950</td>\n",
       "      <td>0.728023</td>\n",
       "      <td>0.222922</td>\n",
       "    </tr>\n",
       "    <tr>\n",
       "      <th>dur</th>\n",
       "      <td>-0.528128</td>\n",
       "      <td>0.664989</td>\n",
       "      <td>0.672760</td>\n",
       "      <td>1.000000</td>\n",
       "      <td>0.505260</td>\n",
       "      <td>0.913355</td>\n",
       "      <td>0.573284</td>\n",
       "      <td>0.827466</td>\n",
       "    </tr>\n",
       "    <tr>\n",
       "      <th>firstrun.nfix</th>\n",
       "      <td>-0.902767</td>\n",
       "      <td>0.554833</td>\n",
       "      <td>0.799756</td>\n",
       "      <td>0.505260</td>\n",
       "      <td>1.000000</td>\n",
       "      <td>0.612257</td>\n",
       "      <td>0.929224</td>\n",
       "      <td>0.237694</td>\n",
       "    </tr>\n",
       "    <tr>\n",
       "      <th>nfix</th>\n",
       "      <td>-0.632678</td>\n",
       "      <td>0.433252</td>\n",
       "      <td>0.525950</td>\n",
       "      <td>0.913355</td>\n",
       "      <td>0.612257</td>\n",
       "      <td>1.000000</td>\n",
       "      <td>0.685368</td>\n",
       "      <td>0.888236</td>\n",
       "    </tr>\n",
       "    <tr>\n",
       "      <th>refix</th>\n",
       "      <td>-0.725183</td>\n",
       "      <td>0.421090</td>\n",
       "      <td>0.728023</td>\n",
       "      <td>0.573284</td>\n",
       "      <td>0.929224</td>\n",
       "      <td>0.685368</td>\n",
       "      <td>1.000000</td>\n",
       "      <td>0.347515</td>\n",
       "    </tr>\n",
       "    <tr>\n",
       "      <th>reread</th>\n",
       "      <td>-0.335440</td>\n",
       "      <td>0.250150</td>\n",
       "      <td>0.222922</td>\n",
       "      <td>0.827466</td>\n",
       "      <td>0.237694</td>\n",
       "      <td>0.888236</td>\n",
       "      <td>0.347515</td>\n",
       "      <td>1.000000</td>\n",
       "    </tr>\n",
       "  </tbody>\n",
       "</table>\n",
       "</div>"
      ],
      "text/plain": [
       "                   skip  firstfix.dur  firstrun.dur       dur  firstrun.nfix  \\\n",
       "skip           1.000000     -0.635364     -0.728137 -0.528128      -0.902767   \n",
       "firstfix.dur  -0.635364      1.000000      0.907218  0.664989       0.554833   \n",
       "firstrun.dur  -0.728137      0.907218      1.000000  0.672760       0.799756   \n",
       "dur           -0.528128      0.664989      0.672760  1.000000       0.505260   \n",
       "firstrun.nfix -0.902767      0.554833      0.799756  0.505260       1.000000   \n",
       "nfix          -0.632678      0.433252      0.525950  0.913355       0.612257   \n",
       "refix         -0.725183      0.421090      0.728023  0.573284       0.929224   \n",
       "reread        -0.335440      0.250150      0.222922  0.827466       0.237694   \n",
       "\n",
       "                   nfix     refix    reread  \n",
       "skip          -0.632678 -0.725183 -0.335440  \n",
       "firstfix.dur   0.433252  0.421090  0.250150  \n",
       "firstrun.dur   0.525950  0.728023  0.222922  \n",
       "dur            0.913355  0.573284  0.827466  \n",
       "firstrun.nfix  0.612257  0.929224  0.237694  \n",
       "nfix           1.000000  0.685368  0.888236  \n",
       "refix          0.685368  1.000000  0.347515  \n",
       "reread         0.888236  0.347515  1.000000  "
      ]
     },
     "execution_count": 47,
     "metadata": {},
     "output_type": "execute_result"
    }
   ],
   "source": [
    "reader_grouped_df[gaze_features].corr()"
   ]
  },
  {
   "cell_type": "markdown",
   "id": "0e79a785",
   "metadata": {},
   "source": [
    "### Apply K-means to clusterize our datas"
   ]
  },
  {
   "cell_type": "code",
   "execution_count": 48,
   "id": "8ce1162c",
   "metadata": {},
   "outputs": [],
   "source": [
    "from sklearn.cluster import KMeans\n",
    "from sklearn.metrics import silhouette_score\n",
    "from sklearn.decomposition import PCA\n",
    "from sklearn import metrics\n",
    "from sklearn.preprocessing import StandardScaler, MinMaxScaler\n",
    "from tqdm import tqdm\n",
    "import matplotlib.pyplot as plt"
   ]
  },
  {
   "cell_type": "code",
   "execution_count": 49,
   "id": "e4c689f5",
   "metadata": {},
   "outputs": [],
   "source": [
    "scaler = MinMaxScaler()\n",
    "\n",
    "X = scaler.fit_transform(reader_grouped_df[gaze_features].values)"
   ]
  },
  {
   "cell_type": "code",
   "execution_count": 50,
   "id": "a59d7d42",
   "metadata": {},
   "outputs": [
    {
     "data": {
      "text/plain": [
       "array([[0.51823053, 0.39750317, 0.38063266, 0.24395154, 0.41151823,\n",
       "        0.25663776, 0.43381278, 0.33186002],\n",
       "       [0.46425476, 0.63885025, 0.56303709, 0.27943116, 0.40062454,\n",
       "        0.19793074, 0.30931981, 0.28274558],\n",
       "       [0.25606251, 0.76473012, 0.78056681, 0.3212555 , 0.68775102,\n",
       "        0.28390452, 0.58218112, 0.22453587],\n",
       "       [0.42107414, 0.35447945, 0.41897052, 0.3796907 , 0.56714234,\n",
       "        0.51595025, 0.75613021, 0.55014643],\n",
       "       [0.66319402, 0.39028178, 0.34048378, 0.31988646, 0.28390646,\n",
       "        0.30198962, 0.30761443, 0.40553168],\n",
       "       [0.85904895, 0.17866376, 0.1391035 , 0.10719549, 0.13606356,\n",
       "        0.07884732, 0.17971069, 0.18542622],\n",
       "       [0.61538691, 0.30633843, 0.25414038, 0.17714956, 0.2776815 ,\n",
       "        0.16649049, 0.25474755, 0.28092652],\n",
       "       [0.6508567 , 0.35739893, 0.22171499, 0.10966679, 0.1866414 ,\n",
       "        0.06131869, 0.07568232, 0.15450231],\n",
       "       [0.72179628, 0.57830494, 0.44912213, 0.23143284, 0.1983132 ,\n",
       "        0.1105658 , 0.15071918, 0.21180249],\n",
       "       [0.66165185, 0.45253754, 0.37976377, 0.19657852, 0.27145653,\n",
       "        0.12225156, 0.28714983, 0.14813562],\n",
       "       [0.7649769 , 0.18720196, 0.09446367, 0.05031072, 0.11427619,\n",
       "        0.01346274, 0.0364585 , 0.08628781],\n",
       "       [0.7341336 , 0.34065525, 0.29663627, 0.12934437, 0.24266608,\n",
       "        0.08107318, 0.29397136, 0.13176414],\n",
       "       [0.90685606, 0.36611989, 0.32173099, 0.16773706, 0.13139484,\n",
       "        0.06354455, 0.22746142, 0.15632136],\n",
       "       [0.34088157, 0.28652531, 0.3487133 , 0.21287247, 0.59515468,\n",
       "        0.32647406, 0.54977884, 0.34550292],\n",
       "       [0.44420661, 0.56240477, 0.43973075, 0.37767289, 0.34537799,\n",
       "        0.34094214, 0.25474755, 0.46828903],\n",
       "       [0.49664022, 0.70007973, 0.75889107, 0.33987136, 0.53990812,\n",
       "        0.24467377, 0.53101963, 0.22726445],\n",
       "       [0.54444733, 0.37788686, 0.29880684, 0.12866039, 0.3305937 ,\n",
       "        0.11446106, 0.2598637 , 0.14358799],\n",
       "       [0.51206187, 0.65532213, 0.63253195, 0.2439334 , 0.45042426,\n",
       "        0.15397004, 0.42869663, 0.12084982],\n",
       "       [0.16353262, 0.66194369, 0.89103283, 0.42477382, 0.97954622,\n",
       "        0.4758848 , 1.        , 0.32731239],\n",
       "       [0.60921825, 0.49594552, 0.41254869, 0.22410857, 0.29246579,\n",
       "        0.15397004, 0.26156908, 0.23272161],\n",
       "       [0.45191744, 0.46253782, 0.33674188, 0.22321544, 0.3422655 ,\n",
       "        0.217407  , 0.25133678, 0.31366948],\n",
       "       [0.59225444, 0.12780945, 0.1085524 , 0.12651561, 0.31425316,\n",
       "        0.21128589, 0.30249828, 0.28092652],\n",
       "       [0.68632649, 0.25824897, 0.19349758, 0.06562831, 0.23488487,\n",
       "        0.03961657, 0.20358605, 0.03899242],\n",
       "       [0.2036289 , 0.68921251, 0.58472615, 0.36649761, 0.56714234,\n",
       "        0.38601577, 0.43722355, 0.46192234],\n",
       "       [0.8482538 , 0.41632282, 0.29957586, 0.1611149 , 0.11116371,\n",
       "        0.05102409, 0.12002228, 0.14904515],\n",
       "       [0.32060595, 0.45221834, 0.36269731, 0.25696881, 0.45242157,\n",
       "        0.30609228, 0.33790412, 0.37112223],\n",
       "       [0.24366052, 0.77462797, 0.68329046, 0.28902936, 0.5608049 ,\n",
       "        0.22569097, 0.38222137, 0.16880167],\n",
       "       [0.27572111, 0.67319666, 0.72440102, 0.26985736, 0.69426197,\n",
       "        0.23754872, 0.6038076 , 0.09127697],\n",
       "       [0.14427268, 0.66695675, 0.63220333, 0.31667431, 0.65139394,\n",
       "        0.32257744, 0.48858276, 0.31817853],\n",
       "       [0.        , 0.80746418, 0.96442717, 0.6321422 , 1.        ,\n",
       "        0.69855477, 0.89807412, 0.52806247],\n",
       "       [0.33823927, 0.58454229, 0.77453307, 0.35267021, 0.76382142,\n",
       "        0.34484686, 0.75625893, 0.20850944],\n",
       "       [0.08976967, 0.61448993, 0.78114605, 0.31367068, 0.91992575,\n",
       "        0.35612618, 0.80057618, 0.18014675],\n",
       "       [0.3991544 , 0.52055527, 0.50579874, 0.35512923, 0.49933376,\n",
       "        0.36856236, 0.44958358, 0.43162931],\n",
       "       [0.4472453 , 0.48258003, 0.40493945, 0.23341447, 0.41198004,\n",
       "        0.23002917, 0.33258605, 0.26712568],\n",
       "       [0.23083628, 0.71794276, 0.72702753, 0.23839132, 0.69668846,\n",
       "        0.20081862, 0.5346727 , 0.02793361],\n",
       "       [0.52419072, 0.4207704 , 0.33160485, 0.13366904, 0.3399941 ,\n",
       "        0.10306451, 0.22799735, 0.09316781],\n",
       "       [0.28373626, 0.35892667, 0.59856395, 0.28193622, 0.85117514,\n",
       "        0.38215538, 0.89984681, 0.25199891],\n",
       "       [0.18274539, 0.87291254, 0.87690805, 0.36227451, 0.70477677,\n",
       "        0.29105318, 0.57544456, 0.21418198],\n",
       "       [0.20839387, 0.47138133, 0.50817263, 0.4606124 , 0.64168797,\n",
       "        0.57737439, 0.5860807 , 0.5819516 ],\n",
       "       [0.34144533, 0.37734437, 0.41562888, 0.21094269, 0.58830514,\n",
       "        0.282666  , 0.54530884, 0.24159925],\n",
       "       [0.43762712, 0.53817411, 0.53538242, 0.2057063 , 0.49690727,\n",
       "        0.16119639, 0.42653861, 0.10924001],\n",
       "       [0.48189441, 0.40902309, 0.44410941, 0.19707305, 0.52451584,\n",
       "        0.20542893, 0.55958096, 0.15646642],\n",
       "       [0.40961848, 0.52810165, 0.45590078, 0.29283221, 0.44770065,\n",
       "        0.2919909 , 0.41503501, 0.34601773],\n",
       "       [0.58338827, 0.61556828, 0.71740223, 0.28097045, 0.514429  ,\n",
       "        0.17712982, 0.57828691, 0.10567756],\n",
       "       [0.96322134, 0.30855655, 0.17773141, 0.14128828, 0.        ,\n",
       "        0.03563428, 0.03581444, 0.21813862],\n",
       "       [0.47728105, 0.49919065, 0.58161561, 0.29568912, 0.55089681,\n",
       "        0.27867367, 0.56298204, 0.27708998],\n",
       "       [0.48343219, 1.        , 1.        , 1.        , 0.54236179,\n",
       "        0.80997555, 0.77554962, 0.79495503],\n",
       "       [0.08053233, 0.5867928 , 0.65047493, 0.46342328, 0.85039846,\n",
       "        0.61687575, 0.8707799 , 0.59270651],\n",
       "       [0.38347612, 0.28252404, 0.40915027, 0.32133641, 0.70142355,\n",
       "        0.52393261, 0.80615935, 0.55370792],\n",
       "       [0.31735133, 0.60982534, 0.56651124, 0.25021584, 0.56719095,\n",
       "        0.23844455, 0.50516366, 0.20090668],\n",
       "       [0.56424195, 0.50546206, 0.32880764, 0.09918571, 0.221619  ,\n",
       "        0.01408758, 0.02943672, 0.        ],\n",
       "       [0.57311509, 0.42894179, 0.34328466, 0.18690452, 0.31205564,\n",
       "        0.14727925, 0.25119335, 0.2030455 ],\n",
       "       [0.51455241, 0.29987111, 0.2700261 , 0.13248639, 0.37831615,\n",
       "        0.15400286, 0.32969127, 0.18734611],\n",
       "       [0.92271652, 0.11645432, 0.0165537 , 0.03915852, 0.01388334,\n",
       "        0.        , 0.        , 0.1590872 ],\n",
       "       [0.26787931, 0.48200447, 0.39797478, 0.18638021, 0.54575826,\n",
       "        0.23500645, 0.43566346, 0.198859  ],\n",
       "       [0.32644199, 0.43209643, 0.32029918, 0.21149693, 0.43651796,\n",
       "        0.25901937, 0.34342841, 0.31608115],\n",
       "       [0.19689425, 0.95359372, 0.83109404, 0.45443967, 0.64604444,\n",
       "        0.39285138, 0.58677196, 0.43016341],\n",
       "       [0.28740021, 0.41488341, 0.48678302, 0.22638401, 0.68544258,\n",
       "        0.29647953, 0.68685681, 0.2187449 ],\n",
       "       [0.65498492, 0.62668264, 0.57967594, 0.28503267, 0.29185743,\n",
       "        0.1419225 , 0.26867143, 0.18766778],\n",
       "       [0.32075156, 0.48327767, 0.37231321, 0.7893531 , 0.42513905,\n",
       "        1.        , 0.49222446, 1.        ],\n",
       "       [0.46765251, 0.58793295, 0.50779505, 0.26539023, 0.40065875,\n",
       "        0.21511075, 0.33275663, 0.28304926],\n",
       "       [0.59703316, 0.27913946, 0.34931202, 0.20187308, 0.4618595 ,\n",
       "        0.2486655 , 0.55481931, 0.27669049],\n",
       "       [0.5997286 , 0.31576369, 0.46923765, 0.15295628, 0.59990118,\n",
       "        0.17037109, 0.73962314, 0.02631412],\n",
       "       [0.86927163, 0.        , 0.        , 0.        , 0.16265586,\n",
       "        0.01548433, 0.24482577, 0.05174918],\n",
       "       [0.59433773, 0.42296215, 0.38173654, 0.27535599, 0.32653785,\n",
       "        0.25182645, 0.35660229, 0.4022761 ],\n",
       "       [0.52695198, 0.4882985 , 0.52425605, 0.48129576, 0.49653992,\n",
       "        0.53679863, 0.64125981, 0.63993494],\n",
       "       [0.56064486, 0.72081711, 0.53067986, 0.50001595, 0.25173694,\n",
       "        0.38069612, 0.23290294, 0.60655142],\n",
       "       [1.        , 0.09796357, 0.08047507, 0.06877279, 0.0756148 ,\n",
       "        0.03226171, 0.20905729, 0.14156674],\n",
       "       [0.60646717, 0.29363681, 0.19763683, 0.36101192, 0.23405673,\n",
       "        0.45023711, 0.24631612, 0.6184741 ]])"
      ]
     },
     "execution_count": 50,
     "metadata": {},
     "output_type": "execute_result"
    }
   ],
   "source": [
    "X"
   ]
  },
  {
   "cell_type": "code",
   "execution_count": 51,
   "id": "4538bd88",
   "metadata": {},
   "outputs": [
    {
     "name": "stderr",
     "output_type": "stream",
     "text": [
      "100%|█████████████████████████████████████████████████████████████████████████████████████████████████████████████████████████████████████████████████████████████████████████| 6/6 [00:00<00:00, 31.56it/s]\n"
     ]
    }
   ],
   "source": [
    "sse_list = list()\n",
    "separations = list()\n",
    "silouettes_ = list()\n",
    "\n",
    "max_k = 7\n",
    "for k in tqdm(range(2, max_k + 1)):\n",
    "    kmeans = KMeans(n_clusters=k, n_init=10, max_iter=100)\n",
    "    kmeans.fit(X)\n",
    "    \n",
    "    sse = kmeans.inertia_\n",
    "    sse_list.append(sse)\n",
    "    separations.append(metrics.davies_bouldin_score(X, kmeans.labels_))\n",
    "    silouettes_.append(silhouette_score(X, kmeans.labels_))"
   ]
  },
  {
   "cell_type": "code",
   "execution_count": 52,
   "id": "f08c1bb8",
   "metadata": {},
   "outputs": [
    {
     "data": {
      "image/png": "[encoded data removed]",
      "text/plain": [
       "<Figure size 640x480 with 1 Axes>"
      ]
     },
     "metadata": {},
     "output_type": "display_data"
    }
   ],
   "source": [
    "plt.plot(range(2, len(sse_list) + 2), sse_list)\n",
    "plt.ylabel('SSE', fontsize=22)\n",
    "plt.xlabel('K', fontsize=22)\n",
    "plt.xticks(range(2, len(sse_list) + 2))\n",
    "plt.show()"
   ]
  },
  {
   "cell_type": "code",
   "execution_count": 53,
   "id": "8a48f25b",
   "metadata": {},
   "outputs": [
    {
     "data": {
      "image/png": "[encoded data removed]",
      "text/plain": [
       "<Figure size 640x480 with 1 Axes>"
      ]
     },
     "metadata": {},
     "output_type": "display_data"
    }
   ],
   "source": [
    "plt.plot(range(2, len(separations) + 2), separations)\n",
    "plt.ylabel('Separation', fontsize=22)\n",
    "plt.xlabel('K', fontsize=22)\n",
    "plt.xticks(range(2, len(separations) + 2))\n",
    "plt.show()"
   ]
  },
  {
   "cell_type": "code",
   "execution_count": 54,
   "id": "48bd6808",
   "metadata": {},
   "outputs": [
    {
     "data": {
      "image/png": "[encoded data removed]",
      "text/plain": [
       "<Figure size 640x480 with 1 Axes>"
      ]
     },
     "metadata": {},
     "output_type": "display_data"
    }
   ],
   "source": [
    "plt.plot(range(2, len(silouettes_) + 2), silouettes_)\n",
    "plt.ylabel('Silouettes', fontsize=22)\n",
    "plt.xlabel('K', fontsize=22)\n",
    "plt.xticks(range(2, len(silouettes_) + 2))\n",
    "plt.show()"
   ]
  },
  {
   "cell_type": "code",
   "execution_count": 61,
   "id": "e53fb3f4",
   "metadata": {},
   "outputs": [
    {
     "data": {
      "text/html": [
       "<style>#sk-container-id-3 {color: black;background-color: white;}#sk-container-id-3 pre{padding: 0;}#sk-container-id-3 div.sk-toggleable {background-color: white;}#sk-container-id-3 label.sk-toggleable__label {cursor: pointer;display: block;width: 100%;margin-bottom: 0;padding: 0.3em;box-sizing: border-box;text-align: center;}#sk-container-id-3 label.sk-toggleable__label-arrow:before {content: \"▸\";float: left;margin-right: 0.25em;color: #696969;}#sk-container-id-3 label.sk-toggleable__label-arrow:hover:before {color: black;}#sk-container-id-3 div.sk-estimator:hover label.sk-toggleable__label-arrow:before {color: black;}#sk-container-id-3 div.sk-toggleable__content {max-height: 0;max-width: 0;overflow: hidden;text-align: left;background-color: #f0f8ff;}#sk-container-id-3 div.sk-toggleable__content pre {margin: 0.2em;color: black;border-radius: 0.25em;background-color: #f0f8ff;}#sk-container-id-3 input.sk-toggleable__control:checked~div.sk-toggleable__content {max-height: 200px;max-width: 100%;overflow: auto;}#sk-container-id-3 input.sk-toggleable__control:checked~label.sk-toggleable__label-arrow:before {content: \"▾\";}#sk-container-id-3 div.sk-estimator input.sk-toggleable__control:checked~label.sk-toggleable__label {background-color: #d4ebff;}#sk-container-id-3 div.sk-label input.sk-toggleable__control:checked~label.sk-toggleable__label {background-color: #d4ebff;}#sk-container-id-3 input.sk-hidden--visually {border: 0;clip: rect(1px 1px 1px 1px);clip: rect(1px, 1px, 1px, 1px);height: 1px;margin: -1px;overflow: hidden;padding: 0;position: absolute;width: 1px;}#sk-container-id-3 div.sk-estimator {font-family: monospace;background-color: #f0f8ff;border: 1px dotted black;border-radius: 0.25em;box-sizing: border-box;margin-bottom: 0.5em;}#sk-container-id-3 div.sk-estimator:hover {background-color: #d4ebff;}#sk-container-id-3 div.sk-parallel-item::after {content: \"\";width: 100%;border-bottom: 1px solid gray;flex-grow: 1;}#sk-container-id-3 div.sk-label:hover label.sk-toggleable__label {background-color: #d4ebff;}#sk-container-id-3 div.sk-serial::before {content: \"\";position: absolute;border-left: 1px solid gray;box-sizing: border-box;top: 0;bottom: 0;left: 50%;z-index: 0;}#sk-container-id-3 div.sk-serial {display: flex;flex-direction: column;align-items: center;background-color: white;padding-right: 0.2em;padding-left: 0.2em;position: relative;}#sk-container-id-3 div.sk-item {position: relative;z-index: 1;}#sk-container-id-3 div.sk-parallel {display: flex;align-items: stretch;justify-content: center;background-color: white;position: relative;}#sk-container-id-3 div.sk-item::before, #sk-container-id-3 div.sk-parallel-item::before {content: \"\";position: absolute;border-left: 1px solid gray;box-sizing: border-box;top: 0;bottom: 0;left: 50%;z-index: -1;}#sk-container-id-3 div.sk-parallel-item {display: flex;flex-direction: column;z-index: 1;position: relative;background-color: white;}#sk-container-id-3 div.sk-parallel-item:first-child::after {align-self: flex-end;width: 50%;}#sk-container-id-3 div.sk-parallel-item:last-child::after {align-self: flex-start;width: 50%;}#sk-container-id-3 div.sk-parallel-item:only-child::after {width: 0;}#sk-container-id-3 div.sk-dashed-wrapped {border: 1px dashed gray;margin: 0 0.4em 0.5em 0.4em;box-sizing: border-box;padding-bottom: 0.4em;background-color: white;}#sk-container-id-3 div.sk-label label {font-family: monospace;font-weight: bold;display: inline-block;line-height: 1.2em;}#sk-container-id-3 div.sk-label-container {text-align: center;}#sk-container-id-3 div.sk-container {/* jupyter's `normalize.less` sets `[hidden] { display: none; }` but bootstrap.min.css set `[hidden] { display: none !important; }` so we also need the `!important` here to be able to override the default hidden behavior on the sphinx rendered scikit-learn.org. See: https://github.com/scikit-learn/scikit-learn/issues/21755 */display: inline-block !important;position: relative;}#sk-container-id-3 div.sk-text-repr-fallback {display: none;}</style><div id=\"sk-container-id-3\" class=\"sk-top-container\"><div class=\"sk-text-repr-fallback\"><pre>KMeans(max_iter=500, n_clusters=3, n_init=100)</pre><b>In a Jupyter environment, please rerun this cell to show the HTML representation or trust the notebook. <br />On GitHub, the HTML representation is unable to render, please try loading this page with nbviewer.org.</b></div><div class=\"sk-container\" hidden><div class=\"sk-item\"><div class=\"sk-estimator sk-toggleable\"><input class=\"sk-toggleable__control sk-hidden--visually\" id=\"sk-estimator-id-3\" type=\"checkbox\" checked><label for=\"sk-estimator-id-3\" class=\"sk-toggleable__label sk-toggleable__label-arrow\">KMeans</label><div class=\"sk-toggleable__content\"><pre>KMeans(max_iter=500, n_clusters=3, n_init=100)</pre></div></div></div></div></div>"
      ],
      "text/plain": [
       "KMeans(max_iter=500, n_clusters=3, n_init=100)"
      ]
     },
     "execution_count": 61,
     "metadata": {},
     "output_type": "execute_result"
    }
   ],
   "source": [
    "selected_k=3\n",
    "\n",
    "kmeans = KMeans(n_clusters=selected_k, n_init=100, max_iter=500)\n",
    "kmeans.fit(X)"
   ]
  },
  {
   "cell_type": "code",
   "execution_count": 62,
   "id": "c272903c",
   "metadata": {},
   "outputs": [
    {
     "name": "stdout",
     "output_type": "stream",
     "text": [
      "SSE : 10.085880701060173\n",
      "Separation : 1.2495820540173554\n",
      "Silhouette : 0.27225889238923057\n"
     ]
    }
   ],
   "source": [
    "# sum up the metrics\n",
    "\n",
    "print(f\"SSE : {kmeans.inertia_}\")\n",
    "print(f\"Separation : {metrics.davies_bouldin_score(X, kmeans.labels_)}\")\n",
    "print(f\"Silhouette : {silhouette_score(X, kmeans.labels_)}\")"
   ]
  },
  {
   "cell_type": "code",
   "execution_count": 63,
   "id": "63985fdc",
   "metadata": {},
   "outputs": [
    {
     "data": {
      "image/png": "[encoded data removed]",
      "text/plain": [
       "<Figure size 640x480 with 1 Axes>"
      ]
     },
     "metadata": {},
     "output_type": "display_data"
    }
   ],
   "source": [
    "bot_xt_pct = pd.crosstab(kmeans.labels_, reader_grouped_df[\"lang\"])\n",
    "bot_xt_pct.plot(kind='bar', stacked=False, \n",
    "                   title=f'lang per cluster')\n",
    "plt.xlabel('Cluster')\n",
    "plt.ylabel(\"lang\")\n",
    "plt.show()"
   ]
  },
  {
   "cell_type": "code",
   "execution_count": 65,
   "id": "114b34d0",
   "metadata": {},
   "outputs": [],
   "source": [
    "center = scaler.inverse_transform(kmeans.cluster_centers_)"
   ]
  },
  {
   "cell_type": "code",
   "execution_count": 66,
   "id": "cd9f775f",
   "metadata": {},
   "outputs": [
    {
     "data": {
      "image/png": "[encoded data removed]",
      "text/plain": [
       "<Figure size 800x400 with 1 Axes>"
      ]
     },
     "metadata": {},
     "output_type": "display_data"
    }
   ],
   "source": [
    "plt.figure(figsize=(8, 4))\n",
    "for i in range(0, len(center)):\n",
    "    plt.plot(kmeans.cluster_centers_[i], marker='o', label='Cluster %s' % i)\n",
    "plt.tick_params(axis='both', which='major', labelsize=10)\n",
    "plt.xticks(range(0, len(gaze_features)), gaze_features, fontsize=18, rotation=90)\n",
    "plt.legend(fontsize=10)\n",
    "plt.show()"
   ]
  },
  {
   "cell_type": "code",
   "execution_count": 67,
   "id": "e8c9d856",
   "metadata": {},
   "outputs": [],
   "source": [
    "pca = PCA(n_components=2)\n",
    "X_reduced = pca.fit_transform(X)"
   ]
  },
  {
   "cell_type": "code",
   "execution_count": 68,
   "id": "8d34799c",
   "metadata": {},
   "outputs": [
    {
     "data": {
      "image/png": "[encoded data removed]",
      "text/plain": [
       "<Figure size 640x480 with 1 Axes>"
      ]
     },
     "metadata": {},
     "output_type": "display_data"
    }
   ],
   "source": [
    "plt.scatter(X_reduced[:, 0], X_reduced[:, 1], c=kmeans.labels_, s=20)\n",
    "plt.tick_params(axis='both', which='major', labelsize=22)\n",
    "plt.show()"
   ]
  },
  {
   "cell_type": "markdown",
   "id": "8a65609e",
   "metadata": {},
   "source": [
    "### Creating one dataset per cluster"
   ]
  },
  {
   "cell_type": "code",
   "execution_count": 69,
   "id": "1849fac6",
   "metadata": {},
   "outputs": [
    {
     "name": "stdout",
     "output_type": "stream",
     "text": [
      "[{'sp_18', 'sp_37', 'sp_4', 'en_94', 'ru_35', 'ge_10', 'ge_9', 'en_86', 'sp_54', 'ge_8', 'en_101', 'ge_1', 'sp_38', 'it_13', 'sp_48', 'en_102', 'it_26', 'ge_12', 'ge_39', 'ru_42', 'it_11', 'ge_32', 'it_48', 'ge_37', 'it_17', 'en_90', 'en_88', 'ru_52', 'en_87'}, {'en_98', 'it_3', 'ge_6', 'ge_47', 'ge_13', 'it_36', 'it_37', 'en_91', 'ge_30', 'sp_34', 'ge_17', 'ge_3', 'ru_51', 'ge_53', 'en_3', 'sp_51', 'en_6'}, {'en_78', 'ru_21', 'en_99', 'sp_56', 'ru_13', 'sp_42', 'it_21', 'en_74', 'sp_61', 'en_85', 'en_82', 'en_84', 'en_97', 'en_72', 'ru_22', 'ge_41', 'en_89', 'en_76', 'en_93', 'en_95', 'en_83', 'en_79', 'ru_1'}]\n"
     ]
    }
   ],
   "source": [
    "readers_clusters = list()\n",
    "\n",
    "for i in range(selected_k):\n",
    "    readers_clusters.append(set(reader_grouped_df.loc[kmeans.labels_ == i, \"uniform_id\"]))\n",
    "    \n",
    "print(readers_clusters)"
   ]
  },
  {
   "cell_type": "code",
   "execution_count": 70,
   "id": "3034e95b",
   "metadata": {},
   "outputs": [
    {
     "data": {
      "text/plain": [
       "193910     True\n",
       "193911     True\n",
       "193912     True\n",
       "193913     True\n",
       "193914     True\n",
       "          ...  \n",
       "821161    False\n",
       "821162    False\n",
       "821163    False\n",
       "821164    False\n",
       "821165    False\n",
       "Name: uniform_id, Length: 145293, dtype: bool"
      ]
     },
     "execution_count": 70,
     "metadata": {},
     "output_type": "execute_result"
    }
   ],
   "source": [
    "df.uniform_id.isin(readers_clusters[0])"
   ]
  },
  {
   "cell_type": "code",
   "execution_count": 71,
   "id": "8d4d4874",
   "metadata": {},
   "outputs": [],
   "source": [
    "clustered_dfs = list()\n",
    "\n",
    "for readers_cluster in readers_clusters:\n",
    "    clustered_df = df[df.uniform_id.isin(readers_cluster)]\n",
    "    clustered_dfs.append(clustered_df)"
   ]
  },
  {
   "cell_type": "code",
   "execution_count": 72,
   "id": "402a4e0a",
   "metadata": {},
   "outputs": [
    {
     "data": {
      "text/plain": [
       "[        trialid  sentnum  ianum                ia lang uniform_id  skip  \\\n",
       " 193910      1.0      1.0    1.0                In   ge       ge_1   0.0   \n",
       " 193911      1.0      1.0    2.0               der   ge       ge_1   0.0   \n",
       " 193912      1.0      1.0    3.0             alten   ge       ge_1   0.0   \n",
       " 193913      1.0      1.0    4.0         römischen   ge       ge_1   0.0   \n",
       " 193914      1.0      1.0    5.0          Religion   ge       ge_1   0.0   \n",
       " ...         ...      ...    ...               ...  ...        ...   ...   \n",
       " 807088     12.0      8.0  172.0         distintos   sp      sp_54   1.0   \n",
       " 807089     12.0      8.0  173.0         gobiernos   sp      sp_54   0.0   \n",
       " 807090     12.0      8.0  174.0                 y   sp      sp_54   1.0   \n",
       " 807091     12.0      8.0  175.0    organizaciones   sp      sp_54   0.0   \n",
       " 807092     12.0      8.0  176.0  internacionales.   sp      sp_54   0.0   \n",
       " \n",
       "         firstfix.dur  firstrun.dur     dur  firstrun.nfix  nfix  refix  reread  \n",
       " 193910         164.0         164.0   164.0            1.0   1.0    0.0     0.0  \n",
       " 193911         166.0         166.0   657.0            1.0   3.0    0.0     1.0  \n",
       " 193912         144.0         144.0   717.0            1.0   3.0    0.0     1.0  \n",
       " 193913         219.0         219.0  1231.0            1.0   6.0    0.0     1.0  \n",
       " 193914         151.0         151.0  1338.0            1.0   8.0    1.0     1.0  \n",
       " ...              ...           ...     ...            ...   ...    ...     ...  \n",
       " 807088           0.0           0.0     0.0            0.0   0.0    0.0     0.0  \n",
       " 807089         255.0         255.0   255.0            1.0   1.0    0.0     0.0  \n",
       " 807090           0.0           0.0     0.0            0.0   0.0    0.0     0.0  \n",
       " 807091         252.0         252.0   252.0            1.0   1.0    0.0     0.0  \n",
       " 807092         227.0         227.0   227.0            1.0   1.0    0.0     0.0  \n",
       " \n",
       " [61489 rows x 14 columns],\n",
       "         trialid  sentnum  ianum             ia lang uniform_id  skip  \\\n",
       " 197633      1.0      1.0    1.0             In   ge       ge_3   0.0   \n",
       " 197634      1.0      1.0    2.0            der   ge       ge_3   0.0   \n",
       " 197635      1.0      1.0    3.0          alten   ge       ge_3   0.0   \n",
       " 197636      1.0      1.0    4.0      römischen   ge       ge_3   0.0   \n",
       " 197637      1.0      1.0    5.0       Religion   ge       ge_3   0.0   \n",
       " ...         ...      ...    ...            ...  ...        ...   ...   \n",
       " 804677     12.0      3.0   46.0            por   sp      sp_51   1.0   \n",
       " 804678     12.0      3.0   47.0  jurisdicción.   sp      sp_51   0.0   \n",
       " 804679     12.0      4.0   48.0             El   sp      sp_51   0.0   \n",
       " 804680     12.0      4.0   49.0  identificador   sp      sp_51   0.0   \n",
       " 804681     12.0      4.0   50.0             de   sp      sp_51   1.0   \n",
       " \n",
       "         firstfix.dur  firstrun.dur    dur  firstrun.nfix  nfix  refix  reread  \n",
       " 197633         180.0         180.0  180.0            1.0   1.0    0.0     0.0  \n",
       " 197634         288.0         288.0  288.0            1.0   1.0    0.0     0.0  \n",
       " 197635         163.0         163.0  444.0            1.0   3.0    0.0     1.0  \n",
       " 197636         294.0         294.0  294.0            1.0   1.0    0.0     0.0  \n",
       " 197637         226.0         488.0  488.0            2.0   2.0    1.0     0.0  \n",
       " ...              ...           ...    ...            ...   ...    ...     ...  \n",
       " 804677           0.0           0.0    0.0            0.0   0.0    0.0     0.0  \n",
       " 804678         171.0         388.0  388.0            2.0   2.0    1.0     0.0  \n",
       " 804679         169.0         169.0  169.0            1.0   1.0    0.0     0.0  \n",
       " 804680         172.0         506.0  506.0            3.0   3.0    1.0     0.0  \n",
       " 804681           0.0           0.0    0.0            0.0   0.0    0.0     0.0  \n",
       " \n",
       " [35609 rows x 14 columns],\n",
       "         trialid  sentnum  ianum         ia lang uniform_id  skip  \\\n",
       " 251217      1.0      1.0    1.0         In   ge      ge_41   0.0   \n",
       " 251218      1.0      1.0    2.0        der   ge      ge_41   0.0   \n",
       " 251219      1.0      1.0    3.0      alten   ge      ge_41   0.0   \n",
       " 251220      1.0      1.0    4.0  römischen   ge      ge_41   0.0   \n",
       " 251221      1.0      1.0    5.0   Religion   ge      ge_41   0.0   \n",
       " ...         ...      ...    ...        ...  ...        ...   ...   \n",
       " 821161     12.0      1.0    5.0   vehículo   sp      sp_61   0.0   \n",
       " 821162     12.0      1.0    6.0         es   sp      sp_61   1.0   \n",
       " 821163     12.0      1.0    7.0        una   sp      sp_61   1.0   \n",
       " 821164     12.0      1.0    8.0      placa   sp      sp_61   0.0   \n",
       " 821165     12.0      1.0    9.0         de   sp      sp_61   1.0   \n",
       " \n",
       "         firstfix.dur  firstrun.dur     dur  firstrun.nfix  nfix  refix  reread  \n",
       " 251217          31.0          31.0   418.0            1.0   3.0    0.0     1.0  \n",
       " 251218         296.0         296.0   753.0            1.0   3.0    0.0     1.0  \n",
       " 251219         249.0         249.0   742.0            1.0   3.0    0.0     1.0  \n",
       " 251220         118.0         281.0  1217.0            2.0   6.0    0.0     1.0  \n",
       " 251221         203.0         203.0   377.0            1.0   2.0    0.0     1.0  \n",
       " ...              ...           ...     ...            ...   ...    ...     ...  \n",
       " 821161         181.0         358.0   522.0            2.0   3.0    1.0     1.0  \n",
       " 821162           0.0           0.0     0.0            0.0   0.0    0.0     0.0  \n",
       " 821163           0.0           0.0     0.0            0.0   0.0    0.0     0.0  \n",
       " 821164         165.0         165.0   315.0            1.0   2.0    0.0     1.0  \n",
       " 821165           0.0           0.0     0.0            0.0   0.0    0.0     0.0  \n",
       " \n",
       " [48195 rows x 14 columns]]"
      ]
     },
     "execution_count": 72,
     "metadata": {},
     "output_type": "execute_result"
    }
   ],
   "source": [
    "clustered_dfs"
   ]
  },
  {
   "cell_type": "markdown",
   "id": "2ecd354d",
   "metadata": {},
   "source": [
    "### Mean gaze features inside each clustered dataset"
   ]
  },
  {
   "cell_type": "code",
   "execution_count": 73,
   "id": "1da69d0e",
   "metadata": {},
   "outputs": [],
   "source": [
    "group_by_cols = [\"trialid\", \"sentnum\", \"ianum\", \"ia\", \"lang\"]\n",
    "grouped_cols = [\"skip\", \"firstfix.dur\", \"firstrun.dur\", \"dur\", \"firstrun.nfix\", \"nfix\", \"refix\", \"reread\"]\n",
    "\n",
    "for i in range(len(clustered_dfs)):\n",
    "    grouped_clusterd_df = clustered_dfs[i].groupby(group_by_cols)[grouped_cols].mean()\n",
    "    \n",
    "    grouped_clusterd_df = grouped_clusterd_df.reset_index(level=0).reset_index(level=0).reset_index(level=0).reset_index(level=0).reset_index(level=0)\n",
    "    \n",
    "    grouped_clusterd_df[\"trial_sentnum\"] = grouped_clusterd_df[\"sentnum\"]\n",
    "    grouped_clusterd_df[\"sentnum\"] = grouped_clusterd_df[\"sentnum\"].astype(\"string\") + grouped_clusterd_df[\"trialid\"].astype(\"string\") + grouped_clusterd_df[\"lang\"].astype(\"string\")\n",
    "    grouped_clusterd_df.sentnum = grouped_clusterd_df.sentnum.astype('category').cat.codes\n",
    "    \n",
    "    grouped_clusterd_df.rename(columns={\"skip\" : \"prob_skip\", \"refix\" : \"prob_refix\", \"reread\" : \"prob_reread\"}, inplace=True)\n",
    "    \n",
    "    grouped_clusterd_df.ianum = grouped_clusterd_df.ianum.astype(int)\n",
    "    grouped_clusterd_df.trialid = grouped_clusterd_df.trialid.astype(int)\n",
    "    grouped_clusterd_df.trial_sentnum = grouped_clusterd_df.trial_sentnum.astype(int)\n",
    "    \n",
    "    clustered_dfs[i] = grouped_clusterd_df"
   ]
  },
  {
   "cell_type": "code",
   "execution_count": 74,
   "id": "1574b5e0",
   "metadata": {},
   "outputs": [
    {
     "name": "stdout",
     "output_type": "stream",
     "text": [
      "               prob_skip  firstrun.dur       dur  firstrun.nfix      nfix  \\\n",
      "prob_skip       1.000000     -0.783383 -0.702896      -0.832626 -0.748956   \n",
      "firstrun.dur   -0.783383      1.000000  0.883981       0.932176  0.840828   \n",
      "dur            -0.702896      0.883981  1.000000       0.829165  0.958916   \n",
      "firstrun.nfix  -0.832626      0.932176  0.829165       1.000000  0.877740   \n",
      "nfix           -0.748956      0.840828  0.958916       0.877740  1.000000   \n",
      "prob_refix     -0.499622      0.759429  0.736752       0.824339  0.788449   \n",
      "prob_reread    -0.472787      0.446552  0.712010       0.441667  0.741436   \n",
      "\n",
      "               prob_refix  prob_reread  \n",
      "prob_skip       -0.499622    -0.472787  \n",
      "firstrun.dur     0.759429     0.446552  \n",
      "dur              0.736752     0.712010  \n",
      "firstrun.nfix    0.824339     0.441667  \n",
      "nfix             0.788449     0.741436  \n",
      "prob_refix       1.000000     0.396716  \n",
      "prob_reread      0.396716     1.000000  \n",
      "               prob_skip  firstrun.dur       dur  firstrun.nfix      nfix  \\\n",
      "prob_skip       1.000000     -0.662586 -0.547026      -0.710183 -0.557328   \n",
      "firstrun.dur   -0.662586      1.000000  0.708013       0.890071  0.627381   \n",
      "dur            -0.547026      0.708013  1.000000       0.680375  0.952032   \n",
      "firstrun.nfix  -0.710183      0.890071  0.680375       1.000000  0.707842   \n",
      "nfix           -0.557328      0.627381  0.952032       0.707842  1.000000   \n",
      "prob_refix     -0.390760      0.649663  0.649942       0.753609  0.694185   \n",
      "prob_reread    -0.427208      0.307488  0.681831       0.340163  0.715981   \n",
      "\n",
      "               prob_refix  prob_reread  \n",
      "prob_skip       -0.390760    -0.427208  \n",
      "firstrun.dur     0.649663     0.307488  \n",
      "dur              0.649942     0.681831  \n",
      "firstrun.nfix    0.753609     0.340163  \n",
      "nfix             0.694185     0.715981  \n",
      "prob_refix       1.000000     0.368680  \n",
      "prob_reread      0.368680     1.000000  \n",
      "               prob_skip  firstrun.dur       dur  firstrun.nfix      nfix  \\\n",
      "prob_skip       1.000000     -0.813080 -0.707626      -0.875372 -0.748897   \n",
      "firstrun.dur   -0.813080      1.000000  0.827100       0.907278  0.761143   \n",
      "dur            -0.707626      0.827100  1.000000       0.767588  0.944368   \n",
      "firstrun.nfix  -0.875372      0.907278  0.767588       1.000000  0.827089   \n",
      "nfix           -0.748897      0.761143  0.944368       0.827089  1.000000   \n",
      "prob_refix     -0.321734      0.558767  0.565261       0.657453  0.637119   \n",
      "prob_reread    -0.377966      0.343600  0.689882       0.349821  0.712234   \n",
      "\n",
      "               prob_refix  prob_reread  \n",
      "prob_skip       -0.321734    -0.377966  \n",
      "firstrun.dur     0.558767     0.343600  \n",
      "dur              0.565261     0.689882  \n",
      "firstrun.nfix    0.657453     0.349821  \n",
      "nfix             0.637119     0.712234  \n",
      "prob_refix       1.000000     0.262925  \n",
      "prob_reread      0.262925     1.000000  \n"
     ]
    }
   ],
   "source": [
    "for clustered_df in clustered_dfs:\n",
    "    print(clustered_df[[\"prob_skip\", \"firstrun.dur\", \"dur\", \"firstrun.nfix\", \"nfix\", \"prob_refix\", \"prob_reread\"]].corr())"
   ]
  },
  {
   "cell_type": "code",
   "execution_count": 75,
   "id": "ffeab460",
   "metadata": {},
   "outputs": [
    {
     "name": "stdout",
     "output_type": "stream",
     "text": [
      "Len dataset_0 : (10489, 14)\n",
      "Len dataset_1 : (10489, 14)\n",
      "Len dataset_2 : (10489, 14)\n"
     ]
    }
   ],
   "source": [
    "for i, clustered_df in enumerate(clustered_dfs):\n",
    "    print(f\"Len dataset_{i} : {clustered_df.shape}\")"
   ]
  },
  {
   "cell_type": "markdown",
   "id": "bef81e0f",
   "metadata": {},
   "source": [
    "### Saving datasets"
   ]
  },
  {
   "cell_type": "code",
   "execution_count": 51,
   "id": "500ca603",
   "metadata": {},
   "outputs": [],
   "source": [
    "for i, clustered_df in enumerate(clustered_dfs):\n",
    "    clustered_df.to_csv(f\"datasets/cluster_{i}_dataset.csv\")"
   ]
  },
  {
   "cell_type": "markdown",
   "id": "59a7c479",
   "metadata": {},
   "source": [
    "### see distribution of data based on trial id\n",
    "\n",
    "we can use last twe trial to compute validation and test set"
   ]
  },
  {
   "cell_type": "code",
   "execution_count": 53,
   "id": "812250bd",
   "metadata": {},
   "outputs": [
    {
     "name": "stdout",
     "output_type": "stream",
     "text": [
      "\t--- Cluster 0 ---\n",
      "Percentage of samples in 1.0-th trial : 0.09%\n",
      "Percentage of samples in 2.0-th trial : 0.09%\n",
      "Percentage of samples in 3.0-th trial : 0.10%\n",
      "Percentage of samples in 4.0-th trial : 0.08%\n",
      "Percentage of samples in 5.0-th trial : 0.07%\n",
      "Percentage of samples in 6.0-th trial : 0.08%\n",
      "Percentage of samples in 7.0-th trial : 0.09%\n",
      "Percentage of samples in 8.0-th trial : 0.06%\n",
      "Percentage of samples in 9.0-th trial : 0.08%\n",
      "Percentage of samples in 10.0-th trial : 0.09%\n",
      "Percentage of samples in 11.0-th trial : 0.09%\n",
      "Percentage of samples in 12.0-th trial : 0.08%\n",
      "\n",
      "\t--- Cluster 1 ---\n",
      "Percentage of samples in 1.0-th trial : 0.08%\n",
      "Percentage of samples in 2.0-th trial : 0.08%\n",
      "Percentage of samples in 3.0-th trial : 0.09%\n",
      "Percentage of samples in 4.0-th trial : 0.09%\n",
      "Percentage of samples in 5.0-th trial : 0.08%\n",
      "Percentage of samples in 6.0-th trial : 0.08%\n",
      "Percentage of samples in 7.0-th trial : 0.10%\n",
      "Percentage of samples in 8.0-th trial : 0.07%\n",
      "Percentage of samples in 9.0-th trial : 0.09%\n",
      "Percentage of samples in 10.0-th trial : 0.09%\n",
      "Percentage of samples in 11.0-th trial : 0.09%\n",
      "Percentage of samples in 12.0-th trial : 0.07%\n",
      "\n",
      "\t--- Cluster 2 ---\n",
      "Percentage of samples in 1.0-th trial : 0.08%\n",
      "Percentage of samples in 2.0-th trial : 0.09%\n",
      "Percentage of samples in 3.0-th trial : 0.10%\n",
      "Percentage of samples in 4.0-th trial : 0.08%\n",
      "Percentage of samples in 5.0-th trial : 0.07%\n",
      "Percentage of samples in 6.0-th trial : 0.07%\n",
      "Percentage of samples in 7.0-th trial : 0.09%\n",
      "Percentage of samples in 8.0-th trial : 0.07%\n",
      "Percentage of samples in 9.0-th trial : 0.08%\n",
      "Percentage of samples in 10.0-th trial : 0.09%\n",
      "Percentage of samples in 11.0-th trial : 0.09%\n",
      "Percentage of samples in 12.0-th trial : 0.08%\n",
      "\n",
      "\t--- Cluster 3 ---\n",
      "Percentage of samples in 1.0-th trial : 0.07%\n",
      "Percentage of samples in 2.0-th trial : 0.10%\n",
      "Percentage of samples in 3.0-th trial : 0.11%\n",
      "Percentage of samples in 4.0-th trial : 0.09%\n",
      "Percentage of samples in 5.0-th trial : 0.08%\n",
      "Percentage of samples in 6.0-th trial : 0.06%\n",
      "Percentage of samples in 7.0-th trial : 0.10%\n",
      "Percentage of samples in 8.0-th trial : 0.07%\n",
      "Percentage of samples in 9.0-th trial : 0.07%\n",
      "Percentage of samples in 10.0-th trial : 0.09%\n",
      "Percentage of samples in 11.0-th trial : 0.09%\n",
      "Percentage of samples in 12.0-th trial : 0.08%\n",
      "\n",
      "\t--- Cluster 4 ---\n",
      "Percentage of samples in 1.0-th trial : 0.09%\n",
      "Percentage of samples in 2.0-th trial : 0.10%\n",
      "Percentage of samples in 3.0-th trial : 0.10%\n",
      "Percentage of samples in 4.0-th trial : 0.09%\n",
      "Percentage of samples in 5.0-th trial : 0.06%\n",
      "Percentage of samples in 6.0-th trial : 0.08%\n",
      "Percentage of samples in 7.0-th trial : 0.10%\n",
      "Percentage of samples in 8.0-th trial : 0.07%\n",
      "Percentage of samples in 9.0-th trial : 0.08%\n",
      "Percentage of samples in 10.0-th trial : 0.09%\n",
      "Percentage of samples in 11.0-th trial : 0.09%\n",
      "Percentage of samples in 12.0-th trial : 0.06%\n",
      "\n"
     ]
    }
   ],
   "source": [
    "for i, clustered_df in enumerate(clustered_dfs):\n",
    "    \n",
    "    print(f\"\\t--- Cluster {i} ---\")\n",
    "    \n",
    "    for trial in df.trialid.unique():\n",
    "        print(f\"Percentage of samples in {trial}-th trial : {np.sum(clustered_df.trialid == trial)/clustered_df.shape[0]:.2f}%\")\n",
    "\n",
    "    print()"
   ]
  }
 ],
 "metadata": {
  "kernelspec": {
   "display_name": "ml-meco",
   "language": "python",
   "name": "ml-meco"
  },
  "language_info": {
   "codemirror_mode": {
    "name": "ipython",
    "version": 3
   },
   "file_extension": ".py",
   "mimetype": "text/x-python",
   "name": "python",
   "nbconvert_exporter": "python",
   "pygments_lexer": "ipython3",
   "version": "3.9.15"
  }
 },
 "nbformat": 4,
 "nbformat_minor": 5
}

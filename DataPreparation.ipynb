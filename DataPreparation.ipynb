{
 "cells": [
  {
   "cell_type": "markdown",
   "id": "b1e45739",
   "metadata": {},
   "source": [
    "# MECO\n",
    "\n",
    "Feature extraction and data preparation for the MECO dataset\n",
    "\n",
    "We chose the \"joint_data_trimmed.dat\" file in the MECO website (https://meco-read.com/).\n",
    "\n",
    "Interesting paper that describe the dataset, https://link.springer.com/epdf/10.3758/s13428-021-01772-6?sharing_token=As4e3osuA15IaUCKtCvDT5AH0g46feNdnc402WrhzyoEtpF3alySPm1lAWocS1ewk9OZlpPc3CqibACC23iBC_nacc6BD4_GPYLuUZJAvfWHoa8e0hjmhhFn9fLIgIRd3VzSfjlcpQ3gS4EiUY2YpRXjDSh3hB5Zx5kZpkk4yIQ=."
   ]
  },
  {
   "cell_type": "markdown",
   "id": "57148942",
   "metadata": {},
   "source": [
    "## Import Libs and Data"
   ]
  },
  {
   "cell_type": "code",
   "execution_count": 1,
   "id": "f35dd4c8",
   "metadata": {},
   "outputs": [],
   "source": [
    "import pandas as pd\n",
    "import numpy as np"
   ]
  },
  {
   "cell_type": "code",
   "execution_count": 2,
   "id": "c2622fc9",
   "metadata": {},
   "outputs": [],
   "source": [
    "df = pd.read_csv(\"joint_data_trimmed.csv\", index_col=0)"
   ]
  },
  {
   "cell_type": "markdown",
   "id": "3a8457b4",
   "metadata": {},
   "source": [
    "We have chose to use the following features for each sample:\n",
    "\n",
    "- **Skipping**: a binary index of whether the word was fixated at least once during the entire reading of the text [and not only during the first pass].\n",
    "- **First Fixation**: the duration of the first fixation landing on the word.\n",
    "- **Gaze Duration**: the summed duration of fixations on the word in the first pass, i.e., before the gaze leaves it for the first time.\n",
    "- **Total Fixation Duration**: the summed duration of all fixations on the word.\n",
    "- **First-run Number of Fixation**: the number of fixations on a word during the first pass.\n",
    "- **Total Number of Fixations**: number of fixations on a word overall.\n",
    "- **Regression**: a binary index of whether the gaze returned to the word after inspecting further textual material.\n",
    "- **Rereading**: a binary index of whether the word elicited fixations after the first pass.\n"
   ]
  },
  {
   "cell_type": "code",
   "execution_count": 3,
   "id": "e3b66d37",
   "metadata": {},
   "outputs": [],
   "source": [
    "# following a paper cited on the MECO website, i will use a subset of the gaze features\n",
    "gaze_features = [\"skip\", \"firstfix.dur\", \"firstrun.dur\", \"dur\", \"firstrun.nfix\", \"nfix\", \"refix\", \"reread\"]\n",
    "basic_features = [\"trialid\", \"sentnum\", \"ianum\", \"ia\", \"lang\", \"uniform_id\"]\n",
    "df = df[basic_features + gaze_features]"
   ]
  },
  {
   "cell_type": "code",
   "execution_count": 4,
   "id": "ac4e11f4",
   "metadata": {},
   "outputs": [
    {
     "data": {
      "text/html": [
       "<div>\n",
       "<style scoped>\n",
       "    .dataframe tbody tr th:only-of-type {\n",
       "        vertical-align: middle;\n",
       "    }\n",
       "\n",
       "    .dataframe tbody tr th {\n",
       "        vertical-align: top;\n",
       "    }\n",
       "\n",
       "    .dataframe thead th {\n",
       "        text-align: right;\n",
       "    }\n",
       "</style>\n",
       "<table border=\"1\" class=\"dataframe\">\n",
       "  <thead>\n",
       "    <tr style=\"text-align: right;\">\n",
       "      <th></th>\n",
       "      <th>trialid</th>\n",
       "      <th>sentnum</th>\n",
       "      <th>ianum</th>\n",
       "      <th>ia</th>\n",
       "      <th>lang</th>\n",
       "      <th>uniform_id</th>\n",
       "      <th>skip</th>\n",
       "      <th>firstfix.dur</th>\n",
       "      <th>firstrun.dur</th>\n",
       "      <th>dur</th>\n",
       "      <th>firstrun.nfix</th>\n",
       "      <th>nfix</th>\n",
       "      <th>refix</th>\n",
       "      <th>reread</th>\n",
       "    </tr>\n",
       "  </thead>\n",
       "  <tbody>\n",
       "    <tr>\n",
       "      <th>1</th>\n",
       "      <td>1.0</td>\n",
       "      <td>1.0</td>\n",
       "      <td>1.0</td>\n",
       "      <td>Janus</td>\n",
       "      <td>du</td>\n",
       "      <td>du_1</td>\n",
       "      <td>0.0</td>\n",
       "      <td>154.0</td>\n",
       "      <td>154.0</td>\n",
       "      <td>400.0</td>\n",
       "      <td>1.0</td>\n",
       "      <td>2.0</td>\n",
       "      <td>0.0</td>\n",
       "      <td>1.0</td>\n",
       "    </tr>\n",
       "    <tr>\n",
       "      <th>2</th>\n",
       "      <td>1.0</td>\n",
       "      <td>1.0</td>\n",
       "      <td>2.0</td>\n",
       "      <td>is</td>\n",
       "      <td>du</td>\n",
       "      <td>du_1</td>\n",
       "      <td>1.0</td>\n",
       "      <td>NaN</td>\n",
       "      <td>NaN</td>\n",
       "      <td>NaN</td>\n",
       "      <td>NaN</td>\n",
       "      <td>NaN</td>\n",
       "      <td>NaN</td>\n",
       "      <td>NaN</td>\n",
       "    </tr>\n",
       "    <tr>\n",
       "      <th>3</th>\n",
       "      <td>1.0</td>\n",
       "      <td>1.0</td>\n",
       "      <td>3.0</td>\n",
       "      <td>in</td>\n",
       "      <td>du</td>\n",
       "      <td>du_1</td>\n",
       "      <td>0.0</td>\n",
       "      <td>551.0</td>\n",
       "      <td>551.0</td>\n",
       "      <td>551.0</td>\n",
       "      <td>1.0</td>\n",
       "      <td>1.0</td>\n",
       "      <td>0.0</td>\n",
       "      <td>0.0</td>\n",
       "    </tr>\n",
       "    <tr>\n",
       "      <th>4</th>\n",
       "      <td>1.0</td>\n",
       "      <td>1.0</td>\n",
       "      <td>4.0</td>\n",
       "      <td>de</td>\n",
       "      <td>du</td>\n",
       "      <td>du_1</td>\n",
       "      <td>1.0</td>\n",
       "      <td>NaN</td>\n",
       "      <td>NaN</td>\n",
       "      <td>NaN</td>\n",
       "      <td>NaN</td>\n",
       "      <td>NaN</td>\n",
       "      <td>NaN</td>\n",
       "      <td>NaN</td>\n",
       "    </tr>\n",
       "    <tr>\n",
       "      <th>5</th>\n",
       "      <td>1.0</td>\n",
       "      <td>1.0</td>\n",
       "      <td>5.0</td>\n",
       "      <td>oude</td>\n",
       "      <td>du</td>\n",
       "      <td>du_1</td>\n",
       "      <td>0.0</td>\n",
       "      <td>189.0</td>\n",
       "      <td>189.0</td>\n",
       "      <td>439.0</td>\n",
       "      <td>1.0</td>\n",
       "      <td>2.0</td>\n",
       "      <td>0.0</td>\n",
       "      <td>1.0</td>\n",
       "    </tr>\n",
       "  </tbody>\n",
       "</table>\n",
       "</div>"
      ],
      "text/plain": [
       "   trialid  sentnum  ianum     ia lang uniform_id  skip  firstfix.dur  \\\n",
       "1      1.0      1.0    1.0  Janus   du       du_1   0.0         154.0   \n",
       "2      1.0      1.0    2.0     is   du       du_1   1.0           NaN   \n",
       "3      1.0      1.0    3.0     in   du       du_1   0.0         551.0   \n",
       "4      1.0      1.0    4.0     de   du       du_1   1.0           NaN   \n",
       "5      1.0      1.0    5.0   oude   du       du_1   0.0         189.0   \n",
       "\n",
       "   firstrun.dur    dur  firstrun.nfix  nfix  refix  reread  \n",
       "1         154.0  400.0            1.0   2.0    0.0     1.0  \n",
       "2           NaN    NaN            NaN   NaN    NaN     NaN  \n",
       "3         551.0  551.0            1.0   1.0    0.0     0.0  \n",
       "4           NaN    NaN            NaN   NaN    NaN     NaN  \n",
       "5         189.0  439.0            1.0   2.0    0.0     1.0  "
      ]
     },
     "execution_count": 4,
     "metadata": {},
     "output_type": "execute_result"
    }
   ],
   "source": [
    "df.head()"
   ]
  },
  {
   "cell_type": "markdown",
   "id": "ea3527c4",
   "metadata": {},
   "source": [
    "## Data Understanding\n",
    "\n",
    "We can notice that there are some Null elements, for the gaze_features except skip, those Null elements are in the rows with skip == 1, representing the fact that cannot be captured."
   ]
  },
  {
   "cell_type": "code",
   "execution_count": 5,
   "id": "61b9b7ff",
   "metadata": {},
   "outputs": [
    {
     "name": "stdout",
     "output_type": "stream",
     "text": [
      "<class 'pandas.core.frame.DataFrame'>\n",
      "Int64Index: 855123 entries, 1 to 855123\n",
      "Data columns (total 14 columns):\n",
      " #   Column         Non-Null Count   Dtype  \n",
      "---  ------         --------------   -----  \n",
      " 0   trialid        855122 non-null  float64\n",
      " 1   sentnum        855122 non-null  float64\n",
      " 2   ianum          855122 non-null  float64\n",
      " 3   ia             854741 non-null  object \n",
      " 4   lang           855122 non-null  object \n",
      " 5   uniform_id     855123 non-null  object \n",
      " 6   skip           855122 non-null  float64\n",
      " 7   firstfix.dur   639530 non-null  float64\n",
      " 8   firstrun.dur   639530 non-null  float64\n",
      " 9   dur            639530 non-null  float64\n",
      " 10  firstrun.nfix  639530 non-null  float64\n",
      " 11  nfix           639530 non-null  float64\n",
      " 12  refix          639454 non-null  float64\n",
      " 13  reread         639530 non-null  float64\n",
      "dtypes: float64(11), object(3)\n",
      "memory usage: 97.9+ MB\n"
     ]
    }
   ],
   "source": [
    "df.info()"
   ]
  },
  {
   "cell_type": "code",
   "execution_count": 6,
   "id": "ced96606",
   "metadata": {},
   "outputs": [
    {
     "data": {
      "text/html": [
       "<div>\n",
       "<style scoped>\n",
       "    .dataframe tbody tr th:only-of-type {\n",
       "        vertical-align: middle;\n",
       "    }\n",
       "\n",
       "    .dataframe tbody tr th {\n",
       "        vertical-align: top;\n",
       "    }\n",
       "\n",
       "    .dataframe thead th {\n",
       "        text-align: right;\n",
       "    }\n",
       "</style>\n",
       "<table border=\"1\" class=\"dataframe\">\n",
       "  <thead>\n",
       "    <tr style=\"text-align: right;\">\n",
       "      <th></th>\n",
       "      <th>trialid</th>\n",
       "      <th>sentnum</th>\n",
       "      <th>ianum</th>\n",
       "      <th>skip</th>\n",
       "      <th>firstfix.dur</th>\n",
       "      <th>firstrun.dur</th>\n",
       "      <th>dur</th>\n",
       "      <th>firstrun.nfix</th>\n",
       "      <th>nfix</th>\n",
       "      <th>refix</th>\n",
       "      <th>reread</th>\n",
       "    </tr>\n",
       "  </thead>\n",
       "  <tbody>\n",
       "    <tr>\n",
       "      <th>count</th>\n",
       "      <td>855122.000000</td>\n",
       "      <td>855122.000000</td>\n",
       "      <td>855122.000000</td>\n",
       "      <td>855122.000000</td>\n",
       "      <td>639530.000000</td>\n",
       "      <td>639530.000000</td>\n",
       "      <td>639530.000000</td>\n",
       "      <td>639530.000000</td>\n",
       "      <td>639530.000000</td>\n",
       "      <td>639454.000000</td>\n",
       "      <td>639530.000000</td>\n",
       "    </tr>\n",
       "    <tr>\n",
       "      <th>mean</th>\n",
       "      <td>6.319812</td>\n",
       "      <td>5.100584</td>\n",
       "      <td>84.710652</td>\n",
       "      <td>0.252118</td>\n",
       "      <td>214.771812</td>\n",
       "      <td>274.000635</td>\n",
       "      <td>396.190598</td>\n",
       "      <td>1.291295</td>\n",
       "      <td>1.870305</td>\n",
       "      <td>0.270565</td>\n",
       "      <td>0.315846</td>\n",
       "    </tr>\n",
       "    <tr>\n",
       "      <th>std</th>\n",
       "      <td>3.440210</td>\n",
       "      <td>2.697842</td>\n",
       "      <td>51.443266</td>\n",
       "      <td>0.434229</td>\n",
       "      <td>94.834265</td>\n",
       "      <td>181.464901</td>\n",
       "      <td>332.095123</td>\n",
       "      <td>0.666067</td>\n",
       "      <td>1.378493</td>\n",
       "      <td>0.444252</td>\n",
       "      <td>0.464852</td>\n",
       "    </tr>\n",
       "    <tr>\n",
       "      <th>min</th>\n",
       "      <td>1.000000</td>\n",
       "      <td>1.000000</td>\n",
       "      <td>1.000000</td>\n",
       "      <td>0.000000</td>\n",
       "      <td>2.000000</td>\n",
       "      <td>2.000000</td>\n",
       "      <td>2.000000</td>\n",
       "      <td>1.000000</td>\n",
       "      <td>1.000000</td>\n",
       "      <td>0.000000</td>\n",
       "      <td>0.000000</td>\n",
       "    </tr>\n",
       "    <tr>\n",
       "      <th>25%</th>\n",
       "      <td>3.000000</td>\n",
       "      <td>3.000000</td>\n",
       "      <td>41.000000</td>\n",
       "      <td>0.000000</td>\n",
       "      <td>156.000000</td>\n",
       "      <td>171.000000</td>\n",
       "      <td>199.000000</td>\n",
       "      <td>1.000000</td>\n",
       "      <td>1.000000</td>\n",
       "      <td>0.000000</td>\n",
       "      <td>0.000000</td>\n",
       "    </tr>\n",
       "    <tr>\n",
       "      <th>50%</th>\n",
       "      <td>6.000000</td>\n",
       "      <td>5.000000</td>\n",
       "      <td>82.000000</td>\n",
       "      <td>0.000000</td>\n",
       "      <td>200.000000</td>\n",
       "      <td>229.000000</td>\n",
       "      <td>297.000000</td>\n",
       "      <td>1.000000</td>\n",
       "      <td>1.000000</td>\n",
       "      <td>0.000000</td>\n",
       "      <td>0.000000</td>\n",
       "    </tr>\n",
       "    <tr>\n",
       "      <th>75%</th>\n",
       "      <td>9.000000</td>\n",
       "      <td>7.000000</td>\n",
       "      <td>124.000000</td>\n",
       "      <td>1.000000</td>\n",
       "      <td>255.000000</td>\n",
       "      <td>324.000000</td>\n",
       "      <td>478.000000</td>\n",
       "      <td>1.000000</td>\n",
       "      <td>2.000000</td>\n",
       "      <td>1.000000</td>\n",
       "      <td>1.000000</td>\n",
       "    </tr>\n",
       "    <tr>\n",
       "      <th>max</th>\n",
       "      <td>12.000000</td>\n",
       "      <td>16.000000</td>\n",
       "      <td>243.000000</td>\n",
       "      <td>1.000000</td>\n",
       "      <td>12688.000000</td>\n",
       "      <td>12688.000000</td>\n",
       "      <td>15579.000000</td>\n",
       "      <td>44.000000</td>\n",
       "      <td>50.000000</td>\n",
       "      <td>1.000000</td>\n",
       "      <td>1.000000</td>\n",
       "    </tr>\n",
       "  </tbody>\n",
       "</table>\n",
       "</div>"
      ],
      "text/plain": [
       "             trialid        sentnum          ianum           skip  \\\n",
       "count  855122.000000  855122.000000  855122.000000  855122.000000   \n",
       "mean        6.319812       5.100584      84.710652       0.252118   \n",
       "std         3.440210       2.697842      51.443266       0.434229   \n",
       "min         1.000000       1.000000       1.000000       0.000000   \n",
       "25%         3.000000       3.000000      41.000000       0.000000   \n",
       "50%         6.000000       5.000000      82.000000       0.000000   \n",
       "75%         9.000000       7.000000     124.000000       1.000000   \n",
       "max        12.000000      16.000000     243.000000       1.000000   \n",
       "\n",
       "        firstfix.dur   firstrun.dur            dur  firstrun.nfix  \\\n",
       "count  639530.000000  639530.000000  639530.000000  639530.000000   \n",
       "mean      214.771812     274.000635     396.190598       1.291295   \n",
       "std        94.834265     181.464901     332.095123       0.666067   \n",
       "min         2.000000       2.000000       2.000000       1.000000   \n",
       "25%       156.000000     171.000000     199.000000       1.000000   \n",
       "50%       200.000000     229.000000     297.000000       1.000000   \n",
       "75%       255.000000     324.000000     478.000000       1.000000   \n",
       "max     12688.000000   12688.000000   15579.000000      44.000000   \n",
       "\n",
       "                nfix          refix         reread  \n",
       "count  639530.000000  639454.000000  639530.000000  \n",
       "mean        1.870305       0.270565       0.315846  \n",
       "std         1.378493       0.444252       0.464852  \n",
       "min         1.000000       0.000000       0.000000  \n",
       "25%         1.000000       0.000000       0.000000  \n",
       "50%         1.000000       0.000000       0.000000  \n",
       "75%         2.000000       1.000000       1.000000  \n",
       "max        50.000000       1.000000       1.000000  "
      ]
     },
     "execution_count": 6,
     "metadata": {},
     "output_type": "execute_result"
    }
   ],
   "source": [
    "df.describe()"
   ]
  },
  {
   "cell_type": "code",
   "execution_count": 7,
   "id": "d8c10415",
   "metadata": {},
   "outputs": [
    {
     "data": {
      "text/plain": [
       "array(['du', 'ee', 'fi', 'ge', 'gr', 'he', 'it', 'ko', 'en', 'no', nan,\n",
       "       'ru', 'sp', 'tr'], dtype=object)"
      ]
     },
     "execution_count": 7,
     "metadata": {},
     "output_type": "execute_result"
    }
   ],
   "source": [
    "df.lang.unique()"
   ]
  },
  {
   "cell_type": "markdown",
   "id": "ec70d7a3",
   "metadata": {},
   "source": [
    "Get a subset of languages, choosen look a the ones handled by mBERT (https://huggingface.co/bert-base-multilingual-cased).\n",
    "\n",
    "- **German**\n",
    "- **Italian**\n",
    "- **Russian**\n",
    "- **English**\n",
    "- **Spanish**"
   ]
  },
  {
   "cell_type": "code",
   "execution_count": 8,
   "id": "2fa714ec",
   "metadata": {},
   "outputs": [],
   "source": [
    "# get only the languages that are necessary to the project\n",
    "supported_languages = [\"ge\", \"it\", \"ru\", \"en\", \"sp\"]"
   ]
  },
  {
   "cell_type": "code",
   "execution_count": 9,
   "id": "b74a6778",
   "metadata": {},
   "outputs": [],
   "source": [
    "df = df[df.lang.isin(supported_languages)]"
   ]
  },
  {
   "cell_type": "code",
   "execution_count": 10,
   "id": "7c780880",
   "metadata": {},
   "outputs": [
    {
     "name": "stdout",
     "output_type": "stream",
     "text": [
      "<class 'pandas.core.frame.DataFrame'>\n",
      "Int64Index: 402904 entries, 193910 to 823179\n",
      "Data columns (total 14 columns):\n",
      " #   Column         Non-Null Count   Dtype  \n",
      "---  ------         --------------   -----  \n",
      " 0   trialid        402904 non-null  float64\n",
      " 1   sentnum        402904 non-null  float64\n",
      " 2   ianum          402904 non-null  float64\n",
      " 3   ia             402834 non-null  object \n",
      " 4   lang           402904 non-null  object \n",
      " 5   uniform_id     402904 non-null  object \n",
      " 6   skip           402904 non-null  float64\n",
      " 7   firstfix.dur   292582 non-null  float64\n",
      " 8   firstrun.dur   292582 non-null  float64\n",
      " 9   dur            292582 non-null  float64\n",
      " 10  firstrun.nfix  292582 non-null  float64\n",
      " 11  nfix           292582 non-null  float64\n",
      " 12  refix          292539 non-null  float64\n",
      " 13  reread         292582 non-null  float64\n",
      "dtypes: float64(11), object(3)\n",
      "memory usage: 46.1+ MB\n"
     ]
    }
   ],
   "source": [
    "df.info()"
   ]
  },
  {
   "cell_type": "code",
   "execution_count": 11,
   "id": "09d51c2d",
   "metadata": {},
   "outputs": [
    {
     "data": {
      "text/html": [
       "<div>\n",
       "<style scoped>\n",
       "    .dataframe tbody tr th:only-of-type {\n",
       "        vertical-align: middle;\n",
       "    }\n",
       "\n",
       "    .dataframe tbody tr th {\n",
       "        vertical-align: top;\n",
       "    }\n",
       "\n",
       "    .dataframe thead th {\n",
       "        text-align: right;\n",
       "    }\n",
       "</style>\n",
       "<table border=\"1\" class=\"dataframe\">\n",
       "  <thead>\n",
       "    <tr style=\"text-align: right;\">\n",
       "      <th></th>\n",
       "      <th>trialid</th>\n",
       "      <th>sentnum</th>\n",
       "      <th>ianum</th>\n",
       "      <th>ia</th>\n",
       "      <th>lang</th>\n",
       "      <th>uniform_id</th>\n",
       "      <th>skip</th>\n",
       "      <th>firstfix.dur</th>\n",
       "      <th>firstrun.dur</th>\n",
       "      <th>dur</th>\n",
       "      <th>firstrun.nfix</th>\n",
       "      <th>nfix</th>\n",
       "      <th>refix</th>\n",
       "      <th>reread</th>\n",
       "    </tr>\n",
       "  </thead>\n",
       "  <tbody>\n",
       "    <tr>\n",
       "      <th>193910</th>\n",
       "      <td>1.0</td>\n",
       "      <td>1.0</td>\n",
       "      <td>1.0</td>\n",
       "      <td>In</td>\n",
       "      <td>ge</td>\n",
       "      <td>ge_1</td>\n",
       "      <td>0.0</td>\n",
       "      <td>164.0</td>\n",
       "      <td>164.0</td>\n",
       "      <td>164.0</td>\n",
       "      <td>1.0</td>\n",
       "      <td>1.0</td>\n",
       "      <td>0.0</td>\n",
       "      <td>0.0</td>\n",
       "    </tr>\n",
       "    <tr>\n",
       "      <th>193911</th>\n",
       "      <td>1.0</td>\n",
       "      <td>1.0</td>\n",
       "      <td>2.0</td>\n",
       "      <td>der</td>\n",
       "      <td>ge</td>\n",
       "      <td>ge_1</td>\n",
       "      <td>0.0</td>\n",
       "      <td>166.0</td>\n",
       "      <td>166.0</td>\n",
       "      <td>657.0</td>\n",
       "      <td>1.0</td>\n",
       "      <td>3.0</td>\n",
       "      <td>0.0</td>\n",
       "      <td>1.0</td>\n",
       "    </tr>\n",
       "    <tr>\n",
       "      <th>193912</th>\n",
       "      <td>1.0</td>\n",
       "      <td>1.0</td>\n",
       "      <td>3.0</td>\n",
       "      <td>alten</td>\n",
       "      <td>ge</td>\n",
       "      <td>ge_1</td>\n",
       "      <td>0.0</td>\n",
       "      <td>144.0</td>\n",
       "      <td>144.0</td>\n",
       "      <td>717.0</td>\n",
       "      <td>1.0</td>\n",
       "      <td>3.0</td>\n",
       "      <td>0.0</td>\n",
       "      <td>1.0</td>\n",
       "    </tr>\n",
       "    <tr>\n",
       "      <th>193913</th>\n",
       "      <td>1.0</td>\n",
       "      <td>1.0</td>\n",
       "      <td>4.0</td>\n",
       "      <td>römischen</td>\n",
       "      <td>ge</td>\n",
       "      <td>ge_1</td>\n",
       "      <td>0.0</td>\n",
       "      <td>219.0</td>\n",
       "      <td>219.0</td>\n",
       "      <td>1231.0</td>\n",
       "      <td>1.0</td>\n",
       "      <td>6.0</td>\n",
       "      <td>0.0</td>\n",
       "      <td>1.0</td>\n",
       "    </tr>\n",
       "    <tr>\n",
       "      <th>193914</th>\n",
       "      <td>1.0</td>\n",
       "      <td>1.0</td>\n",
       "      <td>5.0</td>\n",
       "      <td>Religion</td>\n",
       "      <td>ge</td>\n",
       "      <td>ge_1</td>\n",
       "      <td>0.0</td>\n",
       "      <td>151.0</td>\n",
       "      <td>151.0</td>\n",
       "      <td>1338.0</td>\n",
       "      <td>1.0</td>\n",
       "      <td>8.0</td>\n",
       "      <td>1.0</td>\n",
       "      <td>1.0</td>\n",
       "    </tr>\n",
       "  </tbody>\n",
       "</table>\n",
       "</div>"
      ],
      "text/plain": [
       "        trialid  sentnum  ianum         ia lang uniform_id  skip  \\\n",
       "193910      1.0      1.0    1.0         In   ge       ge_1   0.0   \n",
       "193911      1.0      1.0    2.0        der   ge       ge_1   0.0   \n",
       "193912      1.0      1.0    3.0      alten   ge       ge_1   0.0   \n",
       "193913      1.0      1.0    4.0  römischen   ge       ge_1   0.0   \n",
       "193914      1.0      1.0    5.0   Religion   ge       ge_1   0.0   \n",
       "\n",
       "        firstfix.dur  firstrun.dur     dur  firstrun.nfix  nfix  refix  reread  \n",
       "193910         164.0         164.0   164.0            1.0   1.0    0.0     0.0  \n",
       "193911         166.0         166.0   657.0            1.0   3.0    0.0     1.0  \n",
       "193912         144.0         144.0   717.0            1.0   3.0    0.0     1.0  \n",
       "193913         219.0         219.0  1231.0            1.0   6.0    0.0     1.0  \n",
       "193914         151.0         151.0  1338.0            1.0   8.0    1.0     1.0  "
      ]
     },
     "execution_count": 11,
     "metadata": {},
     "output_type": "execute_result"
    }
   ],
   "source": [
    "df.head()"
   ]
  },
  {
   "cell_type": "markdown",
   "id": "2b1bc1b0",
   "metadata": {},
   "source": [
    "Notice that in the samples' gaze_features with skip == 0 there aren't Null elements."
   ]
  },
  {
   "cell_type": "code",
   "execution_count": 12,
   "id": "c524913c",
   "metadata": {},
   "outputs": [
    {
     "name": "stdout",
     "output_type": "stream",
     "text": [
      "<class 'pandas.core.frame.DataFrame'>\n",
      "Int64Index: 292582 entries, 193910 to 823178\n",
      "Data columns (total 14 columns):\n",
      " #   Column         Non-Null Count   Dtype  \n",
      "---  ------         --------------   -----  \n",
      " 0   trialid        292582 non-null  float64\n",
      " 1   sentnum        292582 non-null  float64\n",
      " 2   ianum          292582 non-null  float64\n",
      " 3   ia             292575 non-null  object \n",
      " 4   lang           292582 non-null  object \n",
      " 5   uniform_id     292582 non-null  object \n",
      " 6   skip           292582 non-null  float64\n",
      " 7   firstfix.dur   292582 non-null  float64\n",
      " 8   firstrun.dur   292582 non-null  float64\n",
      " 9   dur            292582 non-null  float64\n",
      " 10  firstrun.nfix  292582 non-null  float64\n",
      " 11  nfix           292582 non-null  float64\n",
      " 12  refix          292539 non-null  float64\n",
      " 13  reread         292582 non-null  float64\n",
      "dtypes: float64(11), object(3)\n",
      "memory usage: 33.5+ MB\n"
     ]
    }
   ],
   "source": [
    "df[df.skip==0].info()"
   ]
  },
  {
   "cell_type": "code",
   "execution_count": 13,
   "id": "69d18f33",
   "metadata": {},
   "outputs": [
    {
     "name": "stdout",
     "output_type": "stream",
     "text": [
      "<class 'pandas.core.frame.DataFrame'>\n",
      "Int64Index: 110322 entries, 193926 to 823179\n",
      "Data columns (total 14 columns):\n",
      " #   Column         Non-Null Count   Dtype  \n",
      "---  ------         --------------   -----  \n",
      " 0   trialid        110322 non-null  float64\n",
      " 1   sentnum        110322 non-null  float64\n",
      " 2   ianum          110322 non-null  float64\n",
      " 3   ia             110259 non-null  object \n",
      " 4   lang           110322 non-null  object \n",
      " 5   uniform_id     110322 non-null  object \n",
      " 6   skip           110322 non-null  float64\n",
      " 7   firstfix.dur   0 non-null       float64\n",
      " 8   firstrun.dur   0 non-null       float64\n",
      " 9   dur            0 non-null       float64\n",
      " 10  firstrun.nfix  0 non-null       float64\n",
      " 11  nfix           0 non-null       float64\n",
      " 12  refix          0 non-null       float64\n",
      " 13  reread         0 non-null       float64\n",
      "dtypes: float64(11), object(3)\n",
      "memory usage: 12.6+ MB\n"
     ]
    }
   ],
   "source": [
    "df[df.skip==1].info()"
   ]
  },
  {
   "cell_type": "markdown",
   "id": "42ef3995",
   "metadata": {},
   "source": [
    "Even more, there are some ia elements that are Null, we can see that most of them are not skipped words with a lot of Null elements, so we can drop them."
   ]
  },
  {
   "cell_type": "code",
   "execution_count": 14,
   "id": "179c37b8",
   "metadata": {},
   "outputs": [
    {
     "name": "stdout",
     "output_type": "stream",
     "text": [
      "Probabilities of Null elements by columns, for the Null ia\n"
     ]
    },
    {
     "data": {
      "text/plain": [
       "trialid          0.0\n",
       "sentnum          0.0\n",
       "ianum            0.0\n",
       "ia               1.0\n",
       "lang             0.0\n",
       "uniform_id       0.0\n",
       "skip             0.0\n",
       "firstfix.dur     0.9\n",
       "firstrun.dur     0.9\n",
       "dur              0.9\n",
       "firstrun.nfix    0.9\n",
       "nfix             0.9\n",
       "refix            0.9\n",
       "reread           0.9\n",
       "dtype: float64"
      ]
     },
     "execution_count": 14,
     "metadata": {},
     "output_type": "execute_result"
    }
   ],
   "source": [
    "print(\"Probabilities of Null elements by columns, for the Null ia\")\n",
    "df[df.ia.isna()].isna().sum()/df[df.ia.isna()].shape[0]"
   ]
  },
  {
   "cell_type": "code",
   "execution_count": 15,
   "id": "59ccaa11",
   "metadata": {},
   "outputs": [],
   "source": [
    "df = df[~df.ia.isna()]"
   ]
  },
  {
   "cell_type": "markdown",
   "id": "5d314e67",
   "metadata": {},
   "source": [
    "Fill gaze features of the skipped words with 0."
   ]
  },
  {
   "cell_type": "code",
   "execution_count": 16,
   "id": "d343b9c2",
   "metadata": {},
   "outputs": [],
   "source": [
    "df = df.fillna(0)"
   ]
  },
  {
   "cell_type": "code",
   "execution_count": 17,
   "id": "1a98595d",
   "metadata": {},
   "outputs": [
    {
     "name": "stdout",
     "output_type": "stream",
     "text": [
      "<class 'pandas.core.frame.DataFrame'>\n",
      "Int64Index: 402834 entries, 193910 to 823179\n",
      "Data columns (total 14 columns):\n",
      " #   Column         Non-Null Count   Dtype  \n",
      "---  ------         --------------   -----  \n",
      " 0   trialid        402834 non-null  float64\n",
      " 1   sentnum        402834 non-null  float64\n",
      " 2   ianum          402834 non-null  float64\n",
      " 3   ia             402834 non-null  object \n",
      " 4   lang           402834 non-null  object \n",
      " 5   uniform_id     402834 non-null  object \n",
      " 6   skip           402834 non-null  float64\n",
      " 7   firstfix.dur   402834 non-null  float64\n",
      " 8   firstrun.dur   402834 non-null  float64\n",
      " 9   dur            402834 non-null  float64\n",
      " 10  firstrun.nfix  402834 non-null  float64\n",
      " 11  nfix           402834 non-null  float64\n",
      " 12  refix          402834 non-null  float64\n",
      " 13  reread         402834 non-null  float64\n",
      "dtypes: float64(11), object(3)\n",
      "memory usage: 46.1+ MB\n"
     ]
    }
   ],
   "source": [
    "df.info()"
   ]
  },
  {
   "cell_type": "code",
   "execution_count": 18,
   "id": "90cf8fcd",
   "metadata": {},
   "outputs": [
    {
     "data": {
      "text/html": [
       "<div>\n",
       "<style scoped>\n",
       "    .dataframe tbody tr th:only-of-type {\n",
       "        vertical-align: middle;\n",
       "    }\n",
       "\n",
       "    .dataframe tbody tr th {\n",
       "        vertical-align: top;\n",
       "    }\n",
       "\n",
       "    .dataframe thead th {\n",
       "        text-align: right;\n",
       "    }\n",
       "</style>\n",
       "<table border=\"1\" class=\"dataframe\">\n",
       "  <thead>\n",
       "    <tr style=\"text-align: right;\">\n",
       "      <th></th>\n",
       "      <th>skip</th>\n",
       "      <th>firstrun.dur</th>\n",
       "      <th>dur</th>\n",
       "      <th>firstrun.nfix</th>\n",
       "      <th>nfix</th>\n",
       "      <th>refix</th>\n",
       "      <th>reread</th>\n",
       "    </tr>\n",
       "  </thead>\n",
       "  <tbody>\n",
       "    <tr>\n",
       "      <th>skip</th>\n",
       "      <td>1.000000</td>\n",
       "      <td>-0.652214</td>\n",
       "      <td>-0.543305</td>\n",
       "      <td>-0.741110</td>\n",
       "      <td>-0.587836</td>\n",
       "      <td>-0.287592</td>\n",
       "      <td>-0.333861</td>\n",
       "    </tr>\n",
       "    <tr>\n",
       "      <th>firstrun.dur</th>\n",
       "      <td>-0.652214</td>\n",
       "      <td>1.000000</td>\n",
       "      <td>0.720569</td>\n",
       "      <td>0.860484</td>\n",
       "      <td>0.616886</td>\n",
       "      <td>0.554956</td>\n",
       "      <td>0.224649</td>\n",
       "    </tr>\n",
       "    <tr>\n",
       "      <th>dur</th>\n",
       "      <td>-0.543305</td>\n",
       "      <td>0.720569</td>\n",
       "      <td>1.000000</td>\n",
       "      <td>0.648870</td>\n",
       "      <td>0.923882</td>\n",
       "      <td>0.555678</td>\n",
       "      <td>0.629876</td>\n",
       "    </tr>\n",
       "    <tr>\n",
       "      <th>firstrun.nfix</th>\n",
       "      <td>-0.741110</td>\n",
       "      <td>0.860484</td>\n",
       "      <td>0.648870</td>\n",
       "      <td>1.000000</td>\n",
       "      <td>0.712458</td>\n",
       "      <td>0.682079</td>\n",
       "      <td>0.256612</td>\n",
       "    </tr>\n",
       "    <tr>\n",
       "      <th>nfix</th>\n",
       "      <td>-0.587836</td>\n",
       "      <td>0.616886</td>\n",
       "      <td>0.923882</td>\n",
       "      <td>0.712458</td>\n",
       "      <td>1.000000</td>\n",
       "      <td>0.631961</td>\n",
       "      <td>0.685371</td>\n",
       "    </tr>\n",
       "    <tr>\n",
       "      <th>refix</th>\n",
       "      <td>-0.287592</td>\n",
       "      <td>0.554956</td>\n",
       "      <td>0.555678</td>\n",
       "      <td>0.682079</td>\n",
       "      <td>0.631961</td>\n",
       "      <td>1.000000</td>\n",
       "      <td>0.249470</td>\n",
       "    </tr>\n",
       "    <tr>\n",
       "      <th>reread</th>\n",
       "      <td>-0.333861</td>\n",
       "      <td>0.224649</td>\n",
       "      <td>0.629876</td>\n",
       "      <td>0.256612</td>\n",
       "      <td>0.685371</td>\n",
       "      <td>0.249470</td>\n",
       "      <td>1.000000</td>\n",
       "    </tr>\n",
       "  </tbody>\n",
       "</table>\n",
       "</div>"
      ],
      "text/plain": [
       "                   skip  firstrun.dur       dur  firstrun.nfix      nfix  \\\n",
       "skip           1.000000     -0.652214 -0.543305      -0.741110 -0.587836   \n",
       "firstrun.dur  -0.652214      1.000000  0.720569       0.860484  0.616886   \n",
       "dur           -0.543305      0.720569  1.000000       0.648870  0.923882   \n",
       "firstrun.nfix -0.741110      0.860484  0.648870       1.000000  0.712458   \n",
       "nfix          -0.587836      0.616886  0.923882       0.712458  1.000000   \n",
       "refix         -0.287592      0.554956  0.555678       0.682079  0.631961   \n",
       "reread        -0.333861      0.224649  0.629876       0.256612  0.685371   \n",
       "\n",
       "                  refix    reread  \n",
       "skip          -0.287592 -0.333861  \n",
       "firstrun.dur   0.554956  0.224649  \n",
       "dur            0.555678  0.629876  \n",
       "firstrun.nfix  0.682079  0.256612  \n",
       "nfix           0.631961  0.685371  \n",
       "refix          1.000000  0.249470  \n",
       "reread         0.249470  1.000000  "
      ]
     },
     "execution_count": 18,
     "metadata": {},
     "output_type": "execute_result"
    }
   ],
   "source": [
    "df[[\"skip\", \"firstrun.dur\", \"dur\", \"firstrun.nfix\", \"nfix\", \"refix\", \"reread\"]].corr()"
   ]
  },
  {
   "cell_type": "code",
   "execution_count": 19,
   "id": "1285ece9",
   "metadata": {},
   "outputs": [],
   "source": [
    "def group_by_users(dataset):\n",
    "    group_by_cols = [\"trialid\", \"sentnum\", \"ianum\", \"ia\", \"lang\"]\n",
    "    grouped_cols = [\"skip\", \"firstfix.dur\", \"firstrun.dur\", \"dur\", \"firstrun.nfix\", \"nfix\", \"refix\", \"reread\"]\n",
    "\n",
    "    grouped_clusterd_df = dataset.groupby(group_by_cols)[grouped_cols].mean()\n",
    "\n",
    "    grouped_clusterd_df = grouped_clusterd_df.reset_index(level=0).reset_index(level=0).reset_index(level=0).reset_index(level=0).reset_index(level=0)\n",
    "\n",
    "    grouped_clusterd_df[\"trial_sentnum\"] = grouped_clusterd_df[\"sentnum\"]\n",
    "    grouped_clusterd_df[\"sentnum\"] = grouped_clusterd_df[\"sentnum\"].astype(\"string\") + grouped_clusterd_df[\"trialid\"].astype(\"string\") + grouped_clusterd_df[\"lang\"].astype(\"string\")\n",
    "    grouped_clusterd_df.sentnum = grouped_clusterd_df.sentnum.astype('category').cat.codes\n",
    "\n",
    "    word_func = lambda s: [w for w in s[\"ia\"].values.tolist()]\n",
    "    sentences = grouped_clusterd_df.groupby(\"sentnum\").apply(word_func).tolist()\n",
    "    print(f\"Number of sentence after group : {len(sentences)}\")\n",
    "\n",
    "    return grouped_clusterd_df\n"
   ]
  },
  {
   "cell_type": "code",
   "execution_count": 20,
   "id": "4ed70f7f",
   "metadata": {},
   "outputs": [
    {
     "name": "stdout",
     "output_type": "stream",
     "text": [
      "Number of sentence after group : 511\n"
     ]
    }
   ],
   "source": [
    "grouped_clusterd_df_0 = group_by_users(df)"
   ]
  },
  {
   "cell_type": "code",
   "execution_count": 21,
   "id": "f8c249e6",
   "metadata": {},
   "outputs": [
    {
     "data": {
      "text/plain": [
       "(11908, 14)"
      ]
     },
     "execution_count": 21,
     "metadata": {},
     "output_type": "execute_result"
    }
   ],
   "source": [
    "grouped_clusterd_df_0.shape"
   ]
  },
  {
   "cell_type": "code",
   "execution_count": 22,
   "id": "c5fb284c",
   "metadata": {},
   "outputs": [],
   "source": [
    "grouped_clusterd_df_0.rename(columns={\"skip\" : \"prob_skip\", \"refix\" : \"prob_refix\", \"reread\" : \"prob_reread\"}, inplace=True)\n",
    "\n",
    "grouped_clusterd_df_0.ianum = grouped_clusterd_df_0.ianum.astype(int)\n",
    "grouped_clusterd_df_0.trialid = grouped_clusterd_df_0.trialid.astype(int)\n",
    "grouped_clusterd_df_0.trial_sentnum = grouped_clusterd_df_0.trial_sentnum.astype(int)"
   ]
  },
  {
   "cell_type": "code",
   "execution_count": 23,
   "id": "28409256",
   "metadata": {},
   "outputs": [
    {
     "data": {
      "text/html": [
       "<div>\n",
       "<style scoped>\n",
       "    .dataframe tbody tr th:only-of-type {\n",
       "        vertical-align: middle;\n",
       "    }\n",
       "\n",
       "    .dataframe tbody tr th {\n",
       "        vertical-align: top;\n",
       "    }\n",
       "\n",
       "    .dataframe thead th {\n",
       "        text-align: right;\n",
       "    }\n",
       "</style>\n",
       "<table border=\"1\" class=\"dataframe\">\n",
       "  <thead>\n",
       "    <tr style=\"text-align: right;\">\n",
       "      <th></th>\n",
       "      <th>lang</th>\n",
       "      <th>ia</th>\n",
       "      <th>ianum</th>\n",
       "      <th>sentnum</th>\n",
       "      <th>trialid</th>\n",
       "      <th>prob_skip</th>\n",
       "      <th>firstfix.dur</th>\n",
       "      <th>firstrun.dur</th>\n",
       "      <th>dur</th>\n",
       "      <th>firstrun.nfix</th>\n",
       "      <th>nfix</th>\n",
       "      <th>prob_refix</th>\n",
       "      <th>prob_reread</th>\n",
       "      <th>trial_sentnum</th>\n",
       "    </tr>\n",
       "  </thead>\n",
       "  <tbody>\n",
       "    <tr>\n",
       "      <th>0</th>\n",
       "      <td>sp</td>\n",
       "      <td>En</td>\n",
       "      <td>1</td>\n",
       "      <td>4</td>\n",
       "      <td>1</td>\n",
       "      <td>0.342105</td>\n",
       "      <td>95.842105</td>\n",
       "      <td>98.842105</td>\n",
       "      <td>128.973684</td>\n",
       "      <td>0.684211</td>\n",
       "      <td>0.815789</td>\n",
       "      <td>0.026316</td>\n",
       "      <td>0.078947</td>\n",
       "      <td>1</td>\n",
       "    </tr>\n",
       "    <tr>\n",
       "      <th>1</th>\n",
       "      <td>en</td>\n",
       "      <td>In</td>\n",
       "      <td>1</td>\n",
       "      <td>0</td>\n",
       "      <td>1</td>\n",
       "      <td>0.605263</td>\n",
       "      <td>45.236842</td>\n",
       "      <td>52.631579</td>\n",
       "      <td>76.789474</td>\n",
       "      <td>0.421053</td>\n",
       "      <td>0.526316</td>\n",
       "      <td>0.026316</td>\n",
       "      <td>0.078947</td>\n",
       "      <td>1</td>\n",
       "    </tr>\n",
       "    <tr>\n",
       "      <th>2</th>\n",
       "      <td>ge</td>\n",
       "      <td>In</td>\n",
       "      <td>1</td>\n",
       "      <td>1</td>\n",
       "      <td>1</td>\n",
       "      <td>0.342857</td>\n",
       "      <td>97.971429</td>\n",
       "      <td>97.971429</td>\n",
       "      <td>115.000000</td>\n",
       "      <td>0.657143</td>\n",
       "      <td>0.742857</td>\n",
       "      <td>0.000000</td>\n",
       "      <td>0.057143</td>\n",
       "      <td>1</td>\n",
       "    </tr>\n",
       "    <tr>\n",
       "      <th>3</th>\n",
       "      <td>it</td>\n",
       "      <td>Negli</td>\n",
       "      <td>1</td>\n",
       "      <td>2</td>\n",
       "      <td>1</td>\n",
       "      <td>0.116279</td>\n",
       "      <td>127.511628</td>\n",
       "      <td>138.465116</td>\n",
       "      <td>301.860465</td>\n",
       "      <td>0.976744</td>\n",
       "      <td>1.790698</td>\n",
       "      <td>0.139535</td>\n",
       "      <td>0.511628</td>\n",
       "      <td>1</td>\n",
       "    </tr>\n",
       "    <tr>\n",
       "      <th>4</th>\n",
       "      <td>ru</td>\n",
       "      <td>Янус</td>\n",
       "      <td>1</td>\n",
       "      <td>3</td>\n",
       "      <td>1</td>\n",
       "      <td>0.029412</td>\n",
       "      <td>167.411765</td>\n",
       "      <td>281.823529</td>\n",
       "      <td>479.411765</td>\n",
       "      <td>1.352941</td>\n",
       "      <td>1.970588</td>\n",
       "      <td>0.294118</td>\n",
       "      <td>0.323529</td>\n",
       "      <td>1</td>\n",
       "    </tr>\n",
       "  </tbody>\n",
       "</table>\n",
       "</div>"
      ],
      "text/plain": [
       "  lang     ia  ianum  sentnum  trialid  prob_skip  firstfix.dur  firstrun.dur  \\\n",
       "0   sp     En      1        4        1   0.342105     95.842105     98.842105   \n",
       "1   en     In      1        0        1   0.605263     45.236842     52.631579   \n",
       "2   ge     In      1        1        1   0.342857     97.971429     97.971429   \n",
       "3   it  Negli      1        2        1   0.116279    127.511628    138.465116   \n",
       "4   ru   Янус      1        3        1   0.029412    167.411765    281.823529   \n",
       "\n",
       "          dur  firstrun.nfix      nfix  prob_refix  prob_reread  trial_sentnum  \n",
       "0  128.973684       0.684211  0.815789    0.026316     0.078947              1  \n",
       "1   76.789474       0.421053  0.526316    0.026316     0.078947              1  \n",
       "2  115.000000       0.657143  0.742857    0.000000     0.057143              1  \n",
       "3  301.860465       0.976744  1.790698    0.139535     0.511628              1  \n",
       "4  479.411765       1.352941  1.970588    0.294118     0.323529              1  "
      ]
     },
     "execution_count": 23,
     "metadata": {},
     "output_type": "execute_result"
    }
   ],
   "source": [
    "grouped_clusterd_df_0.head()"
   ]
  },
  {
   "cell_type": "code",
   "execution_count": 24,
   "id": "a188f13e",
   "metadata": {},
   "outputs": [
    {
     "data": {
      "text/html": [
       "<div>\n",
       "<style scoped>\n",
       "    .dataframe tbody tr th:only-of-type {\n",
       "        vertical-align: middle;\n",
       "    }\n",
       "\n",
       "    .dataframe tbody tr th {\n",
       "        vertical-align: top;\n",
       "    }\n",
       "\n",
       "    .dataframe thead th {\n",
       "        text-align: right;\n",
       "    }\n",
       "</style>\n",
       "<table border=\"1\" class=\"dataframe\">\n",
       "  <thead>\n",
       "    <tr style=\"text-align: right;\">\n",
       "      <th></th>\n",
       "      <th>prob_skip</th>\n",
       "      <th>firstrun.dur</th>\n",
       "      <th>dur</th>\n",
       "      <th>firstrun.nfix</th>\n",
       "      <th>nfix</th>\n",
       "      <th>prob_refix</th>\n",
       "      <th>prob_reread</th>\n",
       "    </tr>\n",
       "  </thead>\n",
       "  <tbody>\n",
       "    <tr>\n",
       "      <th>prob_skip</th>\n",
       "      <td>1.000000</td>\n",
       "      <td>-0.778231</td>\n",
       "      <td>-0.731378</td>\n",
       "      <td>-0.828764</td>\n",
       "      <td>-0.772671</td>\n",
       "      <td>-0.574849</td>\n",
       "      <td>-0.600154</td>\n",
       "    </tr>\n",
       "    <tr>\n",
       "      <th>firstrun.dur</th>\n",
       "      <td>-0.778231</td>\n",
       "      <td>1.000000</td>\n",
       "      <td>0.876370</td>\n",
       "      <td>0.937817</td>\n",
       "      <td>0.835661</td>\n",
       "      <td>0.787060</td>\n",
       "      <td>0.515920</td>\n",
       "    </tr>\n",
       "    <tr>\n",
       "      <th>dur</th>\n",
       "      <td>-0.731378</td>\n",
       "      <td>0.876370</td>\n",
       "      <td>1.000000</td>\n",
       "      <td>0.849587</td>\n",
       "      <td>0.961604</td>\n",
       "      <td>0.790050</td>\n",
       "      <td>0.771978</td>\n",
       "    </tr>\n",
       "    <tr>\n",
       "      <th>firstrun.nfix</th>\n",
       "      <td>-0.828764</td>\n",
       "      <td>0.937817</td>\n",
       "      <td>0.849587</td>\n",
       "      <td>1.000000</td>\n",
       "      <td>0.891440</td>\n",
       "      <td>0.840413</td>\n",
       "      <td>0.549345</td>\n",
       "    </tr>\n",
       "    <tr>\n",
       "      <th>nfix</th>\n",
       "      <td>-0.772671</td>\n",
       "      <td>0.835661</td>\n",
       "      <td>0.961604</td>\n",
       "      <td>0.891440</td>\n",
       "      <td>1.000000</td>\n",
       "      <td>0.827222</td>\n",
       "      <td>0.801388</td>\n",
       "    </tr>\n",
       "    <tr>\n",
       "      <th>prob_refix</th>\n",
       "      <td>-0.574849</td>\n",
       "      <td>0.787060</td>\n",
       "      <td>0.790050</td>\n",
       "      <td>0.840413</td>\n",
       "      <td>0.827222</td>\n",
       "      <td>1.000000</td>\n",
       "      <td>0.524673</td>\n",
       "    </tr>\n",
       "    <tr>\n",
       "      <th>prob_reread</th>\n",
       "      <td>-0.600154</td>\n",
       "      <td>0.515920</td>\n",
       "      <td>0.771978</td>\n",
       "      <td>0.549345</td>\n",
       "      <td>0.801388</td>\n",
       "      <td>0.524673</td>\n",
       "      <td>1.000000</td>\n",
       "    </tr>\n",
       "  </tbody>\n",
       "</table>\n",
       "</div>"
      ],
      "text/plain": [
       "               prob_skip  firstrun.dur       dur  firstrun.nfix      nfix  \\\n",
       "prob_skip       1.000000     -0.778231 -0.731378      -0.828764 -0.772671   \n",
       "firstrun.dur   -0.778231      1.000000  0.876370       0.937817  0.835661   \n",
       "dur            -0.731378      0.876370  1.000000       0.849587  0.961604   \n",
       "firstrun.nfix  -0.828764      0.937817  0.849587       1.000000  0.891440   \n",
       "nfix           -0.772671      0.835661  0.961604       0.891440  1.000000   \n",
       "prob_refix     -0.574849      0.787060  0.790050       0.840413  0.827222   \n",
       "prob_reread    -0.600154      0.515920  0.771978       0.549345  0.801388   \n",
       "\n",
       "               prob_refix  prob_reread  \n",
       "prob_skip       -0.574849    -0.600154  \n",
       "firstrun.dur     0.787060     0.515920  \n",
       "dur              0.790050     0.771978  \n",
       "firstrun.nfix    0.840413     0.549345  \n",
       "nfix             0.827222     0.801388  \n",
       "prob_refix       1.000000     0.524673  \n",
       "prob_reread      0.524673     1.000000  "
      ]
     },
     "execution_count": 24,
     "metadata": {},
     "output_type": "execute_result"
    }
   ],
   "source": [
    "grouped_clusterd_df_0[[\"prob_skip\", \"firstrun.dur\", \"dur\", \"firstrun.nfix\", \"nfix\", \"prob_refix\", \"prob_reread\"]].corr()"
   ]
  },
  {
   "cell_type": "code",
   "execution_count": 25,
   "id": "1faf0c14",
   "metadata": {},
   "outputs": [],
   "source": [
    "grouped_clusterd_df_0.to_csv(f\"datasets/all_mean_dataset.csv\")"
   ]
  },
  {
   "cell_type": "markdown",
   "id": "ec905a06",
   "metadata": {},
   "source": [
    "## Clean Users\n",
    "\n",
    "Getting the users who are in all the trial"
   ]
  },
  {
   "cell_type": "code",
   "execution_count": 26,
   "id": "3ccde826",
   "metadata": {},
   "outputs": [
    {
     "name": "stdout",
     "output_type": "stream",
     "text": [
      "Number of total readers in the dataset 239\n"
     ]
    }
   ],
   "source": [
    "print(f\"Number of total readers in the dataset {len(set(df.uniform_id.unique()))}\")"
   ]
  },
  {
   "cell_type": "code",
   "execution_count": 27,
   "id": "6e61af9e",
   "metadata": {},
   "outputs": [
    {
     "name": "stdout",
     "output_type": "stream",
     "text": [
      "Number of different users in trial 1 : 188\n",
      "Number of different users in trial 2 : 190\n",
      "Number of different users in trial 3 : 200\n",
      "Number of different users in trial 4 : 198\n",
      "Number of different users in trial 5 : 191\n",
      "Number of different users in trial 6 : 187\n",
      "Number of different users in trial 7 : 197\n",
      "Number of different users in trial 8 : 183\n",
      "Number of different users in trial 9 : 194\n",
      "Number of different users in trial 10 : 186\n",
      "Number of different users in trial 11 : 203\n",
      "Number of different users in trial 12 : 182\n"
     ]
    }
   ],
   "source": [
    "# not all the readers appear in all the trial\n",
    "\n",
    "trial_readers = df.groupby(\"trialid\").uniform_id.unique()\n",
    "\n",
    "for i, trial in enumerate(trial_readers):\n",
    "    print(f\"Number of different users in trial {i+1} : {len(trial)}\")"
   ]
  },
  {
   "cell_type": "code",
   "execution_count": 28,
   "id": "3cb84e1e",
   "metadata": {},
   "outputs": [],
   "source": [
    "sets_trial_readers = []\n",
    "for trial in trial_readers:\n",
    "    sets_trial_readers.append(set(trial))\n",
    "\n",
    "common_users = set.intersection(*sets_trial_readers)"
   ]
  },
  {
   "cell_type": "code",
   "execution_count": 29,
   "id": "55ad5b37",
   "metadata": {},
   "outputs": [
    {
     "name": "stdout",
     "output_type": "stream",
     "text": [
      "Number of users that are in all trials 69\n"
     ]
    }
   ],
   "source": [
    "print(f\"Number of users that are in all trials {len(set(common_users))}\")"
   ]
  },
  {
   "cell_type": "code",
   "execution_count": 30,
   "id": "8db1c3d8",
   "metadata": {},
   "outputs": [
    {
     "name": "stdout",
     "output_type": "stream",
     "text": [
      "Number of sentence after group : 503\n"
     ]
    }
   ],
   "source": [
    "# count the sentences of the users present in all the trials\n",
    "grouped_clusterd_df_2 = group_by_users(df[df.uniform_id.isin(common_users)])"
   ]
  },
  {
   "cell_type": "code",
   "execution_count": 31,
   "id": "c8ef4a36",
   "metadata": {},
   "outputs": [
    {
     "data": {
      "text/plain": [
       "(10489, 14)"
      ]
     },
     "execution_count": 31,
     "metadata": {},
     "output_type": "execute_result"
    }
   ],
   "source": [
    "grouped_clusterd_df_2.shape"
   ]
  },
  {
   "cell_type": "markdown",
   "id": "1665e0c2",
   "metadata": {},
   "source": [
    "Getting the Participants who have read all the token in all sentences in each trial"
   ]
  },
  {
   "cell_type": "code",
   "execution_count": 32,
   "id": "a58bee12",
   "metadata": {},
   "outputs": [],
   "source": [
    "# Getting the Participants who have read all sentences in each trial\n",
    "# all the users that have read all the text in the trial where they are\n",
    "\n",
    "uncomplete_users = set()\n",
    "\n",
    "for i in df.trialid.unique():\n",
    "    \n",
    "    df_trial = df[df.trialid==i]\n",
    "        \n",
    "    for lang in df.lang.unique():\n",
    "        \n",
    "        df_lang_trial = df_trial[df_trial.lang == lang]\n",
    "        \n",
    "        total_sentences_trial = set(df_lang_trial.sentnum.unique())\n",
    "        \n",
    "        for user, sentences in df_lang_trial.groupby(\"uniform_id\").sentnum.unique().items():\n",
    "            if set(sentences) != total_sentences_trial:\n",
    "                uncomplete_users.add(user)\n",
    "                \n",
    "complete_users = set(df.uniform_id.unique()) - uncomplete_users"
   ]
  },
  {
   "cell_type": "code",
   "execution_count": 33,
   "id": "e6f729c6",
   "metadata": {},
   "outputs": [
    {
     "name": "stdout",
     "output_type": "stream",
     "text": [
      "Number of the users that have read all the sentences in the trial where they are 171\n"
     ]
    }
   ],
   "source": [
    "print(f\"Number of the users that have read all the sentences in the trial where they are {len(complete_users)}\")"
   ]
  },
  {
   "cell_type": "code",
   "execution_count": 34,
   "id": "a2a6a02a",
   "metadata": {},
   "outputs": [
    {
     "name": "stdout",
     "output_type": "stream",
     "text": [
      "Number of sentence after group : 491\n"
     ]
    }
   ],
   "source": [
    "# count the sentences of the users that read all the sentences in all the trials where they are\n",
    "\n",
    "grouped_clusterd_df_3 = group_by_users(df[df.uniform_id.isin(complete_users)])"
   ]
  },
  {
   "cell_type": "code",
   "execution_count": 35,
   "id": "d9ad012a",
   "metadata": {},
   "outputs": [
    {
     "data": {
      "text/plain": [
       "(10210, 14)"
      ]
     },
     "execution_count": 35,
     "metadata": {},
     "output_type": "execute_result"
    }
   ],
   "source": [
    "grouped_clusterd_df_3.shape"
   ]
  },
  {
   "cell_type": "markdown",
   "id": "54f1bd2b",
   "metadata": {},
   "source": [
    "Intersect the common and complete users"
   ]
  },
  {
   "cell_type": "code",
   "execution_count": 36,
   "id": "6b5200fe",
   "metadata": {},
   "outputs": [],
   "source": [
    "complete_common_users = complete_users.intersection(common_users)"
   ]
  },
  {
   "cell_type": "code",
   "execution_count": 37,
   "id": "c22382b7",
   "metadata": {},
   "outputs": [
    {
     "name": "stdout",
     "output_type": "stream",
     "text": [
      "Number of the users that have read all the sentences in the trials 36\n"
     ]
    }
   ],
   "source": [
    "print(f\"Number of the users that have read all the sentences in the trials {len(complete_common_users)}\")"
   ]
  },
  {
   "cell_type": "code",
   "execution_count": 38,
   "id": "8e2c0cc6",
   "metadata": {},
   "outputs": [
    {
     "data": {
      "text/plain": [
       "{'ge_1',\n",
       " 'ge_10',\n",
       " 'ge_12',\n",
       " 'ge_13',\n",
       " 'ge_17',\n",
       " 'ge_3',\n",
       " 'ge_30',\n",
       " 'ge_32',\n",
       " 'ge_37',\n",
       " 'ge_39',\n",
       " 'ge_41',\n",
       " 'ge_47',\n",
       " 'ge_53',\n",
       " 'ge_6',\n",
       " 'ge_8',\n",
       " 'ge_9',\n",
       " 'it_11',\n",
       " 'it_13',\n",
       " 'it_17',\n",
       " 'it_21',\n",
       " 'it_26',\n",
       " 'it_3',\n",
       " 'it_36',\n",
       " 'it_37',\n",
       " 'it_48',\n",
       " 'sp_18',\n",
       " 'sp_34',\n",
       " 'sp_37',\n",
       " 'sp_38',\n",
       " 'sp_4',\n",
       " 'sp_42',\n",
       " 'sp_48',\n",
       " 'sp_51',\n",
       " 'sp_54',\n",
       " 'sp_56',\n",
       " 'sp_61'}"
      ]
     },
     "execution_count": 38,
     "metadata": {},
     "output_type": "execute_result"
    }
   ],
   "source": [
    "complete_common_users"
   ]
  },
  {
   "cell_type": "code",
   "execution_count": 39,
   "id": "29365a42",
   "metadata": {},
   "outputs": [
    {
     "name": "stdout",
     "output_type": "stream",
     "text": [
      "Number of sentence after group : 303\n"
     ]
    }
   ],
   "source": [
    "# count the sentences of the users that read all the sentences in all the trials\n",
    "\n",
    "grouped_clusterd_df_4 = group_by_users(df[df.uniform_id.isin(complete_common_users)])"
   ]
  },
  {
   "cell_type": "code",
   "execution_count": 40,
   "id": "872caf05",
   "metadata": {},
   "outputs": [
    {
     "data": {
      "text/plain": [
       "(6551, 14)"
      ]
     },
     "execution_count": 40,
     "metadata": {},
     "output_type": "execute_result"
    }
   ],
   "source": [
    "grouped_clusterd_df_4.shape"
   ]
  },
  {
   "cell_type": "code",
   "execution_count": 41,
   "id": "01ba89d2",
   "metadata": {},
   "outputs": [],
   "source": [
    "df_complete_common_user = df[df.uniform_id.isin(complete_common_users)]"
   ]
  },
  {
   "cell_type": "markdown",
   "id": "3a1dc04c",
   "metadata": {},
   "source": [
    "# Clustering Users\n",
    "\n",
    "We need to cluster users to handle separate readers behaviours, since the fact that the grouped features have different correlation matrix wrt to non grouped data."
   ]
  },
  {
   "cell_type": "markdown",
   "id": "5838af44",
   "metadata": {},
   "source": [
    "## Profiling the Users\n",
    "\n",
    "First of all we have to see if each trial havethe same users"
   ]
  },
  {
   "cell_type": "code",
   "execution_count": 42,
   "id": "045986a4",
   "metadata": {},
   "outputs": [
    {
     "data": {
      "text/html": [
       "<div>\n",
       "<style scoped>\n",
       "    .dataframe tbody tr th:only-of-type {\n",
       "        vertical-align: middle;\n",
       "    }\n",
       "\n",
       "    .dataframe tbody tr th {\n",
       "        vertical-align: top;\n",
       "    }\n",
       "\n",
       "    .dataframe thead th {\n",
       "        text-align: right;\n",
       "    }\n",
       "</style>\n",
       "<table border=\"1\" class=\"dataframe\">\n",
       "  <thead>\n",
       "    <tr style=\"text-align: right;\">\n",
       "      <th></th>\n",
       "      <th>trialid</th>\n",
       "      <th>sentnum</th>\n",
       "      <th>ianum</th>\n",
       "      <th>ia</th>\n",
       "      <th>lang</th>\n",
       "      <th>uniform_id</th>\n",
       "      <th>skip</th>\n",
       "      <th>firstfix.dur</th>\n",
       "      <th>firstrun.dur</th>\n",
       "      <th>dur</th>\n",
       "      <th>firstrun.nfix</th>\n",
       "      <th>nfix</th>\n",
       "      <th>refix</th>\n",
       "      <th>reread</th>\n",
       "    </tr>\n",
       "  </thead>\n",
       "  <tbody>\n",
       "    <tr>\n",
       "      <th>193910</th>\n",
       "      <td>1.0</td>\n",
       "      <td>1.0</td>\n",
       "      <td>1.0</td>\n",
       "      <td>In</td>\n",
       "      <td>ge</td>\n",
       "      <td>ge_1</td>\n",
       "      <td>0.0</td>\n",
       "      <td>164.0</td>\n",
       "      <td>164.0</td>\n",
       "      <td>164.0</td>\n",
       "      <td>1.0</td>\n",
       "      <td>1.0</td>\n",
       "      <td>0.0</td>\n",
       "      <td>0.0</td>\n",
       "    </tr>\n",
       "    <tr>\n",
       "      <th>193911</th>\n",
       "      <td>1.0</td>\n",
       "      <td>1.0</td>\n",
       "      <td>2.0</td>\n",
       "      <td>der</td>\n",
       "      <td>ge</td>\n",
       "      <td>ge_1</td>\n",
       "      <td>0.0</td>\n",
       "      <td>166.0</td>\n",
       "      <td>166.0</td>\n",
       "      <td>657.0</td>\n",
       "      <td>1.0</td>\n",
       "      <td>3.0</td>\n",
       "      <td>0.0</td>\n",
       "      <td>1.0</td>\n",
       "    </tr>\n",
       "    <tr>\n",
       "      <th>193912</th>\n",
       "      <td>1.0</td>\n",
       "      <td>1.0</td>\n",
       "      <td>3.0</td>\n",
       "      <td>alten</td>\n",
       "      <td>ge</td>\n",
       "      <td>ge_1</td>\n",
       "      <td>0.0</td>\n",
       "      <td>144.0</td>\n",
       "      <td>144.0</td>\n",
       "      <td>717.0</td>\n",
       "      <td>1.0</td>\n",
       "      <td>3.0</td>\n",
       "      <td>0.0</td>\n",
       "      <td>1.0</td>\n",
       "    </tr>\n",
       "    <tr>\n",
       "      <th>193913</th>\n",
       "      <td>1.0</td>\n",
       "      <td>1.0</td>\n",
       "      <td>4.0</td>\n",
       "      <td>römischen</td>\n",
       "      <td>ge</td>\n",
       "      <td>ge_1</td>\n",
       "      <td>0.0</td>\n",
       "      <td>219.0</td>\n",
       "      <td>219.0</td>\n",
       "      <td>1231.0</td>\n",
       "      <td>1.0</td>\n",
       "      <td>6.0</td>\n",
       "      <td>0.0</td>\n",
       "      <td>1.0</td>\n",
       "    </tr>\n",
       "    <tr>\n",
       "      <th>193914</th>\n",
       "      <td>1.0</td>\n",
       "      <td>1.0</td>\n",
       "      <td>5.0</td>\n",
       "      <td>Religion</td>\n",
       "      <td>ge</td>\n",
       "      <td>ge_1</td>\n",
       "      <td>0.0</td>\n",
       "      <td>151.0</td>\n",
       "      <td>151.0</td>\n",
       "      <td>1338.0</td>\n",
       "      <td>1.0</td>\n",
       "      <td>8.0</td>\n",
       "      <td>1.0</td>\n",
       "      <td>1.0</td>\n",
       "    </tr>\n",
       "  </tbody>\n",
       "</table>\n",
       "</div>"
      ],
      "text/plain": [
       "        trialid  sentnum  ianum         ia lang uniform_id  skip  \\\n",
       "193910      1.0      1.0    1.0         In   ge       ge_1   0.0   \n",
       "193911      1.0      1.0    2.0        der   ge       ge_1   0.0   \n",
       "193912      1.0      1.0    3.0      alten   ge       ge_1   0.0   \n",
       "193913      1.0      1.0    4.0  römischen   ge       ge_1   0.0   \n",
       "193914      1.0      1.0    5.0   Religion   ge       ge_1   0.0   \n",
       "\n",
       "        firstfix.dur  firstrun.dur     dur  firstrun.nfix  nfix  refix  reread  \n",
       "193910         164.0         164.0   164.0            1.0   1.0    0.0     0.0  \n",
       "193911         166.0         166.0   657.0            1.0   3.0    0.0     1.0  \n",
       "193912         144.0         144.0   717.0            1.0   3.0    0.0     1.0  \n",
       "193913         219.0         219.0  1231.0            1.0   6.0    0.0     1.0  \n",
       "193914         151.0         151.0  1338.0            1.0   8.0    1.0     1.0  "
      ]
     },
     "execution_count": 42,
     "metadata": {},
     "output_type": "execute_result"
    }
   ],
   "source": [
    "df_complete_common_user.head()"
   ]
  },
  {
   "cell_type": "markdown",
   "id": "ee8d2b71",
   "metadata": {},
   "source": [
    "The trials doesn't contain the same readers"
   ]
  },
  {
   "cell_type": "code",
   "execution_count": 43,
   "id": "5167bf35",
   "metadata": {},
   "outputs": [],
   "source": [
    "reader_grouped_df = df_complete_common_user.groupby([\"uniform_id\", \"lang\"])[gaze_features].mean().reset_index(level=0).reset_index(level=0)"
   ]
  },
  {
   "cell_type": "code",
   "execution_count": 44,
   "id": "96dcf0c0",
   "metadata": {
    "scrolled": false
   },
   "outputs": [
    {
     "name": "stdout",
     "output_type": "stream",
     "text": [
      "<class 'pandas.core.frame.DataFrame'>\n",
      "RangeIndex: 36 entries, 0 to 35\n",
      "Data columns (total 10 columns):\n",
      " #   Column         Non-Null Count  Dtype  \n",
      "---  ------         --------------  -----  \n",
      " 0   lang           36 non-null     object \n",
      " 1   uniform_id     36 non-null     object \n",
      " 2   skip           36 non-null     float64\n",
      " 3   firstfix.dur   36 non-null     float64\n",
      " 4   firstrun.dur   36 non-null     float64\n",
      " 5   dur            36 non-null     float64\n",
      " 6   firstrun.nfix  36 non-null     float64\n",
      " 7   nfix           36 non-null     float64\n",
      " 8   refix          36 non-null     float64\n",
      " 9   reread         36 non-null     float64\n",
      "dtypes: float64(8), object(2)\n",
      "memory usage: 2.9+ KB\n"
     ]
    }
   ],
   "source": [
    "reader_grouped_df.info()"
   ]
  },
  {
   "cell_type": "code",
   "execution_count": 45,
   "id": "c3f2db48",
   "metadata": {},
   "outputs": [
    {
     "data": {
      "text/plain": [
       "array(['ge_1', 'ge_10', 'ge_12', 'ge_13', 'ge_17', 'ge_3', 'ge_30',\n",
       "       'ge_32', 'ge_37', 'ge_39', 'ge_41', 'ge_47', 'ge_53', 'ge_6',\n",
       "       'ge_8', 'ge_9', 'it_11', 'it_13', 'it_17', 'it_21', 'it_26',\n",
       "       'it_3', 'it_36', 'it_37', 'it_48', 'sp_18', 'sp_34', 'sp_37',\n",
       "       'sp_38', 'sp_4', 'sp_42', 'sp_48', 'sp_51', 'sp_54', 'sp_56',\n",
       "       'sp_61'], dtype=object)"
      ]
     },
     "execution_count": 45,
     "metadata": {},
     "output_type": "execute_result"
    }
   ],
   "source": [
    "reader_grouped_df.uniform_id.unique()"
   ]
  },
  {
   "cell_type": "code",
   "execution_count": 46,
   "id": "8fb9b1dd",
   "metadata": {},
   "outputs": [
    {
     "data": {
      "text/html": [
       "<div>\n",
       "<style scoped>\n",
       "    .dataframe tbody tr th:only-of-type {\n",
       "        vertical-align: middle;\n",
       "    }\n",
       "\n",
       "    .dataframe tbody tr th {\n",
       "        vertical-align: top;\n",
       "    }\n",
       "\n",
       "    .dataframe thead th {\n",
       "        text-align: right;\n",
       "    }\n",
       "</style>\n",
       "<table border=\"1\" class=\"dataframe\">\n",
       "  <thead>\n",
       "    <tr style=\"text-align: right;\">\n",
       "      <th></th>\n",
       "      <th>skip</th>\n",
       "      <th>firstfix.dur</th>\n",
       "      <th>firstrun.dur</th>\n",
       "      <th>dur</th>\n",
       "      <th>firstrun.nfix</th>\n",
       "      <th>nfix</th>\n",
       "      <th>refix</th>\n",
       "      <th>reread</th>\n",
       "    </tr>\n",
       "  </thead>\n",
       "  <tbody>\n",
       "    <tr>\n",
       "      <th>skip</th>\n",
       "      <td>1.000000</td>\n",
       "      <td>-0.614045</td>\n",
       "      <td>-0.707910</td>\n",
       "      <td>-0.408043</td>\n",
       "      <td>-0.882127</td>\n",
       "      <td>-0.510799</td>\n",
       "      <td>-0.652682</td>\n",
       "      <td>-0.201618</td>\n",
       "    </tr>\n",
       "    <tr>\n",
       "      <th>firstfix.dur</th>\n",
       "      <td>-0.614045</td>\n",
       "      <td>1.000000</td>\n",
       "      <td>0.897394</td>\n",
       "      <td>0.614098</td>\n",
       "      <td>0.484091</td>\n",
       "      <td>0.370940</td>\n",
       "      <td>0.319923</td>\n",
       "      <td>0.190239</td>\n",
       "    </tr>\n",
       "    <tr>\n",
       "      <th>firstrun.dur</th>\n",
       "      <td>-0.707910</td>\n",
       "      <td>0.897394</td>\n",
       "      <td>1.000000</td>\n",
       "      <td>0.559480</td>\n",
       "      <td>0.761146</td>\n",
       "      <td>0.394787</td>\n",
       "      <td>0.662981</td>\n",
       "      <td>0.086346</td>\n",
       "    </tr>\n",
       "    <tr>\n",
       "      <th>dur</th>\n",
       "      <td>-0.408043</td>\n",
       "      <td>0.614098</td>\n",
       "      <td>0.559480</td>\n",
       "      <td>1.000000</td>\n",
       "      <td>0.319464</td>\n",
       "      <td>0.911931</td>\n",
       "      <td>0.425672</td>\n",
       "      <td>0.832086</td>\n",
       "    </tr>\n",
       "    <tr>\n",
       "      <th>firstrun.nfix</th>\n",
       "      <td>-0.882127</td>\n",
       "      <td>0.484091</td>\n",
       "      <td>0.761146</td>\n",
       "      <td>0.319464</td>\n",
       "      <td>1.000000</td>\n",
       "      <td>0.429593</td>\n",
       "      <td>0.901798</td>\n",
       "      <td>0.041722</td>\n",
       "    </tr>\n",
       "    <tr>\n",
       "      <th>nfix</th>\n",
       "      <td>-0.510799</td>\n",
       "      <td>0.370940</td>\n",
       "      <td>0.394787</td>\n",
       "      <td>0.911931</td>\n",
       "      <td>0.429593</td>\n",
       "      <td>1.000000</td>\n",
       "      <td>0.539666</td>\n",
       "      <td>0.894908</td>\n",
       "    </tr>\n",
       "    <tr>\n",
       "      <th>refix</th>\n",
       "      <td>-0.652682</td>\n",
       "      <td>0.319923</td>\n",
       "      <td>0.662981</td>\n",
       "      <td>0.425672</td>\n",
       "      <td>0.901798</td>\n",
       "      <td>0.539666</td>\n",
       "      <td>1.000000</td>\n",
       "      <td>0.188820</td>\n",
       "    </tr>\n",
       "    <tr>\n",
       "      <th>reread</th>\n",
       "      <td>-0.201618</td>\n",
       "      <td>0.190239</td>\n",
       "      <td>0.086346</td>\n",
       "      <td>0.832086</td>\n",
       "      <td>0.041722</td>\n",
       "      <td>0.894908</td>\n",
       "      <td>0.188820</td>\n",
       "      <td>1.000000</td>\n",
       "    </tr>\n",
       "  </tbody>\n",
       "</table>\n",
       "</div>"
      ],
      "text/plain": [
       "                   skip  firstfix.dur  firstrun.dur       dur  firstrun.nfix  \\\n",
       "skip           1.000000     -0.614045     -0.707910 -0.408043      -0.882127   \n",
       "firstfix.dur  -0.614045      1.000000      0.897394  0.614098       0.484091   \n",
       "firstrun.dur  -0.707910      0.897394      1.000000  0.559480       0.761146   \n",
       "dur           -0.408043      0.614098      0.559480  1.000000       0.319464   \n",
       "firstrun.nfix -0.882127      0.484091      0.761146  0.319464       1.000000   \n",
       "nfix          -0.510799      0.370940      0.394787  0.911931       0.429593   \n",
       "refix         -0.652682      0.319923      0.662981  0.425672       0.901798   \n",
       "reread        -0.201618      0.190239      0.086346  0.832086       0.041722   \n",
       "\n",
       "                   nfix     refix    reread  \n",
       "skip          -0.510799 -0.652682 -0.201618  \n",
       "firstfix.dur   0.370940  0.319923  0.190239  \n",
       "firstrun.dur   0.394787  0.662981  0.086346  \n",
       "dur            0.911931  0.425672  0.832086  \n",
       "firstrun.nfix  0.429593  0.901798  0.041722  \n",
       "nfix           1.000000  0.539666  0.894908  \n",
       "refix          0.539666  1.000000  0.188820  \n",
       "reread         0.894908  0.188820  1.000000  "
      ]
     },
     "execution_count": 46,
     "metadata": {},
     "output_type": "execute_result"
    }
   ],
   "source": [
    "reader_grouped_df[gaze_features].corr()"
   ]
  },
  {
   "cell_type": "markdown",
   "id": "0e79a785",
   "metadata": {},
   "source": [
    "### Apply K-means to clusterize our datas"
   ]
  },
  {
   "cell_type": "code",
   "execution_count": 47,
   "id": "8ce1162c",
   "metadata": {},
   "outputs": [],
   "source": [
    "from sklearn.cluster import KMeans\n",
    "from sklearn.metrics import silhouette_score\n",
    "from sklearn.decomposition import PCA\n",
    "from sklearn import metrics\n",
    "from sklearn.preprocessing import StandardScaler, MinMaxScaler\n",
    "from tqdm import tqdm\n",
    "import matplotlib.pyplot as plt"
   ]
  },
  {
   "cell_type": "code",
   "execution_count": 48,
   "id": "e4c689f5",
   "metadata": {},
   "outputs": [],
   "source": [
    "scaler = MinMaxScaler()\n",
    "\n",
    "X = scaler.fit_transform(reader_grouped_df[gaze_features].values)"
   ]
  },
  {
   "cell_type": "code",
   "execution_count": 49,
   "id": "4538bd88",
   "metadata": {},
   "outputs": [
    {
     "name": "stderr",
     "output_type": "stream",
     "text": [
      "100%|█████████████████████████████████████████████████████████████████████████████████████████████████████████████████████████████████████████████████████████████████████████| 6/6 [00:00<00:00, 42.40it/s]\n"
     ]
    }
   ],
   "source": [
    "sse_list = list()\n",
    "separations = list()\n",
    "silouettes_ = list()\n",
    "\n",
    "max_k = 7\n",
    "for k in tqdm(range(2, max_k + 1)):\n",
    "    kmeans = KMeans(n_clusters=k, n_init=10, max_iter=100)\n",
    "    kmeans.fit(X)\n",
    "    \n",
    "    sse = kmeans.inertia_\n",
    "    sse_list.append(sse)\n",
    "    separations.append(metrics.davies_bouldin_score(X, kmeans.labels_))\n",
    "    silouettes_.append(silhouette_score(X, kmeans.labels_))"
   ]
  },
  {
   "cell_type": "code",
   "execution_count": 50,
   "id": "f08c1bb8",
   "metadata": {},
   "outputs": [
    {
     "data": {
      "image/png": "[encoded data removed]",
      "text/plain": [
       "<Figure size 640x480 with 1 Axes>"
      ]
     },
     "metadata": {},
     "output_type": "display_data"
    }
   ],
   "source": [
    "plt.plot(range(2, len(sse_list) + 2), sse_list)\n",
    "plt.ylabel('SSE', fontsize=22)\n",
    "plt.xlabel('K', fontsize=22)\n",
    "plt.xticks(range(2, len(sse_list) + 2))\n",
    "plt.show()"
   ]
  },
  {
   "cell_type": "code",
   "execution_count": 51,
   "id": "8a48f25b",
   "metadata": {},
   "outputs": [
    {
     "data": {
      "image/png": "[encoded data removed]",
      "text/plain": [
       "<Figure size 640x480 with 1 Axes>"
      ]
     },
     "metadata": {},
     "output_type": "display_data"
    }
   ],
   "source": [
    "plt.plot(range(2, len(separations) + 2), separations)\n",
    "plt.ylabel('Separation', fontsize=22)\n",
    "plt.xlabel('K', fontsize=22)\n",
    "plt.xticks(range(2, len(separations) + 2))\n",
    "plt.show()"
   ]
  },
  {
   "cell_type": "code",
   "execution_count": 52,
   "id": "48bd6808",
   "metadata": {},
   "outputs": [
    {
     "data": {
      "image/png": "[encoded data removed]",
      "text/plain": [
       "<Figure size 640x480 with 1 Axes>"
      ]
     },
     "metadata": {},
     "output_type": "display_data"
    }
   ],
   "source": [
    "plt.plot(range(2, len(silouettes_) + 2), silouettes_)\n",
    "plt.ylabel('Silouettes', fontsize=22)\n",
    "plt.xlabel('K', fontsize=22)\n",
    "plt.xticks(range(2, len(silouettes_) + 2))\n",
    "plt.show()"
   ]
  },
  {
   "cell_type": "code",
   "execution_count": 53,
   "id": "e53fb3f4",
   "metadata": {},
   "outputs": [
    {
     "data": {
      "text/html": [
       "<style>#sk-container-id-1 {color: black;background-color: white;}#sk-container-id-1 pre{padding: 0;}#sk-container-id-1 div.sk-toggleable {background-color: white;}#sk-container-id-1 label.sk-toggleable__label {cursor: pointer;display: block;width: 100%;margin-bottom: 0;padding: 0.3em;box-sizing: border-box;text-align: center;}#sk-container-id-1 label.sk-toggleable__label-arrow:before {content: \"▸\";float: left;margin-right: 0.25em;color: #696969;}#sk-container-id-1 label.sk-toggleable__label-arrow:hover:before {color: black;}#sk-container-id-1 div.sk-estimator:hover label.sk-toggleable__label-arrow:before {color: black;}#sk-container-id-1 div.sk-toggleable__content {max-height: 0;max-width: 0;overflow: hidden;text-align: left;background-color: #f0f8ff;}#sk-container-id-1 div.sk-toggleable__content pre {margin: 0.2em;color: black;border-radius: 0.25em;background-color: #f0f8ff;}#sk-container-id-1 input.sk-toggleable__control:checked~div.sk-toggleable__content {max-height: 200px;max-width: 100%;overflow: auto;}#sk-container-id-1 input.sk-toggleable__control:checked~label.sk-toggleable__label-arrow:before {content: \"▾\";}#sk-container-id-1 div.sk-estimator input.sk-toggleable__control:checked~label.sk-toggleable__label {background-color: #d4ebff;}#sk-container-id-1 div.sk-label input.sk-toggleable__control:checked~label.sk-toggleable__label {background-color: #d4ebff;}#sk-container-id-1 input.sk-hidden--visually {border: 0;clip: rect(1px 1px 1px 1px);clip: rect(1px, 1px, 1px, 1px);height: 1px;margin: -1px;overflow: hidden;padding: 0;position: absolute;width: 1px;}#sk-container-id-1 div.sk-estimator {font-family: monospace;background-color: #f0f8ff;border: 1px dotted black;border-radius: 0.25em;box-sizing: border-box;margin-bottom: 0.5em;}#sk-container-id-1 div.sk-estimator:hover {background-color: #d4ebff;}#sk-container-id-1 div.sk-parallel-item::after {content: \"\";width: 100%;border-bottom: 1px solid gray;flex-grow: 1;}#sk-container-id-1 div.sk-label:hover label.sk-toggleable__label {background-color: #d4ebff;}#sk-container-id-1 div.sk-serial::before {content: \"\";position: absolute;border-left: 1px solid gray;box-sizing: border-box;top: 0;bottom: 0;left: 50%;z-index: 0;}#sk-container-id-1 div.sk-serial {display: flex;flex-direction: column;align-items: center;background-color: white;padding-right: 0.2em;padding-left: 0.2em;position: relative;}#sk-container-id-1 div.sk-item {position: relative;z-index: 1;}#sk-container-id-1 div.sk-parallel {display: flex;align-items: stretch;justify-content: center;background-color: white;position: relative;}#sk-container-id-1 div.sk-item::before, #sk-container-id-1 div.sk-parallel-item::before {content: \"\";position: absolute;border-left: 1px solid gray;box-sizing: border-box;top: 0;bottom: 0;left: 50%;z-index: -1;}#sk-container-id-1 div.sk-parallel-item {display: flex;flex-direction: column;z-index: 1;position: relative;background-color: white;}#sk-container-id-1 div.sk-parallel-item:first-child::after {align-self: flex-end;width: 50%;}#sk-container-id-1 div.sk-parallel-item:last-child::after {align-self: flex-start;width: 50%;}#sk-container-id-1 div.sk-parallel-item:only-child::after {width: 0;}#sk-container-id-1 div.sk-dashed-wrapped {border: 1px dashed gray;margin: 0 0.4em 0.5em 0.4em;box-sizing: border-box;padding-bottom: 0.4em;background-color: white;}#sk-container-id-1 div.sk-label label {font-family: monospace;font-weight: bold;display: inline-block;line-height: 1.2em;}#sk-container-id-1 div.sk-label-container {text-align: center;}#sk-container-id-1 div.sk-container {/* jupyter's `normalize.less` sets `[hidden] { display: none; }` but bootstrap.min.css set `[hidden] { display: none !important; }` so we also need the `!important` here to be able to override the default hidden behavior on the sphinx rendered scikit-learn.org. See: https://github.com/scikit-learn/scikit-learn/issues/21755 */display: inline-block !important;position: relative;}#sk-container-id-1 div.sk-text-repr-fallback {display: none;}</style><div id=\"sk-container-id-1\" class=\"sk-top-container\"><div class=\"sk-text-repr-fallback\"><pre>KMeans(max_iter=500, n_clusters=3, n_init=100)</pre><b>In a Jupyter environment, please rerun this cell to show the HTML representation or trust the notebook. <br />On GitHub, the HTML representation is unable to render, please try loading this page with nbviewer.org.</b></div><div class=\"sk-container\" hidden><div class=\"sk-item\"><div class=\"sk-estimator sk-toggleable\"><input class=\"sk-toggleable__control sk-hidden--visually\" id=\"sk-estimator-id-1\" type=\"checkbox\" checked><label for=\"sk-estimator-id-1\" class=\"sk-toggleable__label sk-toggleable__label-arrow\">KMeans</label><div class=\"sk-toggleable__content\"><pre>KMeans(max_iter=500, n_clusters=3, n_init=100)</pre></div></div></div></div></div>"
      ],
      "text/plain": [
       "KMeans(max_iter=500, n_clusters=3, n_init=100)"
      ]
     },
     "execution_count": 53,
     "metadata": {},
     "output_type": "execute_result"
    }
   ],
   "source": [
    "selected_k=3\n",
    "\n",
    "kmeans = KMeans(n_clusters=selected_k, n_init=100, max_iter=500)\n",
    "kmeans.fit(X)"
   ]
  },
  {
   "cell_type": "code",
   "execution_count": 54,
   "id": "c272903c",
   "metadata": {},
   "outputs": [
    {
     "name": "stdout",
     "output_type": "stream",
     "text": [
      "SSE : 6.751348507219689\n",
      "Separation : 1.1478912774543044\n",
      "Silhouette : 0.24616860278593297\n"
     ]
    }
   ],
   "source": [
    "# sum up the metrics\n",
    "\n",
    "print(f\"SSE : {kmeans.inertia_}\")\n",
    "print(f\"Separation : {metrics.davies_bouldin_score(X, kmeans.labels_)}\")\n",
    "print(f\"Silhouette : {silhouette_score(X, kmeans.labels_)}\")"
   ]
  },
  {
   "cell_type": "code",
   "execution_count": 55,
   "id": "63985fdc",
   "metadata": {},
   "outputs": [
    {
     "data": {
      "image/png": "[encoded data removed]",
      "text/plain": [
       "<Figure size 640x480 with 1 Axes>"
      ]
     },
     "metadata": {},
     "output_type": "display_data"
    }
   ],
   "source": [
    "bot_xt_pct = pd.crosstab(kmeans.labels_, reader_grouped_df[\"lang\"])\n",
    "bot_xt_pct.plot(kind='bar', stacked=False, \n",
    "                   title=f'lang per cluster')\n",
    "plt.xlabel('Cluster')\n",
    "plt.ylabel(\"lang\")\n",
    "plt.show()"
   ]
  },
  {
   "cell_type": "code",
   "execution_count": 56,
   "id": "114b34d0",
   "metadata": {},
   "outputs": [],
   "source": [
    "center = scaler.inverse_transform(kmeans.cluster_centers_)"
   ]
  },
  {
   "cell_type": "code",
   "execution_count": 57,
   "id": "cd9f775f",
   "metadata": {},
   "outputs": [
    {
     "data": {
      "image/png": "[encoded data removed]",
      "text/plain": [
       "<Figure size 800x400 with 1 Axes>"
      ]
     },
     "metadata": {},
     "output_type": "display_data"
    }
   ],
   "source": [
    "plt.figure(figsize=(8, 4))\n",
    "for i in range(0, len(center)):\n",
    "    plt.plot(kmeans.cluster_centers_[i], marker='o', label='Cluster %s' % i)\n",
    "plt.tick_params(axis='both', which='major', labelsize=10)\n",
    "plt.xticks(range(0, len(gaze_features)), gaze_features, fontsize=18, rotation=90)\n",
    "plt.legend(fontsize=10)\n",
    "plt.show()"
   ]
  },
  {
   "cell_type": "code",
   "execution_count": 58,
   "id": "e8c9d856",
   "metadata": {},
   "outputs": [],
   "source": [
    "pca = PCA(n_components=2)\n",
    "X_reduced = pca.fit_transform(X)"
   ]
  },
  {
   "cell_type": "code",
   "execution_count": 59,
   "id": "8d34799c",
   "metadata": {},
   "outputs": [
    {
     "data": {
      "image/png": "[encoded data removed]",
      "text/plain": [
       "<Figure size 640x480 with 1 Axes>"
      ]
     },
     "metadata": {},
     "output_type": "display_data"
    }
   ],
   "source": [
    "plt.scatter(X_reduced[:, 0], X_reduced[:, 1], c=kmeans.labels_, s=20)\n",
    "plt.tick_params(axis='both', which='major', labelsize=22)\n",
    "plt.show()"
   ]
  },
  {
   "cell_type": "markdown",
   "id": "8a65609e",
   "metadata": {},
   "source": [
    "### Creating one dataset per cluster"
   ]
  },
  {
   "cell_type": "code",
   "execution_count": 60,
   "id": "1849fac6",
   "metadata": {},
   "outputs": [
    {
     "name": "stdout",
     "output_type": "stream",
     "text": [
      "[{'sp_54', 'sp_37', 'sp_56', 'it_13', 'ge_41', 'it_21', 'sp_18', 'sp_42', 'sp_61', 'sp_48', 'sp_38', 'ge_37', 'ge_1'}, {'sp_34', 'sp_51', 'it_37', 'ge_17', 'it_3', 'it_36', 'ge_6'}, {'it_26', 'ge_3', 'ge_32', 'it_17', 'ge_30', 'ge_9', 'it_11', 'ge_13', 'ge_12', 'ge_53', 'ge_8', 'it_48', 'ge_39', 'ge_47', 'sp_4', 'ge_10'}]\n"
     ]
    }
   ],
   "source": [
    "readers_clusters = list()\n",
    "\n",
    "for i in range(selected_k):\n",
    "    readers_clusters.append(set(reader_grouped_df.loc[kmeans.labels_ == i, \"uniform_id\"]))\n",
    "    \n",
    "print(readers_clusters)"
   ]
  },
  {
   "cell_type": "code",
   "execution_count": 61,
   "id": "8d4d4874",
   "metadata": {},
   "outputs": [],
   "source": [
    "clustered_dfs = list()\n",
    "\n",
    "for readers_cluster in readers_clusters:\n",
    "    clustered_df = df_complete_common_user[df_complete_common_user.uniform_id.isin(readers_cluster)]\n",
    "    clustered_dfs.append(clustered_df)"
   ]
  },
  {
   "cell_type": "code",
   "execution_count": 62,
   "id": "402a4e0a",
   "metadata": {},
   "outputs": [
    {
     "data": {
      "text/plain": [
       "[        trialid  sentnum  ianum         ia lang uniform_id  skip  \\\n",
       " 193910      1.0      1.0    1.0         In   ge       ge_1   0.0   \n",
       " 193911      1.0      1.0    2.0        der   ge       ge_1   0.0   \n",
       " 193912      1.0      1.0    3.0      alten   ge       ge_1   0.0   \n",
       " 193913      1.0      1.0    4.0  römischen   ge       ge_1   0.0   \n",
       " 193914      1.0      1.0    5.0   Religion   ge       ge_1   0.0   \n",
       " ...         ...      ...    ...        ...  ...        ...   ...   \n",
       " 821161     12.0      1.0    5.0   vehículo   sp      sp_61   0.0   \n",
       " 821162     12.0      1.0    6.0         es   sp      sp_61   1.0   \n",
       " 821163     12.0      1.0    7.0        una   sp      sp_61   1.0   \n",
       " 821164     12.0      1.0    8.0      placa   sp      sp_61   0.0   \n",
       " 821165     12.0      1.0    9.0         de   sp      sp_61   1.0   \n",
       " \n",
       "         firstfix.dur  firstrun.dur     dur  firstrun.nfix  nfix  refix  reread  \n",
       " 193910         164.0         164.0   164.0            1.0   1.0    0.0     0.0  \n",
       " 193911         166.0         166.0   657.0            1.0   3.0    0.0     1.0  \n",
       " 193912         144.0         144.0   717.0            1.0   3.0    0.0     1.0  \n",
       " 193913         219.0         219.0  1231.0            1.0   6.0    0.0     1.0  \n",
       " 193914         151.0         151.0  1338.0            1.0   8.0    1.0     1.0  \n",
       " ...              ...           ...     ...            ...   ...    ...     ...  \n",
       " 821161         181.0         358.0   522.0            2.0   3.0    1.0     1.0  \n",
       " 821162           0.0           0.0     0.0            0.0   0.0    0.0     0.0  \n",
       " 821163           0.0           0.0     0.0            0.0   0.0    0.0     0.0  \n",
       " 821164         165.0         165.0   315.0            1.0   2.0    0.0     1.0  \n",
       " 821165           0.0           0.0     0.0            0.0   0.0    0.0     0.0  \n",
       " \n",
       " [29595 rows x 14 columns],\n",
       "         trialid  sentnum  ianum             ia lang uniform_id  skip  \\\n",
       " 202535      1.0      1.0    1.0             In   ge       ge_6   0.0   \n",
       " 202536      1.0      1.0    2.0            der   ge       ge_6   0.0   \n",
       " 202537      1.0      1.0    3.0          alten   ge       ge_6   0.0   \n",
       " 202538      1.0      1.0    4.0      römischen   ge       ge_6   0.0   \n",
       " 202539      1.0      1.0    5.0       Religion   ge       ge_6   0.0   \n",
       " ...         ...      ...    ...            ...  ...        ...   ...   \n",
       " 804677     12.0      3.0   46.0            por   sp      sp_51   1.0   \n",
       " 804678     12.0      3.0   47.0  jurisdicción.   sp      sp_51   0.0   \n",
       " 804679     12.0      4.0   48.0             El   sp      sp_51   0.0   \n",
       " 804680     12.0      4.0   49.0  identificador   sp      sp_51   0.0   \n",
       " 804681     12.0      4.0   50.0             de   sp      sp_51   1.0   \n",
       " \n",
       "         firstfix.dur  firstrun.dur     dur  firstrun.nfix  nfix  refix  reread  \n",
       " 202535         144.0         144.0   144.0            1.0   1.0    0.0     0.0  \n",
       " 202536         115.0         115.0  1171.0            1.0   5.0    0.0     1.0  \n",
       " 202537         223.0         223.0  1727.0            1.0   8.0    1.0     1.0  \n",
       " 202538         104.0         104.0  2030.0            1.0  11.0    0.0     1.0  \n",
       " 202539         184.0         184.0  1820.0            1.0   9.0    0.0     1.0  \n",
       " ...              ...           ...     ...            ...   ...    ...     ...  \n",
       " 804677           0.0           0.0     0.0            0.0   0.0    0.0     0.0  \n",
       " 804678         171.0         388.0   388.0            2.0   2.0    1.0     0.0  \n",
       " 804679         169.0         169.0   169.0            1.0   1.0    0.0     0.0  \n",
       " 804680         172.0         506.0   506.0            3.0   3.0    1.0     0.0  \n",
       " 804681           0.0           0.0     0.0            0.0   0.0    0.0     0.0  \n",
       " \n",
       " [15215 rows x 14 columns],\n",
       "         trialid  sentnum  ianum              ia lang uniform_id  skip  \\\n",
       " 197633      1.0      1.0    1.0              In   ge       ge_3   0.0   \n",
       " 197634      1.0      1.0    2.0             der   ge       ge_3   0.0   \n",
       " 197635      1.0      1.0    3.0           alten   ge       ge_3   0.0   \n",
       " 197636      1.0      1.0    4.0       römischen   ge       ge_3   0.0   \n",
       " 197637      1.0      1.0    5.0        Religion   ge       ge_3   0.0   \n",
       " ...         ...      ...    ...             ...  ...        ...   ...   \n",
       " 740319     12.0      8.0  171.0             los   sp       sp_4   0.0   \n",
       " 740320     12.0      8.0  172.0       distintos   sp       sp_4   0.0   \n",
       " 740321     12.0      8.0  173.0       gobiernos   sp       sp_4   0.0   \n",
       " 740322     12.0      8.0  174.0               y   sp       sp_4   1.0   \n",
       " 740323     12.0      8.0  175.0  organizaciones   sp       sp_4   0.0   \n",
       " \n",
       "         firstfix.dur  firstrun.dur    dur  firstrun.nfix  nfix  refix  reread  \n",
       " 197633         180.0         180.0  180.0            1.0   1.0    0.0     0.0  \n",
       " 197634         288.0         288.0  288.0            1.0   1.0    0.0     0.0  \n",
       " 197635         163.0         163.0  444.0            1.0   3.0    0.0     1.0  \n",
       " 197636         294.0         294.0  294.0            1.0   1.0    0.0     0.0  \n",
       " 197637         226.0         488.0  488.0            2.0   2.0    1.0     0.0  \n",
       " ...              ...           ...    ...            ...   ...    ...     ...  \n",
       " 740319         194.0         194.0  194.0            1.0   1.0    0.0     0.0  \n",
       " 740320         127.0         127.0  127.0            1.0   1.0    0.0     0.0  \n",
       " 740321         231.0         231.0  231.0            1.0   1.0    0.0     0.0  \n",
       " 740322           0.0           0.0    0.0            0.0   0.0    0.0     0.0  \n",
       " 740323         203.0         351.0  351.0            2.0   2.0    1.0     0.0  \n",
       " \n",
       " [33160 rows x 14 columns]]"
      ]
     },
     "execution_count": 62,
     "metadata": {},
     "output_type": "execute_result"
    }
   ],
   "source": [
    "clustered_dfs"
   ]
  },
  {
   "cell_type": "markdown",
   "id": "2ecd354d",
   "metadata": {},
   "source": [
    "### Mean gaze features inside each clustered dataset"
   ]
  },
  {
   "cell_type": "code",
   "execution_count": 63,
   "id": "1da69d0e",
   "metadata": {},
   "outputs": [
    {
     "name": "stdout",
     "output_type": "stream",
     "text": [
      "Number of sentence after group : 303\n",
      "Number of sentence after group : 303\n",
      "Number of sentence after group : 303\n"
     ]
    }
   ],
   "source": [
    "group_by_cols = [\"trialid\", \"sentnum\", \"ianum\", \"ia\", \"lang\"]\n",
    "grouped_cols = [\"skip\", \"firstfix.dur\", \"firstrun.dur\", \"dur\", \"firstrun.nfix\", \"nfix\", \"refix\", \"reread\"]\n",
    "\n",
    "for i in range(len(clustered_dfs)):    \n",
    "    grouped_clusterd_df = group_by_users(clustered_dfs[i])\n",
    "    \n",
    "    grouped_clusterd_df.rename(columns={\"skip\" : \"prob_skip\", \"refix\" : \"prob_refix\", \"reread\" : \"prob_reread\"}, inplace=True)\n",
    "    \n",
    "    grouped_clusterd_df.ianum = grouped_clusterd_df.ianum.astype(int)\n",
    "    grouped_clusterd_df.trialid = grouped_clusterd_df.trialid.astype(int)\n",
    "    grouped_clusterd_df.trial_sentnum = grouped_clusterd_df.trial_sentnum.astype(int)\n",
    "    \n",
    "    clustered_dfs[i] = grouped_clusterd_df"
   ]
  },
  {
   "cell_type": "code",
   "execution_count": 64,
   "id": "1574b5e0",
   "metadata": {},
   "outputs": [
    {
     "name": "stdout",
     "output_type": "stream",
     "text": [
      "               prob_skip  firstrun.dur       dur  firstrun.nfix      nfix  \\\n",
      "prob_skip       1.000000     -0.800721 -0.701679      -0.864895 -0.738097   \n",
      "firstrun.dur   -0.800721      1.000000  0.837873       0.918668  0.781887   \n",
      "dur            -0.701679      0.837873  1.000000       0.790040  0.959729   \n",
      "firstrun.nfix  -0.864895      0.918668  0.790040       1.000000  0.831973   \n",
      "nfix           -0.738097      0.781887  0.959729       0.831973  1.000000   \n",
      "prob_refix     -0.426250      0.666394  0.675870       0.738137  0.721604   \n",
      "prob_reread    -0.476824      0.445125  0.748016       0.455372  0.777170   \n",
      "\n",
      "               prob_refix  prob_reread  \n",
      "prob_skip       -0.426250    -0.476824  \n",
      "firstrun.dur     0.666394     0.445125  \n",
      "dur              0.675870     0.748016  \n",
      "firstrun.nfix    0.738137     0.455372  \n",
      "nfix             0.721604     0.777170  \n",
      "prob_refix       1.000000     0.384278  \n",
      "prob_reread      0.384278     1.000000  \n",
      "               prob_skip  firstrun.dur       dur  firstrun.nfix      nfix  \\\n",
      "prob_skip       1.000000     -0.634635 -0.519852      -0.686083 -0.545824   \n",
      "firstrun.dur   -0.634635      1.000000  0.705415       0.913852  0.656788   \n",
      "dur            -0.519852      0.705415  1.000000       0.688841  0.964357   \n",
      "firstrun.nfix  -0.686083      0.913852  0.688841       1.000000  0.713817   \n",
      "nfix           -0.545824      0.656788  0.964357       0.713817  1.000000   \n",
      "prob_refix     -0.400274      0.663078  0.665357       0.729117  0.699781   \n",
      "prob_reread    -0.504784      0.387505  0.663280       0.409548  0.703822   \n",
      "\n",
      "               prob_refix  prob_reread  \n",
      "prob_skip       -0.400274    -0.504784  \n",
      "firstrun.dur     0.663078     0.387505  \n",
      "dur              0.665357     0.663280  \n",
      "firstrun.nfix    0.729117     0.409548  \n",
      "nfix             0.699781     0.703822  \n",
      "prob_refix       1.000000     0.428641  \n",
      "prob_reread      0.428641     1.000000  \n",
      "               prob_skip  firstrun.dur       dur  firstrun.nfix      nfix  \\\n",
      "prob_skip       1.000000     -0.721930 -0.681618      -0.756349 -0.718401   \n",
      "firstrun.dur   -0.721930      1.000000  0.901207       0.921510  0.839827   \n",
      "dur            -0.681618      0.901207  1.000000       0.834027  0.940833   \n",
      "firstrun.nfix  -0.756349      0.921510  0.834027       1.000000  0.898280   \n",
      "nfix           -0.718401      0.839827  0.940833       0.898280  1.000000   \n",
      "prob_refix     -0.425591      0.728055  0.700168       0.815132  0.778493   \n",
      "prob_reread    -0.296804      0.207598  0.534840       0.206920  0.558431   \n",
      "\n",
      "               prob_refix  prob_reread  \n",
      "prob_skip       -0.425591    -0.296804  \n",
      "firstrun.dur     0.728055     0.207598  \n",
      "dur              0.700168     0.534840  \n",
      "firstrun.nfix    0.815132     0.206920  \n",
      "nfix             0.778493     0.558431  \n",
      "prob_refix       1.000000     0.200704  \n",
      "prob_reread      0.200704     1.000000  \n"
     ]
    }
   ],
   "source": [
    "for clustered_df in clustered_dfs:\n",
    "    print(clustered_df[[\"prob_skip\", \"firstrun.dur\", \"dur\", \"firstrun.nfix\", \"nfix\", \"prob_refix\", \"prob_reread\"]].corr())"
   ]
  },
  {
   "cell_type": "code",
   "execution_count": 65,
   "id": "ffeab460",
   "metadata": {},
   "outputs": [
    {
     "name": "stdout",
     "output_type": "stream",
     "text": [
      "Len dataset_0 : (6551, 14)\n",
      "Len dataset_1 : (6551, 14)\n",
      "Len dataset_2 : (6551, 14)\n"
     ]
    }
   ],
   "source": [
    "for i, clustered_df in enumerate(clustered_dfs):\n",
    "    print(f\"Len dataset_{i} : {clustered_df.shape}\")"
   ]
  },
  {
   "cell_type": "markdown",
   "id": "bef81e0f",
   "metadata": {},
   "source": [
    "### Saving datasets"
   ]
  },
  {
   "cell_type": "code",
   "execution_count": 66,
   "id": "500ca603",
   "metadata": {},
   "outputs": [],
   "source": [
    "for i, clustered_df in enumerate(clustered_dfs):\n",
    "    clustered_df.to_csv(f\"datasets/cluster_{i}_dataset.csv\")"
   ]
  },
  {
   "cell_type": "markdown",
   "id": "59a7c479",
   "metadata": {},
   "source": [
    "### see distribution of data based on trial id\n",
    "\n",
    "we can use last twe trial to compute validation and test set"
   ]
  },
  {
   "cell_type": "code",
   "execution_count": 67,
   "id": "812250bd",
   "metadata": {},
   "outputs": [
    {
     "name": "stdout",
     "output_type": "stream",
     "text": [
      "\t--- Cluster 0 ---\n",
      "Percentage of samples in 1.0-th trial : 0.09%\n",
      "Percentage of samples in 2.0-th trial : 0.08%\n",
      "Percentage of samples in 3.0-th trial : 0.10%\n",
      "Percentage of samples in 4.0-th trial : 0.08%\n",
      "Percentage of samples in 5.0-th trial : 0.07%\n",
      "Percentage of samples in 6.0-th trial : 0.08%\n",
      "Percentage of samples in 7.0-th trial : 0.10%\n",
      "Percentage of samples in 8.0-th trial : 0.07%\n",
      "Percentage of samples in 9.0-th trial : 0.08%\n",
      "Percentage of samples in 10.0-th trial : 0.09%\n",
      "Percentage of samples in 11.0-th trial : 0.09%\n",
      "Percentage of samples in 12.0-th trial : 0.08%\n",
      "\n",
      "\t--- Cluster 1 ---\n",
      "Percentage of samples in 1.0-th trial : 0.09%\n",
      "Percentage of samples in 2.0-th trial : 0.08%\n",
      "Percentage of samples in 3.0-th trial : 0.10%\n",
      "Percentage of samples in 4.0-th trial : 0.08%\n",
      "Percentage of samples in 5.0-th trial : 0.07%\n",
      "Percentage of samples in 6.0-th trial : 0.08%\n",
      "Percentage of samples in 7.0-th trial : 0.10%\n",
      "Percentage of samples in 8.0-th trial : 0.07%\n",
      "Percentage of samples in 9.0-th trial : 0.08%\n",
      "Percentage of samples in 10.0-th trial : 0.09%\n",
      "Percentage of samples in 11.0-th trial : 0.09%\n",
      "Percentage of samples in 12.0-th trial : 0.08%\n",
      "\n",
      "\t--- Cluster 2 ---\n",
      "Percentage of samples in 1.0-th trial : 0.09%\n",
      "Percentage of samples in 2.0-th trial : 0.08%\n",
      "Percentage of samples in 3.0-th trial : 0.10%\n",
      "Percentage of samples in 4.0-th trial : 0.08%\n",
      "Percentage of samples in 5.0-th trial : 0.07%\n",
      "Percentage of samples in 6.0-th trial : 0.08%\n",
      "Percentage of samples in 7.0-th trial : 0.10%\n",
      "Percentage of samples in 8.0-th trial : 0.07%\n",
      "Percentage of samples in 9.0-th trial : 0.08%\n",
      "Percentage of samples in 10.0-th trial : 0.09%\n",
      "Percentage of samples in 11.0-th trial : 0.09%\n",
      "Percentage of samples in 12.0-th trial : 0.08%\n",
      "\n"
     ]
    }
   ],
   "source": [
    "for i, clustered_df in enumerate(clustered_dfs):\n",
    "    \n",
    "    print(f\"\\t--- Cluster {i} ---\")\n",
    "    \n",
    "    for trial in df.trialid.unique():\n",
    "        print(f\"Percentage of samples in {trial}-th trial : {np.sum(clustered_df.trialid == trial)/clustered_df.shape[0]:.2f}%\")\n",
    "\n",
    "    print()"
   ]
  }
 ],
 "metadata": {
  "kernelspec": {
   "display_name": "ml-meco",
   "language": "python",
   "name": "ml-meco"
  },
  "language_info": {
   "codemirror_mode": {
    "name": "ipython",
    "version": 3
   },
   "file_extension": ".py",
   "mimetype": "text/x-python",
   "name": "python",
   "nbconvert_exporter": "python",
   "pygments_lexer": "ipython3",
   "version": "3.9.15"
  }
 },
 "nbformat": 4,
 "nbformat_minor": 5
}

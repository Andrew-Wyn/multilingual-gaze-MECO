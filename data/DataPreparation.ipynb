{
 "cells": [
  {
   "cell_type": "markdown",
   "id": "b1e45739",
   "metadata": {},
   "source": [
    "# MECO\n",
    "\n",
    "Feature extraction and data preparation for the MECO dataset\n",
    "\n",
    "We chose the \"joint_data_trimmed.dat\" file in the MECO website (https://meco-read.com/).\n",
    "\n",
    "Interesting paper that describe the dataset, https://link.springer.com/epdf/10.3758/s13428-021-01772-6?sharing_token=As4e3osuA15IaUCKtCvDT5AH0g46feNdnc402WrhzyoEtpF3alySPm1lAWocS1ewk9OZlpPc3CqibACC23iBC_nacc6BD4_GPYLuUZJAvfWHoa8e0hjmhhFn9fLIgIRd3VzSfjlcpQ3gS4EiUY2YpRXjDSh3hB5Zx5kZpkk4yIQ=."
   ]
  },
  {
   "cell_type": "markdown",
   "id": "57148942",
   "metadata": {},
   "source": [
    "## Import Libs and Data"
   ]
  },
  {
   "cell_type": "code",
   "execution_count": 1,
   "id": "f35dd4c8",
   "metadata": {},
   "outputs": [],
   "source": [
    "import pandas as pd\n",
    "import numpy as np"
   ]
  },
  {
   "cell_type": "code",
   "execution_count": 2,
   "id": "c2622fc9",
   "metadata": {},
   "outputs": [],
   "source": [
    "df = pd.read_csv(\"joint_data_trimmed.csv\", index_col=0)"
   ]
  },
  {
   "cell_type": "markdown",
   "id": "3a8457b4",
   "metadata": {},
   "source": [
    "We have chose to use the following features for each sample:\n",
    "\n",
    "- **Skipping**: a binary index of whether the word was fixated at least once during the entire reading of the text [and not only during the first pass].\n",
    "- **First Fixation**: the duration of the first fixation landing on the word.\n",
    "- **Gaze Duration**: the summed duration of fixations on the word in the first pass, i.e., before the gaze leaves it for the first time.\n",
    "- **Total Fixation Duration**: the summed duration of all fixations on the word.\n",
    "- **First-run Number of Fixation**: the number of fixations on a word during the first pass.\n",
    "- **Total Number of Fixations**: number of fixations on a word overall.\n",
    "- **Regression**: a binary index of whether the gaze returned to the word after inspecting further textual material.\n",
    "- **Rereading**: a binary index of whether the word elicited fixations after the first pass.\n"
   ]
  },
  {
   "cell_type": "code",
   "execution_count": 3,
   "id": "e3b66d37",
   "metadata": {},
   "outputs": [],
   "source": [
    "# following a paper cited on the MECO website, i will use a subset of the gaze features\n",
    "gaze_features = [\"skip\", \"firstfix.dur\", \"firstrun.dur\", \"dur\", \"firstrun.nfix\", \"nfix\", \"refix\", \"reread\"]\n",
    "basic_features = [\"trialid\", \"sentnum\", \"ianum\", \"ia\", \"lang\", \"uniform_id\"]\n",
    "df = df[basic_features + gaze_features]"
   ]
  },
  {
   "cell_type": "code",
   "execution_count": 4,
   "id": "ac4e11f4",
   "metadata": {},
   "outputs": [
    {
     "data": {
      "text/html": [
       "<div>\n",
       "<style scoped>\n",
       "    .dataframe tbody tr th:only-of-type {\n",
       "        vertical-align: middle;\n",
       "    }\n",
       "\n",
       "    .dataframe tbody tr th {\n",
       "        vertical-align: top;\n",
       "    }\n",
       "\n",
       "    .dataframe thead th {\n",
       "        text-align: right;\n",
       "    }\n",
       "</style>\n",
       "<table border=\"1\" class=\"dataframe\">\n",
       "  <thead>\n",
       "    <tr style=\"text-align: right;\">\n",
       "      <th></th>\n",
       "      <th>trialid</th>\n",
       "      <th>sentnum</th>\n",
       "      <th>ianum</th>\n",
       "      <th>ia</th>\n",
       "      <th>lang</th>\n",
       "      <th>uniform_id</th>\n",
       "      <th>skip</th>\n",
       "      <th>firstfix.dur</th>\n",
       "      <th>firstrun.dur</th>\n",
       "      <th>dur</th>\n",
       "      <th>firstrun.nfix</th>\n",
       "      <th>nfix</th>\n",
       "      <th>refix</th>\n",
       "      <th>reread</th>\n",
       "    </tr>\n",
       "  </thead>\n",
       "  <tbody>\n",
       "    <tr>\n",
       "      <th>1</th>\n",
       "      <td>1.0</td>\n",
       "      <td>1.0</td>\n",
       "      <td>1.0</td>\n",
       "      <td>Janus</td>\n",
       "      <td>du</td>\n",
       "      <td>du_1</td>\n",
       "      <td>0.0</td>\n",
       "      <td>154.0</td>\n",
       "      <td>154.0</td>\n",
       "      <td>400.0</td>\n",
       "      <td>1.0</td>\n",
       "      <td>2.0</td>\n",
       "      <td>0.0</td>\n",
       "      <td>1.0</td>\n",
       "    </tr>\n",
       "    <tr>\n",
       "      <th>2</th>\n",
       "      <td>1.0</td>\n",
       "      <td>1.0</td>\n",
       "      <td>2.0</td>\n",
       "      <td>is</td>\n",
       "      <td>du</td>\n",
       "      <td>du_1</td>\n",
       "      <td>1.0</td>\n",
       "      <td>NaN</td>\n",
       "      <td>NaN</td>\n",
       "      <td>NaN</td>\n",
       "      <td>NaN</td>\n",
       "      <td>NaN</td>\n",
       "      <td>NaN</td>\n",
       "      <td>NaN</td>\n",
       "    </tr>\n",
       "    <tr>\n",
       "      <th>3</th>\n",
       "      <td>1.0</td>\n",
       "      <td>1.0</td>\n",
       "      <td>3.0</td>\n",
       "      <td>in</td>\n",
       "      <td>du</td>\n",
       "      <td>du_1</td>\n",
       "      <td>0.0</td>\n",
       "      <td>551.0</td>\n",
       "      <td>551.0</td>\n",
       "      <td>551.0</td>\n",
       "      <td>1.0</td>\n",
       "      <td>1.0</td>\n",
       "      <td>0.0</td>\n",
       "      <td>0.0</td>\n",
       "    </tr>\n",
       "    <tr>\n",
       "      <th>4</th>\n",
       "      <td>1.0</td>\n",
       "      <td>1.0</td>\n",
       "      <td>4.0</td>\n",
       "      <td>de</td>\n",
       "      <td>du</td>\n",
       "      <td>du_1</td>\n",
       "      <td>1.0</td>\n",
       "      <td>NaN</td>\n",
       "      <td>NaN</td>\n",
       "      <td>NaN</td>\n",
       "      <td>NaN</td>\n",
       "      <td>NaN</td>\n",
       "      <td>NaN</td>\n",
       "      <td>NaN</td>\n",
       "    </tr>\n",
       "    <tr>\n",
       "      <th>5</th>\n",
       "      <td>1.0</td>\n",
       "      <td>1.0</td>\n",
       "      <td>5.0</td>\n",
       "      <td>oude</td>\n",
       "      <td>du</td>\n",
       "      <td>du_1</td>\n",
       "      <td>0.0</td>\n",
       "      <td>189.0</td>\n",
       "      <td>189.0</td>\n",
       "      <td>439.0</td>\n",
       "      <td>1.0</td>\n",
       "      <td>2.0</td>\n",
       "      <td>0.0</td>\n",
       "      <td>1.0</td>\n",
       "    </tr>\n",
       "  </tbody>\n",
       "</table>\n",
       "</div>"
      ],
      "text/plain": [
       "   trialid  sentnum  ianum     ia lang uniform_id  skip  firstfix.dur  \\\n",
       "1      1.0      1.0    1.0  Janus   du       du_1   0.0         154.0   \n",
       "2      1.0      1.0    2.0     is   du       du_1   1.0           NaN   \n",
       "3      1.0      1.0    3.0     in   du       du_1   0.0         551.0   \n",
       "4      1.0      1.0    4.0     de   du       du_1   1.0           NaN   \n",
       "5      1.0      1.0    5.0   oude   du       du_1   0.0         189.0   \n",
       "\n",
       "   firstrun.dur    dur  firstrun.nfix  nfix  refix  reread  \n",
       "1         154.0  400.0            1.0   2.0    0.0     1.0  \n",
       "2           NaN    NaN            NaN   NaN    NaN     NaN  \n",
       "3         551.0  551.0            1.0   1.0    0.0     0.0  \n",
       "4           NaN    NaN            NaN   NaN    NaN     NaN  \n",
       "5         189.0  439.0            1.0   2.0    0.0     1.0  "
      ]
     },
     "execution_count": 4,
     "metadata": {},
     "output_type": "execute_result"
    }
   ],
   "source": [
    "df.head()"
   ]
  },
  {
   "cell_type": "markdown",
   "id": "ea3527c4",
   "metadata": {},
   "source": [
    "## Data Understanding\n",
    "\n",
    "We can notice that there are some Null elements, for the gaze_features except skip, those Null elements are in the rows with skip == 1, representing the fact that cannot be captured."
   ]
  },
  {
   "cell_type": "code",
   "execution_count": 5,
   "id": "61b9b7ff",
   "metadata": {},
   "outputs": [
    {
     "name": "stdout",
     "output_type": "stream",
     "text": [
      "<class 'pandas.core.frame.DataFrame'>\n",
      "Int64Index: 855123 entries, 1 to 855123\n",
      "Data columns (total 14 columns):\n",
      " #   Column         Non-Null Count   Dtype  \n",
      "---  ------         --------------   -----  \n",
      " 0   trialid        855122 non-null  float64\n",
      " 1   sentnum        855122 non-null  float64\n",
      " 2   ianum          855122 non-null  float64\n",
      " 3   ia             854741 non-null  object \n",
      " 4   lang           855122 non-null  object \n",
      " 5   uniform_id     855123 non-null  object \n",
      " 6   skip           855122 non-null  float64\n",
      " 7   firstfix.dur   639530 non-null  float64\n",
      " 8   firstrun.dur   639530 non-null  float64\n",
      " 9   dur            639530 non-null  float64\n",
      " 10  firstrun.nfix  639530 non-null  float64\n",
      " 11  nfix           639530 non-null  float64\n",
      " 12  refix          639454 non-null  float64\n",
      " 13  reread         639530 non-null  float64\n",
      "dtypes: float64(11), object(3)\n",
      "memory usage: 97.9+ MB\n"
     ]
    }
   ],
   "source": [
    "df.info()"
   ]
  },
  {
   "cell_type": "code",
   "execution_count": 6,
   "id": "ced96606",
   "metadata": {},
   "outputs": [
    {
     "data": {
      "text/html": [
       "<div>\n",
       "<style scoped>\n",
       "    .dataframe tbody tr th:only-of-type {\n",
       "        vertical-align: middle;\n",
       "    }\n",
       "\n",
       "    .dataframe tbody tr th {\n",
       "        vertical-align: top;\n",
       "    }\n",
       "\n",
       "    .dataframe thead th {\n",
       "        text-align: right;\n",
       "    }\n",
       "</style>\n",
       "<table border=\"1\" class=\"dataframe\">\n",
       "  <thead>\n",
       "    <tr style=\"text-align: right;\">\n",
       "      <th></th>\n",
       "      <th>trialid</th>\n",
       "      <th>sentnum</th>\n",
       "      <th>ianum</th>\n",
       "      <th>skip</th>\n",
       "      <th>firstfix.dur</th>\n",
       "      <th>firstrun.dur</th>\n",
       "      <th>dur</th>\n",
       "      <th>firstrun.nfix</th>\n",
       "      <th>nfix</th>\n",
       "      <th>refix</th>\n",
       "      <th>reread</th>\n",
       "    </tr>\n",
       "  </thead>\n",
       "  <tbody>\n",
       "    <tr>\n",
       "      <th>count</th>\n",
       "      <td>855122.000000</td>\n",
       "      <td>855122.000000</td>\n",
       "      <td>855122.000000</td>\n",
       "      <td>855122.000000</td>\n",
       "      <td>639530.000000</td>\n",
       "      <td>639530.000000</td>\n",
       "      <td>639530.000000</td>\n",
       "      <td>639530.000000</td>\n",
       "      <td>639530.000000</td>\n",
       "      <td>639454.000000</td>\n",
       "      <td>639530.000000</td>\n",
       "    </tr>\n",
       "    <tr>\n",
       "      <th>mean</th>\n",
       "      <td>6.319812</td>\n",
       "      <td>5.100584</td>\n",
       "      <td>84.710652</td>\n",
       "      <td>0.252118</td>\n",
       "      <td>214.771812</td>\n",
       "      <td>274.000635</td>\n",
       "      <td>396.190598</td>\n",
       "      <td>1.291295</td>\n",
       "      <td>1.870305</td>\n",
       "      <td>0.270565</td>\n",
       "      <td>0.315846</td>\n",
       "    </tr>\n",
       "    <tr>\n",
       "      <th>std</th>\n",
       "      <td>3.440210</td>\n",
       "      <td>2.697842</td>\n",
       "      <td>51.443266</td>\n",
       "      <td>0.434229</td>\n",
       "      <td>94.834265</td>\n",
       "      <td>181.464901</td>\n",
       "      <td>332.095123</td>\n",
       "      <td>0.666067</td>\n",
       "      <td>1.378493</td>\n",
       "      <td>0.444252</td>\n",
       "      <td>0.464852</td>\n",
       "    </tr>\n",
       "    <tr>\n",
       "      <th>min</th>\n",
       "      <td>1.000000</td>\n",
       "      <td>1.000000</td>\n",
       "      <td>1.000000</td>\n",
       "      <td>0.000000</td>\n",
       "      <td>2.000000</td>\n",
       "      <td>2.000000</td>\n",
       "      <td>2.000000</td>\n",
       "      <td>1.000000</td>\n",
       "      <td>1.000000</td>\n",
       "      <td>0.000000</td>\n",
       "      <td>0.000000</td>\n",
       "    </tr>\n",
       "    <tr>\n",
       "      <th>25%</th>\n",
       "      <td>3.000000</td>\n",
       "      <td>3.000000</td>\n",
       "      <td>41.000000</td>\n",
       "      <td>0.000000</td>\n",
       "      <td>156.000000</td>\n",
       "      <td>171.000000</td>\n",
       "      <td>199.000000</td>\n",
       "      <td>1.000000</td>\n",
       "      <td>1.000000</td>\n",
       "      <td>0.000000</td>\n",
       "      <td>0.000000</td>\n",
       "    </tr>\n",
       "    <tr>\n",
       "      <th>50%</th>\n",
       "      <td>6.000000</td>\n",
       "      <td>5.000000</td>\n",
       "      <td>82.000000</td>\n",
       "      <td>0.000000</td>\n",
       "      <td>200.000000</td>\n",
       "      <td>229.000000</td>\n",
       "      <td>297.000000</td>\n",
       "      <td>1.000000</td>\n",
       "      <td>1.000000</td>\n",
       "      <td>0.000000</td>\n",
       "      <td>0.000000</td>\n",
       "    </tr>\n",
       "    <tr>\n",
       "      <th>75%</th>\n",
       "      <td>9.000000</td>\n",
       "      <td>7.000000</td>\n",
       "      <td>124.000000</td>\n",
       "      <td>1.000000</td>\n",
       "      <td>255.000000</td>\n",
       "      <td>324.000000</td>\n",
       "      <td>478.000000</td>\n",
       "      <td>1.000000</td>\n",
       "      <td>2.000000</td>\n",
       "      <td>1.000000</td>\n",
       "      <td>1.000000</td>\n",
       "    </tr>\n",
       "    <tr>\n",
       "      <th>max</th>\n",
       "      <td>12.000000</td>\n",
       "      <td>16.000000</td>\n",
       "      <td>243.000000</td>\n",
       "      <td>1.000000</td>\n",
       "      <td>12688.000000</td>\n",
       "      <td>12688.000000</td>\n",
       "      <td>15579.000000</td>\n",
       "      <td>44.000000</td>\n",
       "      <td>50.000000</td>\n",
       "      <td>1.000000</td>\n",
       "      <td>1.000000</td>\n",
       "    </tr>\n",
       "  </tbody>\n",
       "</table>\n",
       "</div>"
      ],
      "text/plain": [
       "             trialid        sentnum          ianum           skip  \\\n",
       "count  855122.000000  855122.000000  855122.000000  855122.000000   \n",
       "mean        6.319812       5.100584      84.710652       0.252118   \n",
       "std         3.440210       2.697842      51.443266       0.434229   \n",
       "min         1.000000       1.000000       1.000000       0.000000   \n",
       "25%         3.000000       3.000000      41.000000       0.000000   \n",
       "50%         6.000000       5.000000      82.000000       0.000000   \n",
       "75%         9.000000       7.000000     124.000000       1.000000   \n",
       "max        12.000000      16.000000     243.000000       1.000000   \n",
       "\n",
       "        firstfix.dur   firstrun.dur            dur  firstrun.nfix  \\\n",
       "count  639530.000000  639530.000000  639530.000000  639530.000000   \n",
       "mean      214.771812     274.000635     396.190598       1.291295   \n",
       "std        94.834265     181.464901     332.095123       0.666067   \n",
       "min         2.000000       2.000000       2.000000       1.000000   \n",
       "25%       156.000000     171.000000     199.000000       1.000000   \n",
       "50%       200.000000     229.000000     297.000000       1.000000   \n",
       "75%       255.000000     324.000000     478.000000       1.000000   \n",
       "max     12688.000000   12688.000000   15579.000000      44.000000   \n",
       "\n",
       "                nfix          refix         reread  \n",
       "count  639530.000000  639454.000000  639530.000000  \n",
       "mean        1.870305       0.270565       0.315846  \n",
       "std         1.378493       0.444252       0.464852  \n",
       "min         1.000000       0.000000       0.000000  \n",
       "25%         1.000000       0.000000       0.000000  \n",
       "50%         1.000000       0.000000       0.000000  \n",
       "75%         2.000000       1.000000       1.000000  \n",
       "max        50.000000       1.000000       1.000000  "
      ]
     },
     "execution_count": 6,
     "metadata": {},
     "output_type": "execute_result"
    }
   ],
   "source": [
    "df.describe()"
   ]
  },
  {
   "cell_type": "code",
   "execution_count": 7,
   "id": "d8c10415",
   "metadata": {},
   "outputs": [
    {
     "data": {
      "text/plain": [
       "array(['du', 'ee', 'fi', 'ge', 'gr', 'he', 'it', 'ko', 'en', 'no', nan,\n",
       "       'ru', 'sp', 'tr'], dtype=object)"
      ]
     },
     "execution_count": 7,
     "metadata": {},
     "output_type": "execute_result"
    }
   ],
   "source": [
    "df.lang.unique()"
   ]
  },
  {
   "cell_type": "markdown",
   "id": "ec70d7a3",
   "metadata": {},
   "source": [
    "Get a subset of languages, choosen look a the ones handled by mBERT (https://huggingface.co/bert-base-multilingual-cased).\n",
    "\n",
    "- **German**\n",
    "- **Italian**\n",
    "- **Russian**\n",
    "- **English**\n",
    "- **Spanish**"
   ]
  },
  {
   "cell_type": "code",
   "execution_count": 8,
   "id": "2fa714ec",
   "metadata": {},
   "outputs": [],
   "source": [
    "# get only the languages that are necessary to the project\n",
    "supported_languages = [\"ge\", \"it\", \"ru\", \"en\", \"sp\"]"
   ]
  },
  {
   "cell_type": "code",
   "execution_count": 9,
   "id": "b74a6778",
   "metadata": {},
   "outputs": [],
   "source": [
    "df = df[df.lang.isin(supported_languages)]"
   ]
  },
  {
   "cell_type": "code",
   "execution_count": 10,
   "id": "7c780880",
   "metadata": {},
   "outputs": [
    {
     "name": "stdout",
     "output_type": "stream",
     "text": [
      "<class 'pandas.core.frame.DataFrame'>\n",
      "Int64Index: 402904 entries, 193910 to 823179\n",
      "Data columns (total 14 columns):\n",
      " #   Column         Non-Null Count   Dtype  \n",
      "---  ------         --------------   -----  \n",
      " 0   trialid        402904 non-null  float64\n",
      " 1   sentnum        402904 non-null  float64\n",
      " 2   ianum          402904 non-null  float64\n",
      " 3   ia             402834 non-null  object \n",
      " 4   lang           402904 non-null  object \n",
      " 5   uniform_id     402904 non-null  object \n",
      " 6   skip           402904 non-null  float64\n",
      " 7   firstfix.dur   292582 non-null  float64\n",
      " 8   firstrun.dur   292582 non-null  float64\n",
      " 9   dur            292582 non-null  float64\n",
      " 10  firstrun.nfix  292582 non-null  float64\n",
      " 11  nfix           292582 non-null  float64\n",
      " 12  refix          292539 non-null  float64\n",
      " 13  reread         292582 non-null  float64\n",
      "dtypes: float64(11), object(3)\n",
      "memory usage: 46.1+ MB\n"
     ]
    }
   ],
   "source": [
    "df.info()"
   ]
  },
  {
   "cell_type": "code",
   "execution_count": 11,
   "id": "09d51c2d",
   "metadata": {},
   "outputs": [
    {
     "data": {
      "text/html": [
       "<div>\n",
       "<style scoped>\n",
       "    .dataframe tbody tr th:only-of-type {\n",
       "        vertical-align: middle;\n",
       "    }\n",
       "\n",
       "    .dataframe tbody tr th {\n",
       "        vertical-align: top;\n",
       "    }\n",
       "\n",
       "    .dataframe thead th {\n",
       "        text-align: right;\n",
       "    }\n",
       "</style>\n",
       "<table border=\"1\" class=\"dataframe\">\n",
       "  <thead>\n",
       "    <tr style=\"text-align: right;\">\n",
       "      <th></th>\n",
       "      <th>trialid</th>\n",
       "      <th>sentnum</th>\n",
       "      <th>ianum</th>\n",
       "      <th>ia</th>\n",
       "      <th>lang</th>\n",
       "      <th>uniform_id</th>\n",
       "      <th>skip</th>\n",
       "      <th>firstfix.dur</th>\n",
       "      <th>firstrun.dur</th>\n",
       "      <th>dur</th>\n",
       "      <th>firstrun.nfix</th>\n",
       "      <th>nfix</th>\n",
       "      <th>refix</th>\n",
       "      <th>reread</th>\n",
       "    </tr>\n",
       "  </thead>\n",
       "  <tbody>\n",
       "    <tr>\n",
       "      <th>193910</th>\n",
       "      <td>1.0</td>\n",
       "      <td>1.0</td>\n",
       "      <td>1.0</td>\n",
       "      <td>In</td>\n",
       "      <td>ge</td>\n",
       "      <td>ge_1</td>\n",
       "      <td>0.0</td>\n",
       "      <td>164.0</td>\n",
       "      <td>164.0</td>\n",
       "      <td>164.0</td>\n",
       "      <td>1.0</td>\n",
       "      <td>1.0</td>\n",
       "      <td>0.0</td>\n",
       "      <td>0.0</td>\n",
       "    </tr>\n",
       "    <tr>\n",
       "      <th>193911</th>\n",
       "      <td>1.0</td>\n",
       "      <td>1.0</td>\n",
       "      <td>2.0</td>\n",
       "      <td>der</td>\n",
       "      <td>ge</td>\n",
       "      <td>ge_1</td>\n",
       "      <td>0.0</td>\n",
       "      <td>166.0</td>\n",
       "      <td>166.0</td>\n",
       "      <td>657.0</td>\n",
       "      <td>1.0</td>\n",
       "      <td>3.0</td>\n",
       "      <td>0.0</td>\n",
       "      <td>1.0</td>\n",
       "    </tr>\n",
       "    <tr>\n",
       "      <th>193912</th>\n",
       "      <td>1.0</td>\n",
       "      <td>1.0</td>\n",
       "      <td>3.0</td>\n",
       "      <td>alten</td>\n",
       "      <td>ge</td>\n",
       "      <td>ge_1</td>\n",
       "      <td>0.0</td>\n",
       "      <td>144.0</td>\n",
       "      <td>144.0</td>\n",
       "      <td>717.0</td>\n",
       "      <td>1.0</td>\n",
       "      <td>3.0</td>\n",
       "      <td>0.0</td>\n",
       "      <td>1.0</td>\n",
       "    </tr>\n",
       "    <tr>\n",
       "      <th>193913</th>\n",
       "      <td>1.0</td>\n",
       "      <td>1.0</td>\n",
       "      <td>4.0</td>\n",
       "      <td>römischen</td>\n",
       "      <td>ge</td>\n",
       "      <td>ge_1</td>\n",
       "      <td>0.0</td>\n",
       "      <td>219.0</td>\n",
       "      <td>219.0</td>\n",
       "      <td>1231.0</td>\n",
       "      <td>1.0</td>\n",
       "      <td>6.0</td>\n",
       "      <td>0.0</td>\n",
       "      <td>1.0</td>\n",
       "    </tr>\n",
       "    <tr>\n",
       "      <th>193914</th>\n",
       "      <td>1.0</td>\n",
       "      <td>1.0</td>\n",
       "      <td>5.0</td>\n",
       "      <td>Religion</td>\n",
       "      <td>ge</td>\n",
       "      <td>ge_1</td>\n",
       "      <td>0.0</td>\n",
       "      <td>151.0</td>\n",
       "      <td>151.0</td>\n",
       "      <td>1338.0</td>\n",
       "      <td>1.0</td>\n",
       "      <td>8.0</td>\n",
       "      <td>1.0</td>\n",
       "      <td>1.0</td>\n",
       "    </tr>\n",
       "  </tbody>\n",
       "</table>\n",
       "</div>"
      ],
      "text/plain": [
       "        trialid  sentnum  ianum         ia lang uniform_id  skip  \\\n",
       "193910      1.0      1.0    1.0         In   ge       ge_1   0.0   \n",
       "193911      1.0      1.0    2.0        der   ge       ge_1   0.0   \n",
       "193912      1.0      1.0    3.0      alten   ge       ge_1   0.0   \n",
       "193913      1.0      1.0    4.0  römischen   ge       ge_1   0.0   \n",
       "193914      1.0      1.0    5.0   Religion   ge       ge_1   0.0   \n",
       "\n",
       "        firstfix.dur  firstrun.dur     dur  firstrun.nfix  nfix  refix  reread  \n",
       "193910         164.0         164.0   164.0            1.0   1.0    0.0     0.0  \n",
       "193911         166.0         166.0   657.0            1.0   3.0    0.0     1.0  \n",
       "193912         144.0         144.0   717.0            1.0   3.0    0.0     1.0  \n",
       "193913         219.0         219.0  1231.0            1.0   6.0    0.0     1.0  \n",
       "193914         151.0         151.0  1338.0            1.0   8.0    1.0     1.0  "
      ]
     },
     "execution_count": 11,
     "metadata": {},
     "output_type": "execute_result"
    }
   ],
   "source": [
    "df.head()"
   ]
  },
  {
   "cell_type": "markdown",
   "id": "2b1bc1b0",
   "metadata": {},
   "source": [
    "Notice that in the samples' gaze_features with skip == 0 there aren't Null elements."
   ]
  },
  {
   "cell_type": "code",
   "execution_count": 12,
   "id": "c524913c",
   "metadata": {},
   "outputs": [
    {
     "name": "stdout",
     "output_type": "stream",
     "text": [
      "<class 'pandas.core.frame.DataFrame'>\n",
      "Int64Index: 292582 entries, 193910 to 823178\n",
      "Data columns (total 14 columns):\n",
      " #   Column         Non-Null Count   Dtype  \n",
      "---  ------         --------------   -----  \n",
      " 0   trialid        292582 non-null  float64\n",
      " 1   sentnum        292582 non-null  float64\n",
      " 2   ianum          292582 non-null  float64\n",
      " 3   ia             292575 non-null  object \n",
      " 4   lang           292582 non-null  object \n",
      " 5   uniform_id     292582 non-null  object \n",
      " 6   skip           292582 non-null  float64\n",
      " 7   firstfix.dur   292582 non-null  float64\n",
      " 8   firstrun.dur   292582 non-null  float64\n",
      " 9   dur            292582 non-null  float64\n",
      " 10  firstrun.nfix  292582 non-null  float64\n",
      " 11  nfix           292582 non-null  float64\n",
      " 12  refix          292539 non-null  float64\n",
      " 13  reread         292582 non-null  float64\n",
      "dtypes: float64(11), object(3)\n",
      "memory usage: 33.5+ MB\n"
     ]
    }
   ],
   "source": [
    "df[df.skip==0].info()"
   ]
  },
  {
   "cell_type": "code",
   "execution_count": 13,
   "id": "69d18f33",
   "metadata": {},
   "outputs": [
    {
     "name": "stdout",
     "output_type": "stream",
     "text": [
      "<class 'pandas.core.frame.DataFrame'>\n",
      "Int64Index: 110322 entries, 193926 to 823179\n",
      "Data columns (total 14 columns):\n",
      " #   Column         Non-Null Count   Dtype  \n",
      "---  ------         --------------   -----  \n",
      " 0   trialid        110322 non-null  float64\n",
      " 1   sentnum        110322 non-null  float64\n",
      " 2   ianum          110322 non-null  float64\n",
      " 3   ia             110259 non-null  object \n",
      " 4   lang           110322 non-null  object \n",
      " 5   uniform_id     110322 non-null  object \n",
      " 6   skip           110322 non-null  float64\n",
      " 7   firstfix.dur   0 non-null       float64\n",
      " 8   firstrun.dur   0 non-null       float64\n",
      " 9   dur            0 non-null       float64\n",
      " 10  firstrun.nfix  0 non-null       float64\n",
      " 11  nfix           0 non-null       float64\n",
      " 12  refix          0 non-null       float64\n",
      " 13  reread         0 non-null       float64\n",
      "dtypes: float64(11), object(3)\n",
      "memory usage: 12.6+ MB\n"
     ]
    }
   ],
   "source": [
    "df[df.skip==1].info()"
   ]
  },
  {
   "cell_type": "markdown",
   "id": "42ef3995",
   "metadata": {},
   "source": [
    "Even more, there are some ia elements that are Null, we can see that most of them have lot of Null elements, so we can drop them."
   ]
  },
  {
   "cell_type": "code",
   "execution_count": 14,
   "id": "179c37b8",
   "metadata": {},
   "outputs": [
    {
     "name": "stdout",
     "output_type": "stream",
     "text": [
      "Probabilities of Null elements by columns, for the Null ia\n"
     ]
    },
    {
     "data": {
      "text/plain": [
       "trialid          0.0\n",
       "sentnum          0.0\n",
       "ianum            0.0\n",
       "ia               1.0\n",
       "lang             0.0\n",
       "uniform_id       0.0\n",
       "skip             0.0\n",
       "firstfix.dur     0.9\n",
       "firstrun.dur     0.9\n",
       "dur              0.9\n",
       "firstrun.nfix    0.9\n",
       "nfix             0.9\n",
       "refix            0.9\n",
       "reread           0.9\n",
       "dtype: float64"
      ]
     },
     "execution_count": 14,
     "metadata": {},
     "output_type": "execute_result"
    }
   ],
   "source": [
    "print(\"Probabilities of Null elements by columns, for the Null ia\")\n",
    "df[df.ia.isna()].isna().sum()/df[df.ia.isna()].shape[0]"
   ]
  },
  {
   "cell_type": "code",
   "execution_count": 15,
   "id": "59ccaa11",
   "metadata": {},
   "outputs": [],
   "source": [
    "df = df[~df.ia.isna()]"
   ]
  },
  {
   "cell_type": "markdown",
   "id": "5d314e67",
   "metadata": {},
   "source": [
    "Fill gaze features of the skipped words with 0."
   ]
  },
  {
   "cell_type": "code",
   "execution_count": 16,
   "id": "d343b9c2",
   "metadata": {},
   "outputs": [],
   "source": [
    "df = df.fillna(0)"
   ]
  },
  {
   "cell_type": "code",
   "execution_count": 17,
   "id": "1a98595d",
   "metadata": {},
   "outputs": [
    {
     "name": "stdout",
     "output_type": "stream",
     "text": [
      "<class 'pandas.core.frame.DataFrame'>\n",
      "Int64Index: 402834 entries, 193910 to 823179\n",
      "Data columns (total 14 columns):\n",
      " #   Column         Non-Null Count   Dtype  \n",
      "---  ------         --------------   -----  \n",
      " 0   trialid        402834 non-null  float64\n",
      " 1   sentnum        402834 non-null  float64\n",
      " 2   ianum          402834 non-null  float64\n",
      " 3   ia             402834 non-null  object \n",
      " 4   lang           402834 non-null  object \n",
      " 5   uniform_id     402834 non-null  object \n",
      " 6   skip           402834 non-null  float64\n",
      " 7   firstfix.dur   402834 non-null  float64\n",
      " 8   firstrun.dur   402834 non-null  float64\n",
      " 9   dur            402834 non-null  float64\n",
      " 10  firstrun.nfix  402834 non-null  float64\n",
      " 11  nfix           402834 non-null  float64\n",
      " 12  refix          402834 non-null  float64\n",
      " 13  reread         402834 non-null  float64\n",
      "dtypes: float64(11), object(3)\n",
      "memory usage: 46.1+ MB\n"
     ]
    }
   ],
   "source": [
    "df.info()"
   ]
  },
  {
   "cell_type": "code",
   "execution_count": 18,
   "id": "0b2e8d8e",
   "metadata": {
    "scrolled": true
   },
   "outputs": [
    {
     "data": {
      "text/html": [
       "<div>\n",
       "<style scoped>\n",
       "    .dataframe tbody tr th:only-of-type {\n",
       "        vertical-align: middle;\n",
       "    }\n",
       "\n",
       "    .dataframe tbody tr th {\n",
       "        vertical-align: top;\n",
       "    }\n",
       "\n",
       "    .dataframe thead th {\n",
       "        text-align: right;\n",
       "    }\n",
       "</style>\n",
       "<table border=\"1\" class=\"dataframe\">\n",
       "  <thead>\n",
       "    <tr style=\"text-align: right;\">\n",
       "      <th></th>\n",
       "      <th>skip</th>\n",
       "      <th>firstrun.dur</th>\n",
       "      <th>dur</th>\n",
       "      <th>firstrun.nfix</th>\n",
       "      <th>nfix</th>\n",
       "      <th>refix</th>\n",
       "      <th>reread</th>\n",
       "    </tr>\n",
       "  </thead>\n",
       "  <tbody>\n",
       "    <tr>\n",
       "      <th>skip</th>\n",
       "      <td>1.000000</td>\n",
       "      <td>-0.652214</td>\n",
       "      <td>-0.543305</td>\n",
       "      <td>-0.741110</td>\n",
       "      <td>-0.587836</td>\n",
       "      <td>-0.287592</td>\n",
       "      <td>-0.333861</td>\n",
       "    </tr>\n",
       "    <tr>\n",
       "      <th>firstrun.dur</th>\n",
       "      <td>-0.652214</td>\n",
       "      <td>1.000000</td>\n",
       "      <td>0.720569</td>\n",
       "      <td>0.860484</td>\n",
       "      <td>0.616886</td>\n",
       "      <td>0.554956</td>\n",
       "      <td>0.224649</td>\n",
       "    </tr>\n",
       "    <tr>\n",
       "      <th>dur</th>\n",
       "      <td>-0.543305</td>\n",
       "      <td>0.720569</td>\n",
       "      <td>1.000000</td>\n",
       "      <td>0.648870</td>\n",
       "      <td>0.923882</td>\n",
       "      <td>0.555678</td>\n",
       "      <td>0.629876</td>\n",
       "    </tr>\n",
       "    <tr>\n",
       "      <th>firstrun.nfix</th>\n",
       "      <td>-0.741110</td>\n",
       "      <td>0.860484</td>\n",
       "      <td>0.648870</td>\n",
       "      <td>1.000000</td>\n",
       "      <td>0.712458</td>\n",
       "      <td>0.682079</td>\n",
       "      <td>0.256612</td>\n",
       "    </tr>\n",
       "    <tr>\n",
       "      <th>nfix</th>\n",
       "      <td>-0.587836</td>\n",
       "      <td>0.616886</td>\n",
       "      <td>0.923882</td>\n",
       "      <td>0.712458</td>\n",
       "      <td>1.000000</td>\n",
       "      <td>0.631961</td>\n",
       "      <td>0.685371</td>\n",
       "    </tr>\n",
       "    <tr>\n",
       "      <th>refix</th>\n",
       "      <td>-0.287592</td>\n",
       "      <td>0.554956</td>\n",
       "      <td>0.555678</td>\n",
       "      <td>0.682079</td>\n",
       "      <td>0.631961</td>\n",
       "      <td>1.000000</td>\n",
       "      <td>0.249470</td>\n",
       "    </tr>\n",
       "    <tr>\n",
       "      <th>reread</th>\n",
       "      <td>-0.333861</td>\n",
       "      <td>0.224649</td>\n",
       "      <td>0.629876</td>\n",
       "      <td>0.256612</td>\n",
       "      <td>0.685371</td>\n",
       "      <td>0.249470</td>\n",
       "      <td>1.000000</td>\n",
       "    </tr>\n",
       "  </tbody>\n",
       "</table>\n",
       "</div>"
      ],
      "text/plain": [
       "                   skip  firstrun.dur       dur  firstrun.nfix      nfix  \\\n",
       "skip           1.000000     -0.652214 -0.543305      -0.741110 -0.587836   \n",
       "firstrun.dur  -0.652214      1.000000  0.720569       0.860484  0.616886   \n",
       "dur           -0.543305      0.720569  1.000000       0.648870  0.923882   \n",
       "firstrun.nfix -0.741110      0.860484  0.648870       1.000000  0.712458   \n",
       "nfix          -0.587836      0.616886  0.923882       0.712458  1.000000   \n",
       "refix         -0.287592      0.554956  0.555678       0.682079  0.631961   \n",
       "reread        -0.333861      0.224649  0.629876       0.256612  0.685371   \n",
       "\n",
       "                  refix    reread  \n",
       "skip          -0.287592 -0.333861  \n",
       "firstrun.dur   0.554956  0.224649  \n",
       "dur            0.555678  0.629876  \n",
       "firstrun.nfix  0.682079  0.256612  \n",
       "nfix           0.631961  0.685371  \n",
       "refix          1.000000  0.249470  \n",
       "reread         0.249470  1.000000  "
      ]
     },
     "execution_count": 18,
     "metadata": {},
     "output_type": "execute_result"
    }
   ],
   "source": [
    "df[[\"skip\", \"firstrun.dur\", \"dur\", \"firstrun.nfix\", \"nfix\", \"refix\", \"reread\"]].corr()"
   ]
  },
  {
   "cell_type": "code",
   "execution_count": 19,
   "id": "2040a8c4",
   "metadata": {},
   "outputs": [],
   "source": [
    "def group_by_users(dataset):\n",
    "    group_by_cols = [\"trialid\", \"sentnum\", \"ianum\", \"ia\", \"lang\"]\n",
    "    grouped_cols = [\"skip\", \"firstfix.dur\", \"firstrun.dur\", \"dur\", \"firstrun.nfix\", \"nfix\", \"refix\", \"reread\"]\n",
    "\n",
    "    grouped_clusterd_df = dataset.groupby(group_by_cols)[grouped_cols].mean()\n",
    "\n",
    "    grouped_clusterd_df = grouped_clusterd_df.reset_index(level=0).reset_index(level=0).reset_index(level=0).reset_index(level=0).reset_index(level=0)\n",
    "\n",
    "    grouped_clusterd_df[\"trial_sentnum\"] = grouped_clusterd_df[\"sentnum\"]\n",
    "    grouped_clusterd_df[\"sentnum\"] = grouped_clusterd_df[\"sentnum\"].astype(\"string\") + grouped_clusterd_df[\"trialid\"].astype(\"string\") + grouped_clusterd_df[\"lang\"].astype(\"string\")\n",
    "    grouped_clusterd_df.sentnum = grouped_clusterd_df.sentnum.astype('category').cat.codes\n",
    "\n",
    "    word_func = lambda s: [w for w in s[\"ia\"].values.tolist()]\n",
    "    sentences = grouped_clusterd_df.groupby(\"sentnum\").apply(word_func).tolist()\n",
    "    print(f\"Number of sentence after group : {len(sentences)}\")\n",
    "\n",
    "    return grouped_clusterd_df"
   ]
  },
  {
   "cell_type": "markdown",
   "id": "0b5d5000",
   "metadata": {},
   "source": [
    "## Clean Users\n",
    "\n",
    "Getting the users who are in all the trial"
   ]
  },
  {
   "cell_type": "code",
   "execution_count": 20,
   "id": "5a6f57a0",
   "metadata": {},
   "outputs": [
    {
     "name": "stdout",
     "output_type": "stream",
     "text": [
      "Number of total readers in the dataset 239\n"
     ]
    }
   ],
   "source": [
    "print(f\"Number of total readers in the dataset {len(set(df.uniform_id.unique()))}\")"
   ]
  },
  {
   "cell_type": "code",
   "execution_count": 21,
   "id": "cf682396",
   "metadata": {},
   "outputs": [
    {
     "name": "stdout",
     "output_type": "stream",
     "text": [
      "Number of different users in trial 1 : 188\n",
      "Number of different users in trial 2 : 190\n",
      "Number of different users in trial 3 : 200\n",
      "Number of different users in trial 4 : 198\n",
      "Number of different users in trial 5 : 191\n",
      "Number of different users in trial 6 : 187\n",
      "Number of different users in trial 7 : 197\n",
      "Number of different users in trial 8 : 183\n",
      "Number of different users in trial 9 : 194\n",
      "Number of different users in trial 10 : 186\n",
      "Number of different users in trial 11 : 203\n",
      "Number of different users in trial 12 : 182\n"
     ]
    }
   ],
   "source": [
    "# not all the readers appear in all the trial\n",
    "\n",
    "trial_readers = df.groupby(\"trialid\").uniform_id.unique()\n",
    "\n",
    "for i, trial in enumerate(trial_readers):\n",
    "    print(f\"Number of different users in trial {i+1} : {len(trial)}\")"
   ]
  },
  {
   "cell_type": "code",
   "execution_count": 22,
   "id": "4c391346",
   "metadata": {},
   "outputs": [],
   "source": [
    "sets_trial_readers = []\n",
    "for trial in trial_readers:\n",
    "    sets_trial_readers.append(set(trial))\n",
    "\n",
    "common_users = set.intersection(*sets_trial_readers)"
   ]
  },
  {
   "cell_type": "code",
   "execution_count": 23,
   "id": "628ef4cb",
   "metadata": {},
   "outputs": [
    {
     "name": "stdout",
     "output_type": "stream",
     "text": [
      "Number of users that are in all trials 69\n"
     ]
    }
   ],
   "source": [
    "print(f\"Number of users that are in all trials {len(set(common_users))}\")"
   ]
  },
  {
   "cell_type": "code",
   "execution_count": 24,
   "id": "3c351ff5",
   "metadata": {},
   "outputs": [
    {
     "name": "stdout",
     "output_type": "stream",
     "text": [
      "Number of sentence after group : 503\n"
     ]
    }
   ],
   "source": [
    "# count the sentences of the users present in all the trials\n",
    "grouped_clusterd_df_2 = group_by_users(df[df.uniform_id.isin(common_users)])"
   ]
  },
  {
   "cell_type": "code",
   "execution_count": 25,
   "id": "50999c8c",
   "metadata": {},
   "outputs": [
    {
     "data": {
      "text/plain": [
       "(10489, 14)"
      ]
     },
     "execution_count": 25,
     "metadata": {},
     "output_type": "execute_result"
    }
   ],
   "source": [
    "grouped_clusterd_df_2.shape"
   ]
  },
  {
   "cell_type": "markdown",
   "id": "b3178f5a",
   "metadata": {},
   "source": [
    "---\n",
    "Getting the Participants who have read all the token in all sentences in each trial"
   ]
  },
  {
   "cell_type": "code",
   "execution_count": 26,
   "id": "1ca0f389",
   "metadata": {},
   "outputs": [],
   "source": [
    "# Getting the Participants who have read all sentences in each trial,\n",
    "# all the users that have read all the text in the trial where they are\n",
    "\n",
    "uncomplete_users = set()\n",
    "\n",
    "for i in df.trialid.unique():\n",
    "    \n",
    "    df_trial = df[df.trialid==i]\n",
    "        \n",
    "    for lang in df.lang.unique():\n",
    "        \n",
    "        df_lang_trial = df_trial[df_trial.lang == lang]\n",
    "        \n",
    "        total_sentences_trial = set(df_lang_trial.sentnum.unique())\n",
    "        \n",
    "        for user, sentences in df_lang_trial.groupby(\"uniform_id\").sentnum.unique().items():\n",
    "            if set(sentences) != total_sentences_trial:\n",
    "                uncomplete_users.add(user)\n",
    "                \n",
    "complete_users = set(df.uniform_id.unique()) - uncomplete_users"
   ]
  },
  {
   "cell_type": "code",
   "execution_count": 27,
   "id": "e0f8e97a",
   "metadata": {},
   "outputs": [
    {
     "name": "stdout",
     "output_type": "stream",
     "text": [
      "Number of the users that have read all the sentences in the trial where they are 171\n"
     ]
    }
   ],
   "source": [
    "print(f\"Number of the users that have read all the sentences in the trial where they are {len(complete_users)}\")"
   ]
  },
  {
   "cell_type": "code",
   "execution_count": 28,
   "id": "abb9416f",
   "metadata": {},
   "outputs": [
    {
     "name": "stdout",
     "output_type": "stream",
     "text": [
      "Number of sentence after group : 491\n"
     ]
    }
   ],
   "source": [
    "# count the sentences of the users that read all the sentences in all the trials where they are\n",
    "\n",
    "grouped_clusterd_df_3 = group_by_users(df[df.uniform_id.isin(complete_users)])"
   ]
  },
  {
   "cell_type": "code",
   "execution_count": 29,
   "id": "850dbf29",
   "metadata": {},
   "outputs": [
    {
     "data": {
      "text/plain": [
       "(10210, 14)"
      ]
     },
     "execution_count": 29,
     "metadata": {},
     "output_type": "execute_result"
    }
   ],
   "source": [
    "grouped_clusterd_df_3.shape"
   ]
  },
  {
   "cell_type": "markdown",
   "id": "0706fc7d",
   "metadata": {},
   "source": [
    "---\n",
    "\n",
    "Intersect the common and complete users"
   ]
  },
  {
   "cell_type": "code",
   "execution_count": 30,
   "id": "eed1a638",
   "metadata": {},
   "outputs": [],
   "source": [
    "complete_common_users = complete_users.intersection(common_users)"
   ]
  },
  {
   "cell_type": "code",
   "execution_count": 31,
   "id": "532133a2",
   "metadata": {},
   "outputs": [
    {
     "name": "stdout",
     "output_type": "stream",
     "text": [
      "Number of the users that have read all the sentences in the trials 36\n"
     ]
    }
   ],
   "source": [
    "print(f\"Number of the users that have read all the sentences in the trials {len(complete_common_users)}\")"
   ]
  },
  {
   "cell_type": "code",
   "execution_count": 32,
   "id": "78641b4d",
   "metadata": {},
   "outputs": [
    {
     "data": {
      "text/plain": [
       "{'ge_1',\n",
       " 'ge_10',\n",
       " 'ge_12',\n",
       " 'ge_13',\n",
       " 'ge_17',\n",
       " 'ge_3',\n",
       " 'ge_30',\n",
       " 'ge_32',\n",
       " 'ge_37',\n",
       " 'ge_39',\n",
       " 'ge_41',\n",
       " 'ge_47',\n",
       " 'ge_53',\n",
       " 'ge_6',\n",
       " 'ge_8',\n",
       " 'ge_9',\n",
       " 'it_11',\n",
       " 'it_13',\n",
       " 'it_17',\n",
       " 'it_21',\n",
       " 'it_26',\n",
       " 'it_3',\n",
       " 'it_36',\n",
       " 'it_37',\n",
       " 'it_48',\n",
       " 'sp_18',\n",
       " 'sp_34',\n",
       " 'sp_37',\n",
       " 'sp_38',\n",
       " 'sp_4',\n",
       " 'sp_42',\n",
       " 'sp_48',\n",
       " 'sp_51',\n",
       " 'sp_54',\n",
       " 'sp_56',\n",
       " 'sp_61'}"
      ]
     },
     "execution_count": 32,
     "metadata": {},
     "output_type": "execute_result"
    }
   ],
   "source": [
    "complete_common_users"
   ]
  },
  {
   "cell_type": "code",
   "execution_count": 33,
   "id": "c720ed07",
   "metadata": {},
   "outputs": [
    {
     "name": "stdout",
     "output_type": "stream",
     "text": [
      "Number of sentence after group : 303\n"
     ]
    }
   ],
   "source": [
    "# count the sentences of the users that read all the sentences in all the trials\n",
    "\n",
    "grouped_clusterd_df_4 = group_by_users(df[df.uniform_id.isin(complete_common_users)])"
   ]
  },
  {
   "cell_type": "code",
   "execution_count": 34,
   "id": "c845bc14",
   "metadata": {},
   "outputs": [
    {
     "data": {
      "text/plain": [
       "(6551, 14)"
      ]
     },
     "execution_count": 34,
     "metadata": {},
     "output_type": "execute_result"
    }
   ],
   "source": [
    "grouped_clusterd_df_4.shape"
   ]
  },
  {
   "cell_type": "code",
   "execution_count": 35,
   "id": "43420948",
   "metadata": {},
   "outputs": [],
   "source": [
    "df_complete_common_user = df[df.uniform_id.isin(complete_common_users)]"
   ]
  },
  {
   "cell_type": "markdown",
   "id": "e429c561",
   "metadata": {},
   "source": [
    "## Group by users"
   ]
  },
  {
   "cell_type": "markdown",
   "id": "8b8f3388",
   "metadata": {},
   "source": [
    "### En\n",
    "Even the English users doesent are in the complete common set, we will create meaning all the english user, to have a kind of baseline for the english lang for our experiments, since it is the most used language."
   ]
  },
  {
   "cell_type": "code",
   "execution_count": 36,
   "id": "92065983",
   "metadata": {},
   "outputs": [],
   "source": [
    "df_en = df[df.lang == \"en\"]"
   ]
  },
  {
   "cell_type": "code",
   "execution_count": 37,
   "id": "155b5312",
   "metadata": {},
   "outputs": [
    {
     "data": {
      "text/html": [
       "<div>\n",
       "<style scoped>\n",
       "    .dataframe tbody tr th:only-of-type {\n",
       "        vertical-align: middle;\n",
       "    }\n",
       "\n",
       "    .dataframe tbody tr th {\n",
       "        vertical-align: top;\n",
       "    }\n",
       "\n",
       "    .dataframe thead th {\n",
       "        text-align: right;\n",
       "    }\n",
       "</style>\n",
       "<table border=\"1\" class=\"dataframe\">\n",
       "  <thead>\n",
       "    <tr style=\"text-align: right;\">\n",
       "      <th></th>\n",
       "      <th>trialid</th>\n",
       "      <th>sentnum</th>\n",
       "      <th>ianum</th>\n",
       "      <th>ia</th>\n",
       "      <th>lang</th>\n",
       "      <th>uniform_id</th>\n",
       "      <th>skip</th>\n",
       "      <th>firstfix.dur</th>\n",
       "      <th>firstrun.dur</th>\n",
       "      <th>dur</th>\n",
       "      <th>firstrun.nfix</th>\n",
       "      <th>nfix</th>\n",
       "      <th>refix</th>\n",
       "      <th>reread</th>\n",
       "    </tr>\n",
       "  </thead>\n",
       "  <tbody>\n",
       "    <tr>\n",
       "      <th>520174</th>\n",
       "      <td>1.0</td>\n",
       "      <td>1.0</td>\n",
       "      <td>1.0</td>\n",
       "      <td>In</td>\n",
       "      <td>en</td>\n",
       "      <td>en_3</td>\n",
       "      <td>0.0</td>\n",
       "      <td>154.0</td>\n",
       "      <td>154.0</td>\n",
       "      <td>154.0</td>\n",
       "      <td>1.0</td>\n",
       "      <td>1.0</td>\n",
       "      <td>0.0</td>\n",
       "      <td>0.0</td>\n",
       "    </tr>\n",
       "    <tr>\n",
       "      <th>520175</th>\n",
       "      <td>1.0</td>\n",
       "      <td>1.0</td>\n",
       "      <td>2.0</td>\n",
       "      <td>ancient</td>\n",
       "      <td>en</td>\n",
       "      <td>en_3</td>\n",
       "      <td>0.0</td>\n",
       "      <td>139.0</td>\n",
       "      <td>550.0</td>\n",
       "      <td>550.0</td>\n",
       "      <td>3.0</td>\n",
       "      <td>3.0</td>\n",
       "      <td>1.0</td>\n",
       "      <td>0.0</td>\n",
       "    </tr>\n",
       "    <tr>\n",
       "      <th>520176</th>\n",
       "      <td>1.0</td>\n",
       "      <td>1.0</td>\n",
       "      <td>3.0</td>\n",
       "      <td>Roman</td>\n",
       "      <td>en</td>\n",
       "      <td>en_3</td>\n",
       "      <td>0.0</td>\n",
       "      <td>90.0</td>\n",
       "      <td>274.0</td>\n",
       "      <td>274.0</td>\n",
       "      <td>2.0</td>\n",
       "      <td>2.0</td>\n",
       "      <td>0.0</td>\n",
       "      <td>0.0</td>\n",
       "    </tr>\n",
       "    <tr>\n",
       "      <th>520177</th>\n",
       "      <td>1.0</td>\n",
       "      <td>1.0</td>\n",
       "      <td>4.0</td>\n",
       "      <td>religion</td>\n",
       "      <td>en</td>\n",
       "      <td>en_3</td>\n",
       "      <td>0.0</td>\n",
       "      <td>301.0</td>\n",
       "      <td>301.0</td>\n",
       "      <td>301.0</td>\n",
       "      <td>1.0</td>\n",
       "      <td>1.0</td>\n",
       "      <td>0.0</td>\n",
       "      <td>0.0</td>\n",
       "    </tr>\n",
       "    <tr>\n",
       "      <th>520178</th>\n",
       "      <td>1.0</td>\n",
       "      <td>1.0</td>\n",
       "      <td>5.0</td>\n",
       "      <td>and</td>\n",
       "      <td>en</td>\n",
       "      <td>en_3</td>\n",
       "      <td>0.0</td>\n",
       "      <td>270.0</td>\n",
       "      <td>270.0</td>\n",
       "      <td>542.0</td>\n",
       "      <td>1.0</td>\n",
       "      <td>2.0</td>\n",
       "      <td>0.0</td>\n",
       "      <td>1.0</td>\n",
       "    </tr>\n",
       "  </tbody>\n",
       "</table>\n",
       "</div>"
      ],
      "text/plain": [
       "        trialid  sentnum  ianum        ia lang uniform_id  skip  firstfix.dur  \\\n",
       "520174      1.0      1.0    1.0        In   en       en_3   0.0         154.0   \n",
       "520175      1.0      1.0    2.0   ancient   en       en_3   0.0         139.0   \n",
       "520176      1.0      1.0    3.0     Roman   en       en_3   0.0          90.0   \n",
       "520177      1.0      1.0    4.0  religion   en       en_3   0.0         301.0   \n",
       "520178      1.0      1.0    5.0       and   en       en_3   0.0         270.0   \n",
       "\n",
       "        firstrun.dur    dur  firstrun.nfix  nfix  refix  reread  \n",
       "520174         154.0  154.0            1.0   1.0    0.0     0.0  \n",
       "520175         550.0  550.0            3.0   3.0    1.0     0.0  \n",
       "520176         274.0  274.0            2.0   2.0    0.0     0.0  \n",
       "520177         301.0  301.0            1.0   1.0    0.0     0.0  \n",
       "520178         270.0  542.0            1.0   2.0    0.0     1.0  "
      ]
     },
     "execution_count": 37,
     "metadata": {},
     "output_type": "execute_result"
    }
   ],
   "source": [
    "df_en.head()"
   ]
  },
  {
   "cell_type": "code",
   "execution_count": 38,
   "id": "657738f8",
   "metadata": {},
   "outputs": [
    {
     "name": "stdout",
     "output_type": "stream",
     "text": [
      "Number of sentence after group : 101\n"
     ]
    }
   ],
   "source": [
    "grouped_clusterd_df_0_en = group_by_users(df_en)"
   ]
  },
  {
   "cell_type": "code",
   "execution_count": 39,
   "id": "635869fe",
   "metadata": {},
   "outputs": [
    {
     "data": {
      "text/plain": [
       "(2341, 14)"
      ]
     },
     "execution_count": 39,
     "metadata": {},
     "output_type": "execute_result"
    }
   ],
   "source": [
    "grouped_clusterd_df_0_en.shape"
   ]
  },
  {
   "cell_type": "code",
   "execution_count": 40,
   "id": "6c449dc6",
   "metadata": {},
   "outputs": [],
   "source": [
    "grouped_clusterd_df_0_en.rename(columns={\"skip\" : \"prob_skip\", \"refix\" : \"prob_refix\", \"reread\" : \"prob_reread\"}, inplace=True)\n",
    "\n",
    "grouped_clusterd_df_0_en.ianum = grouped_clusterd_df_0_en.ianum.astype(int)\n",
    "grouped_clusterd_df_0_en.trialid = grouped_clusterd_df_0_en.trialid.astype(int)\n",
    "grouped_clusterd_df_0_en.trial_sentnum = grouped_clusterd_df_0_en.trial_sentnum.astype(int)"
   ]
  },
  {
   "cell_type": "code",
   "execution_count": 41,
   "id": "7278d4a0",
   "metadata": {},
   "outputs": [
    {
     "data": {
      "text/html": [
       "<div>\n",
       "<style scoped>\n",
       "    .dataframe tbody tr th:only-of-type {\n",
       "        vertical-align: middle;\n",
       "    }\n",
       "\n",
       "    .dataframe tbody tr th {\n",
       "        vertical-align: top;\n",
       "    }\n",
       "\n",
       "    .dataframe thead th {\n",
       "        text-align: right;\n",
       "    }\n",
       "</style>\n",
       "<table border=\"1\" class=\"dataframe\">\n",
       "  <thead>\n",
       "    <tr style=\"text-align: right;\">\n",
       "      <th></th>\n",
       "      <th>lang</th>\n",
       "      <th>ia</th>\n",
       "      <th>ianum</th>\n",
       "      <th>sentnum</th>\n",
       "      <th>trialid</th>\n",
       "      <th>prob_skip</th>\n",
       "      <th>firstfix.dur</th>\n",
       "      <th>firstrun.dur</th>\n",
       "      <th>dur</th>\n",
       "      <th>firstrun.nfix</th>\n",
       "      <th>nfix</th>\n",
       "      <th>prob_refix</th>\n",
       "      <th>prob_reread</th>\n",
       "      <th>trial_sentnum</th>\n",
       "    </tr>\n",
       "  </thead>\n",
       "  <tbody>\n",
       "    <tr>\n",
       "      <th>0</th>\n",
       "      <td>en</td>\n",
       "      <td>In</td>\n",
       "      <td>1</td>\n",
       "      <td>0</td>\n",
       "      <td>1</td>\n",
       "      <td>0.605263</td>\n",
       "      <td>45.236842</td>\n",
       "      <td>52.631579</td>\n",
       "      <td>76.789474</td>\n",
       "      <td>0.421053</td>\n",
       "      <td>0.526316</td>\n",
       "      <td>0.026316</td>\n",
       "      <td>0.078947</td>\n",
       "      <td>1</td>\n",
       "    </tr>\n",
       "    <tr>\n",
       "      <th>1</th>\n",
       "      <td>en</td>\n",
       "      <td>ancient</td>\n",
       "      <td>2</td>\n",
       "      <td>0</td>\n",
       "      <td>1</td>\n",
       "      <td>0.026316</td>\n",
       "      <td>204.263158</td>\n",
       "      <td>322.394737</td>\n",
       "      <td>615.368421</td>\n",
       "      <td>1.578947</td>\n",
       "      <td>2.894737</td>\n",
       "      <td>0.578947</td>\n",
       "      <td>0.631579</td>\n",
       "      <td>1</td>\n",
       "    </tr>\n",
       "    <tr>\n",
       "      <th>2</th>\n",
       "      <td>en</td>\n",
       "      <td>Roman</td>\n",
       "      <td>3</td>\n",
       "      <td>0</td>\n",
       "      <td>1</td>\n",
       "      <td>0.052632</td>\n",
       "      <td>196.131579</td>\n",
       "      <td>258.131579</td>\n",
       "      <td>516.605263</td>\n",
       "      <td>1.236842</td>\n",
       "      <td>2.526316</td>\n",
       "      <td>0.236842</td>\n",
       "      <td>0.657895</td>\n",
       "      <td>1</td>\n",
       "    </tr>\n",
       "    <tr>\n",
       "      <th>3</th>\n",
       "      <td>en</td>\n",
       "      <td>religion</td>\n",
       "      <td>4</td>\n",
       "      <td>0</td>\n",
       "      <td>1</td>\n",
       "      <td>0.000000</td>\n",
       "      <td>225.973684</td>\n",
       "      <td>298.078947</td>\n",
       "      <td>683.684211</td>\n",
       "      <td>1.342105</td>\n",
       "      <td>3.052632</td>\n",
       "      <td>0.473684</td>\n",
       "      <td>0.631579</td>\n",
       "      <td>1</td>\n",
       "    </tr>\n",
       "    <tr>\n",
       "      <th>4</th>\n",
       "      <td>en</td>\n",
       "      <td>and</td>\n",
       "      <td>5</td>\n",
       "      <td>0</td>\n",
       "      <td>1</td>\n",
       "      <td>0.473684</td>\n",
       "      <td>122.105263</td>\n",
       "      <td>129.868421</td>\n",
       "      <td>172.552632</td>\n",
       "      <td>0.578947</td>\n",
       "      <td>0.789474</td>\n",
       "      <td>0.052632</td>\n",
       "      <td>0.157895</td>\n",
       "      <td>1</td>\n",
       "    </tr>\n",
       "  </tbody>\n",
       "</table>\n",
       "</div>"
      ],
      "text/plain": [
       "  lang        ia  ianum  sentnum  trialid  prob_skip  firstfix.dur  \\\n",
       "0   en        In      1        0        1   0.605263     45.236842   \n",
       "1   en   ancient      2        0        1   0.026316    204.263158   \n",
       "2   en     Roman      3        0        1   0.052632    196.131579   \n",
       "3   en  religion      4        0        1   0.000000    225.973684   \n",
       "4   en       and      5        0        1   0.473684    122.105263   \n",
       "\n",
       "   firstrun.dur         dur  firstrun.nfix      nfix  prob_refix  prob_reread  \\\n",
       "0     52.631579   76.789474       0.421053  0.526316    0.026316     0.078947   \n",
       "1    322.394737  615.368421       1.578947  2.894737    0.578947     0.631579   \n",
       "2    258.131579  516.605263       1.236842  2.526316    0.236842     0.657895   \n",
       "3    298.078947  683.684211       1.342105  3.052632    0.473684     0.631579   \n",
       "4    129.868421  172.552632       0.578947  0.789474    0.052632     0.157895   \n",
       "\n",
       "   trial_sentnum  \n",
       "0              1  \n",
       "1              1  \n",
       "2              1  \n",
       "3              1  \n",
       "4              1  "
      ]
     },
     "execution_count": 41,
     "metadata": {},
     "output_type": "execute_result"
    }
   ],
   "source": [
    "grouped_clusterd_df_0_en.head()"
   ]
  },
  {
   "cell_type": "code",
   "execution_count": 42,
   "id": "d8d3e448",
   "metadata": {},
   "outputs": [
    {
     "data": {
      "text/html": [
       "<div>\n",
       "<style scoped>\n",
       "    .dataframe tbody tr th:only-of-type {\n",
       "        vertical-align: middle;\n",
       "    }\n",
       "\n",
       "    .dataframe tbody tr th {\n",
       "        vertical-align: top;\n",
       "    }\n",
       "\n",
       "    .dataframe thead th {\n",
       "        text-align: right;\n",
       "    }\n",
       "</style>\n",
       "<table border=\"1\" class=\"dataframe\">\n",
       "  <thead>\n",
       "    <tr style=\"text-align: right;\">\n",
       "      <th></th>\n",
       "      <th>prob_skip</th>\n",
       "      <th>firstrun.dur</th>\n",
       "      <th>dur</th>\n",
       "      <th>firstrun.nfix</th>\n",
       "      <th>nfix</th>\n",
       "      <th>prob_refix</th>\n",
       "      <th>prob_reread</th>\n",
       "    </tr>\n",
       "  </thead>\n",
       "  <tbody>\n",
       "    <tr>\n",
       "      <th>prob_skip</th>\n",
       "      <td>1.000000</td>\n",
       "      <td>-0.886101</td>\n",
       "      <td>-0.834667</td>\n",
       "      <td>-0.917881</td>\n",
       "      <td>-0.854665</td>\n",
       "      <td>-0.697272</td>\n",
       "      <td>-0.731179</td>\n",
       "    </tr>\n",
       "    <tr>\n",
       "      <th>firstrun.dur</th>\n",
       "      <td>-0.886101</td>\n",
       "      <td>1.000000</td>\n",
       "      <td>0.943597</td>\n",
       "      <td>0.972223</td>\n",
       "      <td>0.919394</td>\n",
       "      <td>0.876522</td>\n",
       "      <td>0.714521</td>\n",
       "    </tr>\n",
       "    <tr>\n",
       "      <th>dur</th>\n",
       "      <td>-0.834667</td>\n",
       "      <td>0.943597</td>\n",
       "      <td>1.000000</td>\n",
       "      <td>0.929932</td>\n",
       "      <td>0.984975</td>\n",
       "      <td>0.872994</td>\n",
       "      <td>0.862943</td>\n",
       "    </tr>\n",
       "    <tr>\n",
       "      <th>firstrun.nfix</th>\n",
       "      <td>-0.917881</td>\n",
       "      <td>0.972223</td>\n",
       "      <td>0.929932</td>\n",
       "      <td>1.000000</td>\n",
       "      <td>0.942584</td>\n",
       "      <td>0.893298</td>\n",
       "      <td>0.738435</td>\n",
       "    </tr>\n",
       "    <tr>\n",
       "      <th>nfix</th>\n",
       "      <td>-0.854665</td>\n",
       "      <td>0.919394</td>\n",
       "      <td>0.984975</td>\n",
       "      <td>0.942584</td>\n",
       "      <td>1.000000</td>\n",
       "      <td>0.879945</td>\n",
       "      <td>0.886804</td>\n",
       "    </tr>\n",
       "    <tr>\n",
       "      <th>prob_refix</th>\n",
       "      <td>-0.697272</td>\n",
       "      <td>0.876522</td>\n",
       "      <td>0.872994</td>\n",
       "      <td>0.893298</td>\n",
       "      <td>0.879945</td>\n",
       "      <td>1.000000</td>\n",
       "      <td>0.672622</td>\n",
       "    </tr>\n",
       "    <tr>\n",
       "      <th>prob_reread</th>\n",
       "      <td>-0.731179</td>\n",
       "      <td>0.714521</td>\n",
       "      <td>0.862943</td>\n",
       "      <td>0.738435</td>\n",
       "      <td>0.886804</td>\n",
       "      <td>0.672622</td>\n",
       "      <td>1.000000</td>\n",
       "    </tr>\n",
       "  </tbody>\n",
       "</table>\n",
       "</div>"
      ],
      "text/plain": [
       "               prob_skip  firstrun.dur       dur  firstrun.nfix      nfix  \\\n",
       "prob_skip       1.000000     -0.886101 -0.834667      -0.917881 -0.854665   \n",
       "firstrun.dur   -0.886101      1.000000  0.943597       0.972223  0.919394   \n",
       "dur            -0.834667      0.943597  1.000000       0.929932  0.984975   \n",
       "firstrun.nfix  -0.917881      0.972223  0.929932       1.000000  0.942584   \n",
       "nfix           -0.854665      0.919394  0.984975       0.942584  1.000000   \n",
       "prob_refix     -0.697272      0.876522  0.872994       0.893298  0.879945   \n",
       "prob_reread    -0.731179      0.714521  0.862943       0.738435  0.886804   \n",
       "\n",
       "               prob_refix  prob_reread  \n",
       "prob_skip       -0.697272    -0.731179  \n",
       "firstrun.dur     0.876522     0.714521  \n",
       "dur              0.872994     0.862943  \n",
       "firstrun.nfix    0.893298     0.738435  \n",
       "nfix             0.879945     0.886804  \n",
       "prob_refix       1.000000     0.672622  \n",
       "prob_reread      0.672622     1.000000  "
      ]
     },
     "execution_count": 42,
     "metadata": {},
     "output_type": "execute_result"
    }
   ],
   "source": [
    "grouped_clusterd_df_0_en[[\"prob_skip\", \"firstrun.dur\", \"dur\", \"firstrun.nfix\", \"nfix\", \"prob_refix\", \"prob_reread\"]].corr()"
   ]
  },
  {
   "cell_type": "code",
   "execution_count": 43,
   "id": "886e9926",
   "metadata": {},
   "outputs": [],
   "source": [
    "grouped_clusterd_df_0_en.to_csv(f\"datasets/en/all_mean_dataset.csv\")"
   ]
  },
  {
   "cell_type": "markdown",
   "id": "981aa8be",
   "metadata": {},
   "source": [
    "### It"
   ]
  },
  {
   "cell_type": "code",
   "execution_count": 44,
   "id": "c8b023f2",
   "metadata": {},
   "outputs": [],
   "source": [
    "df_complete_common_user_it = df_complete_common_user[df_complete_common_user.lang==\"it\"]"
   ]
  },
  {
   "cell_type": "code",
   "execution_count": 45,
   "id": "0c7379f8",
   "metadata": {},
   "outputs": [
    {
     "data": {
      "text/html": [
       "<div>\n",
       "<style scoped>\n",
       "    .dataframe tbody tr th:only-of-type {\n",
       "        vertical-align: middle;\n",
       "    }\n",
       "\n",
       "    .dataframe tbody tr th {\n",
       "        vertical-align: top;\n",
       "    }\n",
       "\n",
       "    .dataframe thead th {\n",
       "        text-align: right;\n",
       "    }\n",
       "</style>\n",
       "<table border=\"1\" class=\"dataframe\">\n",
       "  <thead>\n",
       "    <tr style=\"text-align: right;\">\n",
       "      <th></th>\n",
       "      <th>trialid</th>\n",
       "      <th>sentnum</th>\n",
       "      <th>ianum</th>\n",
       "      <th>ia</th>\n",
       "      <th>lang</th>\n",
       "      <th>uniform_id</th>\n",
       "      <th>skip</th>\n",
       "      <th>firstfix.dur</th>\n",
       "      <th>firstrun.dur</th>\n",
       "      <th>dur</th>\n",
       "      <th>firstrun.nfix</th>\n",
       "      <th>nfix</th>\n",
       "      <th>refix</th>\n",
       "      <th>reread</th>\n",
       "    </tr>\n",
       "  </thead>\n",
       "  <tbody>\n",
       "    <tr>\n",
       "      <th>397572</th>\n",
       "      <td>1.0</td>\n",
       "      <td>2.0</td>\n",
       "      <td>25.0</td>\n",
       "      <td>come</td>\n",
       "      <td>it</td>\n",
       "      <td>it_3</td>\n",
       "      <td>0.0</td>\n",
       "      <td>555.0</td>\n",
       "      <td>555.0</td>\n",
       "      <td>555.0</td>\n",
       "      <td>1.0</td>\n",
       "      <td>1.0</td>\n",
       "      <td>0.0</td>\n",
       "      <td>0.0</td>\n",
       "    </tr>\n",
       "    <tr>\n",
       "      <th>397573</th>\n",
       "      <td>1.0</td>\n",
       "      <td>2.0</td>\n",
       "      <td>26.0</td>\n",
       "      <td>avente</td>\n",
       "      <td>it</td>\n",
       "      <td>it_3</td>\n",
       "      <td>0.0</td>\n",
       "      <td>282.0</td>\n",
       "      <td>282.0</td>\n",
       "      <td>282.0</td>\n",
       "      <td>1.0</td>\n",
       "      <td>1.0</td>\n",
       "      <td>0.0</td>\n",
       "      <td>0.0</td>\n",
       "    </tr>\n",
       "    <tr>\n",
       "      <th>397574</th>\n",
       "      <td>1.0</td>\n",
       "      <td>2.0</td>\n",
       "      <td>27.0</td>\n",
       "      <td>due</td>\n",
       "      <td>it</td>\n",
       "      <td>it_3</td>\n",
       "      <td>0.0</td>\n",
       "      <td>281.0</td>\n",
       "      <td>281.0</td>\n",
       "      <td>281.0</td>\n",
       "      <td>1.0</td>\n",
       "      <td>1.0</td>\n",
       "      <td>0.0</td>\n",
       "      <td>0.0</td>\n",
       "    </tr>\n",
       "    <tr>\n",
       "      <th>397575</th>\n",
       "      <td>1.0</td>\n",
       "      <td>2.0</td>\n",
       "      <td>28.0</td>\n",
       "      <td>facce,</td>\n",
       "      <td>it</td>\n",
       "      <td>it_3</td>\n",
       "      <td>1.0</td>\n",
       "      <td>0.0</td>\n",
       "      <td>0.0</td>\n",
       "      <td>0.0</td>\n",
       "      <td>0.0</td>\n",
       "      <td>0.0</td>\n",
       "      <td>0.0</td>\n",
       "      <td>0.0</td>\n",
       "    </tr>\n",
       "    <tr>\n",
       "      <th>397576</th>\n",
       "      <td>1.0</td>\n",
       "      <td>2.0</td>\n",
       "      <td>29.0</td>\n",
       "      <td>poiché</td>\n",
       "      <td>it</td>\n",
       "      <td>it_3</td>\n",
       "      <td>1.0</td>\n",
       "      <td>0.0</td>\n",
       "      <td>0.0</td>\n",
       "      <td>0.0</td>\n",
       "      <td>0.0</td>\n",
       "      <td>0.0</td>\n",
       "      <td>0.0</td>\n",
       "      <td>0.0</td>\n",
       "    </tr>\n",
       "  </tbody>\n",
       "</table>\n",
       "</div>"
      ],
      "text/plain": [
       "        trialid  sentnum  ianum      ia lang uniform_id  skip  firstfix.dur  \\\n",
       "397572      1.0      2.0   25.0    come   it       it_3   0.0         555.0   \n",
       "397573      1.0      2.0   26.0  avente   it       it_3   0.0         282.0   \n",
       "397574      1.0      2.0   27.0     due   it       it_3   0.0         281.0   \n",
       "397575      1.0      2.0   28.0  facce,   it       it_3   1.0           0.0   \n",
       "397576      1.0      2.0   29.0  poiché   it       it_3   1.0           0.0   \n",
       "\n",
       "        firstrun.dur    dur  firstrun.nfix  nfix  refix  reread  \n",
       "397572         555.0  555.0            1.0   1.0    0.0     0.0  \n",
       "397573         282.0  282.0            1.0   1.0    0.0     0.0  \n",
       "397574         281.0  281.0            1.0   1.0    0.0     0.0  \n",
       "397575           0.0    0.0            0.0   0.0    0.0     0.0  \n",
       "397576           0.0    0.0            0.0   0.0    0.0     0.0  "
      ]
     },
     "execution_count": 45,
     "metadata": {},
     "output_type": "execute_result"
    }
   ],
   "source": [
    "df_complete_common_user_it.head()"
   ]
  },
  {
   "cell_type": "code",
   "execution_count": 46,
   "id": "6913517a",
   "metadata": {},
   "outputs": [
    {
     "name": "stdout",
     "output_type": "stream",
     "text": [
      "Number of sentence after group : 90\n"
     ]
    }
   ],
   "source": [
    "grouped_clusterd_df_0_it = group_by_users(df_complete_common_user_it)"
   ]
  },
  {
   "cell_type": "code",
   "execution_count": 47,
   "id": "41ef596d",
   "metadata": {},
   "outputs": [
    {
     "data": {
      "text/plain": [
       "(2113, 14)"
      ]
     },
     "execution_count": 47,
     "metadata": {},
     "output_type": "execute_result"
    }
   ],
   "source": [
    "grouped_clusterd_df_0_it.shape"
   ]
  },
  {
   "cell_type": "code",
   "execution_count": 48,
   "id": "2213eff7",
   "metadata": {},
   "outputs": [],
   "source": [
    "grouped_clusterd_df_0_it.rename(columns={\"skip\" : \"prob_skip\", \"refix\" : \"prob_refix\", \"reread\" : \"prob_reread\"}, inplace=True)\n",
    "\n",
    "grouped_clusterd_df_0_it.ianum = grouped_clusterd_df_0_it.ianum.astype(int)\n",
    "grouped_clusterd_df_0_it.trialid = grouped_clusterd_df_0_it.trialid.astype(int)\n",
    "grouped_clusterd_df_0_it.trial_sentnum = grouped_clusterd_df_0_it.trial_sentnum.astype(int)"
   ]
  },
  {
   "cell_type": "code",
   "execution_count": 49,
   "id": "8007cd1b",
   "metadata": {},
   "outputs": [
    {
     "data": {
      "text/html": [
       "<div>\n",
       "<style scoped>\n",
       "    .dataframe tbody tr th:only-of-type {\n",
       "        vertical-align: middle;\n",
       "    }\n",
       "\n",
       "    .dataframe tbody tr th {\n",
       "        vertical-align: top;\n",
       "    }\n",
       "\n",
       "    .dataframe thead th {\n",
       "        text-align: right;\n",
       "    }\n",
       "</style>\n",
       "<table border=\"1\" class=\"dataframe\">\n",
       "  <thead>\n",
       "    <tr style=\"text-align: right;\">\n",
       "      <th></th>\n",
       "      <th>lang</th>\n",
       "      <th>ia</th>\n",
       "      <th>ianum</th>\n",
       "      <th>sentnum</th>\n",
       "      <th>trialid</th>\n",
       "      <th>prob_skip</th>\n",
       "      <th>firstfix.dur</th>\n",
       "      <th>firstrun.dur</th>\n",
       "      <th>dur</th>\n",
       "      <th>firstrun.nfix</th>\n",
       "      <th>nfix</th>\n",
       "      <th>prob_refix</th>\n",
       "      <th>prob_reread</th>\n",
       "      <th>trial_sentnum</th>\n",
       "    </tr>\n",
       "  </thead>\n",
       "  <tbody>\n",
       "    <tr>\n",
       "      <th>0</th>\n",
       "      <td>it</td>\n",
       "      <td>Negli</td>\n",
       "      <td>1</td>\n",
       "      <td>0</td>\n",
       "      <td>1</td>\n",
       "      <td>0.000000</td>\n",
       "      <td>161.333333</td>\n",
       "      <td>161.333333</td>\n",
       "      <td>438.666667</td>\n",
       "      <td>1.000000</td>\n",
       "      <td>2.333333</td>\n",
       "      <td>0.111111</td>\n",
       "      <td>0.777778</td>\n",
       "      <td>1</td>\n",
       "    </tr>\n",
       "    <tr>\n",
       "      <th>1</th>\n",
       "      <td>it</td>\n",
       "      <td>antichi</td>\n",
       "      <td>2</td>\n",
       "      <td>0</td>\n",
       "      <td>1</td>\n",
       "      <td>0.000000</td>\n",
       "      <td>169.777778</td>\n",
       "      <td>277.444444</td>\n",
       "      <td>522.888889</td>\n",
       "      <td>1.666667</td>\n",
       "      <td>3.111111</td>\n",
       "      <td>0.333333</td>\n",
       "      <td>0.777778</td>\n",
       "      <td>1</td>\n",
       "    </tr>\n",
       "    <tr>\n",
       "      <th>2</th>\n",
       "      <td>it</td>\n",
       "      <td>miti</td>\n",
       "      <td>3</td>\n",
       "      <td>0</td>\n",
       "      <td>1</td>\n",
       "      <td>0.000000</td>\n",
       "      <td>204.333333</td>\n",
       "      <td>222.888889</td>\n",
       "      <td>414.888889</td>\n",
       "      <td>1.111111</td>\n",
       "      <td>2.111111</td>\n",
       "      <td>0.111111</td>\n",
       "      <td>0.777778</td>\n",
       "      <td>1</td>\n",
       "    </tr>\n",
       "    <tr>\n",
       "      <th>3</th>\n",
       "      <td>it</td>\n",
       "      <td>e</td>\n",
       "      <td>4</td>\n",
       "      <td>0</td>\n",
       "      <td>1</td>\n",
       "      <td>0.777778</td>\n",
       "      <td>44.333333</td>\n",
       "      <td>58.555556</td>\n",
       "      <td>58.555556</td>\n",
       "      <td>0.333333</td>\n",
       "      <td>0.333333</td>\n",
       "      <td>0.111111</td>\n",
       "      <td>0.000000</td>\n",
       "      <td>1</td>\n",
       "    </tr>\n",
       "    <tr>\n",
       "      <th>4</th>\n",
       "      <td>it</td>\n",
       "      <td>religioni</td>\n",
       "      <td>5</td>\n",
       "      <td>0</td>\n",
       "      <td>1</td>\n",
       "      <td>0.000000</td>\n",
       "      <td>209.333333</td>\n",
       "      <td>284.333333</td>\n",
       "      <td>835.111111</td>\n",
       "      <td>1.444444</td>\n",
       "      <td>4.000000</td>\n",
       "      <td>0.666667</td>\n",
       "      <td>1.000000</td>\n",
       "      <td>1</td>\n",
       "    </tr>\n",
       "  </tbody>\n",
       "</table>\n",
       "</div>"
      ],
      "text/plain": [
       "  lang         ia  ianum  sentnum  trialid  prob_skip  firstfix.dur  \\\n",
       "0   it      Negli      1        0        1   0.000000    161.333333   \n",
       "1   it    antichi      2        0        1   0.000000    169.777778   \n",
       "2   it       miti      3        0        1   0.000000    204.333333   \n",
       "3   it          e      4        0        1   0.777778     44.333333   \n",
       "4   it  religioni      5        0        1   0.000000    209.333333   \n",
       "\n",
       "   firstrun.dur         dur  firstrun.nfix      nfix  prob_refix  prob_reread  \\\n",
       "0    161.333333  438.666667       1.000000  2.333333    0.111111     0.777778   \n",
       "1    277.444444  522.888889       1.666667  3.111111    0.333333     0.777778   \n",
       "2    222.888889  414.888889       1.111111  2.111111    0.111111     0.777778   \n",
       "3     58.555556   58.555556       0.333333  0.333333    0.111111     0.000000   \n",
       "4    284.333333  835.111111       1.444444  4.000000    0.666667     1.000000   \n",
       "\n",
       "   trial_sentnum  \n",
       "0              1  \n",
       "1              1  \n",
       "2              1  \n",
       "3              1  \n",
       "4              1  "
      ]
     },
     "execution_count": 49,
     "metadata": {},
     "output_type": "execute_result"
    }
   ],
   "source": [
    "grouped_clusterd_df_0_it.head()"
   ]
  },
  {
   "cell_type": "code",
   "execution_count": 50,
   "id": "51ffc078",
   "metadata": {},
   "outputs": [
    {
     "data": {
      "text/html": [
       "<div>\n",
       "<style scoped>\n",
       "    .dataframe tbody tr th:only-of-type {\n",
       "        vertical-align: middle;\n",
       "    }\n",
       "\n",
       "    .dataframe tbody tr th {\n",
       "        vertical-align: top;\n",
       "    }\n",
       "\n",
       "    .dataframe thead th {\n",
       "        text-align: right;\n",
       "    }\n",
       "</style>\n",
       "<table border=\"1\" class=\"dataframe\">\n",
       "  <thead>\n",
       "    <tr style=\"text-align: right;\">\n",
       "      <th></th>\n",
       "      <th>prob_skip</th>\n",
       "      <th>firstrun.dur</th>\n",
       "      <th>dur</th>\n",
       "      <th>firstrun.nfix</th>\n",
       "      <th>nfix</th>\n",
       "      <th>prob_refix</th>\n",
       "      <th>prob_reread</th>\n",
       "    </tr>\n",
       "  </thead>\n",
       "  <tbody>\n",
       "    <tr>\n",
       "      <th>prob_skip</th>\n",
       "      <td>1.000000</td>\n",
       "      <td>-0.791456</td>\n",
       "      <td>-0.713333</td>\n",
       "      <td>-0.827858</td>\n",
       "      <td>-0.743849</td>\n",
       "      <td>-0.596881</td>\n",
       "      <td>-0.628025</td>\n",
       "    </tr>\n",
       "    <tr>\n",
       "      <th>firstrun.dur</th>\n",
       "      <td>-0.791456</td>\n",
       "      <td>1.000000</td>\n",
       "      <td>0.898873</td>\n",
       "      <td>0.959903</td>\n",
       "      <td>0.872321</td>\n",
       "      <td>0.818647</td>\n",
       "      <td>0.588092</td>\n",
       "    </tr>\n",
       "    <tr>\n",
       "      <th>dur</th>\n",
       "      <td>-0.713333</td>\n",
       "      <td>0.898873</td>\n",
       "      <td>1.000000</td>\n",
       "      <td>0.875667</td>\n",
       "      <td>0.975616</td>\n",
       "      <td>0.807589</td>\n",
       "      <td>0.772999</td>\n",
       "    </tr>\n",
       "    <tr>\n",
       "      <th>firstrun.nfix</th>\n",
       "      <td>-0.827858</td>\n",
       "      <td>0.959903</td>\n",
       "      <td>0.875667</td>\n",
       "      <td>1.000000</td>\n",
       "      <td>0.900107</td>\n",
       "      <td>0.858727</td>\n",
       "      <td>0.602727</td>\n",
       "    </tr>\n",
       "    <tr>\n",
       "      <th>nfix</th>\n",
       "      <td>-0.743849</td>\n",
       "      <td>0.872321</td>\n",
       "      <td>0.975616</td>\n",
       "      <td>0.900107</td>\n",
       "      <td>1.000000</td>\n",
       "      <td>0.835995</td>\n",
       "      <td>0.801971</td>\n",
       "    </tr>\n",
       "    <tr>\n",
       "      <th>prob_refix</th>\n",
       "      <td>-0.596881</td>\n",
       "      <td>0.818647</td>\n",
       "      <td>0.807589</td>\n",
       "      <td>0.858727</td>\n",
       "      <td>0.835995</td>\n",
       "      <td>1.000000</td>\n",
       "      <td>0.577530</td>\n",
       "    </tr>\n",
       "    <tr>\n",
       "      <th>prob_reread</th>\n",
       "      <td>-0.628025</td>\n",
       "      <td>0.588092</td>\n",
       "      <td>0.772999</td>\n",
       "      <td>0.602727</td>\n",
       "      <td>0.801971</td>\n",
       "      <td>0.577530</td>\n",
       "      <td>1.000000</td>\n",
       "    </tr>\n",
       "  </tbody>\n",
       "</table>\n",
       "</div>"
      ],
      "text/plain": [
       "               prob_skip  firstrun.dur       dur  firstrun.nfix      nfix  \\\n",
       "prob_skip       1.000000     -0.791456 -0.713333      -0.827858 -0.743849   \n",
       "firstrun.dur   -0.791456      1.000000  0.898873       0.959903  0.872321   \n",
       "dur            -0.713333      0.898873  1.000000       0.875667  0.975616   \n",
       "firstrun.nfix  -0.827858      0.959903  0.875667       1.000000  0.900107   \n",
       "nfix           -0.743849      0.872321  0.975616       0.900107  1.000000   \n",
       "prob_refix     -0.596881      0.818647  0.807589       0.858727  0.835995   \n",
       "prob_reread    -0.628025      0.588092  0.772999       0.602727  0.801971   \n",
       "\n",
       "               prob_refix  prob_reread  \n",
       "prob_skip       -0.596881    -0.628025  \n",
       "firstrun.dur     0.818647     0.588092  \n",
       "dur              0.807589     0.772999  \n",
       "firstrun.nfix    0.858727     0.602727  \n",
       "nfix             0.835995     0.801971  \n",
       "prob_refix       1.000000     0.577530  \n",
       "prob_reread      0.577530     1.000000  "
      ]
     },
     "execution_count": 50,
     "metadata": {},
     "output_type": "execute_result"
    }
   ],
   "source": [
    "grouped_clusterd_df_0_it[[\"prob_skip\", \"firstrun.dur\", \"dur\", \"firstrun.nfix\", \"nfix\", \"prob_refix\", \"prob_reread\"]].corr()"
   ]
  },
  {
   "cell_type": "code",
   "execution_count": 51,
   "id": "da47845d",
   "metadata": {},
   "outputs": [],
   "source": [
    "grouped_clusterd_df_0_it.to_csv(f\"datasets/it/all_mean_dataset.csv\")"
   ]
  },
  {
   "cell_type": "markdown",
   "id": "14f4a72c",
   "metadata": {},
   "source": [
    "### Sp"
   ]
  },
  {
   "cell_type": "code",
   "execution_count": 52,
   "id": "f801d466",
   "metadata": {},
   "outputs": [],
   "source": [
    "df_complete_common_user_sp = df_complete_common_user[df_complete_common_user.lang==\"sp\"]"
   ]
  },
  {
   "cell_type": "code",
   "execution_count": 53,
   "id": "ae0e1f07",
   "metadata": {},
   "outputs": [
    {
     "data": {
      "text/html": [
       "<div>\n",
       "<style scoped>\n",
       "    .dataframe tbody tr th:only-of-type {\n",
       "        vertical-align: middle;\n",
       "    }\n",
       "\n",
       "    .dataframe tbody tr th {\n",
       "        vertical-align: top;\n",
       "    }\n",
       "\n",
       "    .dataframe thead th {\n",
       "        text-align: right;\n",
       "    }\n",
       "</style>\n",
       "<table border=\"1\" class=\"dataframe\">\n",
       "  <thead>\n",
       "    <tr style=\"text-align: right;\">\n",
       "      <th></th>\n",
       "      <th>trialid</th>\n",
       "      <th>sentnum</th>\n",
       "      <th>ianum</th>\n",
       "      <th>ia</th>\n",
       "      <th>lang</th>\n",
       "      <th>uniform_id</th>\n",
       "      <th>skip</th>\n",
       "      <th>firstfix.dur</th>\n",
       "      <th>firstrun.dur</th>\n",
       "      <th>dur</th>\n",
       "      <th>firstrun.nfix</th>\n",
       "      <th>nfix</th>\n",
       "      <th>refix</th>\n",
       "      <th>reread</th>\n",
       "    </tr>\n",
       "  </thead>\n",
       "  <tbody>\n",
       "    <tr>\n",
       "      <th>737913</th>\n",
       "      <td>1.0</td>\n",
       "      <td>1.0</td>\n",
       "      <td>1.0</td>\n",
       "      <td>En</td>\n",
       "      <td>sp</td>\n",
       "      <td>sp_4</td>\n",
       "      <td>0.0</td>\n",
       "      <td>141.0</td>\n",
       "      <td>141.0</td>\n",
       "      <td>141.0</td>\n",
       "      <td>1.0</td>\n",
       "      <td>1.0</td>\n",
       "      <td>0.0</td>\n",
       "      <td>0.0</td>\n",
       "    </tr>\n",
       "    <tr>\n",
       "      <th>737914</th>\n",
       "      <td>1.0</td>\n",
       "      <td>1.0</td>\n",
       "      <td>2.0</td>\n",
       "      <td>las</td>\n",
       "      <td>sp</td>\n",
       "      <td>sp_4</td>\n",
       "      <td>0.0</td>\n",
       "      <td>291.0</td>\n",
       "      <td>291.0</td>\n",
       "      <td>291.0</td>\n",
       "      <td>1.0</td>\n",
       "      <td>1.0</td>\n",
       "      <td>0.0</td>\n",
       "      <td>0.0</td>\n",
       "    </tr>\n",
       "    <tr>\n",
       "      <th>737915</th>\n",
       "      <td>1.0</td>\n",
       "      <td>1.0</td>\n",
       "      <td>3.0</td>\n",
       "      <td>antiguas</td>\n",
       "      <td>sp</td>\n",
       "      <td>sp_4</td>\n",
       "      <td>0.0</td>\n",
       "      <td>148.0</td>\n",
       "      <td>148.0</td>\n",
       "      <td>148.0</td>\n",
       "      <td>1.0</td>\n",
       "      <td>1.0</td>\n",
       "      <td>0.0</td>\n",
       "      <td>0.0</td>\n",
       "    </tr>\n",
       "    <tr>\n",
       "      <th>737916</th>\n",
       "      <td>1.0</td>\n",
       "      <td>1.0</td>\n",
       "      <td>4.0</td>\n",
       "      <td>mitología</td>\n",
       "      <td>sp</td>\n",
       "      <td>sp_4</td>\n",
       "      <td>0.0</td>\n",
       "      <td>204.0</td>\n",
       "      <td>386.0</td>\n",
       "      <td>386.0</td>\n",
       "      <td>2.0</td>\n",
       "      <td>2.0</td>\n",
       "      <td>1.0</td>\n",
       "      <td>0.0</td>\n",
       "    </tr>\n",
       "    <tr>\n",
       "      <th>737917</th>\n",
       "      <td>1.0</td>\n",
       "      <td>1.0</td>\n",
       "      <td>5.0</td>\n",
       "      <td>y</td>\n",
       "      <td>sp</td>\n",
       "      <td>sp_4</td>\n",
       "      <td>1.0</td>\n",
       "      <td>0.0</td>\n",
       "      <td>0.0</td>\n",
       "      <td>0.0</td>\n",
       "      <td>0.0</td>\n",
       "      <td>0.0</td>\n",
       "      <td>0.0</td>\n",
       "      <td>0.0</td>\n",
       "    </tr>\n",
       "  </tbody>\n",
       "</table>\n",
       "</div>"
      ],
      "text/plain": [
       "        trialid  sentnum  ianum         ia lang uniform_id  skip  \\\n",
       "737913      1.0      1.0    1.0         En   sp       sp_4   0.0   \n",
       "737914      1.0      1.0    2.0        las   sp       sp_4   0.0   \n",
       "737915      1.0      1.0    3.0   antiguas   sp       sp_4   0.0   \n",
       "737916      1.0      1.0    4.0  mitología   sp       sp_4   0.0   \n",
       "737917      1.0      1.0    5.0          y   sp       sp_4   1.0   \n",
       "\n",
       "        firstfix.dur  firstrun.dur    dur  firstrun.nfix  nfix  refix  reread  \n",
       "737913         141.0         141.0  141.0            1.0   1.0    0.0     0.0  \n",
       "737914         291.0         291.0  291.0            1.0   1.0    0.0     0.0  \n",
       "737915         148.0         148.0  148.0            1.0   1.0    0.0     0.0  \n",
       "737916         204.0         386.0  386.0            2.0   2.0    1.0     0.0  \n",
       "737917           0.0           0.0    0.0            0.0   0.0    0.0     0.0  "
      ]
     },
     "execution_count": 53,
     "metadata": {},
     "output_type": "execute_result"
    }
   ],
   "source": [
    "df_complete_common_user_sp.head()"
   ]
  },
  {
   "cell_type": "code",
   "execution_count": 54,
   "id": "de048a5d",
   "metadata": {},
   "outputs": [
    {
     "name": "stdout",
     "output_type": "stream",
     "text": [
      "Number of sentence after group : 98\n"
     ]
    }
   ],
   "source": [
    "grouped_clusterd_df_0_sp = group_by_users(df_complete_common_user_sp)"
   ]
  },
  {
   "cell_type": "code",
   "execution_count": 55,
   "id": "f19459bb",
   "metadata": {},
   "outputs": [
    {
     "data": {
      "text/plain": [
       "(2411, 14)"
      ]
     },
     "execution_count": 55,
     "metadata": {},
     "output_type": "execute_result"
    }
   ],
   "source": [
    "grouped_clusterd_df_0_sp.shape"
   ]
  },
  {
   "cell_type": "code",
   "execution_count": 56,
   "id": "6584af77",
   "metadata": {},
   "outputs": [],
   "source": [
    "grouped_clusterd_df_0_sp.rename(columns={\"skip\" : \"prob_skip\", \"refix\" : \"prob_refix\", \"reread\" : \"prob_reread\"}, inplace=True)\n",
    "\n",
    "grouped_clusterd_df_0_sp.ianum = grouped_clusterd_df_0_sp.ianum.astype(int)\n",
    "grouped_clusterd_df_0_sp.trialid = grouped_clusterd_df_0_sp.trialid.astype(int)\n",
    "grouped_clusterd_df_0_sp.trial_sentnum = grouped_clusterd_df_0_sp.trial_sentnum.astype(int)"
   ]
  },
  {
   "cell_type": "code",
   "execution_count": 57,
   "id": "7833967e",
   "metadata": {},
   "outputs": [
    {
     "data": {
      "text/html": [
       "<div>\n",
       "<style scoped>\n",
       "    .dataframe tbody tr th:only-of-type {\n",
       "        vertical-align: middle;\n",
       "    }\n",
       "\n",
       "    .dataframe tbody tr th {\n",
       "        vertical-align: top;\n",
       "    }\n",
       "\n",
       "    .dataframe thead th {\n",
       "        text-align: right;\n",
       "    }\n",
       "</style>\n",
       "<table border=\"1\" class=\"dataframe\">\n",
       "  <thead>\n",
       "    <tr style=\"text-align: right;\">\n",
       "      <th></th>\n",
       "      <th>lang</th>\n",
       "      <th>ia</th>\n",
       "      <th>ianum</th>\n",
       "      <th>sentnum</th>\n",
       "      <th>trialid</th>\n",
       "      <th>prob_skip</th>\n",
       "      <th>firstfix.dur</th>\n",
       "      <th>firstrun.dur</th>\n",
       "      <th>dur</th>\n",
       "      <th>firstrun.nfix</th>\n",
       "      <th>nfix</th>\n",
       "      <th>prob_refix</th>\n",
       "      <th>prob_reread</th>\n",
       "      <th>trial_sentnum</th>\n",
       "    </tr>\n",
       "  </thead>\n",
       "  <tbody>\n",
       "    <tr>\n",
       "      <th>0</th>\n",
       "      <td>sp</td>\n",
       "      <td>En</td>\n",
       "      <td>1</td>\n",
       "      <td>0</td>\n",
       "      <td>1</td>\n",
       "      <td>0.454545</td>\n",
       "      <td>93.000000</td>\n",
       "      <td>93.000000</td>\n",
       "      <td>93.000000</td>\n",
       "      <td>0.545455</td>\n",
       "      <td>0.545455</td>\n",
       "      <td>0.000000</td>\n",
       "      <td>0.000000</td>\n",
       "      <td>1</td>\n",
       "    </tr>\n",
       "    <tr>\n",
       "      <th>1</th>\n",
       "      <td>sp</td>\n",
       "      <td>las</td>\n",
       "      <td>2</td>\n",
       "      <td>0</td>\n",
       "      <td>1</td>\n",
       "      <td>0.090909</td>\n",
       "      <td>190.000000</td>\n",
       "      <td>241.909091</td>\n",
       "      <td>278.818182</td>\n",
       "      <td>1.090909</td>\n",
       "      <td>1.272727</td>\n",
       "      <td>0.181818</td>\n",
       "      <td>0.181818</td>\n",
       "      <td>1</td>\n",
       "    </tr>\n",
       "    <tr>\n",
       "      <th>2</th>\n",
       "      <td>sp</td>\n",
       "      <td>antiguas</td>\n",
       "      <td>3</td>\n",
       "      <td>0</td>\n",
       "      <td>1</td>\n",
       "      <td>0.000000</td>\n",
       "      <td>156.181818</td>\n",
       "      <td>239.272727</td>\n",
       "      <td>975.363636</td>\n",
       "      <td>1.454545</td>\n",
       "      <td>4.636364</td>\n",
       "      <td>0.363636</td>\n",
       "      <td>0.727273</td>\n",
       "      <td>1</td>\n",
       "    </tr>\n",
       "    <tr>\n",
       "      <th>3</th>\n",
       "      <td>sp</td>\n",
       "      <td>mitología</td>\n",
       "      <td>4</td>\n",
       "      <td>0</td>\n",
       "      <td>1</td>\n",
       "      <td>0.000000</td>\n",
       "      <td>223.090909</td>\n",
       "      <td>424.909091</td>\n",
       "      <td>937.818182</td>\n",
       "      <td>1.909091</td>\n",
       "      <td>4.545455</td>\n",
       "      <td>0.727273</td>\n",
       "      <td>0.727273</td>\n",
       "      <td>1</td>\n",
       "    </tr>\n",
       "    <tr>\n",
       "      <th>4</th>\n",
       "      <td>sp</td>\n",
       "      <td>y</td>\n",
       "      <td>5</td>\n",
       "      <td>0</td>\n",
       "      <td>1</td>\n",
       "      <td>0.727273</td>\n",
       "      <td>60.363636</td>\n",
       "      <td>60.363636</td>\n",
       "      <td>60.363636</td>\n",
       "      <td>0.272727</td>\n",
       "      <td>0.272727</td>\n",
       "      <td>0.000000</td>\n",
       "      <td>0.000000</td>\n",
       "      <td>1</td>\n",
       "    </tr>\n",
       "  </tbody>\n",
       "</table>\n",
       "</div>"
      ],
      "text/plain": [
       "  lang         ia  ianum  sentnum  trialid  prob_skip  firstfix.dur  \\\n",
       "0   sp         En      1        0        1   0.454545     93.000000   \n",
       "1   sp        las      2        0        1   0.090909    190.000000   \n",
       "2   sp   antiguas      3        0        1   0.000000    156.181818   \n",
       "3   sp  mitología      4        0        1   0.000000    223.090909   \n",
       "4   sp          y      5        0        1   0.727273     60.363636   \n",
       "\n",
       "   firstrun.dur         dur  firstrun.nfix      nfix  prob_refix  prob_reread  \\\n",
       "0     93.000000   93.000000       0.545455  0.545455    0.000000     0.000000   \n",
       "1    241.909091  278.818182       1.090909  1.272727    0.181818     0.181818   \n",
       "2    239.272727  975.363636       1.454545  4.636364    0.363636     0.727273   \n",
       "3    424.909091  937.818182       1.909091  4.545455    0.727273     0.727273   \n",
       "4     60.363636   60.363636       0.272727  0.272727    0.000000     0.000000   \n",
       "\n",
       "   trial_sentnum  \n",
       "0              1  \n",
       "1              1  \n",
       "2              1  \n",
       "3              1  \n",
       "4              1  "
      ]
     },
     "execution_count": 57,
     "metadata": {},
     "output_type": "execute_result"
    }
   ],
   "source": [
    "grouped_clusterd_df_0_sp.head()"
   ]
  },
  {
   "cell_type": "code",
   "execution_count": 58,
   "id": "3e328ce9",
   "metadata": {},
   "outputs": [
    {
     "data": {
      "text/html": [
       "<div>\n",
       "<style scoped>\n",
       "    .dataframe tbody tr th:only-of-type {\n",
       "        vertical-align: middle;\n",
       "    }\n",
       "\n",
       "    .dataframe tbody tr th {\n",
       "        vertical-align: top;\n",
       "    }\n",
       "\n",
       "    .dataframe thead th {\n",
       "        text-align: right;\n",
       "    }\n",
       "</style>\n",
       "<table border=\"1\" class=\"dataframe\">\n",
       "  <thead>\n",
       "    <tr style=\"text-align: right;\">\n",
       "      <th></th>\n",
       "      <th>prob_skip</th>\n",
       "      <th>firstrun.dur</th>\n",
       "      <th>dur</th>\n",
       "      <th>firstrun.nfix</th>\n",
       "      <th>nfix</th>\n",
       "      <th>prob_refix</th>\n",
       "      <th>prob_reread</th>\n",
       "    </tr>\n",
       "  </thead>\n",
       "  <tbody>\n",
       "    <tr>\n",
       "      <th>prob_skip</th>\n",
       "      <td>1.000000</td>\n",
       "      <td>-0.868157</td>\n",
       "      <td>-0.813286</td>\n",
       "      <td>-0.910183</td>\n",
       "      <td>-0.835673</td>\n",
       "      <td>-0.644388</td>\n",
       "      <td>-0.760091</td>\n",
       "    </tr>\n",
       "    <tr>\n",
       "      <th>firstrun.dur</th>\n",
       "      <td>-0.868157</td>\n",
       "      <td>1.000000</td>\n",
       "      <td>0.909547</td>\n",
       "      <td>0.956443</td>\n",
       "      <td>0.878699</td>\n",
       "      <td>0.832743</td>\n",
       "      <td>0.731180</td>\n",
       "    </tr>\n",
       "    <tr>\n",
       "      <th>dur</th>\n",
       "      <td>-0.813286</td>\n",
       "      <td>0.909547</td>\n",
       "      <td>1.000000</td>\n",
       "      <td>0.889304</td>\n",
       "      <td>0.979131</td>\n",
       "      <td>0.833499</td>\n",
       "      <td>0.866507</td>\n",
       "    </tr>\n",
       "    <tr>\n",
       "      <th>firstrun.nfix</th>\n",
       "      <td>-0.910183</td>\n",
       "      <td>0.956443</td>\n",
       "      <td>0.889304</td>\n",
       "      <td>1.000000</td>\n",
       "      <td>0.908487</td>\n",
       "      <td>0.865095</td>\n",
       "      <td>0.745145</td>\n",
       "    </tr>\n",
       "    <tr>\n",
       "      <th>nfix</th>\n",
       "      <td>-0.835673</td>\n",
       "      <td>0.878699</td>\n",
       "      <td>0.979131</td>\n",
       "      <td>0.908487</td>\n",
       "      <td>1.000000</td>\n",
       "      <td>0.851267</td>\n",
       "      <td>0.881790</td>\n",
       "    </tr>\n",
       "    <tr>\n",
       "      <th>prob_refix</th>\n",
       "      <td>-0.644388</td>\n",
       "      <td>0.832743</td>\n",
       "      <td>0.833499</td>\n",
       "      <td>0.865095</td>\n",
       "      <td>0.851267</td>\n",
       "      <td>1.000000</td>\n",
       "      <td>0.646992</td>\n",
       "    </tr>\n",
       "    <tr>\n",
       "      <th>prob_reread</th>\n",
       "      <td>-0.760091</td>\n",
       "      <td>0.731180</td>\n",
       "      <td>0.866507</td>\n",
       "      <td>0.745145</td>\n",
       "      <td>0.881790</td>\n",
       "      <td>0.646992</td>\n",
       "      <td>1.000000</td>\n",
       "    </tr>\n",
       "  </tbody>\n",
       "</table>\n",
       "</div>"
      ],
      "text/plain": [
       "               prob_skip  firstrun.dur       dur  firstrun.nfix      nfix  \\\n",
       "prob_skip       1.000000     -0.868157 -0.813286      -0.910183 -0.835673   \n",
       "firstrun.dur   -0.868157      1.000000  0.909547       0.956443  0.878699   \n",
       "dur            -0.813286      0.909547  1.000000       0.889304  0.979131   \n",
       "firstrun.nfix  -0.910183      0.956443  0.889304       1.000000  0.908487   \n",
       "nfix           -0.835673      0.878699  0.979131       0.908487  1.000000   \n",
       "prob_refix     -0.644388      0.832743  0.833499       0.865095  0.851267   \n",
       "prob_reread    -0.760091      0.731180  0.866507       0.745145  0.881790   \n",
       "\n",
       "               prob_refix  prob_reread  \n",
       "prob_skip       -0.644388    -0.760091  \n",
       "firstrun.dur     0.832743     0.731180  \n",
       "dur              0.833499     0.866507  \n",
       "firstrun.nfix    0.865095     0.745145  \n",
       "nfix             0.851267     0.881790  \n",
       "prob_refix       1.000000     0.646992  \n",
       "prob_reread      0.646992     1.000000  "
      ]
     },
     "execution_count": 58,
     "metadata": {},
     "output_type": "execute_result"
    }
   ],
   "source": [
    "grouped_clusterd_df_0_sp[[\"prob_skip\", \"firstrun.dur\", \"dur\", \"firstrun.nfix\", \"nfix\", \"prob_refix\", \"prob_reread\"]].corr()"
   ]
  },
  {
   "cell_type": "code",
   "execution_count": 59,
   "id": "2a48a580",
   "metadata": {},
   "outputs": [],
   "source": [
    "grouped_clusterd_df_0_sp.to_csv(f\"datasets/sp/all_mean_dataset.csv\")"
   ]
  },
  {
   "cell_type": "markdown",
   "id": "2abcbd6f",
   "metadata": {},
   "source": [
    "### Ge"
   ]
  },
  {
   "cell_type": "code",
   "execution_count": 60,
   "id": "3a83dc99",
   "metadata": {},
   "outputs": [],
   "source": [
    "df_complete_common_user_ge = df_complete_common_user[df_complete_common_user.lang==\"ge\"]"
   ]
  },
  {
   "cell_type": "code",
   "execution_count": 61,
   "id": "b30b7e4b",
   "metadata": {},
   "outputs": [
    {
     "data": {
      "text/html": [
       "<div>\n",
       "<style scoped>\n",
       "    .dataframe tbody tr th:only-of-type {\n",
       "        vertical-align: middle;\n",
       "    }\n",
       "\n",
       "    .dataframe tbody tr th {\n",
       "        vertical-align: top;\n",
       "    }\n",
       "\n",
       "    .dataframe thead th {\n",
       "        text-align: right;\n",
       "    }\n",
       "</style>\n",
       "<table border=\"1\" class=\"dataframe\">\n",
       "  <thead>\n",
       "    <tr style=\"text-align: right;\">\n",
       "      <th></th>\n",
       "      <th>trialid</th>\n",
       "      <th>sentnum</th>\n",
       "      <th>ianum</th>\n",
       "      <th>ia</th>\n",
       "      <th>lang</th>\n",
       "      <th>uniform_id</th>\n",
       "      <th>skip</th>\n",
       "      <th>firstfix.dur</th>\n",
       "      <th>firstrun.dur</th>\n",
       "      <th>dur</th>\n",
       "      <th>firstrun.nfix</th>\n",
       "      <th>nfix</th>\n",
       "      <th>refix</th>\n",
       "      <th>reread</th>\n",
       "    </tr>\n",
       "  </thead>\n",
       "  <tbody>\n",
       "    <tr>\n",
       "      <th>193910</th>\n",
       "      <td>1.0</td>\n",
       "      <td>1.0</td>\n",
       "      <td>1.0</td>\n",
       "      <td>In</td>\n",
       "      <td>ge</td>\n",
       "      <td>ge_1</td>\n",
       "      <td>0.0</td>\n",
       "      <td>164.0</td>\n",
       "      <td>164.0</td>\n",
       "      <td>164.0</td>\n",
       "      <td>1.0</td>\n",
       "      <td>1.0</td>\n",
       "      <td>0.0</td>\n",
       "      <td>0.0</td>\n",
       "    </tr>\n",
       "    <tr>\n",
       "      <th>193911</th>\n",
       "      <td>1.0</td>\n",
       "      <td>1.0</td>\n",
       "      <td>2.0</td>\n",
       "      <td>der</td>\n",
       "      <td>ge</td>\n",
       "      <td>ge_1</td>\n",
       "      <td>0.0</td>\n",
       "      <td>166.0</td>\n",
       "      <td>166.0</td>\n",
       "      <td>657.0</td>\n",
       "      <td>1.0</td>\n",
       "      <td>3.0</td>\n",
       "      <td>0.0</td>\n",
       "      <td>1.0</td>\n",
       "    </tr>\n",
       "    <tr>\n",
       "      <th>193912</th>\n",
       "      <td>1.0</td>\n",
       "      <td>1.0</td>\n",
       "      <td>3.0</td>\n",
       "      <td>alten</td>\n",
       "      <td>ge</td>\n",
       "      <td>ge_1</td>\n",
       "      <td>0.0</td>\n",
       "      <td>144.0</td>\n",
       "      <td>144.0</td>\n",
       "      <td>717.0</td>\n",
       "      <td>1.0</td>\n",
       "      <td>3.0</td>\n",
       "      <td>0.0</td>\n",
       "      <td>1.0</td>\n",
       "    </tr>\n",
       "    <tr>\n",
       "      <th>193913</th>\n",
       "      <td>1.0</td>\n",
       "      <td>1.0</td>\n",
       "      <td>4.0</td>\n",
       "      <td>römischen</td>\n",
       "      <td>ge</td>\n",
       "      <td>ge_1</td>\n",
       "      <td>0.0</td>\n",
       "      <td>219.0</td>\n",
       "      <td>219.0</td>\n",
       "      <td>1231.0</td>\n",
       "      <td>1.0</td>\n",
       "      <td>6.0</td>\n",
       "      <td>0.0</td>\n",
       "      <td>1.0</td>\n",
       "    </tr>\n",
       "    <tr>\n",
       "      <th>193914</th>\n",
       "      <td>1.0</td>\n",
       "      <td>1.0</td>\n",
       "      <td>5.0</td>\n",
       "      <td>Religion</td>\n",
       "      <td>ge</td>\n",
       "      <td>ge_1</td>\n",
       "      <td>0.0</td>\n",
       "      <td>151.0</td>\n",
       "      <td>151.0</td>\n",
       "      <td>1338.0</td>\n",
       "      <td>1.0</td>\n",
       "      <td>8.0</td>\n",
       "      <td>1.0</td>\n",
       "      <td>1.0</td>\n",
       "    </tr>\n",
       "  </tbody>\n",
       "</table>\n",
       "</div>"
      ],
      "text/plain": [
       "        trialid  sentnum  ianum         ia lang uniform_id  skip  \\\n",
       "193910      1.0      1.0    1.0         In   ge       ge_1   0.0   \n",
       "193911      1.0      1.0    2.0        der   ge       ge_1   0.0   \n",
       "193912      1.0      1.0    3.0      alten   ge       ge_1   0.0   \n",
       "193913      1.0      1.0    4.0  römischen   ge       ge_1   0.0   \n",
       "193914      1.0      1.0    5.0   Religion   ge       ge_1   0.0   \n",
       "\n",
       "        firstfix.dur  firstrun.dur     dur  firstrun.nfix  nfix  refix  reread  \n",
       "193910         164.0         164.0   164.0            1.0   1.0    0.0     0.0  \n",
       "193911         166.0         166.0   657.0            1.0   3.0    0.0     1.0  \n",
       "193912         144.0         144.0   717.0            1.0   3.0    0.0     1.0  \n",
       "193913         219.0         219.0  1231.0            1.0   6.0    0.0     1.0  \n",
       "193914         151.0         151.0  1338.0            1.0   8.0    1.0     1.0  "
      ]
     },
     "execution_count": 61,
     "metadata": {},
     "output_type": "execute_result"
    }
   ],
   "source": [
    "df_complete_common_user_ge.head()"
   ]
  },
  {
   "cell_type": "code",
   "execution_count": 62,
   "id": "bd0a0544",
   "metadata": {},
   "outputs": [
    {
     "name": "stdout",
     "output_type": "stream",
     "text": [
      "Number of sentence after group : 115\n"
     ]
    }
   ],
   "source": [
    "grouped_clusterd_df_0_ge = group_by_users(df_complete_common_user_ge)"
   ]
  },
  {
   "cell_type": "code",
   "execution_count": 63,
   "id": "c9f55f26",
   "metadata": {},
   "outputs": [
    {
     "data": {
      "text/plain": [
       "(2027, 14)"
      ]
     },
     "execution_count": 63,
     "metadata": {},
     "output_type": "execute_result"
    }
   ],
   "source": [
    "grouped_clusterd_df_0_ge.shape"
   ]
  },
  {
   "cell_type": "code",
   "execution_count": 64,
   "id": "b57a603f",
   "metadata": {},
   "outputs": [],
   "source": [
    "grouped_clusterd_df_0_ge.rename(columns={\"skip\" : \"prob_skip\", \"refix\" : \"prob_refix\", \"reread\" : \"prob_reread\"}, inplace=True)\n",
    "\n",
    "grouped_clusterd_df_0_ge.ianum = grouped_clusterd_df_0_ge.ianum.astype(int)\n",
    "grouped_clusterd_df_0_ge.trialid = grouped_clusterd_df_0_ge.trialid.astype(int)\n",
    "grouped_clusterd_df_0_ge.trial_sentnum = grouped_clusterd_df_0_ge.trial_sentnum.astype(int)"
   ]
  },
  {
   "cell_type": "code",
   "execution_count": 65,
   "id": "ac379a9a",
   "metadata": {},
   "outputs": [
    {
     "data": {
      "text/html": [
       "<div>\n",
       "<style scoped>\n",
       "    .dataframe tbody tr th:only-of-type {\n",
       "        vertical-align: middle;\n",
       "    }\n",
       "\n",
       "    .dataframe tbody tr th {\n",
       "        vertical-align: top;\n",
       "    }\n",
       "\n",
       "    .dataframe thead th {\n",
       "        text-align: right;\n",
       "    }\n",
       "</style>\n",
       "<table border=\"1\" class=\"dataframe\">\n",
       "  <thead>\n",
       "    <tr style=\"text-align: right;\">\n",
       "      <th></th>\n",
       "      <th>lang</th>\n",
       "      <th>ia</th>\n",
       "      <th>ianum</th>\n",
       "      <th>sentnum</th>\n",
       "      <th>trialid</th>\n",
       "      <th>prob_skip</th>\n",
       "      <th>firstfix.dur</th>\n",
       "      <th>firstrun.dur</th>\n",
       "      <th>dur</th>\n",
       "      <th>firstrun.nfix</th>\n",
       "      <th>nfix</th>\n",
       "      <th>prob_refix</th>\n",
       "      <th>prob_reread</th>\n",
       "      <th>trial_sentnum</th>\n",
       "    </tr>\n",
       "  </thead>\n",
       "  <tbody>\n",
       "    <tr>\n",
       "      <th>0</th>\n",
       "      <td>ge</td>\n",
       "      <td>In</td>\n",
       "      <td>1</td>\n",
       "      <td>0</td>\n",
       "      <td>1</td>\n",
       "      <td>0.1875</td>\n",
       "      <td>127.0000</td>\n",
       "      <td>127.0000</td>\n",
       "      <td>164.2500</td>\n",
       "      <td>0.8125</td>\n",
       "      <td>1.0000</td>\n",
       "      <td>0.0000</td>\n",
       "      <td>0.1250</td>\n",
       "      <td>1</td>\n",
       "    </tr>\n",
       "    <tr>\n",
       "      <th>1</th>\n",
       "      <td>ge</td>\n",
       "      <td>der</td>\n",
       "      <td>2</td>\n",
       "      <td>0</td>\n",
       "      <td>1</td>\n",
       "      <td>0.0625</td>\n",
       "      <td>172.4375</td>\n",
       "      <td>257.3750</td>\n",
       "      <td>445.0625</td>\n",
       "      <td>1.2500</td>\n",
       "      <td>1.9375</td>\n",
       "      <td>0.1875</td>\n",
       "      <td>0.3125</td>\n",
       "      <td>1</td>\n",
       "    </tr>\n",
       "    <tr>\n",
       "      <th>2</th>\n",
       "      <td>ge</td>\n",
       "      <td>alten</td>\n",
       "      <td>3</td>\n",
       "      <td>0</td>\n",
       "      <td>1</td>\n",
       "      <td>0.0000</td>\n",
       "      <td>197.7500</td>\n",
       "      <td>265.5625</td>\n",
       "      <td>560.0000</td>\n",
       "      <td>1.3125</td>\n",
       "      <td>2.7500</td>\n",
       "      <td>0.2500</td>\n",
       "      <td>0.6875</td>\n",
       "      <td>1</td>\n",
       "    </tr>\n",
       "    <tr>\n",
       "      <th>3</th>\n",
       "      <td>ge</td>\n",
       "      <td>römischen</td>\n",
       "      <td>4</td>\n",
       "      <td>0</td>\n",
       "      <td>1</td>\n",
       "      <td>0.0000</td>\n",
       "      <td>172.3125</td>\n",
       "      <td>220.3750</td>\n",
       "      <td>699.3750</td>\n",
       "      <td>1.2500</td>\n",
       "      <td>3.7500</td>\n",
       "      <td>0.3125</td>\n",
       "      <td>0.6875</td>\n",
       "      <td>1</td>\n",
       "    </tr>\n",
       "    <tr>\n",
       "      <th>4</th>\n",
       "      <td>ge</td>\n",
       "      <td>Religion</td>\n",
       "      <td>5</td>\n",
       "      <td>0</td>\n",
       "      <td>1</td>\n",
       "      <td>0.0000</td>\n",
       "      <td>229.0625</td>\n",
       "      <td>308.4375</td>\n",
       "      <td>674.8750</td>\n",
       "      <td>1.3125</td>\n",
       "      <td>3.1875</td>\n",
       "      <td>0.3750</td>\n",
       "      <td>0.6250</td>\n",
       "      <td>1</td>\n",
       "    </tr>\n",
       "  </tbody>\n",
       "</table>\n",
       "</div>"
      ],
      "text/plain": [
       "  lang         ia  ianum  sentnum  trialid  prob_skip  firstfix.dur  \\\n",
       "0   ge         In      1        0        1     0.1875      127.0000   \n",
       "1   ge        der      2        0        1     0.0625      172.4375   \n",
       "2   ge      alten      3        0        1     0.0000      197.7500   \n",
       "3   ge  römischen      4        0        1     0.0000      172.3125   \n",
       "4   ge   Religion      5        0        1     0.0000      229.0625   \n",
       "\n",
       "   firstrun.dur       dur  firstrun.nfix    nfix  prob_refix  prob_reread  \\\n",
       "0      127.0000  164.2500         0.8125  1.0000      0.0000       0.1250   \n",
       "1      257.3750  445.0625         1.2500  1.9375      0.1875       0.3125   \n",
       "2      265.5625  560.0000         1.3125  2.7500      0.2500       0.6875   \n",
       "3      220.3750  699.3750         1.2500  3.7500      0.3125       0.6875   \n",
       "4      308.4375  674.8750         1.3125  3.1875      0.3750       0.6250   \n",
       "\n",
       "   trial_sentnum  \n",
       "0              1  \n",
       "1              1  \n",
       "2              1  \n",
       "3              1  \n",
       "4              1  "
      ]
     },
     "execution_count": 65,
     "metadata": {},
     "output_type": "execute_result"
    }
   ],
   "source": [
    "grouped_clusterd_df_0_ge.head()"
   ]
  },
  {
   "cell_type": "code",
   "execution_count": 66,
   "id": "98f0137b",
   "metadata": {},
   "outputs": [
    {
     "data": {
      "text/html": [
       "<div>\n",
       "<style scoped>\n",
       "    .dataframe tbody tr th:only-of-type {\n",
       "        vertical-align: middle;\n",
       "    }\n",
       "\n",
       "    .dataframe tbody tr th {\n",
       "        vertical-align: top;\n",
       "    }\n",
       "\n",
       "    .dataframe thead th {\n",
       "        text-align: right;\n",
       "    }\n",
       "</style>\n",
       "<table border=\"1\" class=\"dataframe\">\n",
       "  <thead>\n",
       "    <tr style=\"text-align: right;\">\n",
       "      <th></th>\n",
       "      <th>prob_skip</th>\n",
       "      <th>firstrun.dur</th>\n",
       "      <th>dur</th>\n",
       "      <th>firstrun.nfix</th>\n",
       "      <th>nfix</th>\n",
       "      <th>prob_refix</th>\n",
       "      <th>prob_reread</th>\n",
       "    </tr>\n",
       "  </thead>\n",
       "  <tbody>\n",
       "    <tr>\n",
       "      <th>prob_skip</th>\n",
       "      <td>1.000000</td>\n",
       "      <td>-0.725795</td>\n",
       "      <td>-0.692609</td>\n",
       "      <td>-0.758281</td>\n",
       "      <td>-0.718313</td>\n",
       "      <td>-0.602244</td>\n",
       "      <td>-0.556576</td>\n",
       "    </tr>\n",
       "    <tr>\n",
       "      <th>firstrun.dur</th>\n",
       "      <td>-0.725795</td>\n",
       "      <td>1.000000</td>\n",
       "      <td>0.918548</td>\n",
       "      <td>0.964842</td>\n",
       "      <td>0.886672</td>\n",
       "      <td>0.861991</td>\n",
       "      <td>0.480979</td>\n",
       "    </tr>\n",
       "    <tr>\n",
       "      <th>dur</th>\n",
       "      <td>-0.692609</td>\n",
       "      <td>0.918548</td>\n",
       "      <td>1.000000</td>\n",
       "      <td>0.901633</td>\n",
       "      <td>0.980085</td>\n",
       "      <td>0.850051</td>\n",
       "      <td>0.710137</td>\n",
       "    </tr>\n",
       "    <tr>\n",
       "      <th>firstrun.nfix</th>\n",
       "      <td>-0.758281</td>\n",
       "      <td>0.964842</td>\n",
       "      <td>0.901633</td>\n",
       "      <td>1.000000</td>\n",
       "      <td>0.917651</td>\n",
       "      <td>0.899103</td>\n",
       "      <td>0.500298</td>\n",
       "    </tr>\n",
       "    <tr>\n",
       "      <th>nfix</th>\n",
       "      <td>-0.718313</td>\n",
       "      <td>0.886672</td>\n",
       "      <td>0.980085</td>\n",
       "      <td>0.917651</td>\n",
       "      <td>1.000000</td>\n",
       "      <td>0.872061</td>\n",
       "      <td>0.739326</td>\n",
       "    </tr>\n",
       "    <tr>\n",
       "      <th>prob_refix</th>\n",
       "      <td>-0.602244</td>\n",
       "      <td>0.861991</td>\n",
       "      <td>0.850051</td>\n",
       "      <td>0.899103</td>\n",
       "      <td>0.872061</td>\n",
       "      <td>1.000000</td>\n",
       "      <td>0.508674</td>\n",
       "    </tr>\n",
       "    <tr>\n",
       "      <th>prob_reread</th>\n",
       "      <td>-0.556576</td>\n",
       "      <td>0.480979</td>\n",
       "      <td>0.710137</td>\n",
       "      <td>0.500298</td>\n",
       "      <td>0.739326</td>\n",
       "      <td>0.508674</td>\n",
       "      <td>1.000000</td>\n",
       "    </tr>\n",
       "  </tbody>\n",
       "</table>\n",
       "</div>"
      ],
      "text/plain": [
       "               prob_skip  firstrun.dur       dur  firstrun.nfix      nfix  \\\n",
       "prob_skip       1.000000     -0.725795 -0.692609      -0.758281 -0.718313   \n",
       "firstrun.dur   -0.725795      1.000000  0.918548       0.964842  0.886672   \n",
       "dur            -0.692609      0.918548  1.000000       0.901633  0.980085   \n",
       "firstrun.nfix  -0.758281      0.964842  0.901633       1.000000  0.917651   \n",
       "nfix           -0.718313      0.886672  0.980085       0.917651  1.000000   \n",
       "prob_refix     -0.602244      0.861991  0.850051       0.899103  0.872061   \n",
       "prob_reread    -0.556576      0.480979  0.710137       0.500298  0.739326   \n",
       "\n",
       "               prob_refix  prob_reread  \n",
       "prob_skip       -0.602244    -0.556576  \n",
       "firstrun.dur     0.861991     0.480979  \n",
       "dur              0.850051     0.710137  \n",
       "firstrun.nfix    0.899103     0.500298  \n",
       "nfix             0.872061     0.739326  \n",
       "prob_refix       1.000000     0.508674  \n",
       "prob_reread      0.508674     1.000000  "
      ]
     },
     "execution_count": 66,
     "metadata": {},
     "output_type": "execute_result"
    }
   ],
   "source": [
    "grouped_clusterd_df_0_ge[[\"prob_skip\", \"firstrun.dur\", \"dur\", \"firstrun.nfix\", \"nfix\", \"prob_refix\", \"prob_reread\"]].corr()"
   ]
  },
  {
   "cell_type": "code",
   "execution_count": 67,
   "id": "f922705f",
   "metadata": {},
   "outputs": [],
   "source": [
    "grouped_clusterd_df_0_ge.to_csv(f\"datasets/ge/all_mean_dataset.csv\")"
   ]
  },
  {
   "cell_type": "markdown",
   "id": "3a1dc04c",
   "metadata": {},
   "source": [
    "# Clustering Users\n",
    "\n",
    "We need to cluster users to handle separate readers behaviours, since the fact that the grouped features have different correlation matrix wrt to non grouped data.\n",
    "\n",
    "We will cluster only the users which read all the sentence in all the trials. Since the users that have those properties are italian, spanish or germans, We will clusterize the users of the same language."
   ]
  },
  {
   "cell_type": "code",
   "execution_count": 68,
   "id": "65b4c598",
   "metadata": {},
   "outputs": [],
   "source": [
    "cluster_lang = \"it\""
   ]
  },
  {
   "cell_type": "code",
   "execution_count": 69,
   "id": "6c9f6a19",
   "metadata": {},
   "outputs": [],
   "source": [
    "df_complete_common_user_lang = df_complete_common_user[df_complete_common_user.lang==cluster_lang]"
   ]
  },
  {
   "cell_type": "code",
   "execution_count": 70,
   "id": "63026256",
   "metadata": {},
   "outputs": [
    {
     "data": {
      "text/html": [
       "<div>\n",
       "<style scoped>\n",
       "    .dataframe tbody tr th:only-of-type {\n",
       "        vertical-align: middle;\n",
       "    }\n",
       "\n",
       "    .dataframe tbody tr th {\n",
       "        vertical-align: top;\n",
       "    }\n",
       "\n",
       "    .dataframe thead th {\n",
       "        text-align: right;\n",
       "    }\n",
       "</style>\n",
       "<table border=\"1\" class=\"dataframe\">\n",
       "  <thead>\n",
       "    <tr style=\"text-align: right;\">\n",
       "      <th></th>\n",
       "      <th>trialid</th>\n",
       "      <th>sentnum</th>\n",
       "      <th>ianum</th>\n",
       "      <th>ia</th>\n",
       "      <th>lang</th>\n",
       "      <th>uniform_id</th>\n",
       "      <th>skip</th>\n",
       "      <th>firstfix.dur</th>\n",
       "      <th>firstrun.dur</th>\n",
       "      <th>dur</th>\n",
       "      <th>firstrun.nfix</th>\n",
       "      <th>nfix</th>\n",
       "      <th>refix</th>\n",
       "      <th>reread</th>\n",
       "    </tr>\n",
       "  </thead>\n",
       "  <tbody>\n",
       "    <tr>\n",
       "      <th>397572</th>\n",
       "      <td>1.0</td>\n",
       "      <td>2.0</td>\n",
       "      <td>25.0</td>\n",
       "      <td>come</td>\n",
       "      <td>it</td>\n",
       "      <td>it_3</td>\n",
       "      <td>0.0</td>\n",
       "      <td>555.0</td>\n",
       "      <td>555.0</td>\n",
       "      <td>555.0</td>\n",
       "      <td>1.0</td>\n",
       "      <td>1.0</td>\n",
       "      <td>0.0</td>\n",
       "      <td>0.0</td>\n",
       "    </tr>\n",
       "    <tr>\n",
       "      <th>397573</th>\n",
       "      <td>1.0</td>\n",
       "      <td>2.0</td>\n",
       "      <td>26.0</td>\n",
       "      <td>avente</td>\n",
       "      <td>it</td>\n",
       "      <td>it_3</td>\n",
       "      <td>0.0</td>\n",
       "      <td>282.0</td>\n",
       "      <td>282.0</td>\n",
       "      <td>282.0</td>\n",
       "      <td>1.0</td>\n",
       "      <td>1.0</td>\n",
       "      <td>0.0</td>\n",
       "      <td>0.0</td>\n",
       "    </tr>\n",
       "    <tr>\n",
       "      <th>397574</th>\n",
       "      <td>1.0</td>\n",
       "      <td>2.0</td>\n",
       "      <td>27.0</td>\n",
       "      <td>due</td>\n",
       "      <td>it</td>\n",
       "      <td>it_3</td>\n",
       "      <td>0.0</td>\n",
       "      <td>281.0</td>\n",
       "      <td>281.0</td>\n",
       "      <td>281.0</td>\n",
       "      <td>1.0</td>\n",
       "      <td>1.0</td>\n",
       "      <td>0.0</td>\n",
       "      <td>0.0</td>\n",
       "    </tr>\n",
       "    <tr>\n",
       "      <th>397575</th>\n",
       "      <td>1.0</td>\n",
       "      <td>2.0</td>\n",
       "      <td>28.0</td>\n",
       "      <td>facce,</td>\n",
       "      <td>it</td>\n",
       "      <td>it_3</td>\n",
       "      <td>1.0</td>\n",
       "      <td>0.0</td>\n",
       "      <td>0.0</td>\n",
       "      <td>0.0</td>\n",
       "      <td>0.0</td>\n",
       "      <td>0.0</td>\n",
       "      <td>0.0</td>\n",
       "      <td>0.0</td>\n",
       "    </tr>\n",
       "    <tr>\n",
       "      <th>397576</th>\n",
       "      <td>1.0</td>\n",
       "      <td>2.0</td>\n",
       "      <td>29.0</td>\n",
       "      <td>poiché</td>\n",
       "      <td>it</td>\n",
       "      <td>it_3</td>\n",
       "      <td>1.0</td>\n",
       "      <td>0.0</td>\n",
       "      <td>0.0</td>\n",
       "      <td>0.0</td>\n",
       "      <td>0.0</td>\n",
       "      <td>0.0</td>\n",
       "      <td>0.0</td>\n",
       "      <td>0.0</td>\n",
       "    </tr>\n",
       "  </tbody>\n",
       "</table>\n",
       "</div>"
      ],
      "text/plain": [
       "        trialid  sentnum  ianum      ia lang uniform_id  skip  firstfix.dur  \\\n",
       "397572      1.0      2.0   25.0    come   it       it_3   0.0         555.0   \n",
       "397573      1.0      2.0   26.0  avente   it       it_3   0.0         282.0   \n",
       "397574      1.0      2.0   27.0     due   it       it_3   0.0         281.0   \n",
       "397575      1.0      2.0   28.0  facce,   it       it_3   1.0           0.0   \n",
       "397576      1.0      2.0   29.0  poiché   it       it_3   1.0           0.0   \n",
       "\n",
       "        firstrun.dur    dur  firstrun.nfix  nfix  refix  reread  \n",
       "397572         555.0  555.0            1.0   1.0    0.0     0.0  \n",
       "397573         282.0  282.0            1.0   1.0    0.0     0.0  \n",
       "397574         281.0  281.0            1.0   1.0    0.0     0.0  \n",
       "397575           0.0    0.0            0.0   0.0    0.0     0.0  \n",
       "397576           0.0    0.0            0.0   0.0    0.0     0.0  "
      ]
     },
     "execution_count": 70,
     "metadata": {},
     "output_type": "execute_result"
    }
   ],
   "source": [
    "df_complete_common_user_lang.head()"
   ]
  },
  {
   "cell_type": "markdown",
   "id": "5838af44",
   "metadata": {},
   "source": [
    "## Profiling the Users\n",
    "\n",
    "First of all we have to see if each trial havethe same users"
   ]
  },
  {
   "cell_type": "code",
   "execution_count": 71,
   "id": "045986a4",
   "metadata": {},
   "outputs": [
    {
     "data": {
      "text/html": [
       "<div>\n",
       "<style scoped>\n",
       "    .dataframe tbody tr th:only-of-type {\n",
       "        vertical-align: middle;\n",
       "    }\n",
       "\n",
       "    .dataframe tbody tr th {\n",
       "        vertical-align: top;\n",
       "    }\n",
       "\n",
       "    .dataframe thead th {\n",
       "        text-align: right;\n",
       "    }\n",
       "</style>\n",
       "<table border=\"1\" class=\"dataframe\">\n",
       "  <thead>\n",
       "    <tr style=\"text-align: right;\">\n",
       "      <th></th>\n",
       "      <th>trialid</th>\n",
       "      <th>sentnum</th>\n",
       "      <th>ianum</th>\n",
       "      <th>ia</th>\n",
       "      <th>lang</th>\n",
       "      <th>uniform_id</th>\n",
       "      <th>skip</th>\n",
       "      <th>firstfix.dur</th>\n",
       "      <th>firstrun.dur</th>\n",
       "      <th>dur</th>\n",
       "      <th>firstrun.nfix</th>\n",
       "      <th>nfix</th>\n",
       "      <th>refix</th>\n",
       "      <th>reread</th>\n",
       "    </tr>\n",
       "  </thead>\n",
       "  <tbody>\n",
       "    <tr>\n",
       "      <th>397572</th>\n",
       "      <td>1.0</td>\n",
       "      <td>2.0</td>\n",
       "      <td>25.0</td>\n",
       "      <td>come</td>\n",
       "      <td>it</td>\n",
       "      <td>it_3</td>\n",
       "      <td>0.0</td>\n",
       "      <td>555.0</td>\n",
       "      <td>555.0</td>\n",
       "      <td>555.0</td>\n",
       "      <td>1.0</td>\n",
       "      <td>1.0</td>\n",
       "      <td>0.0</td>\n",
       "      <td>0.0</td>\n",
       "    </tr>\n",
       "    <tr>\n",
       "      <th>397573</th>\n",
       "      <td>1.0</td>\n",
       "      <td>2.0</td>\n",
       "      <td>26.0</td>\n",
       "      <td>avente</td>\n",
       "      <td>it</td>\n",
       "      <td>it_3</td>\n",
       "      <td>0.0</td>\n",
       "      <td>282.0</td>\n",
       "      <td>282.0</td>\n",
       "      <td>282.0</td>\n",
       "      <td>1.0</td>\n",
       "      <td>1.0</td>\n",
       "      <td>0.0</td>\n",
       "      <td>0.0</td>\n",
       "    </tr>\n",
       "    <tr>\n",
       "      <th>397574</th>\n",
       "      <td>1.0</td>\n",
       "      <td>2.0</td>\n",
       "      <td>27.0</td>\n",
       "      <td>due</td>\n",
       "      <td>it</td>\n",
       "      <td>it_3</td>\n",
       "      <td>0.0</td>\n",
       "      <td>281.0</td>\n",
       "      <td>281.0</td>\n",
       "      <td>281.0</td>\n",
       "      <td>1.0</td>\n",
       "      <td>1.0</td>\n",
       "      <td>0.0</td>\n",
       "      <td>0.0</td>\n",
       "    </tr>\n",
       "    <tr>\n",
       "      <th>397575</th>\n",
       "      <td>1.0</td>\n",
       "      <td>2.0</td>\n",
       "      <td>28.0</td>\n",
       "      <td>facce,</td>\n",
       "      <td>it</td>\n",
       "      <td>it_3</td>\n",
       "      <td>1.0</td>\n",
       "      <td>0.0</td>\n",
       "      <td>0.0</td>\n",
       "      <td>0.0</td>\n",
       "      <td>0.0</td>\n",
       "      <td>0.0</td>\n",
       "      <td>0.0</td>\n",
       "      <td>0.0</td>\n",
       "    </tr>\n",
       "    <tr>\n",
       "      <th>397576</th>\n",
       "      <td>1.0</td>\n",
       "      <td>2.0</td>\n",
       "      <td>29.0</td>\n",
       "      <td>poiché</td>\n",
       "      <td>it</td>\n",
       "      <td>it_3</td>\n",
       "      <td>1.0</td>\n",
       "      <td>0.0</td>\n",
       "      <td>0.0</td>\n",
       "      <td>0.0</td>\n",
       "      <td>0.0</td>\n",
       "      <td>0.0</td>\n",
       "      <td>0.0</td>\n",
       "      <td>0.0</td>\n",
       "    </tr>\n",
       "  </tbody>\n",
       "</table>\n",
       "</div>"
      ],
      "text/plain": [
       "        trialid  sentnum  ianum      ia lang uniform_id  skip  firstfix.dur  \\\n",
       "397572      1.0      2.0   25.0    come   it       it_3   0.0         555.0   \n",
       "397573      1.0      2.0   26.0  avente   it       it_3   0.0         282.0   \n",
       "397574      1.0      2.0   27.0     due   it       it_3   0.0         281.0   \n",
       "397575      1.0      2.0   28.0  facce,   it       it_3   1.0           0.0   \n",
       "397576      1.0      2.0   29.0  poiché   it       it_3   1.0           0.0   \n",
       "\n",
       "        firstrun.dur    dur  firstrun.nfix  nfix  refix  reread  \n",
       "397572         555.0  555.0            1.0   1.0    0.0     0.0  \n",
       "397573         282.0  282.0            1.0   1.0    0.0     0.0  \n",
       "397574         281.0  281.0            1.0   1.0    0.0     0.0  \n",
       "397575           0.0    0.0            0.0   0.0    0.0     0.0  \n",
       "397576           0.0    0.0            0.0   0.0    0.0     0.0  "
      ]
     },
     "execution_count": 71,
     "metadata": {},
     "output_type": "execute_result"
    }
   ],
   "source": [
    "df_complete_common_user_lang.head()"
   ]
  },
  {
   "cell_type": "markdown",
   "id": "ee8d2b71",
   "metadata": {},
   "source": [
    "The trials doesn't contain the same readers"
   ]
  },
  {
   "cell_type": "code",
   "execution_count": 72,
   "id": "5167bf35",
   "metadata": {},
   "outputs": [],
   "source": [
    "reader_grouped_df = df_complete_common_user_lang.groupby([\"uniform_id\", \"lang\"])[gaze_features].mean().reset_index(level=0).reset_index(level=0)"
   ]
  },
  {
   "cell_type": "code",
   "execution_count": 73,
   "id": "96dcf0c0",
   "metadata": {
    "scrolled": false
   },
   "outputs": [
    {
     "name": "stdout",
     "output_type": "stream",
     "text": [
      "<class 'pandas.core.frame.DataFrame'>\n",
      "RangeIndex: 9 entries, 0 to 8\n",
      "Data columns (total 10 columns):\n",
      " #   Column         Non-Null Count  Dtype  \n",
      "---  ------         --------------  -----  \n",
      " 0   lang           9 non-null      object \n",
      " 1   uniform_id     9 non-null      object \n",
      " 2   skip           9 non-null      float64\n",
      " 3   firstfix.dur   9 non-null      float64\n",
      " 4   firstrun.dur   9 non-null      float64\n",
      " 5   dur            9 non-null      float64\n",
      " 6   firstrun.nfix  9 non-null      float64\n",
      " 7   nfix           9 non-null      float64\n",
      " 8   refix          9 non-null      float64\n",
      " 9   reread         9 non-null      float64\n",
      "dtypes: float64(8), object(2)\n",
      "memory usage: 848.0+ bytes\n"
     ]
    }
   ],
   "source": [
    "reader_grouped_df.info()"
   ]
  },
  {
   "cell_type": "code",
   "execution_count": 74,
   "id": "c3f2db48",
   "metadata": {},
   "outputs": [
    {
     "data": {
      "text/plain": [
       "array(['it_11', 'it_13', 'it_17', 'it_21', 'it_26', 'it_3', 'it_36',\n",
       "       'it_37', 'it_48'], dtype=object)"
      ]
     },
     "execution_count": 74,
     "metadata": {},
     "output_type": "execute_result"
    }
   ],
   "source": [
    "reader_grouped_df.uniform_id.unique()"
   ]
  },
  {
   "cell_type": "code",
   "execution_count": 75,
   "id": "8fb9b1dd",
   "metadata": {},
   "outputs": [
    {
     "data": {
      "text/html": [
       "<div>\n",
       "<style scoped>\n",
       "    .dataframe tbody tr th:only-of-type {\n",
       "        vertical-align: middle;\n",
       "    }\n",
       "\n",
       "    .dataframe tbody tr th {\n",
       "        vertical-align: top;\n",
       "    }\n",
       "\n",
       "    .dataframe thead th {\n",
       "        text-align: right;\n",
       "    }\n",
       "</style>\n",
       "<table border=\"1\" class=\"dataframe\">\n",
       "  <thead>\n",
       "    <tr style=\"text-align: right;\">\n",
       "      <th></th>\n",
       "      <th>skip</th>\n",
       "      <th>firstfix.dur</th>\n",
       "      <th>firstrun.dur</th>\n",
       "      <th>dur</th>\n",
       "      <th>firstrun.nfix</th>\n",
       "      <th>nfix</th>\n",
       "      <th>refix</th>\n",
       "      <th>reread</th>\n",
       "    </tr>\n",
       "  </thead>\n",
       "  <tbody>\n",
       "    <tr>\n",
       "      <th>skip</th>\n",
       "      <td>1.000000</td>\n",
       "      <td>-0.267618</td>\n",
       "      <td>-0.424776</td>\n",
       "      <td>-0.263491</td>\n",
       "      <td>-0.934903</td>\n",
       "      <td>-0.581718</td>\n",
       "      <td>-0.802780</td>\n",
       "      <td>-0.404215</td>\n",
       "    </tr>\n",
       "    <tr>\n",
       "      <th>firstfix.dur</th>\n",
       "      <td>-0.267618</td>\n",
       "      <td>1.000000</td>\n",
       "      <td>0.926193</td>\n",
       "      <td>0.851075</td>\n",
       "      <td>0.258978</td>\n",
       "      <td>0.605702</td>\n",
       "      <td>0.400408</td>\n",
       "      <td>0.485166</td>\n",
       "    </tr>\n",
       "    <tr>\n",
       "      <th>firstrun.dur</th>\n",
       "      <td>-0.424776</td>\n",
       "      <td>0.926193</td>\n",
       "      <td>1.000000</td>\n",
       "      <td>0.835671</td>\n",
       "      <td>0.518911</td>\n",
       "      <td>0.696537</td>\n",
       "      <td>0.662318</td>\n",
       "      <td>0.511219</td>\n",
       "    </tr>\n",
       "    <tr>\n",
       "      <th>dur</th>\n",
       "      <td>-0.263491</td>\n",
       "      <td>0.851075</td>\n",
       "      <td>0.835671</td>\n",
       "      <td>1.000000</td>\n",
       "      <td>0.324987</td>\n",
       "      <td>0.878804</td>\n",
       "      <td>0.564580</td>\n",
       "      <td>0.840449</td>\n",
       "    </tr>\n",
       "    <tr>\n",
       "      <th>firstrun.nfix</th>\n",
       "      <td>-0.934903</td>\n",
       "      <td>0.258978</td>\n",
       "      <td>0.518911</td>\n",
       "      <td>0.324987</td>\n",
       "      <td>1.000000</td>\n",
       "      <td>0.643517</td>\n",
       "      <td>0.940061</td>\n",
       "      <td>0.434427</td>\n",
       "    </tr>\n",
       "    <tr>\n",
       "      <th>nfix</th>\n",
       "      <td>-0.581718</td>\n",
       "      <td>0.605702</td>\n",
       "      <td>0.696537</td>\n",
       "      <td>0.878804</td>\n",
       "      <td>0.643517</td>\n",
       "      <td>1.000000</td>\n",
       "      <td>0.813131</td>\n",
       "      <td>0.950883</td>\n",
       "    </tr>\n",
       "    <tr>\n",
       "      <th>refix</th>\n",
       "      <td>-0.802780</td>\n",
       "      <td>0.400408</td>\n",
       "      <td>0.662318</td>\n",
       "      <td>0.564580</td>\n",
       "      <td>0.940061</td>\n",
       "      <td>0.813131</td>\n",
       "      <td>1.000000</td>\n",
       "      <td>0.625818</td>\n",
       "    </tr>\n",
       "    <tr>\n",
       "      <th>reread</th>\n",
       "      <td>-0.404215</td>\n",
       "      <td>0.485166</td>\n",
       "      <td>0.511219</td>\n",
       "      <td>0.840449</td>\n",
       "      <td>0.434427</td>\n",
       "      <td>0.950883</td>\n",
       "      <td>0.625818</td>\n",
       "      <td>1.000000</td>\n",
       "    </tr>\n",
       "  </tbody>\n",
       "</table>\n",
       "</div>"
      ],
      "text/plain": [
       "                   skip  firstfix.dur  firstrun.dur       dur  firstrun.nfix  \\\n",
       "skip           1.000000     -0.267618     -0.424776 -0.263491      -0.934903   \n",
       "firstfix.dur  -0.267618      1.000000      0.926193  0.851075       0.258978   \n",
       "firstrun.dur  -0.424776      0.926193      1.000000  0.835671       0.518911   \n",
       "dur           -0.263491      0.851075      0.835671  1.000000       0.324987   \n",
       "firstrun.nfix -0.934903      0.258978      0.518911  0.324987       1.000000   \n",
       "nfix          -0.581718      0.605702      0.696537  0.878804       0.643517   \n",
       "refix         -0.802780      0.400408      0.662318  0.564580       0.940061   \n",
       "reread        -0.404215      0.485166      0.511219  0.840449       0.434427   \n",
       "\n",
       "                   nfix     refix    reread  \n",
       "skip          -0.581718 -0.802780 -0.404215  \n",
       "firstfix.dur   0.605702  0.400408  0.485166  \n",
       "firstrun.dur   0.696537  0.662318  0.511219  \n",
       "dur            0.878804  0.564580  0.840449  \n",
       "firstrun.nfix  0.643517  0.940061  0.434427  \n",
       "nfix           1.000000  0.813131  0.950883  \n",
       "refix          0.813131  1.000000  0.625818  \n",
       "reread         0.950883  0.625818  1.000000  "
      ]
     },
     "execution_count": 75,
     "metadata": {},
     "output_type": "execute_result"
    }
   ],
   "source": [
    "reader_grouped_df[gaze_features].corr()"
   ]
  },
  {
   "cell_type": "markdown",
   "id": "0e79a785",
   "metadata": {},
   "source": [
    "### Apply K-means to clusterize our datas"
   ]
  },
  {
   "cell_type": "code",
   "execution_count": 76,
   "id": "8ce1162c",
   "metadata": {},
   "outputs": [],
   "source": [
    "from sklearn.cluster import KMeans\n",
    "from sklearn.metrics import silhouette_score\n",
    "from sklearn.decomposition import PCA\n",
    "from sklearn import metrics\n",
    "from sklearn.preprocessing import StandardScaler, MinMaxScaler\n",
    "from tqdm import tqdm\n",
    "import matplotlib.pyplot as plt"
   ]
  },
  {
   "cell_type": "code",
   "execution_count": 77,
   "id": "e4c689f5",
   "metadata": {},
   "outputs": [],
   "source": [
    "scaler = MinMaxScaler()\n",
    "\n",
    "X = scaler.fit_transform(reader_grouped_df[gaze_features].values)"
   ]
  },
  {
   "cell_type": "code",
   "execution_count": 78,
   "id": "4538bd88",
   "metadata": {},
   "outputs": [
    {
     "name": "stderr",
     "output_type": "stream",
     "text": [
      "100%|█████████████████████████████████████████████████████████████████████████████████████████████████████████████████████████████████████████████████████████████████████████| 6/6 [00:00<00:00, 44.89it/s]\n"
     ]
    }
   ],
   "source": [
    "sse_list = list()\n",
    "separations = list()\n",
    "silouettes_ = list()\n",
    "\n",
    "max_k = 7\n",
    "for k in tqdm(range(2, max_k + 1)):\n",
    "    kmeans = KMeans(n_clusters=k, n_init=10, max_iter=100)\n",
    "    kmeans.fit(X)\n",
    "    \n",
    "    sse = kmeans.inertia_\n",
    "    sse_list.append(sse)\n",
    "    separations.append(metrics.davies_bouldin_score(X, kmeans.labels_))\n",
    "    silouettes_.append(silhouette_score(X, kmeans.labels_))"
   ]
  },
  {
   "cell_type": "code",
   "execution_count": 79,
   "id": "f08c1bb8",
   "metadata": {},
   "outputs": [
    {
     "data": {
      "image/png": "[encoded data removed]",
      "text/plain": [
       "<Figure size 640x480 with 1 Axes>"
      ]
     },
     "metadata": {},
     "output_type": "display_data"
    }
   ],
   "source": [
    "plt.plot(range(2, len(sse_list) + 2), sse_list)\n",
    "plt.ylabel('SSE', fontsize=22)\n",
    "plt.xlabel('K', fontsize=22)\n",
    "plt.xticks(range(2, len(sse_list) + 2))\n",
    "plt.show()"
   ]
  },
  {
   "cell_type": "code",
   "execution_count": 80,
   "id": "8a48f25b",
   "metadata": {},
   "outputs": [
    {
     "data": {
      "image/png": "[encoded data removed]",
      "text/plain": [
       "<Figure size 640x480 with 1 Axes>"
      ]
     },
     "metadata": {},
     "output_type": "display_data"
    }
   ],
   "source": [
    "plt.plot(range(2, len(separations) + 2), separations)\n",
    "plt.ylabel('Separation', fontsize=22)\n",
    "plt.xlabel('K', fontsize=22)\n",
    "plt.xticks(range(2, len(separations) + 2))\n",
    "plt.show()"
   ]
  },
  {
   "cell_type": "code",
   "execution_count": 81,
   "id": "48bd6808",
   "metadata": {},
   "outputs": [
    {
     "data": {
      "image/png": "[encoded data removed]",
      "text/plain": [
       "<Figure size 640x480 with 1 Axes>"
      ]
     },
     "metadata": {},
     "output_type": "display_data"
    }
   ],
   "source": [
    "plt.plot(range(2, len(silouettes_) + 2), silouettes_)\n",
    "plt.ylabel('Silouettes', fontsize=22)\n",
    "plt.xlabel('K', fontsize=22)\n",
    "plt.xticks(range(2, len(silouettes_) + 2))\n",
    "plt.show()"
   ]
  },
  {
   "cell_type": "code",
   "execution_count": 82,
   "id": "e53fb3f4",
   "metadata": {},
   "outputs": [
    {
     "data": {
      "text/html": [
       "<style>#sk-container-id-1 {color: black;background-color: white;}#sk-container-id-1 pre{padding: 0;}#sk-container-id-1 div.sk-toggleable {background-color: white;}#sk-container-id-1 label.sk-toggleable__label {cursor: pointer;display: block;width: 100%;margin-bottom: 0;padding: 0.3em;box-sizing: border-box;text-align: center;}#sk-container-id-1 label.sk-toggleable__label-arrow:before {content: \"▸\";float: left;margin-right: 0.25em;color: #696969;}#sk-container-id-1 label.sk-toggleable__label-arrow:hover:before {color: black;}#sk-container-id-1 div.sk-estimator:hover label.sk-toggleable__label-arrow:before {color: black;}#sk-container-id-1 div.sk-toggleable__content {max-height: 0;max-width: 0;overflow: hidden;text-align: left;background-color: #f0f8ff;}#sk-container-id-1 div.sk-toggleable__content pre {margin: 0.2em;color: black;border-radius: 0.25em;background-color: #f0f8ff;}#sk-container-id-1 input.sk-toggleable__control:checked~div.sk-toggleable__content {max-height: 200px;max-width: 100%;overflow: auto;}#sk-container-id-1 input.sk-toggleable__control:checked~label.sk-toggleable__label-arrow:before {content: \"▾\";}#sk-container-id-1 div.sk-estimator input.sk-toggleable__control:checked~label.sk-toggleable__label {background-color: #d4ebff;}#sk-container-id-1 div.sk-label input.sk-toggleable__control:checked~label.sk-toggleable__label {background-color: #d4ebff;}#sk-container-id-1 input.sk-hidden--visually {border: 0;clip: rect(1px 1px 1px 1px);clip: rect(1px, 1px, 1px, 1px);height: 1px;margin: -1px;overflow: hidden;padding: 0;position: absolute;width: 1px;}#sk-container-id-1 div.sk-estimator {font-family: monospace;background-color: #f0f8ff;border: 1px dotted black;border-radius: 0.25em;box-sizing: border-box;margin-bottom: 0.5em;}#sk-container-id-1 div.sk-estimator:hover {background-color: #d4ebff;}#sk-container-id-1 div.sk-parallel-item::after {content: \"\";width: 100%;border-bottom: 1px solid gray;flex-grow: 1;}#sk-container-id-1 div.sk-label:hover label.sk-toggleable__label {background-color: #d4ebff;}#sk-container-id-1 div.sk-serial::before {content: \"\";position: absolute;border-left: 1px solid gray;box-sizing: border-box;top: 0;bottom: 0;left: 50%;z-index: 0;}#sk-container-id-1 div.sk-serial {display: flex;flex-direction: column;align-items: center;background-color: white;padding-right: 0.2em;padding-left: 0.2em;position: relative;}#sk-container-id-1 div.sk-item {position: relative;z-index: 1;}#sk-container-id-1 div.sk-parallel {display: flex;align-items: stretch;justify-content: center;background-color: white;position: relative;}#sk-container-id-1 div.sk-item::before, #sk-container-id-1 div.sk-parallel-item::before {content: \"\";position: absolute;border-left: 1px solid gray;box-sizing: border-box;top: 0;bottom: 0;left: 50%;z-index: -1;}#sk-container-id-1 div.sk-parallel-item {display: flex;flex-direction: column;z-index: 1;position: relative;background-color: white;}#sk-container-id-1 div.sk-parallel-item:first-child::after {align-self: flex-end;width: 50%;}#sk-container-id-1 div.sk-parallel-item:last-child::after {align-self: flex-start;width: 50%;}#sk-container-id-1 div.sk-parallel-item:only-child::after {width: 0;}#sk-container-id-1 div.sk-dashed-wrapped {border: 1px dashed gray;margin: 0 0.4em 0.5em 0.4em;box-sizing: border-box;padding-bottom: 0.4em;background-color: white;}#sk-container-id-1 div.sk-label label {font-family: monospace;font-weight: bold;display: inline-block;line-height: 1.2em;}#sk-container-id-1 div.sk-label-container {text-align: center;}#sk-container-id-1 div.sk-container {/* jupyter's `normalize.less` sets `[hidden] { display: none; }` but bootstrap.min.css set `[hidden] { display: none !important; }` so we also need the `!important` here to be able to override the default hidden behavior on the sphinx rendered scikit-learn.org. See: https://github.com/scikit-learn/scikit-learn/issues/21755 */display: inline-block !important;position: relative;}#sk-container-id-1 div.sk-text-repr-fallback {display: none;}</style><div id=\"sk-container-id-1\" class=\"sk-top-container\"><div class=\"sk-text-repr-fallback\"><pre>KMeans(max_iter=500, n_clusters=3, n_init=100)</pre><b>In a Jupyter environment, please rerun this cell to show the HTML representation or trust the notebook. <br />On GitHub, the HTML representation is unable to render, please try loading this page with nbviewer.org.</b></div><div class=\"sk-container\" hidden><div class=\"sk-item\"><div class=\"sk-estimator sk-toggleable\"><input class=\"sk-toggleable__control sk-hidden--visually\" id=\"sk-estimator-id-1\" type=\"checkbox\" checked><label for=\"sk-estimator-id-1\" class=\"sk-toggleable__label sk-toggleable__label-arrow\">KMeans</label><div class=\"sk-toggleable__content\"><pre>KMeans(max_iter=500, n_clusters=3, n_init=100)</pre></div></div></div></div></div>"
      ],
      "text/plain": [
       "KMeans(max_iter=500, n_clusters=3, n_init=100)"
      ]
     },
     "execution_count": 82,
     "metadata": {},
     "output_type": "execute_result"
    }
   ],
   "source": [
    "selected_k=3\n",
    "\n",
    "kmeans = KMeans(n_clusters=selected_k, n_init=100, max_iter=500)\n",
    "kmeans.fit(X)"
   ]
  },
  {
   "cell_type": "code",
   "execution_count": 83,
   "id": "c272903c",
   "metadata": {},
   "outputs": [
    {
     "name": "stdout",
     "output_type": "stream",
     "text": [
      "SSE : 1.6006613523718551\n",
      "Separation : 0.6094846233021661\n",
      "Silhouette : 0.37657819781649543\n"
     ]
    }
   ],
   "source": [
    "# sum up the metrics\n",
    "\n",
    "print(f\"SSE : {kmeans.inertia_}\")\n",
    "print(f\"Separation : {metrics.davies_bouldin_score(X, kmeans.labels_)}\")\n",
    "print(f\"Silhouette : {silhouette_score(X, kmeans.labels_)}\")"
   ]
  },
  {
   "cell_type": "code",
   "execution_count": 84,
   "id": "63985fdc",
   "metadata": {},
   "outputs": [
    {
     "data": {
      "image/png": "[encoded data removed]",
      "text/plain": [
       "<Figure size 640x480 with 1 Axes>"
      ]
     },
     "metadata": {},
     "output_type": "display_data"
    }
   ],
   "source": [
    "bot_xt_pct = pd.crosstab(kmeans.labels_, reader_grouped_df[\"lang\"])\n",
    "bot_xt_pct.plot(kind='bar', stacked=False, \n",
    "                   title=f'lang per cluster')\n",
    "plt.xlabel('Cluster')\n",
    "plt.ylabel(\"lang\")\n",
    "plt.show()"
   ]
  },
  {
   "cell_type": "code",
   "execution_count": 85,
   "id": "114b34d0",
   "metadata": {},
   "outputs": [],
   "source": [
    "center = scaler.inverse_transform(kmeans.cluster_centers_)"
   ]
  },
  {
   "cell_type": "code",
   "execution_count": 86,
   "id": "cd9f775f",
   "metadata": {},
   "outputs": [
    {
     "data": {
      "image/png": "[encoded data removed]",
      "text/plain": [
       "<Figure size 800x400 with 1 Axes>"
      ]
     },
     "metadata": {},
     "output_type": "display_data"
    }
   ],
   "source": [
    "plt.figure(figsize=(8, 4))\n",
    "for i in range(0, len(center)):\n",
    "    plt.plot(kmeans.cluster_centers_[i], marker='o', label='Cluster %s' % i)\n",
    "plt.tick_params(axis='both', which='major', labelsize=10)\n",
    "plt.xticks(range(0, len(gaze_features)), gaze_features, fontsize=18, rotation=90)\n",
    "plt.legend(fontsize=10)\n",
    "plt.show()"
   ]
  },
  {
   "cell_type": "code",
   "execution_count": 87,
   "id": "e8c9d856",
   "metadata": {},
   "outputs": [],
   "source": [
    "pca = PCA(n_components=2)\n",
    "X_reduced = pca.fit_transform(X)"
   ]
  },
  {
   "cell_type": "code",
   "execution_count": 88,
   "id": "8d34799c",
   "metadata": {},
   "outputs": [
    {
     "data": {
      "image/png": "[encoded data removed]",
      "text/plain": [
       "<Figure size 640x480 with 1 Axes>"
      ]
     },
     "metadata": {},
     "output_type": "display_data"
    }
   ],
   "source": [
    "plt.scatter(X_reduced[:, 0], X_reduced[:, 1], c=kmeans.labels_, s=20)\n",
    "plt.tick_params(axis='both', which='major', labelsize=22)\n",
    "plt.show()"
   ]
  },
  {
   "cell_type": "markdown",
   "id": "8a65609e",
   "metadata": {},
   "source": [
    "### Creating one dataset per cluster"
   ]
  },
  {
   "cell_type": "code",
   "execution_count": 89,
   "id": "1849fac6",
   "metadata": {},
   "outputs": [
    {
     "name": "stdout",
     "output_type": "stream",
     "text": [
      "[{'it_21'}, {'it_13', 'it_11', 'it_17', 'it_48', 'it_26', 'it_37'}, {'it_36', 'it_3'}]\n"
     ]
    }
   ],
   "source": [
    "readers_clusters = list()\n",
    "\n",
    "for i in range(selected_k):\n",
    "    readers_clusters.append(set(reader_grouped_df.loc[kmeans.labels_ == i, \"uniform_id\"]))\n",
    "    \n",
    "print(readers_clusters)"
   ]
  },
  {
   "cell_type": "code",
   "execution_count": 90,
   "id": "8d4d4874",
   "metadata": {},
   "outputs": [],
   "source": [
    "clustered_dfs = list()\n",
    "\n",
    "for readers_cluster in readers_clusters:\n",
    "    clustered_df = df_complete_common_user_lang[df_complete_common_user_lang.uniform_id.isin(readers_cluster)]\n",
    "    clustered_dfs.append(clustered_df)"
   ]
  },
  {
   "cell_type": "code",
   "execution_count": 91,
   "id": "402a4e0a",
   "metadata": {},
   "outputs": [
    {
     "data": {
      "text/plain": [
       "[        trialid  sentnum  ianum               ia lang uniform_id  skip  \\\n",
       " 427197      1.0      1.0    1.0            Negli   it      it_21   0.0   \n",
       " 427198      1.0      1.0    2.0          antichi   it      it_21   0.0   \n",
       " 427199      1.0      1.0    3.0             miti   it      it_21   0.0   \n",
       " 427200      1.0      1.0    4.0                e   it      it_21   1.0   \n",
       " 427201      1.0      1.0    5.0        religioni   it      it_21   0.0   \n",
       " ...         ...      ...    ...              ...  ...        ...   ...   \n",
       " 429306     12.0      8.0  177.0              con   it      it_21   0.0   \n",
       " 429307     12.0      8.0  178.0          governi   it      it_21   0.0   \n",
       " 429308     12.0      8.0  179.0                e   it      it_21   1.0   \n",
       " 429309     12.0      8.0  180.0   organizzazioni   it      it_21   0.0   \n",
       " 429310     12.0      8.0  181.0  internazionali.   it      it_21   0.0   \n",
       " \n",
       "         firstfix.dur  firstrun.dur    dur  firstrun.nfix  nfix  refix  reread  \n",
       " 427197          38.0          38.0   38.0            1.0   1.0    0.0     0.0  \n",
       " 427198         348.0         348.0  348.0            1.0   1.0    0.0     0.0  \n",
       " 427199         111.0         278.0  278.0            2.0   2.0    0.0     0.0  \n",
       " 427200           0.0           0.0    0.0            0.0   0.0    0.0     0.0  \n",
       " 427201         409.0         409.0  710.0            1.0   2.0    0.0     1.0  \n",
       " ...              ...           ...    ...            ...   ...    ...     ...  \n",
       " 429306         222.0         222.0  222.0            1.0   1.0    0.0     0.0  \n",
       " 429307         147.0         147.0  147.0            1.0   1.0    0.0     0.0  \n",
       " 429308           0.0           0.0    0.0            0.0   0.0    0.0     0.0  \n",
       " 429309         210.0         210.0  317.0            1.0   2.0    0.0     1.0  \n",
       " 429310         264.0         264.0  264.0            1.0   1.0    0.0     0.0  \n",
       " \n",
       " [2113 rows x 14 columns],\n",
       "         trialid  sentnum  ianum                ia lang uniform_id  skip  \\\n",
       " 411973      1.0      7.0  122.0           semina,   it      it_11   0.0   \n",
       " 411974      1.0      7.0  123.0              così   it      it_11   0.0   \n",
       " 411975      1.0      7.0  124.0              come   it      it_11   0.0   \n",
       " 411976      1.0      7.0  125.0                in   it      it_11   0.0   \n",
       " 411977      1.0      7.0  126.0         occasione   it      it_11   0.0   \n",
       " ...         ...      ...    ...               ...  ...        ...   ...   \n",
       " 468302     12.0      6.0  114.0                di   it      it_48   1.0   \n",
       " 468303     12.0      6.0  115.0  immatricolazione   it      it_48   0.0   \n",
       " 468304     12.0      6.0  116.0              alla   it      it_48   0.0   \n",
       " 468305     12.0      6.0  117.0              fine   it      it_48   0.0   \n",
       " 468306     12.0      6.0  118.0               del   it      it_48   1.0   \n",
       " \n",
       "         firstfix.dur  firstrun.dur    dur  firstrun.nfix  nfix  refix  reread  \n",
       " 411973         209.0         209.0  209.0            1.0   1.0    0.0     0.0  \n",
       " 411974         155.0         155.0  155.0            1.0   1.0    0.0     0.0  \n",
       " 411975          93.0          93.0   93.0            1.0   1.0    0.0     0.0  \n",
       " 411976         168.0         168.0  168.0            1.0   1.0    0.0     0.0  \n",
       " 411977         257.0         257.0  257.0            1.0   1.0    0.0     0.0  \n",
       " ...              ...           ...    ...            ...   ...    ...     ...  \n",
       " 468302           0.0           0.0    0.0            0.0   0.0    0.0     0.0  \n",
       " 468303         249.0         426.0  426.0            2.0   2.0    1.0     0.0  \n",
       " 468304         222.0         222.0  222.0            1.0   1.0    0.0     0.0  \n",
       " 468305         127.0         127.0  127.0            1.0   1.0    0.0     0.0  \n",
       " 468306           0.0           0.0    0.0            0.0   0.0    0.0     0.0  \n",
       " \n",
       " [12678 rows x 14 columns],\n",
       "         trialid  sentnum  ianum         ia lang uniform_id  skip  \\\n",
       " 397572      1.0      2.0   25.0       come   it       it_3   0.0   \n",
       " 397573      1.0      2.0   26.0     avente   it       it_3   0.0   \n",
       " 397574      1.0      2.0   27.0        due   it       it_3   0.0   \n",
       " 397575      1.0      2.0   28.0     facce,   it       it_3   1.0   \n",
       " 397576      1.0      2.0   29.0     poiché   it       it_3   1.0   \n",
       " ...         ...      ...    ...        ...  ...        ...   ...   \n",
       " 449957     12.0      7.0  124.0      primi   it      it_36   1.0   \n",
       " 449958     12.0      7.0  125.0        del   it      it_36   0.0   \n",
       " 449959     12.0      7.0  126.0  novecento   it      it_36   0.0   \n",
       " 449960     12.0      7.0  127.0  variavano   it      it_36   0.0   \n",
       " 449961     12.0      7.0  128.0        per   it      it_36   0.0   \n",
       " \n",
       "         firstfix.dur  firstrun.dur    dur  firstrun.nfix  nfix  refix  reread  \n",
       " 397572         555.0         555.0  555.0            1.0   1.0    0.0     0.0  \n",
       " 397573         282.0         282.0  282.0            1.0   1.0    0.0     0.0  \n",
       " 397574         281.0         281.0  281.0            1.0   1.0    0.0     0.0  \n",
       " 397575           0.0           0.0    0.0            0.0   0.0    0.0     0.0  \n",
       " 397576           0.0           0.0    0.0            0.0   0.0    0.0     0.0  \n",
       " ...              ...           ...    ...            ...   ...    ...     ...  \n",
       " 449957           0.0           0.0    0.0            0.0   0.0    0.0     0.0  \n",
       " 449958         139.0         276.0  276.0            2.0   2.0    1.0     0.0  \n",
       " 449959         193.0         193.0  193.0            1.0   1.0    0.0     0.0  \n",
       " 449960         274.0         362.0  362.0            2.0   2.0    1.0     0.0  \n",
       " 449961         216.0         216.0  216.0            1.0   1.0    0.0     0.0  \n",
       " \n",
       " [4226 rows x 14 columns]]"
      ]
     },
     "execution_count": 91,
     "metadata": {},
     "output_type": "execute_result"
    }
   ],
   "source": [
    "clustered_dfs"
   ]
  },
  {
   "cell_type": "markdown",
   "id": "2ecd354d",
   "metadata": {},
   "source": [
    "### Mean gaze features inside each clustered dataset"
   ]
  },
  {
   "cell_type": "code",
   "execution_count": 92,
   "id": "1da69d0e",
   "metadata": {},
   "outputs": [
    {
     "name": "stdout",
     "output_type": "stream",
     "text": [
      "Number of sentence after group : 90\n",
      "Number of sentence after group : 90\n",
      "Number of sentence after group : 90\n"
     ]
    }
   ],
   "source": [
    "group_by_cols = [\"trialid\", \"sentnum\", \"ianum\", \"ia\", \"lang\"]\n",
    "grouped_cols = [\"skip\", \"firstfix.dur\", \"firstrun.dur\", \"dur\", \"firstrun.nfix\", \"nfix\", \"refix\", \"reread\"]\n",
    "\n",
    "for i in range(len(clustered_dfs)):    \n",
    "    grouped_clusterd_df = group_by_users(clustered_dfs[i])\n",
    "    \n",
    "    grouped_clusterd_df.rename(columns={\"skip\" : \"prob_skip\", \"refix\" : \"prob_refix\", \"reread\" : \"prob_reread\"}, inplace=True)\n",
    "    \n",
    "    grouped_clusterd_df.ianum = grouped_clusterd_df.ianum.astype(int)\n",
    "    grouped_clusterd_df.trialid = grouped_clusterd_df.trialid.astype(int)\n",
    "    grouped_clusterd_df.trial_sentnum = grouped_clusterd_df.trial_sentnum.astype(int)\n",
    "    \n",
    "    clustered_dfs[i] = grouped_clusterd_df"
   ]
  },
  {
   "cell_type": "code",
   "execution_count": 93,
   "id": "1574b5e0",
   "metadata": {},
   "outputs": [
    {
     "name": "stdout",
     "output_type": "stream",
     "text": [
      "               prob_skip  firstrun.dur       dur  firstrun.nfix      nfix  \\\n",
      "prob_skip       1.000000     -0.821220 -0.684349      -0.915747 -0.739374   \n",
      "firstrun.dur   -0.821220      1.000000  0.803007       0.882200  0.726340   \n",
      "dur            -0.684349      0.803007  1.000000       0.726543  0.941109   \n",
      "firstrun.nfix  -0.915747      0.882200  0.726543       1.000000  0.793007   \n",
      "nfix           -0.739374      0.726340  0.941109       0.793007  1.000000   \n",
      "prob_refix     -0.215349      0.420335  0.481951       0.511850  0.548781   \n",
      "prob_reread    -0.379058      0.366694  0.715596       0.370659  0.750262   \n",
      "\n",
      "               prob_refix  prob_reread  \n",
      "prob_skip       -0.215349    -0.379058  \n",
      "firstrun.dur     0.420335     0.366694  \n",
      "dur              0.481951     0.715596  \n",
      "firstrun.nfix    0.511850     0.370659  \n",
      "nfix             0.548781     0.750262  \n",
      "prob_refix       1.000000     0.253323  \n",
      "prob_reread      0.253323     1.000000  \n",
      "               prob_skip  firstrun.dur       dur  firstrun.nfix      nfix  \\\n",
      "prob_skip       1.000000     -0.756722 -0.692305      -0.796001 -0.733848   \n",
      "firstrun.dur   -0.756722      1.000000  0.903120       0.952773  0.868516   \n",
      "dur            -0.692305      0.903120  1.000000       0.869691  0.967998   \n",
      "firstrun.nfix  -0.796001      0.952773  0.869691       1.000000  0.902009   \n",
      "nfix           -0.733848      0.868516  0.967998       0.902009  1.000000   \n",
      "prob_refix     -0.530733      0.771818  0.767599       0.825170  0.812063   \n",
      "prob_reread    -0.509574      0.459059  0.703012       0.473279  0.739132   \n",
      "\n",
      "               prob_refix  prob_reread  \n",
      "prob_skip       -0.530733    -0.509574  \n",
      "firstrun.dur     0.771818     0.459059  \n",
      "dur              0.767599     0.703012  \n",
      "firstrun.nfix    0.825170     0.473279  \n",
      "nfix             0.812063     0.739132  \n",
      "prob_refix       1.000000     0.451928  \n",
      "prob_reread      0.451928     1.000000  \n",
      "               prob_skip  firstrun.dur       dur  firstrun.nfix      nfix  \\\n",
      "prob_skip       1.000000     -0.641798 -0.543263      -0.688759 -0.548923   \n",
      "firstrun.dur   -0.641798      1.000000  0.685731       0.885912  0.610810   \n",
      "dur            -0.543263      0.685731  1.000000       0.666957  0.950464   \n",
      "firstrun.nfix  -0.688759      0.885912  0.666957       1.000000  0.692790   \n",
      "nfix           -0.548923      0.610810  0.950464       0.692790  1.000000   \n",
      "prob_refix     -0.397414      0.630585  0.661954       0.745700  0.707610   \n",
      "prob_reread    -0.494603      0.376787  0.680068       0.412282  0.710295   \n",
      "\n",
      "               prob_refix  prob_reread  \n",
      "prob_skip       -0.397414    -0.494603  \n",
      "firstrun.dur     0.630585     0.376787  \n",
      "dur              0.661954     0.680068  \n",
      "firstrun.nfix    0.745700     0.412282  \n",
      "nfix             0.707610     0.710295  \n",
      "prob_refix       1.000000     0.443319  \n",
      "prob_reread      0.443319     1.000000  \n"
     ]
    }
   ],
   "source": [
    "for clustered_df in clustered_dfs:\n",
    "    print(clustered_df[[\"prob_skip\", \"firstrun.dur\", \"dur\", \"firstrun.nfix\", \"nfix\", \"prob_refix\", \"prob_reread\"]].corr())"
   ]
  },
  {
   "cell_type": "code",
   "execution_count": 94,
   "id": "ffeab460",
   "metadata": {},
   "outputs": [
    {
     "name": "stdout",
     "output_type": "stream",
     "text": [
      "Len dataset_0 : (2113, 14)\n",
      "Len dataset_1 : (2113, 14)\n",
      "Len dataset_2 : (2113, 14)\n"
     ]
    }
   ],
   "source": [
    "for i, clustered_df in enumerate(clustered_dfs):\n",
    "    print(f\"Len dataset_{i} : {clustered_df.shape}\")"
   ]
  },
  {
   "cell_type": "markdown",
   "id": "bef81e0f",
   "metadata": {},
   "source": [
    "### Saving datasets"
   ]
  },
  {
   "cell_type": "code",
   "execution_count": 95,
   "id": "500ca603",
   "metadata": {},
   "outputs": [],
   "source": [
    "for i, clustered_df in enumerate(clustered_dfs):\n",
    "    clustered_df.to_csv(f\"datasets/{cluster_lang}/cluster_{i}_dataset.csv\")"
   ]
  },
  {
   "cell_type": "markdown",
   "id": "59a7c479",
   "metadata": {},
   "source": [
    "### see distribution of data based on trial id\n",
    "\n",
    "we can use last twe trial to compute validation and test set"
   ]
  },
  {
   "cell_type": "code",
   "execution_count": 96,
   "id": "812250bd",
   "metadata": {},
   "outputs": [
    {
     "name": "stdout",
     "output_type": "stream",
     "text": [
      "\t--- Cluster 0 ---\n",
      "Percentage of samples in 1.0-th trial : 0.09%\n",
      "Percentage of samples in 2.0-th trial : 0.08%\n",
      "Percentage of samples in 3.0-th trial : 0.10%\n",
      "Percentage of samples in 4.0-th trial : 0.08%\n",
      "Percentage of samples in 5.0-th trial : 0.06%\n",
      "Percentage of samples in 6.0-th trial : 0.07%\n",
      "Percentage of samples in 7.0-th trial : 0.10%\n",
      "Percentage of samples in 8.0-th trial : 0.08%\n",
      "Percentage of samples in 9.0-th trial : 0.08%\n",
      "Percentage of samples in 10.0-th trial : 0.08%\n",
      "Percentage of samples in 11.0-th trial : 0.09%\n",
      "Percentage of samples in 12.0-th trial : 0.09%\n",
      "\n",
      "\t--- Cluster 1 ---\n",
      "Percentage of samples in 1.0-th trial : 0.09%\n",
      "Percentage of samples in 2.0-th trial : 0.08%\n",
      "Percentage of samples in 3.0-th trial : 0.10%\n",
      "Percentage of samples in 4.0-th trial : 0.08%\n",
      "Percentage of samples in 5.0-th trial : 0.06%\n",
      "Percentage of samples in 6.0-th trial : 0.07%\n",
      "Percentage of samples in 7.0-th trial : 0.10%\n",
      "Percentage of samples in 8.0-th trial : 0.08%\n",
      "Percentage of samples in 9.0-th trial : 0.08%\n",
      "Percentage of samples in 10.0-th trial : 0.08%\n",
      "Percentage of samples in 11.0-th trial : 0.09%\n",
      "Percentage of samples in 12.0-th trial : 0.09%\n",
      "\n",
      "\t--- Cluster 2 ---\n",
      "Percentage of samples in 1.0-th trial : 0.09%\n",
      "Percentage of samples in 2.0-th trial : 0.08%\n",
      "Percentage of samples in 3.0-th trial : 0.10%\n",
      "Percentage of samples in 4.0-th trial : 0.08%\n",
      "Percentage of samples in 5.0-th trial : 0.06%\n",
      "Percentage of samples in 6.0-th trial : 0.07%\n",
      "Percentage of samples in 7.0-th trial : 0.10%\n",
      "Percentage of samples in 8.0-th trial : 0.08%\n",
      "Percentage of samples in 9.0-th trial : 0.08%\n",
      "Percentage of samples in 10.0-th trial : 0.08%\n",
      "Percentage of samples in 11.0-th trial : 0.09%\n",
      "Percentage of samples in 12.0-th trial : 0.09%\n",
      "\n"
     ]
    }
   ],
   "source": [
    "for i, clustered_df in enumerate(clustered_dfs):\n",
    "    \n",
    "    print(f\"\\t--- Cluster {i} ---\")\n",
    "    \n",
    "    for trial in df.trialid.unique():\n",
    "        print(f\"Percentage of samples in {trial}-th trial : {np.sum(clustered_df.trialid == trial)/clustered_df.shape[0]:.2f}%\")\n",
    "\n",
    "    print()"
   ]
  }
 ],
 "metadata": {
  "kernelspec": {
   "display_name": "ml-meco",
   "language": "python",
   "name": "ml-meco"
  },
  "language_info": {
   "codemirror_mode": {
    "name": "ipython",
    "version": 3
   },
   "file_extension": ".py",
   "mimetype": "text/x-python",
   "name": "python",
   "nbconvert_exporter": "python",
   "pygments_lexer": "ipython3",
   "version": "3.9.15"
  }
 },
 "nbformat": 4,
 "nbformat_minor": 5
}
